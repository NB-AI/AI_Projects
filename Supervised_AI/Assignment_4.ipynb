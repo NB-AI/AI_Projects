{
 "cells": [
  {
   "cell_type": "markdown",
   "metadata": {},
   "source": [
    "<h1 style=\"color:rgb(0,120,170)\">Assignment 4: Decision Trees</h1>"
   ]
  },
  {
   "cell_type": "markdown",
   "metadata": {},
   "source": [
    "As a starting point: For the notebook to compile without problems, make sure that the required data set provided with the link to Google drive is stored in a folder \"dataset\"; also make sure that this folder and the additional Python file provided via moodle are in the same folder as the notebook! Unfortunately the data set is too big to upload it to moodle directly..."
   ]
  },
  {
   "cell_type": "markdown",
   "metadata": {},
   "source": [
    "<h2 style=\"color:rgb(0,120,170)\">Task 1: Gini Impurity</h2>\n",
    "\n",
    "In this task we will recall the most important concepts of decision trees by walking you through a simple example. On the way you have to solve some exercises to gain basic insights. We will start with a toy dataset for one tree.\n",
    "<br> <br>"
   ]
  },
  {
   "cell_type": "code",
   "execution_count": 2,
   "metadata": {},
   "outputs": [],
   "source": [
    "#Nothing to do here\n",
    "import numpy as np\n",
    "import pandas as pd\n",
    "import sys\n",
    "import time\n",
    "import numpy as np\n",
    "from sklearn.tree import DecisionTreeClassifier\n",
    "from sklearn import model_selection, svm\n",
    "from sklearn.ensemble import RandomForestClassifier\n",
    "from sklearn.neighbors import KNeighborsClassifier\n",
    "from mnist_loader import MNIST\n",
    "import matplotlib.pyplot as plt\n",
    "from matplotlib import style\n",
    "from sklearn.metrics import accuracy_score, confusion_matrix\n",
    "# Set random seed to ensure reproducible runs\n",
    "RSEED = 50"
   ]
  },
  {
   "cell_type": "code",
   "execution_count": 2,
   "metadata": {},
   "outputs": [],
   "source": [
    "# A simple data set for demonstration \n",
    "# Nothing to do here\n",
    "X = np.array([[2, 2], \n",
    "              [2, 1],\n",
    "              [2, 3], \n",
    "              [1, 2], \n",
    "              [1, 1],\n",
    "              [3, 3]])\n",
    "\n",
    "y = np.array([0, 1, 1, 1, 0, 1])"
   ]
  },
  {
   "cell_type": "code",
   "execution_count": 3,
   "metadata": {},
   "outputs": [
    {
     "data": {
      "text/plain": [
       "Text(0.5, 1.0, 'Demonstration Data')"
      ]
     },
     "execution_count": 3,
     "metadata": {},
     "output_type": "execute_result"
    },
    {
     "data": {
      "image/png": "[encoded data removed]",
      "text/plain": [
       "<Figure size 432x288 with 1 Axes>"
      ]
     },
     "metadata": {
      "needs_background": "light"
     },
     "output_type": "display_data"
    }
   ],
   "source": [
    "#Nothing to do here. Just execute the command to gain a proper visualization!\n",
    "%matplotlib inline\n",
    "\n",
    "# Plot each point as the label\n",
    "for x1, x2, label in zip(X[:, 0], X[:, 1], y):\n",
    "    plt.text(x1, x2, str(label), fontsize = 40, color = 'r',\n",
    "             ha='center', va='center')\n",
    "    \n",
    "# Plot formatting\n",
    "plt.grid(None);\n",
    "plt.xlim((0, 3.5));\n",
    "plt.ylim((0, 3.5));\n",
    "plt.xlabel('x1', size = 20); plt.ylabel('x2', size = 20); plt.title('Demonstration Data', size = 24)"
   ]
  },
  {
   "cell_type": "markdown",
   "metadata": {},
   "source": [
    "A Decision Tree Classifier (DTC) builds a decision tree based on the features of the data. This is equivalent to subdividing the feature space. Let's consider the example above and apply a simple heuristics. In the first step we try to subdivide the space such that we obtain the largest possible leaf (subdivision) that contains only one class.\n",
    "<br>\n",
    "We first look at the feature $x_2$, i.e. a horizontal division of the space. For example, we could divide the space at the specific threshold $x_2 = 2.5$. Then we end up having a group of samples with features $x_2 > 2.5$ and homogenous class label 1, i.e. the two points with coordinates $\\{ (2,3), (3,3) \\}$ . If we instead look at the feature $x_1$, corresponding to a vertical division of the space, we cannot find an equally large or larger group of samples with the same label. Therefore, our first node in the tree is: $x_2 \\leq 2.5$, i.e. we split the space and repeat the same procedure on each of the two leafs. In our case we are done with the top leaf (since both samples have the same class) and only need to repeat the procedure on the bottom leaf."
   ]
  },
  {
   "cell_type": "markdown",
   "metadata": {},
   "source": [
    "Our simple heuristics from above fails on the bottom node. We need a better criterion to decide which splits to make. Nowadays the most frequently used one is called the Gini Impurity. \n",
    "\n",
    "The Gini impurity is a measure of how often a randomly chosen element from the set would be incorrectly labeled if it was randomly labeled according to the distribution of labels in the subset.\n",
    "<br>\n",
    "What does that mean? Let us suppose we have $2$ labels and let $p_1, p_2$ be the fractions of points labeld with labels $1$ and $2$ (note: $p_1 + p_2 = 1$) . The probabilty to choose a point with label $1$ is $p_1$. \n",
    "The probability to choose label $2$ is $p_2 = 1-p_1$. Therefore, the probability to label a point of label $1$ with label $2$ is $p_1 \\cdot p_2 = p_1 \\cdot (1-p_1) = p_1 - p_1^2$. \n",
    "<br>\n",
    "Analogously, the probability for points with label $2$ to be labeld with $1$ is $p_2 \\cdot (1-p_2) = p_2 - p_2^2$. The Gini impurity is the sum over both: $p_1 - p_1^2 + p_2 - p_2^2 = p_1 + p_2 - p_1^2 - p_2^2 = 1 - p_1^2 -p_2^2$\n",
    "<br>\n",
    "The above reasoning is easy to generalize to the case where the number of labels $M$ is larger then two: $M > 2$ . The formula for the given dataset $Z$ is simply\n",
    "$$I_G(Z) = 1 - \\sum_{k = 1}^M p_k(Z)^2,$$ where $p_k(Z)$ is the frequency of points with labels $k$ in the dataset $Z$. Your task will now be to apply these techniques explicitly to the toy data set introduced above.\n",
    "<br>\n",
    "*  Calculate the Gini impurity for our toy dataset\n",
    "* Calculate the Gini impurity for the top and bottom leaf in our split\n",
    "\n",
    "The Gini impurity Gain is the amount of \"impurity\" we get rid of for a specific split $s$.\n",
    "Let's assume that we get the partition $Z_{s,1}, \\ldots, Z_{s,K_s}$ of $Z$ after applying $s$. Then the impurity gain is\n",
    "$$g_G(Z,s) = I_G(Z) - \\sum_{t=1}^{K_s} \\frac{|Z_{s,t}|}{|Z|} \\cdot I_G(Z_{s,t})$$\n",
    "* Calculate the Gini information gain for our split in the toy dataset "
   ]
  },
  {
   "cell_type": "markdown",
   "metadata": {},
   "source": [
    "<h3 style=\"color:rgb(210,90,80)\">Calculation (20 points):</h3>"
   ]
  },
  {
   "cell_type": "markdown",
   "metadata": {},
   "source": [
    "Calculate the Gini impurity for our toy dataset:\n",
    "\\begin{align*}\n",
    "I_G(Z) &= 1 - p_0(Z)^2 - p_1(Z)^2 \\\\\n",
    "&= 1 - (\\frac{2}{6})^2 - (\\frac{4}{6})^2\\\\\n",
    "&= \\frac{4}{9}\n",
    "\\end{align*}"
   ]
  },
  {
   "cell_type": "markdown",
   "metadata": {},
   "source": [
    "Calculate the Gini impurity for the top and bottom leaf in our split: <br>\n",
    "top leaf (samples which x_2 > 2.5):\n",
    "\\begin{align*}\n",
    "I_G(Z_{s,1}) &= 1 - (\\frac{0}{2})^2 -(\\frac{2}{2})^2 \\\\\n",
    "&= 1 - 1 \\\\\n",
    "&= 0\n",
    "\\end{align*}\n",
    "\n",
    "bottom leaf (samples which x_2 <= 2.5):\n",
    "\\begin{align*}\n",
    "I_G(Z_{s,2}) &= 1 - (\\frac{1}{2})^2 - (\\frac{1}{2})^2 \\\\\n",
    "&= 1 - \\frac{1}{2}\\\\\n",
    "&= \\frac{1}{2}\n",
    "\\end{align*}"
   ]
  },
  {
   "cell_type": "markdown",
   "metadata": {},
   "source": [
    "Calculate the Gini information gain for our split in the toy dataset:\n",
    "\\begin{align*}\n",
    "g_G(Z,s) &= \\frac{4}{9} - \\frac{2}{6} \\cdot 0 - \\frac{4}{6} \\cdot \\frac{1}{2}\\\\\n",
    "&= \\frac{1}{9}\n",
    "\\end{align*}"
   ]
  },
  {
   "cell_type": "markdown",
   "metadata": {},
   "source": [
    "<h2 style=\"color:rgb(0,120,170)\">Task 2: Train a simple decision tree </h2>"
   ]
  },
  {
   "cell_type": "markdown",
   "metadata": {},
   "source": [
    "Next we provide a Python routine for the previous example. In the cells below there are code snippets you have to fill in:\n",
    "* Train a decision tree\n",
    "* Print the number of tree nodes, the maximum depth of the tree and the accuracy"
   ]
  },
  {
   "cell_type": "markdown",
   "metadata": {},
   "source": [
    "<h3 style=\"color:rgb(210,90,80)\">Code (10 points):</h3>"
   ]
  },
  {
   "cell_type": "code",
   "execution_count": 42,
   "metadata": {},
   "outputs": [
    {
     "name": "stdout",
     "output_type": "stream",
     "text": [
      "\n",
      "Number of nodes in tree: 9\n",
      "Maximal depth of tree: 3\n",
      "Accuracy of tree predictions: 1.0\n",
      "\n"
     ]
    }
   ],
   "source": [
    "#Your code\n",
    "from sklearn import tree\n",
    "clf = tree.DecisionTreeClassifier()\n",
    "clf = clf.fit(X, y)\n",
    "\n",
    "number_nodes = clf.tree_.node_count\n",
    "maximal_depth = clf.tree_.max_depth\n",
    "\n",
    "predicted_y = clf.predict(X, check_input=True)\n",
    "acc = accuracy_score(y, predicted_y, normalize=True)\n",
    "\"\"\" Same result through acc = ...\n",
    "true = 0\n",
    "for index, element in enumerate(predicted_y):\n",
    "    if element == y[index]:\n",
    "        true += 1\n",
    "calculated_acc = true/len(predicted_y)\n",
    "print(len(predicted_y))\n",
    "\"\"\"\n",
    "\n",
    "print(f'''\n",
    "Number of nodes in tree: {number_nodes}\n",
    "Maximal depth of tree: {maximal_depth}\n",
    "Accuracy of tree predictions: {acc}\n",
    "''')\n"
   ]
  },
  {
   "cell_type": "markdown",
   "metadata": {},
   "source": [
    "<h2 style=\"color:rgb(0,120,170)\">Task 3: Decision tree on a real data set</h2>"
   ]
  },
  {
   "cell_type": "markdown",
   "metadata": {},
   "source": [
    "Now we will apply the different classifiers we have encountered so far to a real-world benachmark data set, which is often used in applications, namely the \"Fashion MNIST\" data set. It consits of images of clothing, like sneakers and shirts. It was created to be an alternative to the famous MNIST benchmark dataset, which is nowadays considered as too easy for the most recent algorithms. Let us first load the train and test set, using the files provided in moodle. The train and test data are represented as pixel arrays, and the label vector indicates the different classes (0 to 9)."
   ]
  },
  {
   "cell_type": "code",
   "execution_count": 3,
   "metadata": {},
   "outputs": [],
   "source": [
    "#nothing to do here. Just execute the command!\n",
    "data = MNIST('./dataset/')\n",
    "img_train, labels_train = data.load_training()\n",
    "x_train = np.array(img_train)\n",
    "y_train = np.array(labels_train)\n",
    "\n",
    "img_test, labels_test = data.load_testing()\n",
    "x_test = np.array(img_test)\n",
    "y_test = np.array(labels_test)"
   ]
  },
  {
   "cell_type": "code",
   "execution_count": 4,
   "metadata": {},
   "outputs": [],
   "source": [
    "x_train2 = x_train\n",
    "y_train2 = y_train\n",
    "x_test2 = x_test\n",
    "y_test2 = y_test"
   ]
  },
  {
   "cell_type": "markdown",
   "metadata": {},
   "source": [
    "Let us plot some of the images so that you see, how these data look like."
   ]
  },
  {
   "cell_type": "code",
   "execution_count": 3,
   "metadata": {},
   "outputs": [
    {
     "data": {
      "image/png": "[encoded data removed]",
      "text/plain": [
       "<Figure size 432x288 with 1 Axes>"
      ]
     },
     "metadata": {
      "needs_background": "light"
     },
     "output_type": "display_data"
    },
    {
     "data": {
      "image/png": "[encoded data removed]",
      "text/plain": [
       "<Figure size 432x288 with 1 Axes>"
      ]
     },
     "metadata": {
      "needs_background": "light"
     },
     "output_type": "display_data"
    },
    {
     "data": {
      "image/png": "[encoded data removed]",
      "text/plain": [
       "<Figure size 432x288 with 1 Axes>"
      ]
     },
     "metadata": {
      "needs_background": "light"
     },
     "output_type": "display_data"
    },
    {
     "data": {
      "image/png": "[encoded data removed]",
      "text/plain": [
       "<Figure size 432x288 with 1 Axes>"
      ]
     },
     "metadata": {
      "needs_background": "light"
     },
     "output_type": "display_data"
    },
    {
     "data": {
      "image/png": "[encoded data removed]",
      "text/plain": [
       "<Figure size 432x288 with 1 Axes>"
      ]
     },
     "metadata": {
      "needs_background": "light"
     },
     "output_type": "display_data"
    },
    {
     "data": {
      "image/png": "[encoded data removed]",
      "text/plain": [
       "<Figure size 432x288 with 1 Axes>"
      ]
     },
     "metadata": {
      "needs_background": "light"
     },
     "output_type": "display_data"
    },
    {
     "data": {
      "image/png": "[encoded data removed]",
      "text/plain": [
       "<Figure size 432x288 with 1 Axes>"
      ]
     },
     "metadata": {
      "needs_background": "light"
     },
     "output_type": "display_data"
    },
    {
     "data": {
      "image/png": "[encoded data removed]",
      "text/plain": [
       "<Figure size 432x288 with 1 Axes>"
      ]
     },
     "metadata": {
      "needs_background": "light"
     },
     "output_type": "display_data"
    },
    {
     "data": {
      "image/png": "[encoded data removed]",
      "text/plain": [
       "<Figure size 432x288 with 1 Axes>"
      ]
     },
     "metadata": {
      "needs_background": "light"
     },
     "output_type": "display_data"
    },
    {
     "data": {
      "image/png": "[encoded data removed]",
      "text/plain": [
       "<Figure size 432x288 with 1 Axes>"
      ]
     },
     "metadata": {
      "needs_background": "light"
     },
     "output_type": "display_data"
    },
    {
     "data": {
      "image/png": "[encoded data removed]",
      "text/plain": [
       "<Figure size 432x288 with 1 Axes>"
      ]
     },
     "metadata": {
      "needs_background": "light"
     },
     "output_type": "display_data"
    },
    {
     "data": {
      "image/png": "[encoded data removed]",
      "text/plain": [
       "<Figure size 432x288 with 1 Axes>"
      ]
     },
     "metadata": {
      "needs_background": "light"
     },
     "output_type": "display_data"
    },
    {
     "data": {
      "image/png": "[encoded data removed]",
      "text/plain": [
       "<Figure size 432x288 with 1 Axes>"
      ]
     },
     "metadata": {
      "needs_background": "light"
     },
     "output_type": "display_data"
    },
    {
     "data": {
      "image/png": "[encoded data removed]",
      "text/plain": [
       "<Figure size 432x288 with 1 Axes>"
      ]
     },
     "metadata": {
      "needs_background": "light"
     },
     "output_type": "display_data"
    },
    {
     "data": {
      "image/png": "[encoded data removed]",
      "text/plain": [
       "<Figure size 432x288 with 1 Axes>"
      ]
     },
     "metadata": {
      "needs_background": "light"
     },
     "output_type": "display_data"
    }
   ],
   "source": [
    "#nothing to do here. Just execute the command!\n",
    "arr = ['T-Shirt/Top','Trouser','Pullover','Dress','Coat','Sandal','Shirt','Sneaker','Bag','Ankle Boot']\n",
    "a = np.random.randint(1,40,15)\n",
    "for i in a:\n",
    "    two_d = (np.reshape(x_train[i], (28, 28)) * 255).astype(np.uint8)\n",
    "    plt.title('Label: {0}'.format(arr[y_train[i]]))\n",
    "    plt.imshow(two_d, interpolation='nearest',cmap='gray')\n",
    "    plt.show()"
   ]
  },
  {
   "cell_type": "markdown",
   "metadata": {},
   "source": [
    "Here we provide you a routine that trains a decision tree for the given training set. The function get_evaluation should additionally help you to compute accuracies and provide confusion matrices and appropriate heat maps."
   ]
  },
  {
   "cell_type": "code",
   "execution_count": 8,
   "metadata": {},
   "outputs": [
    {
     "name": "stdout",
     "output_type": "stream",
     "text": [
      "\n",
      "Preparing Classifier\n"
     ]
    },
    {
     "data": {
      "text/plain": [
       "DecisionTreeClassifier(class_weight=None, criterion='gini', max_depth=50,\n",
       "            max_features=None, max_leaf_nodes=None,\n",
       "            min_impurity_decrease=0.0, min_impurity_split=None,\n",
       "            min_samples_leaf=1, min_samples_split=2,\n",
       "            min_weight_fraction_leaf=0.0, presort=False, random_state=50,\n",
       "            splitter='best')"
      ]
     },
     "execution_count": 8,
     "metadata": {},
     "output_type": "execute_result"
    }
   ],
   "source": [
    "#nothing to do here. Just execute the command!\n",
    "print('\\nPreparing Classifier')\n",
    "model1=DecisionTreeClassifier(criterion=\"gini\",max_depth=50,splitter=\"best\",random_state=RSEED)\n",
    "model1.fit(x_train,y_train)"
   ]
  },
  {
   "cell_type": "code",
   "execution_count": 5,
   "metadata": {},
   "outputs": [],
   "source": [
    "#nothing to do here. Just execute the command!\n",
    "def get_evaluation(model, x_test, y_test):\n",
    "    y_pred = model.predict(x_test)\n",
    "    accuracy = accuracy_score(y_test, y_pred)\n",
    "    conf_mat = confusion_matrix(y_test, y_pred)\n",
    "\n",
    "    print('\\nPredicted Values: ', y_pred)\n",
    "    print('\\nAccuracy of Classifier on Test Image Data: ', accuracy)\n",
    "    print('\\nConfusion Matrix: \\n', conf_mat)\n",
    "\n",
    "    plt.matshow(conf_mat)\n",
    "    plt.title('Confusion Matrix')\n",
    "    plt.colorbar()\n",
    "    plt.ylabel('True label')\n",
    "    plt.xlabel('Predicted label')"
   ]
  },
  {
   "cell_type": "code",
   "execution_count": 6,
   "metadata": {},
   "outputs": [
    {
     "name": "stdout",
     "output_type": "stream",
     "text": [
      "\n",
      "Predicted Values:  [0 1 6 ... 8 8 2]\n",
      "\n",
      "Accuracy of Classifier on Test Image Data:  0.7983\n",
      "\n",
      "Confusion Matrix: \n",
      " [[735   5  14  43   8   3 179   1  12   0]\n",
      " [  5 965   3  16   4   0   5   0   2   0]\n",
      " [ 24   4 682  18 140   3 119   0   9   1]\n",
      " [ 43  33  17 818  48   1  36   0   4   0]\n",
      " [ 10   2 147  43 687   1 103   0   6   1]\n",
      " [  2   1   1   2   2 876   1  61  21  33]\n",
      " [172   8  99  41 107   3 553   0  16   1]\n",
      " [  1   0   0   0   0  52   2 865   5  75]\n",
      " [ 18   2  17   6  13  11  19   6 905   3]\n",
      " [  1   0   1   2   1  27   3  66   2 897]]\n"
     ]
    },
    {
     "data": {
      "image/png": "[encoded data removed]",
      "text/plain": [
       "<Figure size 288x288 with 2 Axes>"
      ]
     },
     "metadata": {
      "needs_background": "light"
     },
     "output_type": "display_data"
    }
   ],
   "source": [
    "#nothing to do here. Just execute the command!\n",
    "get_evaluation(model1, x_test, y_test)\n"
   ]
  },
  {
   "cell_type": "markdown",
   "metadata": {},
   "source": [
    "In order to obtain a better performance, we apply a hyperparameter search. \n",
    "* To this end create a parameter grid which iterates over the following quantities: criterion: 'gini' and 'entropy', max_depth: 10,50 and 100, splitter: 'random' and 'best'. \n",
    "* Again use a decision tree classifier and grid search with 5 iterations and 3 fold cross validation. Of course you may use the built-in routines from sklearn.\n",
    "* Also plot the confusion matrices and heat maps of the model evaluated at the test set (similarly as before).\n",
    "\n",
    "Don't forget to pass the seed. Warning: this may take several minutes ;)"
   ]
  },
  {
   "cell_type": "markdown",
   "metadata": {},
   "source": [
    "<h3 style=\"color:rgb(210,90,80)\">Code (30 points):</h3>"
   ]
  },
  {
   "cell_type": "code",
   "execution_count": 84,
   "metadata": {},
   "outputs": [],
   "source": [
    "#your code\n",
    "from sklearn.model_selection import ParameterGrid\n",
    "np.random.seed(50)\n",
    "dic_for_grid = {'criterion': ['gini', 'entropy'], 'max_depth': [10,50,100], 'splitter': ['random', 'best']}\n",
    "param_grid = ParameterGrid(dic_for_grid) # each entry of the grid is the dic_for_grid with one chosen value \n",
    "#of each key\n"
   ]
  },
  {
   "cell_type": "code",
   "execution_count": 134,
   "metadata": {},
   "outputs": [],
   "source": [
    "# For cross validation divide dataset in 3 parts of equal size\n",
    "img_train, labels_train = data.load_training()\n",
    "img_test, labels_test = data.load_testing()\n",
    "img_train.extend(img_test) # you can easily extend the feature list to get list of whole dataset\n",
    "img_train = np.array(img_train) \n",
    "\n",
    "labels_train = labels_train.tolist()\n",
    "labels_test = labels_test.tolist()\n",
    "labels_train.extend(labels_test)\n",
    "labels_train = np.asarray(labels_train) # convert the list of labels back to an array\n",
    "\n",
    "\n",
    "x1 = img_train[0 : int(len(img_train)/3)]\n",
    "x2 = img_train[int(len(img_train)/3) : int(len(img_train)*2/3)]\n",
    "x3 = img_train[int(len(img_train)*2/3) : (len(img_train))]\n",
    "# are lists\n",
    "\n",
    "y1 = labels_train[0 : int(len(img_train)/3)]\n",
    "y2 = labels_train[int(len(img_train)/3) : int(len(img_train)*2/3)]\n",
    "y3 = labels_train[int(len(img_train)*2/3) : int(len(img_train))]\n",
    "\n",
    "# x1, x2, x3 are now our three different folds for cross validation"
   ]
  },
  {
   "cell_type": "code",
   "execution_count": 135,
   "metadata": {},
   "outputs": [],
   "source": [
    "# Lets combine the folds:\n",
    "train_x_1 = []# x3 is test set\n",
    "train_x_1.extend(x1) # when you use extend for two simple lists the result would be one big list without nested lists\n",
    "train_x_1.extend(x2)\n",
    "\n",
    "train_x_2 = []# x2 is test set\n",
    "train_x_2.extend(x1)\n",
    "train_x_2.extend(x3)\n",
    "\n",
    "train_x_3 = []# x1 is test set\n",
    "train_x_3.extend(x2)\n",
    "train_x_3.extend(x3)\n",
    "\n",
    "train_y_1 = []# y3 is test set\n",
    "train_y_1.extend(y1)\n",
    "train_y_1.extend(y2)\n",
    "\n",
    "train_y_2 = []# y2 is test set\n",
    "train_y_2.extend(y1)\n",
    "train_y_2.extend(y3)\n",
    "\n",
    "train_y_3 = []# y1 is test set\n",
    "train_y_3.extend(y2)\n",
    "train_y_3.extend(y3)\n",
    "\n",
    "\n",
    "outer_list_x = []\n",
    "outer_list_x.append(train_x_1) # here we use append because we want nested lists in one list\n",
    "outer_list_x.append(train_x_2)\n",
    "outer_list_x.append(train_x_3)\n",
    "\n",
    "outer_list_y = []\n",
    "outer_list_y.append(train_y_1) # here we use append because we want nested lists in one list\n",
    "outer_list_y.append(train_y_2)\n",
    "outer_list_y.append(train_y_3)\n"
   ]
  },
  {
   "cell_type": "code",
   "execution_count": 151,
   "metadata": {
    "scrolled": true
   },
   "outputs": [
    {
     "name": "stdout",
     "output_type": "stream",
     "text": [
      "New training and test sets used via Cross Validation:\n",
      "Evaluation for the individual hyperparameter setting...\n",
      "Evaluation for the individual hyperparameter setting...\n",
      "Evaluation for the individual hyperparameter setting...\n",
      "Evaluation for the individual hyperparameter setting...\n",
      "Evaluation for the individual hyperparameter setting...\n",
      "New training and test sets used via Cross Validation:\n",
      "Evaluation for the individual hyperparameter setting...\n",
      "Evaluation for the individual hyperparameter setting...\n",
      "Evaluation for the individual hyperparameter setting...\n",
      "Evaluation for the individual hyperparameter setting...\n",
      "Evaluation for the individual hyperparameter setting...\n",
      "New training and test sets used via Cross Validation:\n",
      "Evaluation for the individual hyperparameter setting...\n",
      "Evaluation for the individual hyperparameter setting...\n",
      "Evaluation for the individual hyperparameter setting...\n",
      "Evaluation for the individual hyperparameter setting...\n",
      "Evaluation for the individual hyperparameter setting...\n"
     ]
    }
   ],
   "source": [
    "# Lets loop of the outer_list_x such that we can make use of the crossentropy:\n",
    "import pickle\n",
    "best_acc = 0\n",
    "outer_index = 0\n",
    "for current_train_x_list, current_train_y_list in zip(outer_list_x, outer_list_y): \n",
    "    # iterate over two lists at same time\n",
    "    print('New training and test sets used via Cross Validation:')\n",
    "    \n",
    "    # We need for each 'epoch' of the cross validation 5 different hyperparameter settings.\n",
    "    np.random.seed(50)\n",
    "    changed_order_indices = np.random.permutation(len(param_grid)) # choose the param_grids hyperparameters randomly\n",
    "    # few lines beneath\n",
    "        \n",
    "    for i in range(5): # we want to have 5 different hyperparameter settings\n",
    "        random_index = changed_order_indices[i]\n",
    "        \n",
    "        my_tree = DecisionTreeClassifier(criterion=param_grid[random_index]['criterion'],\n",
    "                                        max_depth = param_grid[random_index]['max_depth'],\n",
    "                                         splitter=param_grid[random_index]['splitter'],\n",
    "                                         random_state=RSEED)\n",
    "    \n",
    "        # Fit the Tree on the current training set:\n",
    "        current_train_x_list = np.asarray(current_train_x_list)\n",
    "        current_train_y_list = np.asarray(current_train_y_list)\n",
    "        my_tree.fit(current_train_x_list, current_train_y_list) \n",
    "        \n",
    "        print('Evaluation for the individual hyperparameter setting...')\n",
    "        # Evaluate the trained tree on the current testset:\n",
    "        if outer_index == 0:\n",
    "            y_pred = my_tree.predict(x3)\n",
    "            accuracy = accuracy_score(y3, y_pred)\n",
    "            if accuracy > best_acc:\n",
    "                best_acc = accuracy\n",
    "                pickle.dump(my_tree, open(f\"my_best_tree.pkl\", \"wb\")) # save the model\n",
    "                saved_x_test = x3\n",
    "                saved_y_test = y3\n",
    "            \n",
    "        elif outer_index == 1: \n",
    "            y_pred = my_tree.predict(x2)\n",
    "            accuracy = accuracy_score(y2, y_pred)\n",
    "            if accuracy > best_acc:\n",
    "                best_acc = accuracy\n",
    "                pickle.dump(my_tree, open(f\"my_best_tree.pkl\", \"wb\")) # save the model\n",
    "                saved_x_test = x2\n",
    "                saved_y_test = y2\n",
    "            \n",
    "        elif outer_index == 2: \n",
    "            y_pred = my_tree.predict(x1)\n",
    "            accuracy = accuracy_score(y1, y_pred)\n",
    "            if accuracy > best_acc:\n",
    "                best_acc = accuracy\n",
    "                pickle.dump(my_tree, open(f\"my_best_tree.pkl\", \"wb\")) # save the model\n",
    "                saved_x_test = x1\n",
    "                saved_y_test = y1\n",
    " \n",
    "        else:\n",
    "            print('error: the loop should have stopped already.')\n",
    "    \n",
    "    \n",
    "    outer_index += 1 # is the index of the big loop            \n",
    "    "
   ]
  },
  {
   "cell_type": "code",
   "execution_count": 149,
   "metadata": {},
   "outputs": [
    {
     "name": "stdout",
     "output_type": "stream",
     "text": [
      "\n",
      "Predicted Values:  [8 9 6 ... 3 3 4]\n",
      "\n",
      "Accuracy of Classifier on Test Image Data:  0.8046114944499207\n",
      "\n",
      "Confusion Matrix: \n",
      " [[1770    9   53  107   16    3  390    1   19    0]\n",
      " [  24 2226    9   65    9    2   12    0    5    0]\n",
      " [  41    9 1540   34  316    1  297    0   33    2]\n",
      " [ 107   53   38 1927  111    4   93    0   13    3]\n",
      " [  17   10  321  129 1549    1  222    0   25    0]\n",
      " [   2    5    2    5    2 2090    6  137   18   48]\n",
      " [ 338   17  327   73  257    0 1286    0   50    1]\n",
      " [   0    0    0    0    0  122    0 2138    6  154]\n",
      " [  25    5   20   18   11   26   47   15 2133    8]\n",
      " [   0    1    3    3    1   53    3  138    8 2115]]\n"
     ]
    },
    {
     "data": {
      "image/png": "[encoded data removed]",
      "text/plain": [
       "<Figure size 288x288 with 2 Axes>"
      ]
     },
     "metadata": {
      "needs_background": "light"
     },
     "output_type": "display_data"
    }
   ],
   "source": [
    "# Evaluate the best model:\n",
    "with open('my_best_tree.pkl', 'rb') as f:\n",
    "    my_model = pickle.load(f)\n",
    "    get_evaluation(my_model, saved_x_test, saved_y_test)\n",
    "    "
   ]
  },
  {
   "cell_type": "markdown",
   "metadata": {},
   "source": [
    "If you did the task correctly, you should obtain a slightly better result than before."
   ]
  },
  {
   "cell_type": "markdown",
   "metadata": {},
   "source": [
    "<h2 style=\"color:rgb(0,120,170)\">Task 4: Comparison with KNN and SVMs</h2>"
   ]
  },
  {
   "cell_type": "markdown",
   "metadata": {},
   "source": [
    "In this task we make a comparison to the other previously used classifiers, i.e. KNNs and SVMs:\n",
    "* Implement a KNN classifier with n_neighbors = 5, weights = 'distance' and p=1. Do the same tasks as for the tree.\n",
    "* Implement a SVM classifier with C=10, kernel='poly', gamma='auto'. Do the same tasks as for the tree.\n",
    "Again, this may take some time!\n",
    "\n",
    "Afterwards answer some questions that correspond to your observations."
   ]
  },
  {
   "cell_type": "markdown",
   "metadata": {},
   "source": [
    "<h3 style=\"color:rgb(210,90,80)\">Code (20 points):</h3>"
   ]
  },
  {
   "cell_type": "markdown",
   "metadata": {},
   "source": [
    "Q&A session: We don't need to use cross validation anymore. <br> It follows that we can use the given training and test sets from the beginning of task 3."
   ]
  },
  {
   "cell_type": "code",
   "execution_count": 6,
   "metadata": {},
   "outputs": [],
   "source": [
    "#Your code for KNN\n",
    "from sklearn import neighbors\n",
    "from sklearn.neighbors import KNeighborsClassifier\n",
    "knn = KNeighborsClassifier(n_neighbors=5, weights='distance', p=1)\n"
   ]
  },
  {
   "cell_type": "code",
   "execution_count": 9,
   "metadata": {},
   "outputs": [
    {
     "data": {
      "text/plain": [
       "KNeighborsClassifier(algorithm='auto', leaf_size=30, metric='minkowski',\n",
       "           metric_params=None, n_jobs=None, n_neighbors=5, p=1,\n",
       "           weights='distance')"
      ]
     },
     "execution_count": 9,
     "metadata": {},
     "output_type": "execute_result"
    }
   ],
   "source": [
    "knn.fit(x_train2, y_train2)\n"
   ]
  },
  {
   "cell_type": "code",
   "execution_count": 10,
   "metadata": {},
   "outputs": [
    {
     "name": "stdout",
     "output_type": "stream",
     "text": [
      "\n",
      "Predicted Values:  [0 1 2 ... 8 8 2]\n",
      "\n",
      "Accuracy of Classifier on Test Image Data:  0.8671\n",
      "\n",
      "Confusion Matrix: \n",
      " [[875   1  13  12   3   0  88   2   6   0]\n",
      " [  5 970   8  14   1   0   2   0   0   0]\n",
      " [ 12   1 804  11  84   0  87   0   1   0]\n",
      " [ 35   9   8 888  35   0  23   0   2   0]\n",
      " [  3   0 107  27 784   0  78   0   1   0]\n",
      " [  0   0   0   1   0 881   0  70   1  47]\n",
      " [198   2 111  19  68   0 596   0   6   0]\n",
      " [  0   0   0   0   0   6   0 949   0  45]\n",
      " [  4   1  11   0   4   2   8  10 958   2]\n",
      " [  0   0   0   0   0   3   0  31   0 966]]\n"
     ]
    },
    {
     "data": {
      "image/png": "[encoded data removed]",
      "text/plain": [
       "<Figure size 288x288 with 2 Axes>"
      ]
     },
     "metadata": {
      "needs_background": "light"
     },
     "output_type": "display_data"
    }
   ],
   "source": [
    "get_evaluation(knn, x_test2, y_test2)\n"
   ]
  },
  {
   "cell_type": "code",
   "execution_count": 12,
   "metadata": {},
   "outputs": [
    {
     "data": {
      "text/plain": [
       "SVC(C=10.0, cache_size=200, class_weight=None, coef0=0.0,\n",
       "  decision_function_shape='ovr', degree=3, gamma='auto', kernel='poly',\n",
       "  max_iter=-1, probability=False, random_state=None, shrinking=True,\n",
       "  tol=0.001, verbose=False)"
      ]
     },
     "execution_count": 12,
     "metadata": {},
     "output_type": "execute_result"
    }
   ],
   "source": [
    "#Your code for SVM\n",
    "from sklearn import svm\n",
    "from sklearn.svm import SVC\n",
    "\n",
    "my_svc = SVC( C=10.0, kernel='poly', gamma='auto')\n",
    "my_svc.fit(x_train2, y_train2)\n"
   ]
  },
  {
   "cell_type": "code",
   "execution_count": 13,
   "metadata": {},
   "outputs": [
    {
     "name": "stdout",
     "output_type": "stream",
     "text": [
      "\n",
      "Predicted Values:  [0 1 2 ... 8 8 1]\n",
      "\n",
      "Accuracy of Classifier on Test Image Data:  0.8772\n",
      "\n",
      "Confusion Matrix: \n",
      " [[827   0  19  18   2   1 121   0  10   2]\n",
      " [  1 988   0   8   1   0   2   0   0   0]\n",
      " [ 23   2 816  13  76   1  65   0   4   0]\n",
      " [ 44  19  21 870  23   0  23   0   0   0]\n",
      " [  7   3 100  35 794   0  58   0   3   0]\n",
      " [  2   0   0   1   0 946   0  31   3  17]\n",
      " [140   6  87  34  57   0 667   0   9   0]\n",
      " [  0   0   0   0   0  16   0 942   0  42]\n",
      " [ 13   0   3   2   2   2  13   1 963   1]\n",
      " [  0   0   0   0   0  13   0  27   1 959]]\n"
     ]
    },
    {
     "data": {
      "image/png": "[encoded data removed]",
      "text/plain": [
       "<Figure size 288x288 with 2 Axes>"
      ]
     },
     "metadata": {
      "needs_background": "light"
     },
     "output_type": "display_data"
    }
   ],
   "source": [
    "get_evaluation(my_svc, x_test2, y_test2)\n"
   ]
  },
  {
   "cell_type": "markdown",
   "metadata": {},
   "source": [
    "<h3 style=\"color:rgb(210,90,80)\">Question (5 points):</h3>\n",
    "\n",
    "What observations can you make so far? Tick the correct boxes (several may be correct):\n",
    "\n",
    "    \n",
    "\\[  \\]  The tree model is much faster than KNN and SVM, and also yields a better accuracy. <br>\n",
    "\\[ X \\]  The SVM model yields a better accuray than KNN.My note: Only small difference here!!! <br>\n",
    "\\[ X \\] As this is already a large data set, it is no big surprise that the SVM with kernel trains very long."
   ]
  },
  {
   "cell_type": "markdown",
   "metadata": {},
   "source": [
    "<h2 style=\"color:rgb(0,120,170)\">Task 5: Preparation towards ensembles of trees</h2>"
   ]
  },
  {
   "cell_type": "markdown",
   "metadata": {},
   "source": [
    "In the upcoming lectures you will discuss ensemble methods for trees that aggregate and/or average single tree models to acchieve better performances and/or faster runtimes, compared to the ones we used here. Random Forests are a famous example, where an average over trees is built in a way, such that the overall variance (of the average) is reduced. We will now formalize the situation:\n",
    "\n",
    "Let's say you have $X_1,...,X_B$ identically distributed random variables, which are NOT necessarily independent. Let us denote the variance of a single variable $X_i$ by $\\sigma^2$ and the correlation coefficient between two $X_i$ and $X_j$ for $j \\ne i$ by $\\rho=\\frac{E(X_i X_j)-E(X_i)E(X_j)}{\\sigma^2}$ (keep in mind that all $X_i$'s are identically distributed!). \n",
    "\n",
    "Show that $$\\text{Var}\\left(\\frac{1}{B} \\sum_{i=1}^B X_i \\right)=\\rho \\sigma^2 +\\frac{1-\\rho}{B} \\sigma^2. \\quad (1)$$\n",
    "\n",
    "Hint: Apply the definition of the variance to the given average. Split up the resulting double sum in parts with equal and unequal indices. How many are there?\n",
    "\n",
    "This gives some intuition about how to control the overall variance of averages. One can reduce it e.g. by a small correlation coefficient $\\rho$ and a large number of models $B$."
   ]
  },
  {
   "cell_type": "markdown",
   "metadata": {},
   "source": [
    "<h3 style=\"color:rgb(210,90,80)\">Calculation (15 points):</h3>"
   ]
  },
  {
   "cell_type": "markdown",
   "metadata": {},
   "source": [
    "\\begin{align*}\n",
    "&X_g = \\sum_{i=1}^{B} X_i\\\\\n",
    "&\\bar{X}_g = \\frac{1}{B}\\ \\sum_{i=1}^{B} X_i\\\\\n",
    "&Var(\\bar{X}_g) = Var(X_g) \\cdot \\frac{1}{B \\cdot B} = \\frac{1}{B^2} \\sum_{i=1}^{B}\\sum_{j=1}^{B} Cov(X_i,X_j)\n",
    "\\end{align*}"
   ]
  },
  {
   "cell_type": "markdown",
   "metadata": {},
   "source": [
    "<br><br>\n"
   ]
  },
  {
   "cell_type": "markdown",
   "metadata": {},
   "source": [
    "\n",
    "\n",
    "\\begin{align*}\n",
    "i = j: \n",
    "\\rho = \\frac{Cov(X_i, X_j)}{\\sigma^2} = \\frac{Cov(X_i, X_i)}{\\sigma^2} \n",
    "\\end{align*}\n",
    "X_i correlates with itself --> Correlation coefficent = 1\n",
    "\\begin{align*}\n",
    "\\rho = 1 = \\frac{Cov(X_i, X_i)}{\\sigma^2}\\\\\n",
    "Cov(X_i,X_i) = Cov(X_i, X_j) = \\sigma^2\\\\\n",
    "\\end{align*}\n",
    "appears B times (at double sum)\n",
    "<br><br>\n",
    "\n",
    "\n",
    "\\begin{align*}\n",
    "\\\\\n",
    "i \\ne j: \n",
    "\\rho = \\frac{Cov(X_i, X_j)}{\\sigma^2}\\\\\n",
    "Cov(X_i,X_j) = \\rho \\sigma^2\\\\\n",
    "\\end{align*}\n",
    "appears BB-B times because we have with double sum BB observations minus the B when i = j\n",
    "<br><br>\n",
    "\\begin{align*}\n",
    "\\\\\n",
    "&Var(\\bar{X}_g) = \\frac{1}{B^2} (B \\sigma^2 + (B^2 - B) \\rho \\sigma^2 = \\frac{B \\sigma^2}{B^2} +\\frac{B^2 - B}{B^2}\\rho\\sigma^2 = \\frac{\\sigma^2}{B} +\\frac{B - 1}{B}\\rho\\sigma^2= \\frac{\\sigma^2}{B} +\\frac{B\\rho\\sigma^2}{B} - \\frac{\\rho\\sigma^2}{B}=\\rho\\sigma^2 + \\frac{\\sigma^2 - \\rho\\sigma^2}{B}\\\\\n",
    "&=\\rho\\sigma^2 + \\frac{1- \\rho}{B}\\sigma^2\n",
    "\\end{align*}"
   ]
  },
  {
   "cell_type": "code",
   "execution_count": null,
   "metadata": {},
   "outputs": [],
   "source": []
  }
 ],
 "metadata": {
  "kernelspec": {
   "display_name": "Python 3",
   "language": "python",
   "name": "python3"
  },
  "language_info": {
   "codemirror_mode": {
    "name": "ipython",
    "version": 3
   },
   "file_extension": ".py",
   "mimetype": "text/x-python",
   "name": "python",
   "nbconvert_exporter": "python",
   "pygments_lexer": "ipython3",
   "version": "3.7.3"
  }
 },
 "nbformat": 4,
 "nbformat_minor": 4
}
