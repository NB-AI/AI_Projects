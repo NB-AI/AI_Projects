{
 "cells": [
  {
   "cell_type": "markdown",
   "metadata": {},
   "source": [
    "<h1 style=\"color:rgb(0,120,170)\">Assignment 6: Logistic Regression</h1>"
   ]
  },
  {
   "cell_type": "code",
   "execution_count": 1,
   "metadata": {},
   "outputs": [],
   "source": [
    "import numpy as np\n",
    "from sklearn.metrics import roc_curve, auc\n",
    "import matplotlib\n",
    "import matplotlib.pyplot as plt"
   ]
  },
  {
   "cell_type": "markdown",
   "metadata": {},
   "source": [
    "The goal of this exercise is to implement logistic regression from scratch using only numpy. Start with the following tasks:\n",
    "\n",
    "* Implement the formula for the gradient computed in the lecture. In particular you should implement a function \n",
    "`logistic_gradient(w, x, y)` that takes a parameter vector\n",
    "$\\mathbf{w}$, a data matrix $\\mathbf{X}$ and a label vector\n",
    "$\\mathbf{y}$ and returns the gradient $\\frac{\\partial L}{\\partial\n",
    "\\mathbf{w}}$, where $L$ is the negative log-likelihood for the Bernoulli distribution, i.e. the cross-entropy loss.\n",
    "\n",
    "* Implemt a function `cost(w, x, y)`, that takes the same parameters but returns the cross-entropy loss.\n",
    "\n",
    "* Test whether the gradient calculated by `logistic_gradient(w, x, y)` is correct via Gradient Checking. To do so, implement\n",
    "a function `numerical_gradient(w, x, y)` that takes the same parameters\n",
    "as `logistic_gradient`, but calculates the gradient numerically via the central difference quotient, using $\\epsilon = 10^{-4}$ as suggested in the lecture slides.\n",
    "\n",
    "* Generate a random data matrix consisting of 5 data points with 10 features drawn from a standard normal distribution as well as corresponding random binary labels and a random weight vector, whose entries again stem from the standard normal distribution. Use them as input of both functions and compare the outputs. Hint: to generate the distributions use `np.random.normal` and `np.random.randint`.\n"
   ]
  },
  {
   "cell_type": "markdown",
   "metadata": {},
   "source": [
    "<h3 style=\"color:rgb(210,90,80)\">Code (30 points):</h3>"
   ]
  },
  {
   "cell_type": "code",
   "execution_count": 2,
   "metadata": {
    "scrolled": true
   },
   "outputs": [],
   "source": [
    "#Complete the functions with your code\n",
    "\n",
    "def logistic_gradient(w, x, y):\n",
    "\n",
    "    derivated_L = 0\n",
    "    \n",
    "    for yi,xi in zip(y, x):\n",
    "        individual_model = 1/(1 + np.exp(-np.matmul(w, xi))) # get out a number\n",
    "        \n",
    "        first_dL = (individual_model - yi) * xi\n",
    "\n",
    "        derivated_L += first_dL\n",
    "    \n",
    "    return derivated_L\n",
    "    \n",
    "def cost(w, x, y): # returns the Cross entropy Loss\n",
    "    \n",
    "    wt = w.reshape(1, w.shape[0]) #np.transpose(w)\n",
    "    sub_total = 0\n",
    "    for yi,xi in zip(y, x):\n",
    "        individual_model = 1/(1 + np.exp(-np.matmul(wt, xi)))\n",
    "        single_L = yi*np.log(individual_model) + (1-yi)*np.log(1-individual_model) # loss for single xi\n",
    "        sub_total += single_L\n",
    "        \n",
    "    return (- sub_total) # loss\n",
    "    \n",
    "def numerical_gradient(ww, x, y):\n",
    "\n",
    "\n",
    "    unit_vector = np.zeros(x.shape[1]) # number of entries as many as there exist y_is\n",
    "    ep = 10**(-4)\n",
    "    liste = []\n",
    "    for index_w, wi in enumerate(ww):\n",
    "        sub_total1 = 0\n",
    "        sub_total2 = 0\n",
    "        unit_vector[index_w] = 1 * ep\n",
    "        summer1 = 0\n",
    "        summer2 = 0\n",
    "        for yi,xi in zip(y, x):\n",
    "            individual_model1 = 1/(1 + np.exp(-np.matmul((ww + unit_vector), xi))) # get out a number\n",
    "            individual_model2 = 1/(1 + np.exp(-np.matmul((ww - unit_vector), xi))) # get out a number\n",
    "            single_L1 = yi*np.log(individual_model1) + (1-yi)*np.log(1-individual_model1)\n",
    "            single_L2 = yi*np.log(individual_model2) + (1-yi)*np.log(1-individual_model2)\n",
    "            summer1 += single_L1\n",
    "            summer2 += single_L2\n",
    "        total_loss_wi_1 = - summer1\n",
    "        total_loss_wi_2 = - summer2\n",
    "        \n",
    "        gradient_wi = (total_loss_wi_1 - total_loss_wi_2) / (2 * ep)\n",
    "        liste.append(gradient_wi)\n",
    "        \n",
    "        unit_vector[index_w] = 0\n",
    "    \n",
    "   \n",
    "    return np.array(liste)\n"
   ]
  },
  {
   "cell_type": "code",
   "execution_count": 3,
   "metadata": {
    "scrolled": true
   },
   "outputs": [
    {
     "name": "stdout",
     "output_type": "stream",
     "text": [
      "logistic gradient \n",
      "[-1.98872926  1.29693677  0.71656747  2.48974895  0.51748953 -0.18441261\n",
      " -0.17581644  1.16969363 -0.67749914  0.75321757] \n",
      "vs.\n",
      "numerical gradient\n",
      "[-1.98872926  1.29693677  0.71656747  2.48974895  0.51748953 -0.18441261\n",
      " -0.17581644  1.16969363 -0.67749914  0.75321757]\n",
      "\n",
      "Are they close enough?\n",
      "True\n",
      "\n",
      "\n",
      "The cost is 8.42219567940343\n"
     ]
    }
   ],
   "source": [
    "#your code for data creation\n",
    "np.random.seed(1)\n",
    "X = np.random.normal(size=(5,10)) # 5 samples with 10 features each\n",
    "y = np.random.randint(0,2, size=5) # 2 is excluded # size 5 because we have 5 samples\n",
    "\n",
    "ww = np.random.normal(size=(10)) # w has to have this shape because the unit_vector is later added to it # 10 \n",
    "# different features can get different weights\n",
    "\n",
    "result_log_gradient = logistic_gradient(ww,X,y)\n",
    "numerical_gradient_result = numerical_gradient(ww,X,y)\n",
    "cost = cost(ww,X,y)\n",
    "close = np.allclose(result_log_gradient,numerical_gradient_result)\n",
    "\n",
    "print(f\"\"\"logistic gradient \n",
    "{result_log_gradient} \n",
    "vs.\n",
    "numerical gradient\n",
    "{numerical_gradient_result}\n",
    "\n",
    "Are they close enough?\n",
    "{close}\n",
    "\n",
    "\"\"\")\n",
    "print(f\"The cost is {float(cost)}\") \n"
   ]
  },
  {
   "cell_type": "markdown",
   "metadata": {},
   "source": [
    "Next we intend to apply logistic regression on a real data set.\n",
    "\n",
    "* Implement a function `fitLogRegModel(x_train, y_train, eta=1e-4, max_iter=1e5)` that uses Logistic Regression with Gradient Descent to train classifiers on the training set. Use randomly initialized weights, drawn from a uniform distribution between $-1$ and $1$, a learning rate $\\eta$ (eta) of $10^{-4}$ and a maximum number of iterations of $1e5$. Furthermore the algorithm should stop if the difference between the loss of the last iteration step and the current loss is less than $\\eta$. Also print the losses in $1000$ step intevals. The function should return the model weights?????????????.\n",
    "* Furthermore, implement a function `predictLogReg(w, x)` that returns the prediction for the given parameter vector $\\mathbf{w}$ and feature vector $\\mathbf{x}$.\n",
    "\n",
    "Hint: for intialization use `np.random.uniform`."
   ]
  },
  {
   "cell_type": "markdown",
   "metadata": {},
   "source": [
    "<h3 style=\"color:rgb(208,90,80)\">Code (30 points)</h3>\n"
   ]
  },
  {
   "cell_type": "code",
   "execution_count": 4,
   "metadata": {},
   "outputs": [],
   "source": [
    "#Complete the functions with your code\n",
    "\n",
    "def fitLogRegModel(x_train, y_train, eta=1e-4, max_iter=100000):\n",
    "    \n",
    "    weights = np.random.uniform(low=-1.0, high=1.0, size=(len(x_train[0])))\n",
    "    for iteration in range(max_iter):\n",
    "        loss_function_adder = 0\n",
    "        derivated_L = 0\n",
    "        old_loss = 0\n",
    "        for yi,xi in zip(y_train, x_train):\n",
    "            individual_model3 = 1/(1 + np.exp(-np.matmul(weights, xi))) # get out a number\n",
    "\n",
    "            loss_function_part = yi*np.log(individual_model3) + (1-yi)*np.log(1-individual_model3)\n",
    "            loss_function_adder += loss_function_part\n",
    "\n",
    "            first_dL = (individual_model3 - yi) * xi\n",
    "\n",
    "            derivated_L += first_dL\n",
    "\n",
    "        total_loss_value = - loss_function_adder\n",
    "        total_derivation_matrix = derivated_L\n",
    "\n",
    "        if iteration % 1000 == 0:\n",
    "            print(f'{iteration}. iteration: Current loss is {total_loss_value}')\n",
    "        \n",
    "        if abs(old_loss - total_loss_value) < eta:\n",
    "            break\n",
    "            \n",
    "        weights = weights - eta * total_derivation_matrix\n",
    "        \n",
    "        old_loss = total_loss_value\n",
    "    \n",
    "    \n",
    "    return weights\n",
    "\n",
    "def predictLogReg(w, x):\n",
    "    \n",
    "    return 1/(1 + np.exp(-np.matmul(w, x))) # model value as prediction\n"
   ]
  },
  {
   "cell_type": "markdown",
   "metadata": {},
   "source": [
    "In the following cell the data set `DataSet_LR_a.csv` is loaded and split into a training set and a test set ($50\\,\\%$ each). Now you should:\n",
    "* Fit the logistic regression model from above to the training data and print the parameters for the test data.\n",
    "* Now we classify samples as class `1` if the Logistic Regression returns values $\\geq 0.5$ and `0` otherwise. Calculate Accuracy and Balanced Accuracy on the training and on the test sets.\n",
    "* Provide ROC curves of the classifiers on the test samples and compute the corresponding AUC. Label the axes appropriately. Hint: the functions `roc_curve` and `auc` from `sklearn.metrics` might be useful."
   ]
  },
  {
   "cell_type": "markdown",
   "metadata": {},
   "source": [
    "<h3 style=\"color:rgb(208,90,80)\">Code (35 points)</h3>\n"
   ]
  },
  {
   "cell_type": "code",
   "execution_count": 5,
   "metadata": {},
   "outputs": [
    {
     "data": {
      "image/png": "[encoded data removed]",
      "text/plain": [
       "<Figure size 432x288 with 1 Axes>"
      ]
     },
     "metadata": {
      "needs_background": "light"
     },
     "output_type": "display_data"
    }
   ],
   "source": [
    "#nothing to do here\n",
    "\n",
    "from sklearn.utils import shuffle\n",
    "# Read data, split into X(features) and y(labels)\n",
    "Z = np.genfromtxt('DataSet_LR_a.csv', delimiter=',',skip_header=1)\n",
    "X, y = Z[:,:-1], Z[:,-1]\n",
    "X = np.hstack((np.ones((X.shape[0],1)),X))   #prepend ones for intercept\n",
    "# Plot data distribution\n",
    "color= ['red' if elem==1 else 'blue' for elem in y ]\n",
    "plt.scatter(X[:,1], X[:,2], c=color)\n",
    "plt.xlabel('x1')\n",
    "plt.ylabel('x2')\n",
    "plt.title('Complete dataset')\n",
    "# Split into test and training set\n",
    "X_train=X[:np.int(X.shape[0]/2)]\n",
    "X_test=X[np.int(X.shape[0]/2):]\n",
    "y_train=y[:np.int(len(y)/2)]\n",
    "y_test=y[np.int(len(y)/2):]"
   ]
  },
  {
   "cell_type": "code",
   "execution_count": 6,
   "metadata": {
    "scrolled": true
   },
   "outputs": [
    {
     "name": "stdout",
     "output_type": "stream",
     "text": [
      "0. iteration: Current loss is 38.83500316801331\n",
      "1000. iteration: Current loss is 34.06273950743208\n",
      "2000. iteration: Current loss is 31.930878896982332\n",
      "3000. iteration: Current loss is 30.204904074562883\n",
      "4000. iteration: Current loss is 28.778302832668803\n",
      "5000. iteration: Current loss is 27.58649453316743\n",
      "6000. iteration: Current loss is 26.580810714943127\n",
      "7000. iteration: Current loss is 25.724249006890613\n",
      "8000. iteration: Current loss is 24.98844050384167\n",
      "9000. iteration: Current loss is 24.35142142761988\n",
      "10000. iteration: Current loss is 23.79601033098995\n",
      "11000. iteration: Current loss is 23.308627043500287\n",
      "12000. iteration: Current loss is 22.878429388624046\n",
      "13000. iteration: Current loss is 22.496677677069147\n",
      "14000. iteration: Current loss is 22.156262837298314\n",
      "15000. iteration: Current loss is 21.85135276678547\n",
      "16000. iteration: Current loss is 21.577124737700323\n",
      "17000. iteration: Current loss is 21.32956098100114\n",
      "18000. iteration: Current loss is 21.105291075263235\n",
      "19000. iteration: Current loss is 20.90146932974722\n",
      "20000. iteration: Current loss is 20.71567857056512\n",
      "21000. iteration: Current loss is 20.545854025753574\n",
      "22000. iteration: Current loss is 20.39022264234091\n",
      "23000. iteration: Current loss is 20.24725435036423\n",
      "24000. iteration: Current loss is 20.115622649148857\n",
      "25000. iteration: Current loss is 19.994172522779788\n",
      "26000. iteration: Current loss is 19.881894159260447\n",
      "27000. iteration: Current loss is 19.777901296805563\n",
      "28000. iteration: Current loss is 19.681413283203625\n",
      "29000. iteration: Current loss is 19.591740133146498\n",
      "30000. iteration: Current loss is 19.5082700203423\n",
      "31000. iteration: Current loss is 19.430458758047696\n",
      "32000. iteration: Current loss is 19.35782091209437\n",
      "33000. iteration: Current loss is 19.289922260954246\n",
      "34000. iteration: Current loss is 19.22637337264039\n",
      "35000. iteration: Current loss is 19.166824111818176\n",
      "36000. iteration: Current loss is 19.110958925067827\n",
      "37000. iteration: Current loss is 19.058492779807235\n",
      "38000. iteration: Current loss is 19.009167654484664\n",
      "39000. iteration: Current loss is 18.962749495457906\n",
      "40000. iteration: Current loss is 18.919025570391618\n",
      "41000. iteration: Current loss is 18.87780215972917\n",
      "42000. iteration: Current loss is 18.83890253737129\n",
      "43000. iteration: Current loss is 18.802165199550096\n",
      "44000. iteration: Current loss is 18.76744230735734\n",
      "45000. iteration: Current loss is 18.73459831373613\n",
      "46000. iteration: Current loss is 18.703508750184877\n",
      "47000. iteration: Current loss is 18.67405915212165\n",
      "48000. iteration: Current loss is 18.64614410494765\n",
      "49000. iteration: Current loss is 18.619666395441314\n",
      "50000. iteration: Current loss is 18.594536255295854\n",
      "51000. iteration: Current loss is 18.57067068545332\n",
      "52000. iteration: Current loss is 18.547992851446622\n",
      "53000. iteration: Current loss is 18.52643154128377\n",
      "54000. iteration: Current loss is 18.50592067853466\n",
      "55000. iteration: Current loss is 18.486398884241307\n",
      "56000. iteration: Current loss is 18.467809082096032\n",
      "57000. iteration: Current loss is 18.4500981420369\n",
      "58000. iteration: Current loss is 18.43321655801741\n",
      "59000. iteration: Current loss is 18.41711815623042\n",
      "60000. iteration: Current loss is 18.401759830518667\n",
      "61000. iteration: Current loss is 18.38710130209579\n",
      "62000. iteration: Current loss is 18.373104901041614\n",
      "63000. iteration: Current loss is 18.35973536733131\n",
      "64000. iteration: Current loss is 18.346959669415277\n",
      "65000. iteration: Current loss is 18.33474683859195\n",
      "66000. iteration: Current loss is 18.323067817612216\n",
      "67000. iteration: Current loss is 18.311895322126777\n",
      "68000. iteration: Current loss is 18.30120371373943\n",
      "69000. iteration: Current loss is 18.29096888356194\n",
      "70000. iteration: Current loss is 18.28116814528443\n",
      "71000. iteration: Current loss is 18.271780136877865\n",
      "72000. iteration: Current loss is 18.26278473013778\n",
      "73000. iteration: Current loss is 18.254162947358743\n",
      "74000. iteration: Current loss is 18.24589688450136\n",
      "75000. iteration: Current loss is 18.237969640277615\n",
      "76000. iteration: Current loss is 18.230365250636847\n",
      "77000. iteration: Current loss is 18.22306862818546\n",
      "78000. iteration: Current loss is 18.216065506118756\n",
      "79000. iteration: Current loss is 18.20934238628331\n",
      "80000. iteration: Current loss is 18.20288649102454\n",
      "81000. iteration: Current loss is 18.196685718506615\n",
      "82000. iteration: Current loss is 18.190728601220204\n",
      "83000. iteration: Current loss is 18.18500426742049\n",
      "84000. iteration: Current loss is 18.17950240526025\n",
      "85000. iteration: Current loss is 18.174213229404717\n",
      "86000. iteration: Current loss is 18.16912744993308\n",
      "87000. iteration: Current loss is 18.16423624334949\n",
      "88000. iteration: Current loss is 18.159531225540928\n",
      "89000. iteration: Current loss is 18.155004426533882\n",
      "90000. iteration: Current loss is 18.150648266914246\n",
      "91000. iteration: Current loss is 18.14645553578611\n",
      "92000. iteration: Current loss is 18.14241937015587\n",
      "93000. iteration: Current loss is 18.138533235636977\n",
      "94000. iteration: Current loss is 18.13479090837973\n",
      "95000. iteration: Current loss is 18.13118645813783\n",
      "96000. iteration: Current loss is 18.127714232390943\n",
      "97000. iteration: Current loss is 18.124368841448575\n",
      "98000. iteration: Current loss is 18.121145144466606\n",
      "99000. iteration: Current loss is 18.118038236313318\n",
      "Updated weights/parameters: [-3.59890137  8.89878959 -1.53363915]\n"
     ]
    }
   ],
   "source": [
    "# Your code\n",
    "# If you use variable names pred_train and pred_test for the corrsponding predictions on training and test sets, then you can use the plotting routine below\n",
    "updated_weights = fitLogRegModel(X_train,y_train)\n",
    "print(f'Updated weights/parameters: {updated_weights}')\n"
   ]
  },
  {
   "cell_type": "code",
   "execution_count": 7,
   "metadata": {},
   "outputs": [],
   "source": [
    "pred_train = []\n",
    "for x in X_train:\n",
    "    model_value = predictLogReg(updated_weights, x)\n",
    "    if model_value >= 0.5:\n",
    "        prediction = 1\n",
    "    else: \n",
    "        prediction = 0\n",
    "    pred_train.append(prediction)\n",
    "    \n",
    "pred_test = []\n",
    "non_threshold_pred = []\n",
    "for x in X_test:\n",
    "    model_value = predictLogReg(updated_weights, x)\n",
    "    if model_value >= 0.5:\n",
    "        prediction = 1\n",
    "    else: \n",
    "        prediction = 0\n",
    "        \n",
    "    pred_test.append(prediction)\n",
    "    \n",
    "    non_threshold_pred.append(model_value)\n",
    "    "
   ]
  },
  {
   "cell_type": "code",
   "execution_count": 8,
   "metadata": {},
   "outputs": [
    {
     "data": {
      "text/plain": [
       "Text(0.5, 1.0, 'Test dataset - predictions')"
      ]
     },
     "execution_count": 8,
     "metadata": {},
     "output_type": "execute_result"
    },
    {
     "data": {
      "text/plain": [
       "<Figure size 432x288 with 0 Axes>"
      ]
     },
     "metadata": {},
     "output_type": "display_data"
    },
    {
     "data": {
      "image/png": "[encoded data removed]",
      "text/plain": [
       "<Figure size 864x720 with 4 Axes>"
      ]
     },
     "metadata": {
      "needs_background": "light"
     },
     "output_type": "display_data"
    }
   ],
   "source": [
    "# Nothing to do here\n",
    "# Plot training and test dataset\n",
    "# Plot predictions for training and test dataset\n",
    "\n",
    "fig = plt.figure()\n",
    "fig = plt.figure(figsize = (12,10))\n",
    "plt.subplot(2, 2, 1)\n",
    "color= ['red' if elem>0.5 else 'blue' for elem in y_train ]\n",
    "plt.scatter(X_train[:,1], X_train[:,2], c=color,label='the data')\n",
    "plt.xlabel('x1')\n",
    "plt.ylabel('x2')\n",
    "plt.title('Training dataset')\n",
    "\n",
    "plt.subplot(2, 2, 2)\n",
    "color= ['red' if elem>0.5 else 'blue' for elem in pred_train ]\n",
    "plt.scatter(X_train[:,1], X_train[:,2], c=color,label='the data')\n",
    "plt.xlabel('x1')\n",
    "plt.ylabel('x2')\n",
    "plt.title('Training dataset - predictions')\n",
    "\n",
    "plt.subplot(2, 2, 3)\n",
    "color= ['red' if elem>0.5 else 'blue' for elem in y_test ]\n",
    "plt.scatter(X_test[:,1], X_test[:,2], c=color,label='the data')\n",
    "plt.xlabel('x1')\n",
    "plt.ylabel('x2')\n",
    "plt.title('Test dataset')\n",
    "\n",
    "plt.subplot(2, 2, 4)\n",
    "color= ['red' if elem>0.5 else 'blue' for elem in pred_test ]\n",
    "plt.scatter(X_test[:,1], X_test[:,2], c=color,label='the data')\n",
    "plt.xlabel('x1')\n",
    "plt.ylabel('x2')\n",
    "plt.title('Test dataset - predictions')"
   ]
  },
  {
   "cell_type": "code",
   "execution_count": 9,
   "metadata": {
    "scrolled": true
   },
   "outputs": [
    {
     "name": "stdout",
     "output_type": "stream",
     "text": [
      "\n",
      "For training set:\n",
      "Accuracy: 0.8666666666666667\n",
      "Balanced accuracy: 0.8597285067873304\n",
      "\n"
     ]
    }
   ],
   "source": [
    "# Calculate accuracy and balanced accuracy for training set\n",
    "# Your code\n",
    "from sklearn.metrics import accuracy_score, balanced_accuracy_score\n",
    "accuracy = accuracy_score(y_train, pred_train)\n",
    "bal_ac = balanced_accuracy_score(y_train, pred_train)\n",
    "print(f'''\n",
    "For training set:\n",
    "Accuracy: {accuracy}\n",
    "Balanced accuracy: {bal_ac}\n",
    "''')\n"
   ]
  },
  {
   "cell_type": "code",
   "execution_count": 10,
   "metadata": {},
   "outputs": [
    {
     "name": "stdout",
     "output_type": "stream",
     "text": [
      "\n",
      "For test set:\n",
      "Accuracy: 0.9\n",
      "Balanced accuracy: 0.9117647058823529\n",
      "\n"
     ]
    }
   ],
   "source": [
    "# Calculate accuracy and balanced accuracy for test set\n",
    "# Your code\n",
    "accuracy = accuracy_score(y_test, pred_test)\n",
    "\n",
    "bal_ac = balanced_accuracy_score(y_test, pred_test)\n",
    "print(f'''\n",
    "For test set:\n",
    "Accuracy: {accuracy}\n",
    "Balanced accuracy: {bal_ac}\n",
    "''')\n"
   ]
  },
  {
   "cell_type": "code",
   "execution_count": 12,
   "metadata": {},
   "outputs": [
    {
     "data": {
      "text/plain": [
       "<matplotlib.legend.Legend at 0x7f151ad78160>"
      ]
     },
     "execution_count": 12,
     "metadata": {},
     "output_type": "execute_result"
    },
    {
     "data": {
      "image/png": "[encoded data removed]",
      "text/plain": [
       "<Figure size 432x288 with 1 Axes>"
      ]
     },
     "metadata": {
      "needs_background": "light"
     },
     "output_type": "display_data"
    }
   ],
   "source": [
    "from sklearn.metrics import roc_curve, auc, roc_auc_score\n",
    "\n",
    "\n",
    "fpr, tpr, thresholds = roc_curve(y_test, non_threshold_pred)#, pos_label=2)\n",
    "My_auc = roc_auc_score(y_test, non_threshold_pred)\n",
    "\n",
    "plt.figure()\n",
    "\n",
    "plt.plot(fpr, tpr, color='green',\n",
    "         lw=2, label='AUC (area = %0.2f)' % My_auc)\n",
    "plt.plot([0, 1], [0, 1], color='black', lw=2, linestyle='--')\n",
    "\n",
    "plt.xlim([0.0, 1.0])\n",
    "plt.ylim([0.0, 1.05])\n",
    "plt.title('ROC Curve')\n",
    "plt.xlabel('False Positive Rate')\n",
    "plt.ylabel('True Positive Rate')\n",
    "\n",
    "plt.legend(loc=\"lower right\")\n"
   ]
  },
  {
   "cell_type": "code",
   "execution_count": null,
   "metadata": {},
   "outputs": [],
   "source": []
  }
 ],
 "metadata": {
  "kernelspec": {
   "display_name": "Python 3",
   "language": "python",
   "name": "python3"
  },
  "language_info": {
   "codemirror_mode": {
    "name": "ipython",
    "version": 3
   },
   "file_extension": ".py",
   "mimetype": "text/x-python",
   "name": "python",
   "nbconvert_exporter": "python",
   "pygments_lexer": "ipython3",
   "version": "3.7.3"
  }
 },
 "nbformat": 4,
 "nbformat_minor": 4
}
