{
 "cells": [
  {
   "cell_type": "markdown",
   "metadata": {},
   "source": [
    "<h1 style=\"color:rgb(0,120,170)\">Assignment 1: $k$-nearest neighbors</h1>"
   ]
  },
  {
   "cell_type": "markdown",
   "metadata": {},
   "source": [
    "<h2 style=\"color:rgb(0,120,170)\">Task 1: Visualization</h2>\n",
    "\n",
    "Visualize the data stored in `DataSet1.csv` with a scatter plot.<br>\n",
    "The first two columns are the features which hold the x and y coordinates of the data.<br>\n",
    "The last column provides the labels of the data. Use different colors for different labels.<br>\n",
    "Always label the axes of all your plots."
   ]
  },
  {
   "cell_type": "markdown",
   "metadata": {},
   "source": [
    "<h3 style=\"color:rgb(210,90,80)\">Code (20 points):</h3>"
   ]
  },
  {
   "cell_type": "code",
   "execution_count": 2,
   "metadata": {},
   "outputs": [],
   "source": [
    "import sklearn\n",
    "import numpy as np\n",
    "import matplotlib.pyplot as plt\n"
   ]
  },
  {
   "cell_type": "code",
   "execution_count": 3,
   "metadata": {
    "scrolled": true
   },
   "outputs": [
    {
     "data": {
      "image/png": "[encoded data removed]",
      "text/plain": [
       "<Figure size 432x288 with 1 Axes>"
      ]
     },
     "metadata": {
      "needs_background": "light"
     },
     "output_type": "display_data"
    }
   ],
   "source": [
    "# read data, split into X(features) and y(labels)\n",
    "Z = np.genfromtxt('DataSet1.csv', delimiter=',')\n",
    "X, y = Z[:,:-1], Z[:,-1] # x contains all information about the data points, y contains the labels\n",
    "Z_for_last_task = Z # get unflipped labels because in third task they will be filpped\n",
    "# your code here:\n",
    "# X[0] is a single datapoint with x and y coordinate\n",
    "\n",
    "for index, single_value in enumerate(X):\n",
    "    if int(y[index]) == 1:\n",
    "        colour = 'purple'\n",
    "    elif int(y[index]) == -1:\n",
    "        colour = 'green'\n",
    "    else:\n",
    "        colour = 'red'\n",
    "    \n",
    "    plt.scatter(single_value[0],single_value[1], c=colour) # single_value[0] is the x-coordinate, \n",
    "    #single_value[1] is the y-coordinate of the single data point\n",
    "    \n",
    "\n",
    "plt.xlabel('x_axis, feature_1')\n",
    "plt.ylabel('y_axis, feature_2')\n",
    "plt.show()\n"
   ]
  },
  {
   "cell_type": "markdown",
   "metadata": {},
   "source": [
    "<h3 style=\"color:rgb(210,90,80)\">Question (5 points):</h3>\n",
    "\n",
    "- Which of the following statements about $k$-nearest neighbors is correct? Tick the correct box (put an \"X\" in the box):\n",
    "\n",
    "\\[ \\]  requires long training time <br>\n",
    "\\[X \\]  not suited for large datasets bc you have to consider all datapoints <br>\n",
    "\\[X \\]  sensitive to the rescaling of individual features, bc knn concerned with distance datapoints <br>\n",
    "\\[ \\]  has many trainable model parameters <br>"
   ]
  },
  {
   "cell_type": "markdown",
   "metadata": {},
   "source": [
    "<h2 style=\"color:rgb(0,120,170)\">Task 2: Training the model</h2>\n",
    "\n",
    "Use $k$-nearest neighbors classifiers with $k \\in \\{1,3,5,...,177,179\\}$.<br>\n",
    "Either use the `KNeighborsClassifier` function from `sklearn` or implement it on your own.<br>\n",
    "Estimate the generalization error with zero-one loss via the empirical risk (see lecture Unit 1, p.25 ff.) and use 10-fold\n",
    "cross validation.<br>\n",
    "Visualize your results, i.e., plot the error (as defined above) vs. $k$ of $k$-nearest neighbors classifiers.\n",
    "<br>\n",
    "<br>\n",
    "Hint: implement a function that takes the feature matrix ($X$), the label vector ($y$), the number of CV folds ($nf$), $k$ of the $k$-nearest neighbors classifiers ($k$) as arguments:<br>\n",
    "`def evaluate_kNN(X,y,nf,k):`<br>\n",
    "It should return the mean error (as defined above) over the CV folds."
   ]
  },
  {
   "cell_type": "markdown",
   "metadata": {},
   "source": [
    "<h3 style=\"color:rgb(210,90,80)\">Code (15 points):</h3>"
   ]
  },
  {
   "cell_type": "code",
   "execution_count": 25,
   "metadata": {},
   "outputs": [],
   "source": [
    "#method for kNN\n",
    "from sklearn.model_selection import KFold\n",
    "from sklearn import neighbors\n",
    "\n",
    "# your code here:\n",
    "import random\n",
    "from sklearn.neighbors import KNeighborsClassifier\n",
    "from torch.utils.data import Subset\n",
    "random.seed(1234) # results become replicable\n",
    "# Get a random k:\n",
    "#k = (int(random.randint(1,179)))\n",
    "#if k % 2 == 0:\n",
    "    #k = k+1\n",
    "# Choose k by yourself:\n",
    "#k = []\n",
    "\n",
    "#k = [1,5,11,21,51,101,151,179]\n",
    "random.seed(1234)\n",
    "empirical_risks_list = []\n",
    "\n",
    "\n",
    "# First we have to train the model: complexity training KNN only O(1) \n",
    "# split up data set into 10 parts:\n",
    "# create random indices:\n",
    "random_numbers_as_indices = np.random.permutation((len(X))) \n",
    "indices_fold_1 = random_numbers_as_indices[:int((len(X)/10))]\n",
    "indices_fold_2 = random_numbers_as_indices[int((len(X)/10)):int((len(X)/10))*2] # [inclusive, exclusive]\n",
    "indices_fold_3 = random_numbers_as_indices[int((len(X)/10))*2:int((len(X)/10))*3]\n",
    "indices_fold_4 = random_numbers_as_indices[int((len(X)/10))*3:int((len(X)/10))*4]\n",
    "indices_fold_5 = random_numbers_as_indices[int((len(X)/10))*4:int((len(X)/10))*5]\n",
    "indices_fold_6 = random_numbers_as_indices[int((len(X)/10))*5:int((len(X)/10))*6]\n",
    "indices_fold_7 = random_numbers_as_indices[int((len(X)/10))*6:int((len(X)/10))*7]\n",
    "indices_fold_8 = random_numbers_as_indices[int((len(X)/10))*7:int((len(X)/10))*8]\n",
    "indices_fold_9 = random_numbers_as_indices[int((len(X)/10))*8:int((len(X)/10))*9]\n",
    "indices_fold_10 = random_numbers_as_indices[int((len(X)/10))*9:int((len(X)/10))*10]\n",
    "list_indices_fold = []\n",
    "list_indices_fold.append(indices_fold_1)\n",
    "list_indices_fold.append(indices_fold_2)\n",
    "list_indices_fold.append(indices_fold_3)\n",
    "list_indices_fold.append(indices_fold_4)\n",
    "list_indices_fold.append(indices_fold_5)\n",
    "list_indices_fold.append(indices_fold_6)\n",
    "list_indices_fold.append(indices_fold_7)\n",
    "list_indices_fold.append(indices_fold_8)\n",
    "list_indices_fold.append(indices_fold_9)\n",
    "list_indices_fold.append(indices_fold_10)\n",
    "\n",
    "for single_k in range(1,180): # determine the empirical risk and loss for the chosen single ks:\n",
    "    knn = KNeighborsClassifier(n_neighbors = single_k)\n",
    "    # empirical risk estimation: sum up all losses and devide them by the number of losses/tested points\n",
    "\n",
    "\n",
    "    # Now we can generate the training and testset for each of the ten iterations:\n",
    "    # In each iteration calculate the loss and add it to the final loss:\n",
    "    final_loss = 0\n",
    "    #big_iteration_all_training_epochs = 0\n",
    "    #while big_iteration_all_training_epochs < 10:\n",
    "    iteration = 0\n",
    "    second_indices_list = []\n",
    "\n",
    "    while iteration < 10: # we have 10 folds --> 10 iterations \n",
    "\n",
    "        for index_of_fold, single_fold_with_ind in enumerate(list_indices_fold):\n",
    "            if iteration == index_of_fold: \n",
    "                current_testset = Subset(Z, indices=single_fold_with_ind)\n",
    "                test_array_features = []\n",
    "                test_array_labels = []\n",
    "                for i in current_testset:\n",
    "                    current_testset_features = i[:-1]\n",
    "                    current_testset_labels =i[-1]\n",
    "                    test_array_features.append(current_testset_features)\n",
    "                    test_array_labels.append(current_testset_labels)\n",
    "            else:\n",
    "                second_indices_list.extend(single_fold_with_ind)\n",
    "\n",
    "\n",
    "        # Now we want to generate the trainset\n",
    "        current_trainset = Subset(Z, indices=second_indices_list)\n",
    "\n",
    "        train_array_features = []\n",
    "        train_array_labels = []\n",
    "        for i in current_trainset:\n",
    "            current_trainset_features = i[:-1]\n",
    "            current_trainset_labels =i[-1]\n",
    "            train_array_features.append(current_trainset_features)\n",
    "            train_array_labels.append(current_trainset_labels)\n",
    "\n",
    "        # Before calculating the loss you have to look, which labels the testset gets by knn:\n",
    "        knn.fit(train_array_features, train_array_labels)\n",
    "        knn_predicted_labels = knn.predict(test_array_features)\n",
    "        \n",
    "        # Compare the predicted labels with the real ones:\n",
    "        single_loss = 0\n",
    "        for index, label in enumerate(test_array_labels): \n",
    "            # zero-one loss: correct classification --> assign 0 to loss; false classification --> assign 1 to loss\n",
    "            if int(test_array_labels[index]) != int(knn_predicted_labels[index]): # Predicted wrongly\n",
    "                single_loss += 1 # each training epoch has its own loss\n",
    "        final_loss += single_loss # final loss is the loss over all 10 testsets out of 10 training epochs\n",
    "\n",
    "        # the scores tell us how good the model was in this training period (one of 10) # Not needed!\n",
    "        #single_score = knn.score(test_array_features, test_array_labels) # we get 10 scores out of 10 testsets\n",
    "       # if single_score >= 0: # then \n",
    "\n",
    "\n",
    "        iteration += 1\n",
    "        #big_iteration_all_training_epochs += 1\n",
    "\n",
    "\n",
    "    # Now we have the final loss. Calculate the empirical risk:\n",
    "    empirical_risk = final_loss / 10 # divided through 10 because we have 10 losses\n",
    "    # The maximal value of the empirical risk would be 20xFalse*10xtimes/10xsmall_losses = 20\n",
    "    # The minimal empirical risk would be 0 \n",
    "    empirical_risks_list.append(empirical_risk)\n",
    "    "
   ]
  },
  {
   "cell_type": "code",
   "execution_count": 26,
   "metadata": {},
   "outputs": [
    {
     "data": {
      "image/png": "[encoded data removed]",
      "text/plain": [
       "<Figure size 432x288 with 1 Axes>"
      ]
     },
     "metadata": {
      "needs_background": "light"
     },
     "output_type": "display_data"
    }
   ],
   "source": [
    "for index, ele in enumerate(empirical_risks_list):\n",
    "    plt.scatter(k[index],ele, c='red') \n",
    "\n",
    "plt.ylabel('Empirical risk')\n",
    "plt.xlabel('number of neighbors')\n",
    "plt.show()\n"
   ]
  },
  {
   "cell_type": "markdown",
   "metadata": {},
   "source": [
    "<h3 style=\"color:rgb(210,90,80)\">Question (10 points):</h3>\n",
    "\n",
    "* Thinking of model complexity as the ability of the model to fit to noise, what choice of $k$ gives complex models? Why?\n",
    "\n",
    "Tick the correct box:\n",
    "\n",
    "\\[  \\]  Model complexity increases with increasing $k$, as larger $k$ means the model has more parameters. <br>\n",
    "\\[  \\]  Model complexity increases with increasing $k$, as larger $k$ means that more neighbors influence the decision. <br>\n",
    "\\[ X \\]  Model complexity increases with decreasing $k$, as smaller $k$ means that fewer neighbors influence the decision. <br>\n",
    "\\[  \\]  Model complexity increases with decreasing $k$, as smaller $k$ means the model has fewer parameters. <br>\n",
    "\n",
    "* For the data above, how does the error develop with the model complexity? Why? Look again at the data - do the labels appear to be noisy?\n",
    "The error seems to be less when k is very smalland the model complexity is high. However, for k = 1 there should be overfitting for normal but it isn't here the case. Possible reasons: \n",
    "--> Overrepresentation of one label: There aren't too much samples for one label compared to the other (see below). \n",
    "--> Look at the scatter plot of task 1: The data set is small. The two labels are well sepearated, only a few samples of different labels are near to each other. Only when you use these few critical samples as testset the model will predict wrongly for small k. There are only a few of these cases such that the overall error becomes small.\n",
    "\n",
    "Tick the correct box:\n",
    "\n",
    "\\[ X \\]  The error increases with increasing $k$, as there is hardly any noise in the data <br>\n",
    "\\[  \\]  The error increases with increasing $k$, as there is a lot of noise in the data <br>\n",
    "\\[  \\]  The error increases with decreasing $k$, as there is hardly any noise in the data <br>\n",
    "\\[  \\]  The error increases with decreasing $k$, as there is a lot of noise in the data <br>"
   ]
  },
  {
   "cell_type": "code",
   "execution_count": 6,
   "metadata": {},
   "outputs": [
    {
     "name": "stdout",
     "output_type": "stream",
     "text": [
      "Label 1: 101 times\n",
      "Label -1: 99 times\n",
      "Label unkown: 0 times\n"
     ]
    }
   ],
   "source": [
    "# Is there a label with to much poportion in the data?:\n",
    "counter_1 = 0\n",
    "counter_minus_1 = 0\n",
    "counter_what = 0\n",
    "for i in y:\n",
    "    if int(i) == 1:\n",
    "        counter_1 += 1\n",
    "    elif int(i) == -1:\n",
    "        counter_minus_1 += 1\n",
    "    else:\n",
    "        counter_what += 1\n",
    "print('Label 1:', counter_1, 'times')\n",
    "print('Label -1:', counter_minus_1, 'times')\n",
    "print('Label unkown:', counter_what, 'times')\n",
    "# There isn't one label dominant in the dataset.\n"
   ]
  },
  {
   "cell_type": "markdown",
   "metadata": {},
   "source": [
    "<h2 style=\"color:rgb(0,120,170)\">Task 3: Add noise to labels</h2>\n",
    "\n",
    "Flip the sign of the labels of the data randomly with probability of $\\frac{1}{5}$. Use the random seed given below. Perform the same steps as before, i.e. plot the data and plot the error (estimated via the empirical risk) vs. $k$ for 10-fold cross validation."
   ]
  },
  {
   "cell_type": "markdown",
   "metadata": {},
   "source": [
    "<h3 style=\"color:rgb(210,90,80)\">Code (15 points):</h3>"
   ]
  },
  {
   "cell_type": "code",
   "execution_count": 7,
   "metadata": {},
   "outputs": [],
   "source": [
    "#flip labels of data\n",
    "np.random.seed(1234)\n",
    "\n",
    "# your code here:\n",
    "my_prob_list = [1,2,3,4,5]\n",
    "for ind, label in enumerate(y):\n",
    "    if random.choice(my_prob_list) == 5: # the probability for that happening is 1/5\n",
    "        if y[ind] == -1:\n",
    "            y[ind] = 1\n",
    "        else:\n",
    "            y[ind] = -1\n"
   ]
  },
  {
   "cell_type": "code",
   "execution_count": 8,
   "metadata": {},
   "outputs": [
    {
     "data": {
      "image/png": "[encoded data removed]",
      "text/plain": [
       "<Figure size 432x288 with 1 Axes>"
      ]
     },
     "metadata": {
      "needs_background": "light"
     },
     "output_type": "display_data"
    }
   ],
   "source": [
    "for index, single_value in enumerate(X):\n",
    "    if int(y[index]) == 1:\n",
    "        colour = 'purple'\n",
    "    elif int(y[index]) == -1:\n",
    "        colour = 'green'\n",
    "    else:\n",
    "        colour = 'red'\n",
    "    \n",
    "    plt.scatter(single_value[0],single_value[1], c=colour) # single_value[0] is the x-coordinate, \n",
    "    #single_value[1] is the y-coordinate of the single data point\n",
    "    \n",
    "\n",
    "plt.xlabel('x_axis, feature_1')\n",
    "plt.ylabel('y_axis, feature_2')\n",
    "plt.show()\n",
    "# Now the data sample of different labels are quite more mixed:\n"
   ]
  },
  {
   "cell_type": "code",
   "execution_count": 9,
   "metadata": {},
   "outputs": [],
   "source": [
    "random.seed(1234)\n",
    "empirical_risks_list = []\n",
    "for single_k in k: # determine the empirical risk and loss for the chosen single ks:\n",
    "    knn = KNeighborsClassifier(n_neighbors = single_k)\n",
    "\n",
    "    # empirical risk estimation: sum up all losses and devide them by the number of losses/tested points\n",
    "\n",
    "    # First we have to train the model: complexity training KNN only O(1) \n",
    "    # split up data set into 10 parts:\n",
    "    # create random indices:\n",
    "    \n",
    "\n",
    "\n",
    "    # Now we can generate the training and testset for each of the ten iterations:\n",
    "    # In each iteration calculate the loss and add it to the final loss:\n",
    "    final_loss = 0\n",
    "    #big_iteration_all_training_epochs = 0\n",
    "    #while big_iteration_all_training_epochs < 10:\n",
    "    iteration = 0\n",
    "    second_indices_list = []\n",
    "\n",
    "    while iteration < 10: # we have 10 folds --> 10 iterations \n",
    "\n",
    "        for index_of_fold, single_fold_with_ind in enumerate(list_indices_fold):\n",
    "            if iteration == index_of_fold: \n",
    "                current_testset = Subset(Z, indices=single_fold_with_ind) \n",
    "                test_array_features = []\n",
    "                test_array_labels = []\n",
    "                for i in current_testset:\n",
    "                    current_testset_features = i[:-1]\n",
    "                    current_testset_labels =i[-1]\n",
    "                    test_array_features.append(current_testset_features)\n",
    "                    test_array_labels.append(current_testset_labels)\n",
    "            else:\n",
    "                second_indices_list.extend(single_fold_with_ind)\n",
    "\n",
    "\n",
    "        # Now we want to generate the trainset\n",
    "        current_trainset = Subset(Z, indices=second_indices_list)\n",
    "\n",
    "        train_array_features = []\n",
    "        train_array_labels = []\n",
    "        for i in current_trainset:\n",
    "            current_trainset_features = i[:-1]\n",
    "            current_trainset_labels =i[-1]\n",
    "            train_array_features.append(current_trainset_features)\n",
    "            train_array_labels.append(current_trainset_labels)\n",
    "        \n",
    "        # Before calculating the loss you have to look, which labels the testset gets by knn:\n",
    "        knn.fit(train_array_features, train_array_labels)\n",
    "        knn_predicted_labels = knn.predict(test_array_features)\n",
    "        # Compare the predicted labels with the real ones:\n",
    "        single_loss = 0\n",
    "        for index, label in enumerate(test_array_labels): \n",
    "            # zero-one loss: correct classification --> assign 0 to loss; false classification --> assign 1 to loss\n",
    "            if int(test_array_labels[index]) != int(knn_predicted_labels[index]): # Predicted wrongly\n",
    "                single_loss += 1 # each training epoch has its own loss\n",
    "        final_loss += single_loss # final loss is the loss over all 10 testsets out of 10 training epochs\n",
    "\n",
    "        # the scores tell us how good the model was in this training period (one of 10) # Not needed!\n",
    "        #single_score = knn.score(test_array_features, test_array_labels) # we get 10 scores out of 10 testsets\n",
    "       # if single_score >= 0: # then \n",
    "\n",
    "\n",
    "        iteration += 1\n",
    "        #big_iteration_all_training_epochs += 1\n",
    "\n",
    "\n",
    "    # Now we have the final loss. Calculate the empirical risk:\n",
    "    empirical_risk = final_loss / 10 # divided through 10 because we have 10 losses\n",
    "    # The maximal value of the empirical risk would be 20xFalse*10xtimes/10xsmall_losses = 20\n",
    "    # The minimal empirical risk would be 0 \n",
    "    empirical_risks_list.append(empirical_risk)\n",
    "    "
   ]
  },
  {
   "cell_type": "code",
   "execution_count": 70,
   "metadata": {},
   "outputs": [
    {
     "data": {
      "image/png": "[encoded data removed]",
      "text/plain": [
       "<Figure size 432x288 with 1 Axes>"
      ]
     },
     "metadata": {
      "needs_background": "light"
     },
     "output_type": "display_data"
    }
   ],
   "source": [
    "for index, ele in enumerate(empirical_risks_list):\n",
    "    plt.scatter(k[index],ele, c='red') \n",
    "\n",
    "plt.ylabel('Empirical risk')\n",
    "plt.xlabel('number of neighbors')\n",
    "plt.show()\n"
   ]
  },
  {
   "cell_type": "markdown",
   "metadata": {},
   "source": [
    "<h3 style=\"color:rgb(210,90,80)\">Question (10 points)</h3>\n",
    "\n",
    "* Which differences do you observe?\n",
    "* Which conclusions do you draw from that?\n",
    "\n",
    "Tick the correct boxes:\n",
    "\n",
    "\\[  \\]  The two classes are still well seperable and have nearly no overlap <br>\n",
    "\\[ X \\]  The two classes are now less seperable and have a larger overlap  <br>\n",
    "\n",
    "\\[ X \\]  Random label flipping brings noise into the data <br>\n",
    "\\[  \\]  Random label flipping simply swaps data, but no significant changes <br>\n",
    "\n",
    "\\[  \\]  Very small values of $k$ correspond to too low model complexity (underfitting) <br>\n",
    "\\[ X \\]  Very small values of $k$ correspond to too high model complexity (overfitting) <br>\n",
    "\\[ X \\]  Very large values of $k$ correspond to too low model complexity (underfitting) <br>\n",
    "\\[  \\]  Very large values of $k$ correspond to too high model complexity (overfitting) <br>\n",
    "\n",
    "\\[  \\]  Overall, the error remains nearly unchanged compared to the original data set. <br>\n",
    "\\[ X \\]  Overall, the error increases compared to the original data set. <br>"
   ]
  },
  {
   "cell_type": "markdown",
   "metadata": {},
   "source": [
    "<h2 style=\"color:rgb(0,120,170)\">Task 4: $k$-NN in higher dimensions</h2>\n",
    "\n",
    "Going back to unflipped labels, add $f$ = 1,2,3,4 random features to the data matrix $X$ which are uniformly distributed between 0 an 1.\n",
    "Again, plot the error versus $k$ for 10 folds. Plot mean error versus $f$ for $k$ = 11."
   ]
  },
  {
   "cell_type": "markdown",
   "metadata": {},
   "source": [
    "<h3 style=\"color:rgb(210,90,80)\">Code (20 points):</h3>"
   ]
  },
  {
   "cell_type": "code",
   "execution_count": 88,
   "metadata": {},
   "outputs": [
    {
     "name": "stdout",
     "output_type": "stream",
     "text": [
      "Get dataframe with 1 additional column(s):\n"
     ]
    },
    {
     "data": {
      "image/png": "[encoded data removed]",
      "text/plain": [
       "<Figure size 432x288 with 1 Axes>"
      ]
     },
     "metadata": {
      "needs_background": "light"
     },
     "output_type": "display_data"
    },
    {
     "name": "stdout",
     "output_type": "stream",
     "text": [
      "Get dataframe with 2 additional column(s):\n"
     ]
    },
    {
     "data": {
      "image/png": "[encoded data removed]",
      "text/plain": [
       "<Figure size 432x288 with 1 Axes>"
      ]
     },
     "metadata": {
      "needs_background": "light"
     },
     "output_type": "display_data"
    },
    {
     "name": "stdout",
     "output_type": "stream",
     "text": [
      "Get dataframe with 3 additional column(s):\n"
     ]
    },
    {
     "data": {
      "image/png": "[encoded data removed]",
      "text/plain": [
       "<Figure size 432x288 with 1 Axes>"
      ]
     },
     "metadata": {
      "needs_background": "light"
     },
     "output_type": "display_data"
    },
    {
     "name": "stdout",
     "output_type": "stream",
     "text": [
      "Get dataframe with 4 additional column(s):\n"
     ]
    },
    {
     "data": {
      "image/png": "[encoded data removed]",
      "text/plain": [
       "<Figure size 432x288 with 1 Axes>"
      ]
     },
     "metadata": {
      "needs_background": "light"
     },
     "output_type": "display_data"
    }
   ],
   "source": [
    "# create a data frame with 1,2,3,4 additional columns\n",
    "np.random.seed(1234)\n",
    "from numpy import asarray\n",
    "# your code here:\n",
    "# You use a different number for additions columns:\n",
    "import pandas as pd\n",
    "\n",
    "for addition in [1,2,3,4]: # Add different number of new feature columns to the dataframe\n",
    "    df = pd.DataFrame(Z_for_last_task, columns=['feature_1','feature_2','unfilpped_labels'])\n",
    "    # Add the additional columns:\n",
    "    \n",
    "    \n",
    "        \n",
    "    print(f'Get dataframe with {addition} additional column(s):')\n",
    "    for i in range(addition):\n",
    "        list_added_feature = []\n",
    "       \n",
    "        for e in range(len(df.index)):\n",
    "            list_added_feature.append(random.random())\n",
    "        \n",
    "        title = f'new_feature_{i+1}'\n",
    "        df.insert(2+i, title, list_added_feature, True)\n",
    "       # df[f'new_feature_{i+1}'] = np.asarray[list_added_feature]\n",
    "    \n",
    "    Z1 = df.values\n",
    "    X, y = Z1[:,:-1], Z1[:,-1] \n",
    "   \n",
    "   # print(X)\n",
    "    # Paste in:\n",
    "    empirical_risks_list = []\n",
    "    for single_k in k: # determine the empirical risk and loss for the chosen single ks:\n",
    "        knn = KNeighborsClassifier(n_neighbors = single_k)\n",
    "\n",
    "        # empirical risk estimation: sum up all losses and devide them by the number of losses/tested points\n",
    "\n",
    "\n",
    "        # Now we can generate the training and testset for each of the ten iterations:\n",
    "        # In each iteration calculate the loss and add it to the final loss:\n",
    "        final_loss = 0\n",
    "        #big_iteration_all_training_epochs = 0\n",
    "        #while big_iteration_all_training_epochs < 10:\n",
    "        iteration = 0\n",
    "        second_indices_list = []\n",
    "\n",
    "        while iteration < 10: # we have 10 folds --> 10 iterations \n",
    "\n",
    "            for index_of_fold, single_fold_with_ind in enumerate(list_indices_fold):\n",
    "                if iteration == index_of_fold: \n",
    "                    current_testset = Subset(Z1, indices=single_fold_with_ind)\n",
    "                    test_array_features = []\n",
    "                    test_array_labels = []\n",
    "                    for i in current_testset:\n",
    "                        current_testset_features = i[:-1]\n",
    "                        current_testset_labels =i[-1]\n",
    "                        test_array_features.append(current_testset_features)\n",
    "                        test_array_labels.append(current_testset_labels)\n",
    "                else:\n",
    "                    second_indices_list.extend(single_fold_with_ind)\n",
    "\n",
    "\n",
    "            # Now we want to generate the trainset\n",
    "            current_trainset = Subset(Z1, indices=second_indices_list)\n",
    "            \n",
    "            train_array_features = []\n",
    "            train_array_labels = []\n",
    "            for i in current_trainset:\n",
    "                \n",
    "                current_trainset_features = i[:-1]\n",
    "                current_trainset_labels =i[-1]\n",
    "                \n",
    "                train_array_features.append(current_trainset_features)\n",
    "                train_array_labels.append(current_trainset_labels)\n",
    "          \n",
    "            # Before calculating the loss you have to look, which labels the testset gets by knn:\n",
    "            knn.fit(train_array_features, train_array_labels)\n",
    "            knn_predicted_labels = knn.predict(test_array_features)\n",
    "            # Compare the predicted labels with the real ones:\n",
    "            single_loss = 0\n",
    "            for index, label in enumerate(test_array_labels): \n",
    "                \n",
    "                # zero-one loss: correct classification --> assign 0 to loss; false classification --> assign 1 to loss\n",
    "                if int(test_array_labels[index]) != int(knn_predicted_labels[index]): # Predicted wrongly\n",
    "                    single_loss += 1 # each training epoch has its own loss\n",
    "\n",
    "            final_loss += single_loss \n",
    "            \n",
    "            iteration += 1\n",
    "\n",
    "\n",
    "        # Now we have the final loss. Calculate the empirical risk:\n",
    "        empirical_risk = final_loss / 10 # divided through 10 because we have 10 losses/testsets\n",
    "        empirical_risks_list.append(empirical_risk)\n",
    "    \n",
    "    # Put in:\n",
    "    # Visualization Error vs. k:\n",
    "    for index, ele in enumerate(empirical_risks_list):\n",
    "        plt.scatter(k[index],ele, c='red') \n",
    "    \n",
    "    plt.ylabel(f'Empirical risk for {addition} additional feature(s)')\n",
    "    plt.xlabel('number of neighbors')\n",
    "    plt.show()\n",
    "    \n",
    "    "
   ]
  },
  {
   "cell_type": "code",
   "execution_count": 67,
   "metadata": {},
   "outputs": [
    {
     "name": "stdout",
     "output_type": "stream",
     "text": [
      "Next task: Plot the mean error for f (k=11):\n"
     ]
    },
    {
     "data": {
      "image/png": "[encoded data removed]",
      "text/plain": [
       "<Figure size 432x288 with 1 Axes>"
      ]
     },
     "metadata": {
      "needs_background": "light"
     },
     "output_type": "display_data"
    }
   ],
   "source": [
    "print('Next task: Plot the mean error for f (k=11):')\n",
    "# Next task: Plot the mean error for f (k=11):\n",
    "\n",
    "loss_for_single_addings = []\n",
    "knn = KNeighborsClassifier(n_neighbors = 11)\n",
    "for addition in [1,2,3,4]: # Add different number of new feature columns to the dataframe\n",
    "    lossy_list = []\n",
    "    df = pd.DataFrame(Z_for_last_task, columns=['feature_1','feature_2','unfilpped_labels'])\n",
    "    # Add the additional columns:\n",
    "    for i in range(addition):\n",
    "        list_added_feature = []\n",
    "       \n",
    "        for e in range(len(df.index)):\n",
    "            list_added_feature.append(random.random())\n",
    "       \n",
    "        title = f'new_feature_{i+1}'\n",
    "        df.insert(2+i, title, list_added_feature, True)\n",
    "    \n",
    "    Z = df.values\n",
    "    X, y = Z[:,:-1], Z[:,-1] \n",
    "    \n",
    "\n",
    "    # Now we can generate the training and testset for each of the ten iterations:\n",
    "    # In each iteration calculate the loss and add it to the final loss:\n",
    "    final_loss = 0\n",
    "    #big_iteration_all_training_epochs = 0\n",
    "    #while big_iteration_all_training_epochs < 10:\n",
    "    iteration = 0\n",
    "    second_indices_list = []\n",
    "\n",
    "    while iteration < 10: # we have 10 folds --> 10 iterations \n",
    "\n",
    "        for index_of_fold, single_fold_with_ind in enumerate(list_indices_fold):\n",
    "            if iteration == index_of_fold: \n",
    "                current_testset = Subset(Z, indices=single_fold_with_ind) \n",
    "                test_array_features = []\n",
    "                test_array_labels = []\n",
    "                for i in current_testset:\n",
    "                    current_testset_features = i[:-1]\n",
    "                    current_testset_labels =i[-1]\n",
    "                    test_array_features.append(current_testset_features)\n",
    "                    test_array_labels.append(current_testset_labels)\n",
    "            else:\n",
    "                second_indices_list.extend(single_fold_with_ind, )\n",
    "        \n",
    "        # Now we want to generate the trainset\n",
    "        current_trainset = Subset(Z, indices=second_indices_list)\n",
    "\n",
    "        train_array_features = []\n",
    "        train_array_labels = []\n",
    "        for i in current_trainset:\n",
    "            current_trainset_features = i[:-1]\n",
    "            current_trainset_labels =i[-1]\n",
    "            train_array_features.append(current_trainset_features)\n",
    "            train_array_labels.append(current_trainset_labels)\n",
    "\n",
    "        # Before calculating the loss you have to look, which labels the testset gets by knn:\n",
    "\n",
    "        knn.fit(train_array_features, train_array_labels)\n",
    "        knn_predicted_labels = knn.predict(test_array_features)\n",
    "\n",
    "        # Compare the predicted labels with the real ones:\n",
    "        loss_for_one_iter = 0\n",
    "        for index, label in enumerate(test_array_labels): \n",
    "            if int(test_array_labels[index]) != int(knn_predicted_labels[index]): # Predicted wrongly\n",
    "                first = int(knn_predicted_labels[index]) - int(test_array_labels[index]) \n",
    "                if first < 0:\n",
    "                    first = first * (-1)\n",
    "                loss_for_one_iter += first \n",
    "        loss_for_one_iter = (loss_for_one_iter)/len(test_array_labels)\n",
    "        lossy_list.append(loss_for_one_iter)\n",
    "        iteration += 1\n",
    "    adder = 0\n",
    "    for i in lossy_list: # i is loss for one iter\n",
    "        adder += i\n",
    "    adder = adder/10 # loss for single added features over all 10 testsets\n",
    "    loss_for_single_addings.append(adder)\n",
    "    \n",
    "    \n",
    "    \n",
    "    \n",
    "list_features = [1,2,3,4]\n",
    "for i,e in enumerate(loss_for_single_addings):\n",
    "    plt.scatter(list_features[i], e, c='brown') \n",
    "plt.title('Mean error over different number of additional features (k=11)')\n",
    "plt.xlabel(f'Number of additional features')\n",
    "plt.ylabel('Mean Error over ten different testsets')\n",
    "plt.show()\n"
   ]
  },
  {
   "cell_type": "markdown",
   "metadata": {},
   "source": [
    "<h3 style=\"color:rgb(210,90,80)\">Question (5 points)</h3>\n",
    "\n",
    "* Try to explain possible changes of the error.\n",
    "\n",
    "Tick the correct boxex:\n",
    "\n",
    "\\[  \\]  $k$-nearest neighbors is robust aginst randomly added further features; noise is filtered out <br>\n",
    "\\[ X \\]  $k$-nearest neighbors is not robust aginst randomly added further features; noise is not filtered out\n",
    "\n",
    "\\[  \\]  The more noise (extra dimensions), the lower the optimal $k$ <br>\n",
    "\\[ X \\]  The more noise (extra dimensions), the higher the optimal $k$ <br>"
   ]
  },
  {
   "cell_type": "code",
   "execution_count": null,
   "metadata": {},
   "outputs": [],
   "source": []
  }
 ],
 "metadata": {
  "kernelspec": {
   "display_name": "Python 3",
   "language": "python",
   "name": "python3"
  },
  "language_info": {
   "codemirror_mode": {
    "name": "ipython",
    "version": 3
   },
   "file_extension": ".py",
   "mimetype": "text/x-python",
   "name": "python",
   "nbconvert_exporter": "python",
   "pygments_lexer": "ipython3",
   "version": "3.7.3"
  }
 },
 "nbformat": 4,
 "nbformat_minor": 4
}
