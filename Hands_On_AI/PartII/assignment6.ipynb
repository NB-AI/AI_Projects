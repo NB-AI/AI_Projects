{
 "cells": [
  {
   "cell_type": "markdown",
   "metadata": {},
   "source": [
    "<h1 style=\"color:rgb(0,120,170)\">Hands-on AI II</h1>\n",
    "<h2 style=\"color:rgb(0,120,170)\">Unit 6 -- Introduction to Natural Language Processing I </h2>"
   ]
  },
  {
   "cell_type": "markdown",
   "metadata": {},
   "source": [
    "# Exercise 0\n",
    "\n",
    "- Import the same modules as discussed in the lecture notebook.\n",
    "- Check if your model versions are correct.\n",
    "- Install the resources of <code>spacy</code> package for English language."
   ]
  },
  {
   "cell_type": "code",
   "execution_count": 14,
   "metadata": {},
   "outputs": [],
   "source": [
    "# your imports go here\n",
    "import u6_utils as u6\n",
    "\n",
    "import numpy as np\n",
    "import torch\n",
    "import torch.utils.data\n",
    "import torch.nn as nn\n",
    "import matplotlib.pyplot as plt\n",
    "import sys\n",
    "\n",
    "import pandas as pd\n",
    "import numpy as np\n",
    "import itertools\n",
    "import spacy\n",
    "import gensim\n",
    "import sklearn\n",
    "\n",
    "from gensim.corpora.dictionary import Dictionary\n",
    "from gensim.models import TfidfModel\n",
    "from gensim.models import KeyedVectors\n",
    "from gensim.test.utils import datapath\n",
    "\n",
    "from sklearn.svm import SVC\n",
    "from sklearn.naive_bayes import GaussianNB\n",
    "from sklearn.dummy import DummyClassifier\n",
    "from sklearn.tree import DecisionTreeClassifier\n",
    "from sklearn.linear_model import LogisticRegression\n",
    "from sklearn.ensemble import VotingClassifier, RandomForestClassifier\n",
    "from sklearn.neighbors import KNeighborsClassifier\n",
    "from sklearn.manifold import TSNE\n"
   ]
  },
  {
   "cell_type": "code",
   "execution_count": 15,
   "metadata": {},
   "outputs": [
    {
     "name": "stdout",
     "output_type": "stream",
     "text": [
      "Installed Python version: 3.7 (✓)\n",
      "Installed numpy version: 1.18.1 (✓)\n",
      "Installed matplotlib version: 3.1.3 (✓)\n",
      "Installed PyTorch version: 1.5.0 (✓)\n",
      "Installed Pandas version: 1.0.3 (✓)\n",
      "Installed sklearn version: 0.22.1 (✓)\n",
      "Installed spacy version: 2.2.1 (✓)\n",
      "Installed gensim version: 3.8.0 (✓)\n"
     ]
    }
   ],
   "source": [
    "# model version checks\n",
    "u6.check_module_versions()\n"
   ]
  },
  {
   "cell_type": "code",
   "execution_count": 10,
   "metadata": {},
   "outputs": [
    {
     "name": "stdout",
     "output_type": "stream",
     "text": [
      "Requirement already satisfied: en_core_web_sm==2.2.0 from https://github.com/explosion/spacy-models/releases/download/en_core_web_sm-2.2.0/en_core_web_sm-2.2.0.tar.gz#egg=en_core_web_sm==2.2.0 in /home/nina/anaconda3/lib/python3.7/site-packages (2.2.0)\n",
      "Requirement already satisfied: spacy>=2.2.0 in /home/nina/anaconda3/lib/python3.7/site-packages (from en_core_web_sm==2.2.0) (2.2.1)\n",
      "Requirement already satisfied: thinc<7.2.0,>=7.1.1 in /home/nina/anaconda3/lib/python3.7/site-packages (from spacy>=2.2.0->en_core_web_sm==2.2.0) (7.1.1)\n",
      "Requirement already satisfied: requests<3.0.0,>=2.13.0 in /home/nina/anaconda3/lib/python3.7/site-packages (from spacy>=2.2.0->en_core_web_sm==2.2.0) (2.21.0)\n",
      "Requirement already satisfied: blis<0.5.0,>=0.4.0 in /home/nina/anaconda3/lib/python3.7/site-packages (from spacy>=2.2.0->en_core_web_sm==2.2.0) (0.4.1)\n",
      "Requirement already satisfied: srsly<1.1.0,>=0.1.0 in /home/nina/anaconda3/lib/python3.7/site-packages (from spacy>=2.2.0->en_core_web_sm==2.2.0) (1.0.2)\n",
      "Requirement already satisfied: preshed<3.1.0,>=3.0.2 in /home/nina/anaconda3/lib/python3.7/site-packages (from spacy>=2.2.0->en_core_web_sm==2.2.0) (3.0.2)\n",
      "Requirement already satisfied: plac<1.0.0,>=0.9.6 in /home/nina/anaconda3/lib/python3.7/site-packages (from spacy>=2.2.0->en_core_web_sm==2.2.0) (0.9.6)\n",
      "Requirement already satisfied: numpy>=1.15.0 in /home/nina/anaconda3/lib/python3.7/site-packages (from spacy>=2.2.0->en_core_web_sm==2.2.0) (1.16.2)\n",
      "Requirement already satisfied: murmurhash<1.1.0,>=0.28.0 in /home/nina/anaconda3/lib/python3.7/site-packages (from spacy>=2.2.0->en_core_web_sm==2.2.0) (1.0.0)\n",
      "Requirement already satisfied: wasabi<1.1.0,>=0.2.0 in /home/nina/anaconda3/lib/python3.7/site-packages (from spacy>=2.2.0->en_core_web_sm==2.2.0) (0.6.0)\n",
      "Requirement already satisfied: cymem<2.1.0,>=2.0.2 in /home/nina/anaconda3/lib/python3.7/site-packages (from spacy>=2.2.0->en_core_web_sm==2.2.0) (2.0.3)\n",
      "Requirement already satisfied: tqdm<5.0.0,>=4.10.0 in /home/nina/anaconda3/lib/python3.7/site-packages (from thinc<7.2.0,>=7.1.1->spacy>=2.2.0->en_core_web_sm==2.2.0) (4.31.1)\n",
      "Requirement already satisfied: idna<2.9,>=2.5 in /home/nina/anaconda3/lib/python3.7/site-packages (from requests<3.0.0,>=2.13.0->spacy>=2.2.0->en_core_web_sm==2.2.0) (2.8)\n",
      "Requirement already satisfied: certifi>=2017.4.17 in /home/nina/anaconda3/lib/python3.7/site-packages (from requests<3.0.0,>=2.13.0->spacy>=2.2.0->en_core_web_sm==2.2.0) (2020.4.5.1)\n",
      "Requirement already satisfied: chardet<3.1.0,>=3.0.2 in /home/nina/anaconda3/lib/python3.7/site-packages (from requests<3.0.0,>=2.13.0->spacy>=2.2.0->en_core_web_sm==2.2.0) (3.0.4)\n",
      "Requirement already satisfied: urllib3<1.25,>=1.21.1 in /home/nina/anaconda3/lib/python3.7/site-packages (from requests<3.0.0,>=2.13.0->spacy>=2.2.0->en_core_web_sm==2.2.0) (1.24.1)\n",
      "\u001b[38;5;2m✔ Download and installation successful\u001b[0m\n",
      "You can now load the model via spacy.load('en_core_web_sm')\n",
      "\u001b[38;5;2m✔ Linking successful\u001b[0m\n",
      "/home/nina/anaconda3/lib/python3.7/site-packages/en_core_web_sm -->\n",
      "/home/nina/anaconda3/lib/python3.7/site-packages/spacy/data/en\n",
      "You can now load the model via spacy.load('en')\n"
     ]
    }
   ],
   "source": [
    "# installation of spacy package for English language\n",
    "!python -m spacy download en\n"
   ]
  },
  {
   "cell_type": "markdown",
   "metadata": {},
   "source": [
    "<h3 style=\"color:rgb(0,120,170)\">Parameters</h3>"
   ]
  },
  {
   "cell_type": "code",
   "execution_count": 16,
   "metadata": {},
   "outputs": [],
   "source": [
    "DATA_PATH = 'resources/thedeep.data.txt'\n",
    "LABELS_PATH = 'resources/thedeep.labels.txt'\n",
    "\n",
    "TEST_SPLIT = 0.1\n",
    "MAX_NB_WORDS=20000\n"
   ]
  },
  {
   "cell_type": "markdown",
   "metadata": {},
   "source": [
    "<h3 style=\"color:rgb(0,120,170)\">Loading Data</h3>\n",
    "Loading they CSV formatted data"
   ]
  },
  {
   "cell_type": "code",
   "execution_count": 17,
   "metadata": {
    "scrolled": true
   },
   "outputs": [
    {
     "data": {
      "text/html": [
       "<div>\n",
       "<style scoped>\n",
       "    .dataframe tbody tr th:only-of-type {\n",
       "        vertical-align: middle;\n",
       "    }\n",
       "\n",
       "    .dataframe tbody tr th {\n",
       "        vertical-align: top;\n",
       "    }\n",
       "\n",
       "    .dataframe thead th {\n",
       "        text-align: right;\n",
       "    }\n",
       "</style>\n",
       "<table border=\"1\" class=\"dataframe\">\n",
       "  <thead>\n",
       "    <tr style=\"text-align: right;\">\n",
       "      <th></th>\n",
       "      <th>text</th>\n",
       "      <th>label</th>\n",
       "    </tr>\n",
       "    <tr>\n",
       "      <th>sentence_id</th>\n",
       "      <th></th>\n",
       "      <th></th>\n",
       "    </tr>\n",
       "  </thead>\n",
       "  <tbody>\n",
       "    <tr>\n",
       "      <th>0</th>\n",
       "      <td>However, some northern areas experienced a lat...</td>\n",
       "      <td>3</td>\n",
       "    </tr>\n",
       "    <tr>\n",
       "      <th>1</th>\n",
       "      <td>In Haiti, since the beginning of the outbreak ...</td>\n",
       "      <td>4</td>\n",
       "    </tr>\n",
       "    <tr>\n",
       "      <th>2</th>\n",
       "      <td>“More than a million children are out of prima...</td>\n",
       "      <td>2</td>\n",
       "    </tr>\n",
       "    <tr>\n",
       "      <th>3</th>\n",
       "      <td>[as of march]Food access remains extremely pro...</td>\n",
       "      <td>3</td>\n",
       "    </tr>\n",
       "    <tr>\n",
       "      <th>4</th>\n",
       "      <td>Swift, well-coordinated actions by different c...</td>\n",
       "      <td>10</td>\n",
       "    </tr>\n",
       "  </tbody>\n",
       "</table>\n",
       "</div>"
      ],
      "text/plain": [
       "                                                          text  label\n",
       "sentence_id                                                          \n",
       "0            However, some northern areas experienced a lat...      3\n",
       "1            In Haiti, since the beginning of the outbreak ...      4\n",
       "2            “More than a million children are out of prima...      2\n",
       "3            [as of march]Food access remains extremely pro...      3\n",
       "4            Swift, well-coordinated actions by different c...     10"
      ]
     },
     "execution_count": 17,
     "metadata": {},
     "output_type": "execute_result"
    }
   ],
   "source": [
    "df = pd.read_csv(DATA_PATH, sep=\",\", index_col=\"sentence_id\")\n",
    "df.head()\n"
   ]
  },
  {
   "cell_type": "markdown",
   "metadata": {},
   "source": [
    "# Exercise 1\n",
    "\n",
    "- Get the label captions from the file 'resources/thedeep.labels.txt'.\n",
    "- Reverse the label captions, i.e. that 'Agriculture' has the label 11 instead of the label 0.\n",
    "- Print the reversed label captions dictionary and work with the dictionary from now on."
   ]
  },
  {
   "cell_type": "code",
   "execution_count": 18,
   "metadata": {},
   "outputs": [],
   "source": [
    "# get the label captions\n",
    "labelcaptions = {}\n",
    "value_list = []\n",
    "with open(LABELS_PATH) as fr:\n",
    "\n",
    "    for label in fr:\n",
    "        vals = label.strip().split(',')\n",
    "        value_list.append(int(vals[0]))\n",
    "        \n",
    "i = len(value_list) -1  \n",
    "with open(LABELS_PATH) as fr: \n",
    "    for label in fr:\n",
    "        vals = label.strip().split(',')\n",
    "        labelcaptions[vals[1]] = value_list[i]\n",
    "        i -= 1\n"
   ]
  },
  {
   "cell_type": "code",
   "execution_count": 19,
   "metadata": {},
   "outputs": [
    {
     "data": {
      "text/plain": [
       "{'Agriculture': 11,\n",
       " 'Cross': 10,\n",
       " 'Education': 9,\n",
       " 'Food': 8,\n",
       " 'Health': 7,\n",
       " 'Livelihood': 6,\n",
       " 'Logistic': 5,\n",
       " 'NFI': 4,\n",
       " 'Nutrition': 3,\n",
       " 'Protection': 2,\n",
       " 'Shelter': 1,\n",
       " 'WASH': 0}"
      ]
     },
     "execution_count": 19,
     "metadata": {},
     "output_type": "execute_result"
    }
   ],
   "source": [
    "# reverse the label captions and print them\n",
    "labelcaptions\n"
   ]
  },
  {
   "cell_type": "markdown",
   "metadata": {},
   "source": [
    "<h3 style=\"color:rgb(0,120,170)\">Pre-processing</h3>\n",
    "Applying lemmatization, remove punctuations and finally tokenizes the text ... it takes some time!"
   ]
  },
  {
   "cell_type": "code",
   "execution_count": 20,
   "metadata": {},
   "outputs": [
    {
     "data": {
      "text/html": [
       "<div>\n",
       "<style scoped>\n",
       "    .dataframe tbody tr th:only-of-type {\n",
       "        vertical-align: middle;\n",
       "    }\n",
       "\n",
       "    .dataframe tbody tr th {\n",
       "        vertical-align: top;\n",
       "    }\n",
       "\n",
       "    .dataframe thead th {\n",
       "        text-align: right;\n",
       "    }\n",
       "</style>\n",
       "<table border=\"1\" class=\"dataframe\">\n",
       "  <thead>\n",
       "    <tr style=\"text-align: right;\">\n",
       "      <th></th>\n",
       "      <th>text</th>\n",
       "      <th>label</th>\n",
       "      <th>text_preprocessed</th>\n",
       "    </tr>\n",
       "    <tr>\n",
       "      <th>sentence_id</th>\n",
       "      <th></th>\n",
       "      <th></th>\n",
       "      <th></th>\n",
       "    </tr>\n",
       "  </thead>\n",
       "  <tbody>\n",
       "    <tr>\n",
       "      <th>0</th>\n",
       "      <td>However, some northern areas experienced a lat...</td>\n",
       "      <td>8</td>\n",
       "      <td>[However, some, northern, areas, experienced, ...</td>\n",
       "    </tr>\n",
       "    <tr>\n",
       "      <th>1</th>\n",
       "      <td>In Haiti, since the beginning of the outbreak ...</td>\n",
       "      <td>7</td>\n",
       "      <td>[In, Haiti, since, the, beginning, of, the, ou...</td>\n",
       "    </tr>\n",
       "    <tr>\n",
       "      <th>2</th>\n",
       "      <td>“More than a million children are out of prima...</td>\n",
       "      <td>9</td>\n",
       "      <td>[More, than, a, million, children, are, out, o...</td>\n",
       "    </tr>\n",
       "    <tr>\n",
       "      <th>3</th>\n",
       "      <td>[as of march]Food access remains extremely pro...</td>\n",
       "      <td>8</td>\n",
       "      <td>[as, of, march]Food, access, remains, extremel...</td>\n",
       "    </tr>\n",
       "    <tr>\n",
       "      <th>4</th>\n",
       "      <td>Swift, well-coordinated actions by different c...</td>\n",
       "      <td>1</td>\n",
       "      <td>[Swift, well, coordinated, actions, by, differ...</td>\n",
       "    </tr>\n",
       "  </tbody>\n",
       "</table>\n",
       "</div>"
      ],
      "text/plain": [
       "                                                          text  label  \\\n",
       "sentence_id                                                             \n",
       "0            However, some northern areas experienced a lat...      8   \n",
       "1            In Haiti, since the beginning of the outbreak ...      7   \n",
       "2            “More than a million children are out of prima...      9   \n",
       "3            [as of march]Food access remains extremely pro...      8   \n",
       "4            Swift, well-coordinated actions by different c...      1   \n",
       "\n",
       "                                             text_preprocessed  \n",
       "sentence_id                                                     \n",
       "0            [However, some, northern, areas, experienced, ...  \n",
       "1            [In, Haiti, since, the, beginning, of, the, ou...  \n",
       "2            [More, than, a, million, children, are, out, o...  \n",
       "3            [as, of, march]Food, access, remains, extremel...  \n",
       "4            [Swift, well, coordinated, actions, by, differ...  "
      ]
     },
     "execution_count": 20,
     "metadata": {},
     "output_type": "execute_result"
    }
   ],
   "source": [
    "nlp = spacy.load('en')\n",
    "\n",
    "df['text_preprocessed'] = df.text.apply(lambda x: [token for token in nlp(x) if not token.is_punct])\n",
    "df['label'].replace({0: 11, 1: 10, 2: 9, 3: 8, 4: 7, 5: 6, 6: 5 ,7: 4, 8: 3, 9:2, 10: 1, 11: 0}, inplace=True)\n",
    "\n",
    "df.head()\n",
    "\n",
    "# Because we shall work it the new labels I replaced the old by the new ones.\n"
   ]
  },
  {
   "cell_type": "markdown",
   "metadata": {},
   "source": [
    "<h3 style=\"color:rgb(0,120,170)\">Loading documents and labels in arrays.</h3> \n",
    "It will then be more convenient for data splitting and learning models."
   ]
  },
  {
   "cell_type": "code",
   "execution_count": 21,
   "metadata": {},
   "outputs": [
    {
     "name": "stdout",
     "output_type": "stream",
     "text": [
      "12000 data items\n"
     ]
    }
   ],
   "source": [
    "documents = []\n",
    "for row in df.text_preprocessed:\n",
    "    documents.append([token.lemma_ for token in row])\n",
    "labels = np.array(list(df['label'].values))\n",
    "print ('%d data items' % len(documents))\n",
    "\n",
    "df=None\n"
   ]
  },
  {
   "cell_type": "markdown",
   "metadata": {},
   "source": [
    "<h3 style=\"color:rgb(0,120,170)\">Splitting Data to Train/Validation/Test</h3>"
   ]
  },
  {
   "cell_type": "code",
   "execution_count": 22,
   "metadata": {},
   "outputs": [
    {
     "name": "stdout",
     "output_type": "stream",
     "text": [
      "Train/Validation/Test sizes : 9600 / 1200 / 1200\n"
     ]
    }
   ],
   "source": [
    "docs_train, docs_valtest, labels_train, labels_valtest = sklearn.model_selection.train_test_split(documents, labels, test_size=TEST_SPLIT*2, random_state=42)\n",
    "docs_val, docs_test, labels_val, labels_test = sklearn.model_selection.train_test_split(docs_valtest, labels_valtest, test_size=0.5, random_state=43)\n",
    "\n",
    "print (\"Train/Validation/Test sizes : %d / %d / %d\" % (len(docs_train), len(docs_val), len(docs_test)))\n",
    "\n",
    "documents=None\n",
    "labels=None\n"
   ]
  },
  {
   "cell_type": "markdown",
   "metadata": {},
   "source": [
    "# Exercise 2\n",
    "\n",
    "Looking at the distribution of word frequencies in the training dataset.\n",
    "\n",
    "- Plot 'Words ID' vs 'Words Count' to verify Zipf's law.\n",
    "- Plot 'Words ID' vs 'Words Count' in Log-Log scale.\n",
    "- Plot 'Words ID' vs 'Words Count' with only the X-axis in Log scale.\n",
    "- Plot 'Words ID' vs 'Words Count' with only th Y-axis in Log scale.\n",
    "- Count the number of different words.\n",
    "- What are the 10 most frequent words, how often do they occur?\n",
    "- What is the number of words with exactly one occurence?"
   ]
  },
  {
   "cell_type": "code",
   "execution_count": 23,
   "metadata": {},
   "outputs": [
    {
     "data": {
      "image/png": "[encoded data removed]",
      "text/plain": [
       "<Figure size 576x432 with 1 Axes>"
      ]
     },
     "metadata": {
      "needs_background": "light"
     },
     "output_type": "display_data"
    },
    {
     "data": {
      "image/png": "[encoded data removed]",
      "text/plain": [
       "<Figure size 576x432 with 1 Axes>"
      ]
     },
     "metadata": {
      "needs_background": "light"
     },
     "output_type": "display_data"
    },
    {
     "data": {
      "image/png": "[encoded data removed]",
      "text/plain": [
       "<Figure size 576x432 with 1 Axes>"
      ]
     },
     "metadata": {
      "needs_background": "light"
     },
     "output_type": "display_data"
    },
    {
     "data": {
      "image/png": "[encoded data removed]",
      "text/plain": [
       "<Figure size 576x432 with 1 Axes>"
      ]
     },
     "metadata": {
      "needs_background": "light"
     },
     "output_type": "display_data"
    }
   ],
   "source": [
    "tokens_count = {}\n",
    "for doc in docs_train:\n",
    "    for token in doc:\n",
    "        if (token in tokens_count):\n",
    "            tokens_count[token] += 1\n",
    "        else:\n",
    "            tokens_count[token] = 1\n",
    "\n",
    "tokens_count = {k: v for k, v in sorted(tokens_count.items(), key=lambda item: item[1], reverse=True)}\n",
    "\n",
    "# your code goes here\n",
    "plt.figure(figsize=(8,6))\n",
    "plt.plot(list(tokens_count.values()))\n",
    "plt.xlabel('Words ID')\n",
    "plt.ylabel('Words Count')\n",
    "plt.show()\n",
    "\n",
    "plt.figure(figsize=(8,6))\n",
    "plt.plot(list(tokens_count.values()))\n",
    "plt.xscale('log')\n",
    "plt.yscale('log')\n",
    "plt.xlabel('Words ID - Log Scale')\n",
    "plt.ylabel('Words Count - Log Scale')\n",
    "plt.show()\n",
    "\n",
    "plt.figure(figsize=(8,6))\n",
    "plt.plot(list(tokens_count.values()))\n",
    "plt.xscale('log')\n",
    "plt.xlabel('Words ID - Log Scale')\n",
    "plt.ylabel('Words Count')\n",
    "plt.show()\n",
    "\n",
    "plt.figure(figsize=(8,6))\n",
    "plt.plot(list(tokens_count.values()))\n",
    "plt.yscale('log')\n",
    "plt.xlabel('Words ID')\n",
    "plt.ylabel('Words Count - Log Scale')\n",
    "plt.show()\n"
   ]
  },
  {
   "cell_type": "code",
   "execution_count": 24,
   "metadata": {},
   "outputs": [
    {
     "name": "stdout",
     "output_type": "stream",
     "text": [
      "Different Words with (spacy) Stopwords: 25774\n",
      "Top 10 Words with (spacy) Stopwords: ['the', 'of', 'and', 'in', 'be', 'to', 'have', '-PRON-', 'a', 'for']\n",
      "Top 10 occurrences with (spacy) Stopwords: [39174, 27927, 25444, 24258, 24207, 19578, 9598, 8543, 8111, 5326]\n"
     ]
    }
   ],
   "source": [
    "print(\"Different Words with (spacy) Stopwords:\", len(tokens_count))\n",
    "print(\"Top 10 Words with (spacy) Stopwords:\", list(tokens_count.keys())[0:10])\n",
    "print(\"Top 10 occurrences with (spacy) Stopwords:\", list(tokens_count.values())[0:10])\n"
   ]
  },
  {
   "cell_type": "code",
   "execution_count": 25,
   "metadata": {},
   "outputs": [
    {
     "name": "stdout",
     "output_type": "stream",
     "text": [
      "Number of words that occur exactly one time: 11812\n"
     ]
    }
   ],
   "source": [
    "list_one_value = []\n",
    "for i in tokens_count.values():\n",
    "    if i == 1:\n",
    "        list_one_value.append(i)\n",
    "\n",
    "print('Number of words that occur exactly one time:', len(list_one_value))\n"
   ]
  },
  {
   "cell_type": "markdown",
   "metadata": {},
   "source": [
    "<h3 style=\"color:rgb(0,120,170)\">Creating a dictionary</h3>\n",
    "We create a dictionary by removing extremely frequent words and keeping the top <i>MAX_NB_WORDS=20000</i> words"
   ]
  },
  {
   "cell_type": "code",
   "execution_count": 26,
   "metadata": {},
   "outputs": [
    {
     "name": "stdout",
     "output_type": "stream",
     "text": [
      "Total 20000 unique tokens.\n"
     ]
    }
   ],
   "source": [
    "dic = Dictionary(docs_train)\n",
    "dic.filter_extremes(no_below=1, no_above=0.5, keep_n=MAX_NB_WORDS)\n",
    "dic.compactify()\n",
    "print(\"Total %s unique tokens.\" % len(dic))\n"
   ]
  },
  {
   "cell_type": "markdown",
   "metadata": {},
   "source": [
    "<h3 style=\"color:rgb(0,120,170)\">Feature vectors of documents</h3>\n",
    "Using the created dictionary, we first convert text documents to wordIDs and term counts."
   ]
  },
  {
   "cell_type": "code",
   "execution_count": 27,
   "metadata": {},
   "outputs": [],
   "source": [
    "docs_train_bow = [dic.doc2bow(_doc) for _doc in docs_train] \n",
    "docs_val_bow = [dic.doc2bow(_doc) for _doc in docs_val] \n",
    "docs_test_bow = [dic.doc2bow(_doc) for _doc in docs_test] \n"
   ]
  },
  {
   "cell_type": "markdown",
   "metadata": {},
   "source": [
    "# Exercise 3\n",
    "\n",
    "- Take a look at the bag-of-word dictionary of the training ('docs_train_bow'). How many words does the longest dictionary entry have? How many word does the shortest dictionary entry have?"
   ]
  },
  {
   "cell_type": "code",
   "execution_count": 28,
   "metadata": {},
   "outputs": [
    {
     "name": "stdout",
     "output_type": "stream",
     "text": [
      "The shortest dictionary entry has 4 DIFFERENT words.\n",
      "The longest dictionary entry has 641 DIFFERENT words.\n"
     ]
    }
   ],
   "source": [
    "# Get longest and shortest dictionary entry:\n",
    "for index, element in enumerate(docs_train_bow): # loop over the documents # index shows us the number of documents\n",
    "    # element shows us ALL words with their tuples in one document\n",
    "\n",
    "    if index == 0:\n",
    "        maxi = len(element)\n",
    "        max_dict = element\n",
    "        max_index = index\n",
    "        \n",
    "    elif len(element) > maxi: \n",
    "        maxi = len(element)\n",
    "        max_dict = element\n",
    "        max_index = index\n",
    "        \n",
    "    if index == 0:\n",
    "        mini = len(element)\n",
    "        min_dict = element\n",
    "        min_index = 0\n",
    "        \n",
    "    elif len(element) < mini:\n",
    "        mini = len(element)\n",
    "        min_dict = element\n",
    "        min_index = index\n",
    "        \n",
    "print(f'The shortest dictionary entry has {mini} DIFFERENT words.')\n",
    "print(f'The longest dictionary entry has {maxi} DIFFERENT words.')\n"
   ]
  },
  {
   "cell_type": "code",
   "execution_count": 29,
   "metadata": {},
   "outputs": [
    {
     "name": "stdout",
     "output_type": "stream",
     "text": [
      "The longest dictionary entry has 1857 words.\n",
      "The shortest dictionary entry has 5 words.\n"
     ]
    }
   ],
   "source": [
    "# Now get the number of words in the longest and shortest dictionary:\n",
    "count_max = 0\n",
    "for word in max_dict:\n",
    "    count_max += word[1]\n",
    "print(f'The longest dictionary entry has {count_max} words.')\n",
    "\n",
    "count_min = 0\n",
    "for word in min_dict:\n",
    "    count_min += word[1]\n",
    "print(f'The shortest dictionary entry has {count_min} words.')\n"
   ]
  },
  {
   "cell_type": "markdown",
   "metadata": {},
   "source": [
    "<h3 style=\"color:rgb(0,120,170)\">Creating TF-IDF vectors</h3>\n",
    "To create the TF_IDF vectors, we train the TfidfModel model using the bag-of-word representations of training data"
   ]
  },
  {
   "cell_type": "code",
   "execution_count": 30,
   "metadata": {},
   "outputs": [],
   "source": [
    "weight_model = TfidfModel(docs_train_bow)\n",
    "\n",
    "docs_train_tfidf=[]\n",
    "docs_val_tfidf=[]\n",
    "docs_test_tfidf=[]\n",
    "\n",
    "for _bow in docs_train_bow:\n",
    "    docs_train_tfidf.append(weight_model[_bow])\n",
    "for _bow in docs_val_bow:\n",
    "    docs_val_tfidf.append(weight_model[_bow])\n",
    "for _bow in docs_test_bow:\n",
    "    docs_test_tfidf.append(weight_model[_bow])\n",
    "    "
   ]
  },
  {
   "cell_type": "markdown",
   "metadata": {},
   "source": [
    "<h3 style=\"color:rgb(0,120,170)\">Dimensionality Reduction</h3>\n",
    "Before training the models, we want to reduce the dimensionality of the TFIDF vector using the LSA method. <br>\n",
    "We sparsify the TFIDF vectors, train an SVD model for dimensionality reduction, and reduce the dimension of the vectors."
   ]
  },
  {
   "cell_type": "code",
   "execution_count": 31,
   "metadata": {},
   "outputs": [],
   "source": [
    "docs_train_tfidf_sparse = np.zeros((len(docs_train_tfidf), MAX_NB_WORDS))\n",
    "for doc_i, doc in enumerate(docs_train_tfidf):\n",
    "    for item in doc:\n",
    "        docs_train_tfidf_sparse[doc_i][item[0]] = item[1]\n",
    "        "
   ]
  },
  {
   "cell_type": "code",
   "execution_count": 32,
   "metadata": {},
   "outputs": [],
   "source": [
    "docs_val_tfidf_sparse = np.zeros((len(docs_val_tfidf), MAX_NB_WORDS))\n",
    "for doc_i, doc in enumerate(docs_val_tfidf):\n",
    "    for item in doc:\n",
    "        docs_val_tfidf_sparse[doc_i][item[0]] = item[1]\n",
    "        "
   ]
  },
  {
   "cell_type": "code",
   "execution_count": 33,
   "metadata": {},
   "outputs": [],
   "source": [
    "docs_test_tfidf_sparse = np.zeros((len(docs_test_tfidf), MAX_NB_WORDS))\n",
    "for doc_i, doc in enumerate(docs_test_tfidf):\n",
    "    for item in doc:\n",
    "        docs_test_tfidf_sparse[doc_i][item[0]] = item[1]\n",
    "        "
   ]
  },
  {
   "cell_type": "code",
   "execution_count": 34,
   "metadata": {},
   "outputs": [
    {
     "data": {
      "text/plain": [
       "TruncatedSVD(algorithm='randomized', n_components=300, n_iter=5,\n",
       "             random_state=None, tol=0.0)"
      ]
     },
     "execution_count": 34,
     "metadata": {},
     "output_type": "execute_result"
    }
   ],
   "source": [
    "svd = sklearn.decomposition.TruncatedSVD(n_components=300)\n",
    "svd.fit(docs_train_tfidf_sparse)\n"
   ]
  },
  {
   "cell_type": "markdown",
   "metadata": {},
   "source": [
    "At the block of svd my computer doen't work anymore or the kernel dies. I needed hours until it ran by accident."
   ]
  },
  {
   "cell_type": "code",
   "execution_count": 35,
   "metadata": {},
   "outputs": [],
   "source": [
    "vecs_train = svd.transform(docs_train_tfidf_sparse)\n"
   ]
  },
  {
   "cell_type": "code",
   "execution_count": 36,
   "metadata": {},
   "outputs": [],
   "source": [
    "vecs_val = svd.transform(docs_val_tfidf_sparse)\n"
   ]
  },
  {
   "cell_type": "code",
   "execution_count": 37,
   "metadata": {},
   "outputs": [],
   "source": [
    "vecs_test = svd.transform(docs_test_tfidf_sparse)\n"
   ]
  },
  {
   "cell_type": "markdown",
   "metadata": {},
   "source": [
    "# Exercise 4\n",
    "\n",
    "- Train different models to predict the labels of the test dataset: NaiveBayes, $k$-nearest neighbors (with $k$=10), and RandomForest (with n_estimators=100).\n",
    "- Which classifier performs best?\n",
    "- Plot the accuracy for each of the classifier\n",
    "- Plot the per-class evaluation of the best classifier"
   ]
  },
  {
   "cell_type": "code",
   "execution_count": 38,
   "metadata": {},
   "outputs": [],
   "source": [
    "def train(x, y, modelname):\n",
    " \n",
    "    # your code goes here \n",
    "    if modelname=='NaiveBayes':\n",
    "        clf = GaussianNB()\n",
    "        \n",
    "    elif modelname=='kNN':\n",
    "        clf = KNeighborsClassifier(n_neighbors=10)\n",
    "        \n",
    "    elif modelname=='RandomForest':\n",
    "        clf = RandomForestClassifier(n_estimators=100, random_state=1)\n",
    "    \n",
    "    else:\n",
    "        print ('No definition for the model name %s!' % modelname)\n",
    "        \n",
    "    clf.fit(x, y) \n",
    "    \n",
    "    return clf\n"
   ]
  },
  {
   "cell_type": "code",
   "execution_count": 39,
   "metadata": {},
   "outputs": [
    {
     "name": "stdout",
     "output_type": "stream",
     "text": [
      "NaiveBayes\n",
      "GaussianNB(priors=None, var_smoothing=1e-09)\n",
      "[4 2 7 ... 8 9 2]\n",
      "kNN\n",
      "KNeighborsClassifier(algorithm='auto', leaf_size=30, metric='minkowski',\n",
      "                     metric_params=None, n_jobs=None, n_neighbors=10, p=2,\n",
      "                     weights='uniform')\n",
      "[4 7 7 ... 8 9 2]\n",
      "RandomForest\n",
      "RandomForestClassifier(bootstrap=True, ccp_alpha=0.0, class_weight=None,\n",
      "                       criterion='gini', max_depth=None, max_features='auto',\n",
      "                       max_leaf_nodes=None, max_samples=None,\n",
      "                       min_impurity_decrease=0.0, min_impurity_split=None,\n",
      "                       min_samples_leaf=1, min_samples_split=2,\n",
      "                       min_weight_fraction_leaf=0.0, n_estimators=100,\n",
      "                       n_jobs=None, oob_score=False, random_state=1, verbose=0,\n",
      "                       warm_start=False)\n",
      "[1 2 7 ... 8 9 2]\n",
      "done!\n"
     ]
    }
   ],
   "source": [
    "modelnames = ['NaiveBayes', 'kNN','RandomForest']\n",
    "\n",
    "# your code goes here\n",
    "predictions = {}\n",
    "for modelname in modelnames:\n",
    "    print (modelname)\n",
    "    model = train(vecs_train, labels_train, modelname)\n",
    "    print (model)\n",
    "    \n",
    "    predictions[modelname] = model.predict(vecs_test) # do prediction on test set\n",
    "    print (predictions[modelname])\n",
    "    \n",
    "print ('done!')\n"
   ]
  },
  {
   "cell_type": "code",
   "execution_count": 40,
   "metadata": {},
   "outputs": [
    {
     "name": "stdout",
     "output_type": "stream",
     "text": [
      "\n",
      "###########################################################\n",
      "NaiveBayes\n",
      "              precision    recall  f1-score   support\n",
      "\n",
      "           0       0.57      0.31      0.40        85\n",
      "           1       0.63      0.38      0.47       124\n",
      "           2       0.38      0.67      0.49       203\n",
      "           3       0.65      0.37      0.47        82\n",
      "           4       0.16      0.29      0.21        42\n",
      "           5       0.11      0.85      0.19        20\n",
      "           6       0.38      0.13      0.19        93\n",
      "           7       0.80      0.55      0.65       223\n",
      "           8       0.62      0.41      0.50       187\n",
      "           9       0.77      0.62      0.69        60\n",
      "          10       0.17      0.14      0.15        42\n",
      "          11       0.33      0.41      0.36        39\n",
      "\n",
      "    accuracy                           0.45      1200\n",
      "   macro avg       0.46      0.43      0.40      1200\n",
      "weighted avg       0.55      0.45      0.47      1200\n",
      "\n",
      "\n",
      "###########################################################\n",
      "kNN\n",
      "              precision    recall  f1-score   support\n",
      "\n",
      "           0       0.43      0.46      0.45        85\n",
      "           1       0.61      0.49      0.54       124\n",
      "           2       0.50      0.80      0.61       203\n",
      "           3       0.76      0.39      0.52        82\n",
      "           4       0.52      0.26      0.35        42\n",
      "           5       0.18      0.10      0.13        20\n",
      "           6       0.38      0.15      0.22        93\n",
      "           7       0.77      0.62      0.69       223\n",
      "           8       0.38      0.65      0.48       187\n",
      "           9       0.79      0.55      0.65        60\n",
      "          10       0.12      0.02      0.04        42\n",
      "          11       0.33      0.21      0.25        39\n",
      "\n",
      "    accuracy                           0.52      1200\n",
      "   macro avg       0.48      0.39      0.41      1200\n",
      "weighted avg       0.54      0.52      0.50      1200\n",
      "\n",
      "\n",
      "###########################################################\n",
      "RandomForest\n",
      "              precision    recall  f1-score   support\n",
      "\n",
      "           0       0.58      0.48      0.53        85\n",
      "           1       0.57      0.54      0.55       124\n",
      "           2       0.62      0.87      0.72       203\n",
      "           3       0.77      0.41      0.54        82\n",
      "           4       0.32      0.17      0.22        42\n",
      "           5       0.45      0.25      0.32        20\n",
      "           6       0.32      0.10      0.15        93\n",
      "           7       0.67      0.81      0.74       223\n",
      "           8       0.52      0.76      0.62       187\n",
      "           9       0.80      0.65      0.72        60\n",
      "          10       0.50      0.12      0.19        42\n",
      "          11       0.53      0.21      0.30        39\n",
      "\n",
      "    accuracy                           0.60      1200\n",
      "   macro avg       0.55      0.45      0.47      1200\n",
      "weighted avg       0.58      0.60      0.56      1200\n",
      "\n"
     ]
    }
   ],
   "source": [
    "results={}\n",
    "\n",
    "# your code goes here\n",
    "for modelname in predictions:\n",
    "    print('\\n###########################################################')\n",
    "    print (modelname)\n",
    "    results[modelname] = sklearn.metrics.classification_report(labels_test, predictions[modelname], output_dict=True)\n",
    "    print (sklearn.metrics.classification_report(labels_test, predictions[modelname]))\n",
    "    "
   ]
  },
  {
   "cell_type": "markdown",
   "metadata": {},
   "source": [
    "RandomForest was with 0.60 the best classifier."
   ]
  },
  {
   "cell_type": "code",
   "execution_count": 41,
   "metadata": {},
   "outputs": [
    {
     "data": {
      "image/png": "[encoded data removed]",
      "text/plain": [
       "<Figure size 576x432 with 1 Axes>"
      ]
     },
     "metadata": {
      "needs_background": "light"
     },
     "output_type": "display_data"
    }
   ],
   "source": [
    "EVAL_MEASURE = 'accuracy'\n",
    "\n",
    "# your code goes here\n",
    "fig = plt.figure(figsize=(8,6)) \n",
    "\n",
    "_data_plot = [results[_modelname][EVAL_MEASURE] for _modelname in modelnames]\n",
    "\n",
    "plt.bar(modelnames, _data_plot)\n",
    "    \n",
    "plt.ylabel(EVAL_MEASURE, fontsize=18)\n",
    "plt.tick_params(axis='both', which='major', labelsize=16)\n",
    "plt.tick_params(axis='both', which='minor', labelsize=12)\n",
    "plt.xticks(rotation=90)\n",
    "\n",
    "plt.show()\n"
   ]
  },
  {
   "cell_type": "code",
   "execution_count": 42,
   "metadata": {},
   "outputs": [
    {
     "data": {
      "image/png": "[encoded data removed]",
      "text/plain": [
       "<Figure size 576x432 with 1 Axes>"
      ]
     },
     "metadata": {
      "needs_background": "light"
     },
     "output_type": "display_data"
    }
   ],
   "source": [
    "EVAL_MEASURE = 'precision'\n",
    "\n",
    "MODEL_NAME = 'RandomForest'\n",
    "\n",
    "fig = plt.figure(figsize=(8,6)) \n",
    "\n",
    "_labelids=[x for x in results[MODEL_NAME].keys()][:12]\n",
    "_labeltexts=[]\n",
    "_res = []\n",
    "for _lid in _labelids:\n",
    "    for _ltext in labelcaptions:\n",
    "        if str(labelcaptions[_ltext])==_lid:\n",
    "            _labeltexts.append(_ltext)\n",
    "            \n",
    "    _res.append(results[MODEL_NAME][_lid][EVAL_MEASURE])\n",
    "\n",
    "plt.bar(_labeltexts, _res)\n",
    "    \n",
    "plt.title(\"Per Class Evaluation of %s\" % (MODEL_NAME), fontsize=15)\n",
    "plt.ylabel(\"%s\" % (EVAL_MEASURE), fontsize=15)\n",
    "plt.tick_params(axis='both', which='major', labelsize=16)\n",
    "plt.tick_params(axis='both', which='minor', labelsize=12)\n",
    "\n",
    "plt.xticks(rotation=90)\n",
    "plt.show()\n"
   ]
  },
  {
   "cell_type": "code",
   "execution_count": null,
   "metadata": {},
   "outputs": [],
   "source": []
  }
 ],
 "metadata": {
  "kernelspec": {
   "display_name": "Python 3",
   "language": "python",
   "name": "python3"
  },
  "language_info": {
   "codemirror_mode": {
    "name": "ipython",
    "version": 3
   },
   "file_extension": ".py",
   "mimetype": "text/x-python",
   "name": "python",
   "nbconvert_exporter": "python",
   "pygments_lexer": "ipython3",
   "version": "3.7.3"
  }
 },
 "nbformat": 4,
 "nbformat_minor": 4
}
