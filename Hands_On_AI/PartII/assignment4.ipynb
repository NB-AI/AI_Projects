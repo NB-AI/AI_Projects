{
 "cells": [
  {
   "cell_type": "markdown",
   "metadata": {},
   "source": [
    "<h1 style=\"color:rgb(0,120,170)\">Hands-on AI II</h1>\n",
    "<h2 style=\"color:rgb(0,120,170)\">Unit 4 (Assignment) -- Drug Discovery </h2>"
   ]
  },
  {
   "cell_type": "markdown",
   "metadata": {},
   "source": [
    "# Exercise 0\n",
    "\n",
    "- Import the same modules as discussed in the lecture notebook.\n",
    "- Check if your model versions are correct."
   ]
  },
  {
   "cell_type": "code",
   "execution_count": 1,
   "metadata": {},
   "outputs": [
    {
     "name": "stderr",
     "output_type": "stream",
     "text": [
      "RDKit WARNING: [16:17:11] Enabling RDKit 2019.09.3 jupyter extensions\n"
     ]
    }
   ],
   "source": [
    "import u4_utils as u4\n",
    "import rdkit\n",
    "import pandas as pd\n",
    "import numpy as np\n",
    "import sys\n",
    "import scipy\n",
    "import scipy.sparse as sp\n",
    "import sklearn\n",
    "import matplotlib\n",
    "import matplotlib.pyplot as plt\n",
    "\n",
    "from rdkit import Chem # Chem as package\n",
    "from rdkit.Chem import AllChem, Draw\n",
    "from functools import partial\n",
    "from sklearn.decomposition import PCA\n",
    "from sklearn.manifold import TSNE\n",
    "from distutils.version import LooseVersion\n"
   ]
  },
  {
   "cell_type": "code",
   "execution_count": 3,
   "metadata": {},
   "outputs": [
    {
     "name": "stdout",
     "output_type": "stream",
     "text": [
      "Installed Python version: 3.7 (✓)\n",
      "Installed numpy version: 1.16.2 (✗)\n",
      "Installed pandas version: 0.24.2 (✗)\n",
      "Installed scikit-learn version: 0.20.3 (✗)\n",
      "Installed scipy version: 1.2.1 (✗)\n",
      "Installed matplotlib version: 3.0.3 (✓)\n",
      "Installed rdkit version: 2019.09.3 (✓)\n"
     ]
    }
   ],
   "source": [
    "u4.check_module_versions()\n",
    "# I have updated the versions but it isn't shown here.\n"
   ]
  },
  {
   "cell_type": "markdown",
   "metadata": {},
   "source": [
    "# Exercise 1\n",
    "\n",
    "We are looking at the lowest unoccupied molecular orbital energy (LUMO). You can access the values by <code>GetProp('LUMO')</code>. \n",
    "\n",
    "- Print <i>name</i> and <i>LUMO value</i> of the first $10$ molecules\n",
    "- Which of (all) molecules has the <i>highest</i> LUMO value? Write a short piece of code to figure this out.\n",
    "\n",
    "NOTA BENE: If you access  <code>GetProp('LUMO')</code> a string is returned. You might want to convert this string to a float value for the second task (<code>float()</code>)."
   ]
  },
  {
   "cell_type": "code",
   "execution_count": 2,
   "metadata": {},
   "outputs": [],
   "source": [
    "# Load Dataset\n",
    "suppl = Chem.SDMolSupplier('resources/molecules.sdf')\n"
   ]
  },
  {
   "cell_type": "code",
   "execution_count": 117,
   "metadata": {},
   "outputs": [
    {
     "data": {
      "text/plain": [
       "['2-nitrophenanthrene; -1.246',\n",
       " '8-nitroquinoline; -1.429',\n",
       " '5-nitroquinoline; -1.456',\n",
       " '1-nitrofluoranthene; -1.591',\n",
       " '2,5-difluoronitrobenzene; -1.59',\n",
       " '1,3,6,8-tetranitropyrene; -3.406',\n",
       " '3-methyl-4-nitrobiphenyl; -1.144',\n",
       " '2-acetoxy-7-nitrofluorene; -1.437',\n",
       " '2-methyl-7-nitrofluorene; -1.387',\n",
       " '9-nitrophenanthrene; -1.254']"
      ]
     },
     "execution_count": 117,
     "metadata": {},
     "output_type": "execute_result"
    }
   ],
   "source": [
    "molecule = suppl[0]\n",
    "formula = list()\n",
    "for molecule in suppl:\n",
    "    formula.append(f'{molecule.GetProp(\"Compound Name\")}; {float(molecule.GetProp(\"LUMO\"))}')\n",
    "\n",
    "formula[0:10]       \n"
   ]
  },
  {
   "cell_type": "code",
   "execution_count": 4,
   "metadata": {},
   "outputs": [
    {
     "data": {
      "text/plain": [
       "'2-nitro-m-phenylenediamine; -0.529'"
      ]
     },
     "execution_count": 4,
     "metadata": {},
     "output_type": "execute_result"
    }
   ],
   "source": [
    "formula2 = list()\n",
    "for molecule2 in suppl:\n",
    "    formula2.append(float(molecule2.GetProp(\"LUMO\")))\n",
    "\n",
    "lumo_max = max(formula2)\n",
    "index_lumo_max = formula2.index(lumo_max)\n",
    "formula[index_lumo_max]\n"
   ]
  },
  {
   "cell_type": "markdown",
   "metadata": {},
   "source": [
    "# Exercise 2\n",
    "\n",
    "- Find the molecule in <i>suppl</i> with the <i>highest</i> and the molecule with the <i>lowest</i> number of bonds and print their respective names.\n",
    "- Draw the molecule with the <i>highest</i> number of bonds both <i>with</i> and <i>without</i> atoms numbered.\n",
    "- For the molecule with the <i>highest</i> number of bonds, print the atoms (<code> GetIdx() </code>, <code> GetSymbol() </code>), their masses and check if they are in the ring. Compare the results with the drawing."
   ]
  },
  {
   "cell_type": "code",
   "execution_count": 5,
   "metadata": {},
   "outputs": [
    {
     "data": {
      "text/plain": [
       "'nitrobenzene is the molecule with the lowest number of bonds'"
      ]
     },
     "execution_count": 5,
     "metadata": {},
     "output_type": "execute_result"
    }
   ],
   "source": [
    "bond_numbers = []\n",
    "for molecule3 in suppl:\n",
    "    a= molecule3.GetNumBonds()\n",
    "    bond_numbers.append(a)\n",
    "min_bond = min(bond_numbers)\n",
    "max_bond = max(bond_numbers)\n",
    "\n",
    "bond_names = list()\n",
    "for molecule4 in suppl:\n",
    "    bond_names.append(molecule4.GetProp(\"Compound Name\"))\n",
    "\n",
    "index_min_bond = bond_numbers.index(min_bond)\n",
    "index_max_bond = bond_numbers.index(max_bond)\n",
    "min_name = bond_names[index_min_bond]\n",
    "max_name = bond_names[index_max_bond]\n",
    "\n",
    "string_min = min_name + ' is the molecule with the lowest number of bonds'\n",
    "string_min\n",
    "\n",
    "# other way to get the name:\n",
    "# min2 = suppl[index_min_bond]\n",
    "# min_name2 = min2.GetProp('Compound Name')\n",
    "# min_name2\n"
   ]
  },
  {
   "cell_type": "code",
   "execution_count": 6,
   "metadata": {},
   "outputs": [
    {
     "data": {
      "text/plain": [
       "'1-nitrocoronene is the molecule with the highest number of bonds'"
      ]
     },
     "execution_count": 6,
     "metadata": {},
     "output_type": "execute_result"
    }
   ],
   "source": [
    "max_name\n",
    "string_max = max_name + ' is the molecule with the highest number of bonds'\n",
    "string_max\n"
   ]
  },
  {
   "cell_type": "code",
   "execution_count": 7,
   "metadata": {},
   "outputs": [
    {
     "data": {
      "image/png": "[encoded data removed]",
      "text/plain": [
       "<PIL.Image.Image image mode=RGB size=300x300 at 0x7F2D220BCA90>"
      ]
     },
     "execution_count": 7,
     "metadata": {},
     "output_type": "execute_result"
    }
   ],
   "source": [
    "in_data = suppl[index_max_bond]\n",
    "leg = str(max_name) + ' has the highest number of bonds'\n",
    "Draw.MolToImage(in_data, legend = leg)\n"
   ]
  },
  {
   "cell_type": "code",
   "execution_count": 8,
   "metadata": {},
   "outputs": [
    {
     "data": {
      "image/png": "[encoded data removed]",
      "text/plain": [
       "<PIL.Image.Image image mode=RGB size=300x300 at 0x7F2D21EB3B00>"
      ]
     },
     "execution_count": 8,
     "metadata": {},
     "output_type": "execute_result"
    }
   ],
   "source": [
    "m = suppl[index_max_bond]\n",
    "m_smiles = Chem.MolToSmiles(m)\n",
    "from_smile_to_mol = Chem.MolFromSmiles(m_smiles)\n",
    "Draw.MolToImage(from_smile_to_mol, includeAtomNumbers=True, legend = leg)\n"
   ]
  },
  {
   "cell_type": "code",
   "execution_count": 9,
   "metadata": {},
   "outputs": [
    {
     "name": "stdout",
     "output_type": "stream",
     "text": [
      "Atom information about the molecule with the highest number of bonds:\n",
      "\n",
      "Index:  0 \tSymbol: O \tMass:  15.999 \tIn ring: False\n",
      "Index:  1 \tSymbol: N \tMass:  14.007 \tIn ring: False\n",
      "Index:  2 \tSymbol: O \tMass:  15.999 \tIn ring: False\n",
      "Index:  3 \tSymbol: C \tMass:  12.011 \tIn ring: True\n",
      "Index:  4 \tSymbol: C \tMass:  12.011 \tIn ring: True\n",
      "Index:  5 \tSymbol: C \tMass:  12.011 \tIn ring: True\n",
      "Index:  6 \tSymbol: C \tMass:  12.011 \tIn ring: True\n",
      "Index:  7 \tSymbol: C \tMass:  12.011 \tIn ring: True\n",
      "Index:  8 \tSymbol: C \tMass:  12.011 \tIn ring: True\n",
      "Index:  9 \tSymbol: C \tMass:  12.011 \tIn ring: True\n",
      "Index:  10 \tSymbol: C \tMass:  12.011 \tIn ring: True\n",
      "Index:  11 \tSymbol: C \tMass:  12.011 \tIn ring: True\n",
      "Index:  12 \tSymbol: C \tMass:  12.011 \tIn ring: True\n",
      "Index:  13 \tSymbol: C \tMass:  12.011 \tIn ring: True\n",
      "Index:  14 \tSymbol: C \tMass:  12.011 \tIn ring: True\n",
      "Index:  15 \tSymbol: C \tMass:  12.011 \tIn ring: True\n",
      "Index:  16 \tSymbol: C \tMass:  12.011 \tIn ring: True\n",
      "Index:  17 \tSymbol: C \tMass:  12.011 \tIn ring: True\n",
      "Index:  18 \tSymbol: C \tMass:  12.011 \tIn ring: True\n",
      "Index:  19 \tSymbol: C \tMass:  12.011 \tIn ring: True\n",
      "Index:  20 \tSymbol: C \tMass:  12.011 \tIn ring: True\n",
      "Index:  21 \tSymbol: C \tMass:  12.011 \tIn ring: True\n",
      "Index:  22 \tSymbol: C \tMass:  12.011 \tIn ring: True\n",
      "Index:  23 \tSymbol: C \tMass:  12.011 \tIn ring: True\n",
      "Index:  24 \tSymbol: C \tMass:  12.011 \tIn ring: True\n",
      "Index:  25 \tSymbol: C \tMass:  12.011 \tIn ring: True\n",
      "Index:  26 \tSymbol: C \tMass:  12.011 \tIn ring: True\n"
     ]
    }
   ],
   "source": [
    "print('Atom information about the molecule with the highest number of bonds:\\n')\n",
    "\n",
    "for atom in from_smile_to_mol.GetAtoms(): # loop of all atoms in the molecules\n",
    "    print('Index: ', atom.GetIdx(), '\\tSymbol:', atom.GetSymbol(), '\\tMass: ', atom.GetMass(),\n",
    "          '\\tIn ring:', atom.IsInRing())\n",
    "    "
   ]
  },
  {
   "cell_type": "markdown",
   "metadata": {},
   "source": [
    "The table shows that the atoms with the indeces 0; 1; 2 aren't in the ring. The drawing with numbered atoms agrees with that. \n",
    "Furthermore, the table shows that the remaining atoms are all in the ring. Also here, the drawings approve this statement. However, in the drawings you can't see all the involved atom names what is not in the table the case. You can see the indeces of the smiles representation when you order it in the drawing and table. The table also represents the masses of atoms what the drawings can't do"
   ]
  },
  {
   "cell_type": "markdown",
   "metadata": {},
   "source": [
    "# Exercise 3\n",
    "\n",
    "- Draw all moleculs that contain the smiles string <i>C(=O)O</i>.\n",
    "- How many molecules have the element <i>Iodine</i> inside? Draw these molecules together with their names.\n",
    "- How many molecules have the element <i>Bromine</i> inside? Draw these molecules together with their names and their formula.\n",
    "- How many molecules have the element <i>Chlorine</i> inside? Which of these molecules contains the <i>most</i> atoms? Draw the molecule with the most atoms and get its name and formula."
   ]
  },
  {
   "cell_type": "code",
   "execution_count": 123,
   "metadata": {},
   "outputs": [
    {
     "data": {
      "image/png": "[encoded data removed]",
      "text/plain": [
       "<PIL.PngImagePlugin.PngImageFile image mode=RGB size=800x200 at 0x7F2D217A2EF0>"
      ]
     },
     "execution_count": 123,
     "metadata": {},
     "output_type": "execute_result"
    }
   ],
   "source": [
    "patt = Chem.MolFromSmiles('C(=O)O') # check if this substructure is inside the molecules\n",
    "matches = list()\n",
    "for molecule5 in suppl: # if substructure in molecules print these molecules\n",
    "    if molecule5.HasSubstructMatch(patt):\n",
    "        matches.append(molecule5)\n",
    "\n",
    "Draw.MolsToGridImage(matches, molsPerRow=4)\n"
   ]
  },
  {
   "cell_type": "code",
   "execution_count": 119,
   "metadata": {},
   "outputs": [
    {
     "name": "stdout",
     "output_type": "stream",
     "text": [
      "Number of molecules with Iodine inside: 1\n"
     ]
    },
    {
     "data": {
      "image/png": "[encoded data removed]",
      "text/plain": [
       "<PIL.PngImagePlugin.PngImageFile image mode=RGB size=600x200 at 0x7F2D2166AA58>"
      ]
     },
     "execution_count": 119,
     "metadata": {},
     "output_type": "execute_result"
    }
   ],
   "source": [
    "patt = Chem.MolFromSmiles('I')\n",
    "matches = list()\n",
    "count_I = 0\n",
    "list_name_with_I = list()\n",
    "for molecule6 in suppl: \n",
    "    if molecule6.HasSubstructMatch(patt):\n",
    "        matches.append(molecule6)\n",
    "        \n",
    "        I_name = molecule6.GetProp('Compound Name')\n",
    "        list_name_with_I.append(I_name)\n",
    "        \n",
    "        count_I += 1\n",
    "\n",
    "print(f'Number of molecules with Iodine inside: {count_I}')\n",
    "        \n",
    "Draw.MolsToGridImage(matches, molsPerRow=3, legends=list_name_with_I)\n"
   ]
  },
  {
   "cell_type": "code",
   "execution_count": 120,
   "metadata": {},
   "outputs": [
    {
     "name": "stdout",
     "output_type": "stream",
     "text": [
      "Number of molecules with Bromine inside: 2\n"
     ]
    },
    {
     "data": {
      "image/png": "[encoded data removed]",
      "text/plain": [
       "<PIL.PngImagePlugin.PngImageFile image mode=RGB size=800x300 at 0x7F2D20CCD860>"
      ]
     },
     "execution_count": 120,
     "metadata": {},
     "output_type": "execute_result"
    }
   ],
   "source": [
    "patt = Chem.MolFromSmiles('Br')\n",
    "matches2 = list()\n",
    "legend_list_Br = list()\n",
    "count_Br = 0\n",
    "\n",
    "for molecule7 in suppl: \n",
    "    if molecule7.HasSubstructMatch(patt):\n",
    "        matches2.append(molecule7)\n",
    "        \n",
    "        Br_name = molecule7.GetProp('Compound Name') \n",
    "        Br_formula = molecule7.GetProp('Formula')\n",
    "        \n",
    "        legend_string = str(Br_name) + '; ' + str(Br_formula)\n",
    "        legend_list_Br.append(legend_string)\n",
    "        \n",
    "        count_Br += 1\n",
    "\n",
    "print(f'Number of molecules with Bromine inside: {count_Br}')\n",
    "        \n",
    "Draw.MolsToGridImage(matches2, molsPerRow=2, maxMols=len(suppl), subImgSize=(400, 300), legends = legend_list_Br)\n"
   ]
  },
  {
   "cell_type": "code",
   "execution_count": 121,
   "metadata": {},
   "outputs": [
    {
     "name": "stdout",
     "output_type": "stream",
     "text": [
      "Number of molecules with Chloride inside: 16\n"
     ]
    },
    {
     "data": {
      "image/png": "[encoded data removed]",
      "text/plain": [
       "<PIL.Image.Image image mode=RGB size=400x300 at 0x7F2D21146A20>"
      ]
     },
     "execution_count": 121,
     "metadata": {},
     "output_type": "execute_result"
    }
   ],
   "source": [
    "patt3 = Chem.MolFromSmiles('Cl')\n",
    "matches3 = list()\n",
    "\n",
    "count_Cl = 0\n",
    "for molecule8 in suppl: \n",
    "    if molecule8.HasSubstructMatch(patt3):\n",
    "        matches3.append(molecule8)\n",
    "        count_Cl += 1\n",
    "\n",
    "print(f'Number of molecules with Chloride inside: {count_Cl}')\n",
    "\n",
    "index_list = []\n",
    "for list_element_molecules in matches3:\n",
    "    number_at =list_element_molecules.GetNumAtoms()\n",
    "    index_list.append(number_at)\n",
    "    \n",
    "searched_value = max(index_list)\n",
    "searched_index = index_list.index(searched_value)\n",
    "searched_molecule = matches3[searched_index]\n",
    "\n",
    "legend = searched_molecule.GetProp('Compound Name') + '; ' + searched_molecule.GetProp('Formula')\n",
    "Draw.MolToImage(searched_molecule, legend = legend, size=(400, 300))\n",
    "        "
   ]
  },
  {
   "cell_type": "code",
   "execution_count": null,
   "metadata": {},
   "outputs": [],
   "source": []
  }
 ],
 "metadata": {
  "kernelspec": {
   "display_name": "Python 3",
   "language": "python",
   "name": "python3"
  },
  "language_info": {
   "codemirror_mode": {
    "name": "ipython",
    "version": 3
   },
   "file_extension": ".py",
   "mimetype": "text/x-python",
   "name": "python",
   "nbconvert_exporter": "python",
   "pygments_lexer": "ipython3",
   "version": "3.7.3"
  }
 },
 "nbformat": 4,
 "nbformat_minor": 4
}
