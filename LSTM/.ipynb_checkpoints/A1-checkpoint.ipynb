{
 "cells": [
  {
   "cell_type": "markdown",
   "metadata": {},
   "source": [
    "# Assignment 1: Introduction to the Fully Recurrent Network\n",
    "\n",
    "\n",
    "## Exercise 1: Numerical stability of the binary cross-entropy loss function\n",
    "\n",
    "We will use the binary cross-entropy loss function to train our RNN, which is defined as \n",
    "$$\n",
    "L_{\\text{BCE}}(\\hat y, y) = -y \\log \\hat y - (1-y) \\log (1-\\hat y),\n",
    "$$\n",
    "where $y$ is the label and $\\hat y$ is a prediction, which comes from a model (e.g. an RNN) and is usually sigmoid-activated, i.e., we have\n",
    "$$\n",
    "\\hat y = \\sigma(z) = \\frac{1}{1+e^{-z}}.\n",
    "$$\n",
    "The argument $z$ is called *logit*. For reasons of numerical stability it is better to let the model emit the logit $z$ (instead of the prediction $\\hat y$) and incorporate the sigmoid activation into the loss function. Explain why this is the case and how we can gain numerical stability by combining the two functions $L_{\\text{BCE}}(\\hat y, y)$ and $\\sigma(z)$ into one function $L(z, y) = L_{\\text{BCE}}(\\sigma(z), y)$. \n",
    "\n",
    "*Hint: Prove that $\\log(1+e^{z}) = \\log (1+e^{-|z|}) + \\max(0, z)$ and argue why the right-hand side is numerically more stable. Finally, express $L(z,y)$ in terms of that form.*"
   ]
  },
  {
   "cell_type": "markdown",
   "metadata": {},
   "source": [
    "-------------- Solution -----------------------<br>\n",
    "sigmoids e problematic. e^x increases exponentially as soon as x becomes > 0.<br>\n",
    "cross entropy with y_pred = 1/1+e^(-z) needed"
   ]
  },
  {
   "cell_type": "markdown",
   "metadata": {},
   "source": [
    "########## YOUR SOLUTION HERE ##########\n",
    "$$\n",
    "\\text{Prove that:} \\log(1+e^{z}) = \\log (1+e^{-|z|}) + \\max(0, z) \\\\\\\\\n",
    "\\text{Case z<0: } \\log(1+e^{-z}) = \\log(1+e^{-|z|}) + 0 = \\log(1+e^{-|z|}) + max(0,z)\\\\\n",
    "\\text{Case z=0: } \\log(1+e^{0}) = \\log(1+e^{-|0|}) + 0 = \\log(1+e^{-|0|}) + max(0,0)\\\\\n",
    "\\text{Case z>0: }  \\log(1+e^{z}) = \\log (1+e^{-|z|}) + \\max(0, z) \\\\\n",
    " e^{\\log(1+e^{z}) }= e^{\\log (1+e^{-|z|}) + \\max(0, z)} \\\\\n",
    " 1+e^{z} = e^{\\log (1+e^{-|z|})} \\cdot e^{ \\max(0, z)}\\\\\n",
    " 1+e^{z} = (1+e^{-z}) \\cdot e^{z}\\\\\n",
    " 1+e^{z} = e^{z} + e^{z-z}\\\\\n",
    " 1+e^{z} = e^{z} + 1\\\\\n",
    " \\Box\n",
    "$$"
   ]
  },
  {
   "cell_type": "markdown",
   "metadata": {},
   "source": [
    "argue why the right-hand side is numerically more stable:<br>\n",
    "log is suited to handle small numbers (close to 0). However, we use sigmoid activation function here which has the majority input values between -5 and 5 which are not small numbers. Therefore, $\\log(1+e^z)$ gets very high values through $e^z$ whereas $log(1+1/e^{|z|})$ gets smaller inside values and can therefore produce more stable solutions."
   ]
  },
  {
   "cell_type": "markdown",
   "metadata": {},
   "source": [
    "Side note:<br>\n",
    "Showing that the equation gives us the $\\hat{y}=\\sigma(z)$:<br>\n",
    "$$\n",
    "\\text{We have: } \\log(1+e^{z}) = \\log (1+e^{-|z|}) + \\max(0, z) \\\\\n",
    "\\max(0, z) = \\log(1+e^{z}) - \\log (1+e^{-|z|}) \\\\\n",
    "\\max(0, z) = \\log(1+e^{z}) + \\log ((1+e^{-|z|})^{-1})\\\\\n",
    "\\max(0, z) = \\log(1+e^{z}) + \\log \\left(\\frac{1}{1+e^{-|z|}}\\right)\\\\\n",
    "\\max(0, z) = \\log(1+e^{z}) + \\log(\\sigma(z))\\\\\n",
    " \\log(\\sigma(z)) = \\max(0, z) - \\log(1+e^{z}) \\\\\n",
    "\\sigma(z) = e^{\\max(0, z) - \\log(1+e^{z}) }\\\\\n",
    "\\sigma(z) = \\frac{e^{\\max(0, z)}} { e^{\\log(1+e^{z}) }}\\\\\n",
    "\\sigma(z) = \\frac{e^{\\max(0, z)}} { 1+e^{z}} ?= \\hat{y} = \\frac{1}{1+e^{-z}} = \\frac{1}{1+\\frac{1}{e^{z}}}\n",
    "=  \\frac{1}{\\frac{e^{z}+1}{e^z}} =  \\frac{e^z}{e^{z}+1}\\\\\n",
    "\\text{Given for z>=0}\n",
    "\\\\\n",
    "\\\\\n",
    "$$"
   ]
  },
  {
   "cell_type": "markdown",
   "metadata": {},
   "source": [
    "\n",
    "\n",
    "Finally, express  𝐿(𝑧,𝑦)  in terms of putting $\\sigma(z)$ in it:<br>\n",
    "$$\n",
    "\\text{Put it into loss function: } L(z,y) = -y \\cdot \\log \\left(\\frac{e^{\\max(0, z)}} { 1+e^{z}}\\right) - (1-y) \\cdot \\log \\left(1-\\frac{e^{\\max(0, z)}} { 1+e^{z}}\\right)\\\\\n",
    "\\\\\n",
    "= -y \\left(  \\log(e^{\\max(0, z)}) - \\log \\left( 1+e^{z}\\right)  \\right) \n",
    "- \\log \\left(1-\\frac{e^{\\max(0, z)}} { 1+e^{z}}\\right)\n",
    "+ y \\cdot \\log \\left(1-\\frac{e^{\\max(0, z)}} { 1+e^{z}}\\right)\n",
    "\\\\\n",
    "= -y \\cdot max(0,z) + y \\cdot \\log \\left( 1+e^{z}\\right)\n",
    "- \\log \\left(1-\\frac{e^{\\max(0, z)}} { 1+e^{z}}\\right)\n",
    "+ y \\cdot \\log \\left(1-\\frac{e^{\\max(0, z)}} { 1+e^{z}}\\right)\n",
    "\\\\\n",
    "\\text{We have with z>=0: } 1-\\frac{e^{\\max(0, z)}} { 1+e^{z}} = \\frac{1+e^{z} -e^{\\max(0, z)}} { 1+e^{z}}\n",
    "=  \\frac{1} { 1+e^{z}}\\\\\n",
    "\\text{So we can use:} L(z,y) =  -y \\cdot max(0,z) + y \\cdot \\log \\left( 1+e^{z}\\right)\n",
    "+ \\log( 1+e^{z}) - y \\cdot \\log( 1+e^{z}) \\\\\n",
    " =  -y \\cdot max(0,z) + \\log( 1+e^{z})\\\\\n",
    "\\text{Put in forumla which we proved: } \\\\\n",
    "=  -y \\cdot max(0,z) + \\log( 1+e^{-|z|}) + max(0,z)\\\\\n",
    "\\text{When first putting in the $\\sigma(z)$ from $\\hat{y}$ we get: } \\\\\n",
    "=  -y \\cdot z + \\log( 1+e^{-|z|}) + max(0,z)\\\\\n",
    "$$"
   ]
  },
  {
   "cell_type": "markdown",
   "metadata": {},
   "source": [
    "## Exercise 2: Derivative of the loss\n",
    "\n",
    "Calculate the derivative of the binary cross-entropy loss function $L(z, y)$ with respect to the logit $z$."
   ]
  },
  {
   "cell_type": "markdown",
   "metadata": {},
   "source": [
    "########## YOUR SOLUTION HERE ##########\n",
    "$$\n",
    "\\frac{\\partial L(z,y)}{\\partial z} = \\frac{\\partial -yz}{\\partial z} \n",
    "+ \\frac{\\partial \\log(1+e^{-|z|})}{\\partial z} \n",
    "+\\frac{max(0,z)}{\\partial z} \\\\ \n",
    "= -y + \\frac{1}{1+e^{-|z|}} \\cdot (- e^{-|z|}) + \\frac{max(0,z)}{z} \\text{    # max(0,z) derivative can be only 0 or 1}\\\\\n",
    "= -y - \\frac{1}{(1+e^{-|z|} )\\cdot  e^{|z|} }  + \\frac{max(0,z)}{z}\\\\\n",
    "= -y - \\frac{1}{e^{|z|} + 1 }  + \\frac{max(0,z)}{z}\\\\\n",
    "$$"
   ]
  },
  {
   "cell_type": "markdown",
   "metadata": {},
   "source": [
    "## Exercise 3: Initializing the network\n",
    "Consider the fully recurrent network\n",
    "$$\n",
    "s(t) = W x(t) + R a(t-1) \\\\\n",
    "a(t) = \\tanh(s(t)) \\\\\n",
    "z(t) = V a(t) \\\\\n",
    "\\hat y(t) = \\sigma(z(t))\n",
    "$$\n",
    "for $t \\in \\mathbb{N}, x(t) \\in \\mathbb{R}^{D}, s(t) \\in \\mathbb{R}^{I}, a(t) \\in \\mathbb{R}^{I}, z(t) \\in \\mathbb{R}^K, \\hat y(t) \\in \\mathbb{R}^K$ and $W, R, V$ are real matrices of appropriate sizes and $\\hat a(0) = 0$. \n",
    "\n",
    "*Compared to the lecture notes we choose $f(x) = \\tanh(x) = (e^x - e^{-x})(e^x + e^{-x})^{-1}$ and $\\varphi(x) = \\sigma(x) = (1+e^{-x})^{-1}$. Further, we introduced an auxiliary variable $z(t)$ and transposed the weight matrices.*\n",
    "\n",
    "Write a function `init` that takes a `model` and integers $D, I, K$ as arguments and stores the matrices $W, R, V$ as members `model.W`, `model.R`, `model.V`, respectively. The matrices should be `numpy` arrays of appropriate sizes and filled with random values that are uniformly distributed between -0.01 and 0.01. "
   ]
  },
  {
   "cell_type": "code",
   "execution_count": 4,
   "metadata": {},
   "outputs": [],
   "source": [
    "%matplotlib inline\n",
    "import numpy as np\n",
    "from scipy.special import expit as sigmoid\n",
    "\n",
    "class Obj(object):\n",
    "    pass\n",
    "\n",
    "model = Obj()\n",
    "T, D, I, K = 10, 3, 5, 1\n",
    "\n",
    "def init(model, D, I, K):\n",
    "    ########## YOUR SOLUTION HERE ##########\n",
    "    \n",
    "    # W as input weight matrix\n",
    "    # R as recurrent weight matrix\n",
    "    # V as output weight matrix\n",
    "    \n",
    "    model.W = np.random.uniform(low=-.01,high=.010000000000000001,size=(I,D)) \n",
    "    # the high values is excluded. To reach 0.01 as possible value we have a look at the number of decimal \n",
    "    # places of the outputed number, it's 18. Therefore, mark the 18-th decimal place of the high value as one\n",
    "    # such that high=.010000000000000001 is excluded but .01000000000000000 is still included.\n",
    "    \n",
    "    # reason size: we have s(t) = W x(t) + ... where x(t) has shape Dx1 and s(t) with shape Ix1\n",
    "    \n",
    "    \n",
    "    model.R = np.random.uniform(low=-.01,high=.010000000000000001,size=(I,I))\n",
    "    # reason size: s(t) = ... + R a(t-1) where a(t-1) with shape Ix1 and s(t) with shape Ix1\n",
    "    \n",
    "    model.V = np.random.uniform(low=-.01,high=.010000000000000001,size=(K,I))\n",
    "    # reason size: z(t) = V a(t) where a(t) with shape Ix1 and z(t) with shape Kx1\n",
    "    \n",
    "    return\n",
    "\n",
    "Obj.init = init\n",
    "model.init(D, I, K)"
   ]
  },
  {
   "cell_type": "markdown",
   "metadata": {},
   "source": [
    "## Exercise 4: The forward pass\n",
    "Implement the forward pass for the fully recurrent network for sequence classification (many-to-one mapping). To this end, write a function `forward` that takes a `model`, a sequence of input vectors `x`, and a label `y` as arguments. The inputs will be represented as a `numpy` array of shape `(T, D)`. It should execute the behavior of the fully recurrent network and evaluate the (numerically stabilized) binary cross-entropy loss at the end of the sequence and return the resulting loss value. Store the sequence of hidden activations $(a(t))_{t=1}^T$ and the logit $z(T)$ into `model.a` and `model.z`, respectively. "
   ]
  },
  {
   "cell_type": "code",
   "execution_count": 3,
   "metadata": {},
   "outputs": [
    {
     "data": {
      "text/plain": [
       "0.6932047439720525"
      ]
     },
     "execution_count": 3,
     "metadata": {},
     "output_type": "execute_result"
    }
   ],
   "source": [
    "def forward(model, x, y):\n",
    "    ########## YOUR SOLUTION HERE ##########\n",
    "\n",
    "    a = np.zeros((model.R.shape[0],1)) # getting a(0)\n",
    "\n",
    "    model.a = a.T # model.a: one row shows one time moment t\n",
    "        \n",
    "    for t in x:\n",
    "        \n",
    "        t = t.reshape((len(t),1))\n",
    "        s_t = model.W @ t + model.R @ a\n",
    "        \n",
    "        a = np.tanh(s_t)\n",
    "        model.a = np.concatenate((model.a,a.T),axis=0)\n",
    "        \n",
    "        \n",
    "        \n",
    "    \n",
    "    model.z = (model.V @ model.a[-1]) # searched for z(T), so we only need the last activation in time\n",
    "\n",
    "    # y_pred = sigmoid(model.z) # taking the last prediction of the last time step \n",
    "                                # because of many to one mapping\n",
    "\n",
    "    loss = - y * model.z + np.log(1 + np.exp(-abs(model.z))) + max(0,model.z)\n",
    "    return loss[0]\n",
    "    \n",
    "Obj.forward = forward\n",
    "model.forward(np.random.uniform(-1, 1, (T, D)), 1)"
   ]
  },
  {
   "cell_type": "markdown",
   "metadata": {},
   "source": [
    "## Exercise 5: The computational graph\n",
    "\n",
    "Visualize the computational graph of the fully recurrent network unfolded in time. The graph should show the functional dependencies of the nodes $x(t), a(t), z(t), L(z(t), y(t))$ for $t \\in \\{1, 2, 3\\}$. Use the package `networkx` in combination with `matplotlib` to draw a directed graph with labelled nodes and edges. If you need help take a look at [this guide](https://networkx.guide/visualization/basics/). Make sure to arrange the nodes in a meaningful way. "
   ]
  },
  {
   "cell_type": "code",
   "execution_count": 6,
   "metadata": {},
   "outputs": [
    {
     "data": {
      "image/png": "[encoded data removed]",
      "text/plain": [
       "<Figure size 432x288 with 1 Axes>"
      ]
     },
     "metadata": {},
     "output_type": "display_data"
    }
   ],
   "source": [
    "import networkx as nx\n",
    "import matplotlib.pyplot as plt\n",
    "\n",
    "########## YOUR SOLUTION HERE ##########\n",
    "\n",
    "G=nx.DiGraph() # important to give here a Directed Graph. Else the edges are stored without any direction\n",
    "# information such that they partwise point into the flase direction later.\n",
    "\n",
    "G.add_node('a(0)',pos=(0,2))\n",
    "G.add_edge('a(0)','a(1)',name='R')\n",
    "\n",
    "for t in range(1,4): # 4 is execluded\n",
    "\n",
    "    G.add_node(f'x({t})',pos=(t,1))\n",
    "\n",
    "    G.add_node(f'a({t})',pos=(t,2))\n",
    "    G.add_node(f'z({t})',pos=(t,3))\n",
    "    G.add_node(f'L(z({t}),y({t}))',pos=(t,4))\n",
    "    \n",
    "    G.add_edge(f'x({t})', f'a({t})',name='W')\n",
    "    G.add_edge(f'a({t})', f'z({t})',name='V')\n",
    "    G.add_edge(f'z({t})', f'L(z({t}),y({t}))',name='Put in')\n",
    "    \n",
    "    G.add_edge(f'a({t})', f'a({t+1})',name='R')\n",
    "    \n",
    "    \n",
    "G.add_node('a(4)',pos=(4,2))\n",
    "    \n",
    "\n",
    "pos = nx.get_node_attributes(G,'pos')\n",
    "\n",
    "name_edge = nx.get_edge_attributes(G,'name')\n",
    "\n",
    "nx.draw(G,pos,with_labels = True,arrows=True,node_size=800,node_color='yellow',node_shape='.')\n",
    "                      \n",
    "nx.draw_networkx_edge_labels(G, pos, name_edge) # adding edge labels\n",
    "\n",
    "plt.show()"
   ]
  },
  {
   "cell_type": "markdown",
   "metadata": {},
   "source": [
    "Notebook done by Nina Braunmiller - k11923286"
   ]
  }
 ],
 "metadata": {
  "kernelspec": {
   "display_name": "Python 3",
   "language": "python",
   "name": "python3"
  },
  "language_info": {
   "codemirror_mode": {
    "name": "ipython",
    "version": 3
   },
   "file_extension": ".py",
   "mimetype": "text/x-python",
   "name": "python",
   "nbconvert_exporter": "python",
   "pygments_lexer": "ipython3",
   "version": "3.7.3"
  }
 },
 "nbformat": 4,
 "nbformat_minor": 2
}
