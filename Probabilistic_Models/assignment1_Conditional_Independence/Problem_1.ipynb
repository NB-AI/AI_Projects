{
 "cells": [
  {
   "cell_type": "markdown",
   "metadata": {
    "deletable": false,
    "editable": false,
    "nbgrader": {
     "cell_type": "markdown",
     "checksum": "7c825c99b287a630be7bcd337b2a39e7",
     "grade": false,
     "grade_id": "cell-c781491e675bc243",
     "locked": true,
     "schema_version": 3,
     "solution": false,
     "task": false
    }
   },
   "source": [
    "<div class=\"alert alert-danger\">\n",
    "    Read the following instructions carefully!\n",
    "</div>\n",
    "\n",
    "# Probability, Bayes' Theorem, (Conditional) Independence\n",
    "## Problem Set 1\n",
    "## Probabilistic Models UE\n",
    "\n",
    "---\n",
    "In the first assignment, you will familiarise yourself with matrix computations in NumPy. You must use operations on NumPy arrays, even if it would be possible to solve the exercises with simple multiplications, divisions, and loops. This will ensure that you get a feeling of how matrix operations and broadcasting works. If you are not familiar with these concepts, look at the interactive introduction to Python and the honey badger example.\n",
    "\n",
    "**Hint:** You can still compute the correct results on paper and compare them with the solution produced by your Python code!\n",
    "\n",
    "\n",
    "Before you start with this problem:\n",
    "- Study the corresponding slide deck(s) and consider re-watching the lecture recording(s).\n",
    "- Internalize the material until you feel confident you can work with them or implement them yourself. Only then start working on this problem; otherwise, you will waste a lot of time.\n",
    "\n",
    "---\n",
    "\n",
    "\n",
    "<div class=\"alert alert-warning\">\n",
    "\n",
    "**Due-Date:** see Moodle\n",
    "   \n",
    "**Constraints**: Operations on NumPy arrays only.\n",
    "  \n",
    "**Automatic Grading:** \n",
    "\n",
    "- Replace the placeholders `# YOUR CODE HERE` `raise NotImplementedError()` / `YOUR ANSWER HERE` with your code / answers.\n",
    "- Put results in the corresponding variable; otherwise, we will not grade your solution (i.e., we assign 0 points).\n",
    "- Do not delete or add cells.\n",
    "    \n",
    "**Submission:** As a ZIP-package via Moodle; the ZIP-package must have the following structure:\n",
    "    \n",
    "    + <student ID, (k/ vk + 8 digits), e.g. k01234567>.zip\n",
    "    |\n",
    "    |-- Problem_1.ipynb\n",
    "    |-- ...\n",
    "    |-- Problem_<# of problems>.ipynb\n",
    "    +\n",
    "    \n",
    "**Questions?** Post it into the Problem Set Forum!\n",
    "</div>\n",
    "\n"
   ]
  },
  {
   "cell_type": "code",
   "execution_count": 1,
   "metadata": {
    "deletable": false,
    "editable": false,
    "nbgrader": {
     "cell_type": "code",
     "checksum": "b365f5f777d01b6067e5bdb4b3de9e13",
     "grade": false,
     "grade_id": "cell-51881e798cecd18e",
     "locked": true,
     "schema_version": 3,
     "solution": false,
     "task": false
    }
   },
   "outputs": [],
   "source": [
    "import numpy as np\n",
    "from helpers import print_table"
   ]
  },
  {
   "cell_type": "markdown",
   "metadata": {
    "deletable": false,
    "editable": false,
    "nbgrader": {
     "cell_type": "markdown",
     "checksum": "d9c005320c7140577886a4e9248d1357",
     "grade": false,
     "grade_id": "cell-b2e0ba07390e1f91",
     "locked": true,
     "schema_version": 3,
     "solution": false,
     "task": false
    }
   },
   "source": [
    "# 1. Inference-by-Enumeration (8 points)\n",
    "\n",
    "The Inference-by-Enumeration algorithm computes the answer to a probabilistic query $P(\\mathbf{X} \\mid \\mathbf{E})$ exactly from the full joint distribution table (FJDT).\n",
    "\n",
    "---\n",
    "### 1.1. Implementation\n",
    "\n",
    "\n",
    "<div class=\"alert alert-warning\">\n",
    "Implement the Inference-by-Enumeration algorithm. (2 points)\n",
    "</div>\n",
    "\n",
    "Implement the `inference_by_enumeration` function for a generic probabilistic query of the form $P(\\mathbf{X} \\mid \\mathbf{E})$. Note that this version of the Inference-by-Enumeration algorithm computes the probabilistic query for all possible assignments to the evidence variables, not only for one specific assignment (cf. slide deck: Probabilistic Models - Part 2: Fundamental Concepts and Notation, p. 40). The function must return one object:\n",
    "- The answer to the probabilistic query, which is a `np.ndarray` with the same number of dimensions and the same variable order as the FJDT, but not the same size: The dimensions of non-query and non-evidence variables ($\\mathbf{Z}$) must be converted to singleton dimensions, i.e., dimensions of size one.\n",
    "\n",
    "For example, if we have a full joint distribution table of three binary variables (shape $2\\times2\\times2$) and we ask for the distributions of the first variable given the second variable, the result would be of shape $2\\times2\\times1$ (corresponding to two stacked conditional distribution tables).\n",
    "\n",
    "**Hint:** Remember to solve this without a `for` loop. Set the `keepdims` parameter of NumPy's <a href=\"https://numpy.org/doc/stable/reference/generated/numpy.sum.html\">sum</a> method to `True` to not discard the reduced dimensions. Keeping these empty dimensions simplifies <a href=\"https://numpy.org/doc/stable/user/basics.broadcasting.html\">broadcasting operations</a> to a no-brainer."
   ]
  },
  {
   "cell_type": "code",
   "execution_count": 27,
   "metadata": {
    "deletable": false,
    "nbgrader": {
     "cell_type": "code",
     "checksum": "7bbb6896227d975fd1de902abeb8d241",
     "grade": false,
     "grade_id": "cell-e338604447ed75ae",
     "locked": false,
     "schema_version": 3,
     "solution": true,
     "task": false
    }
   },
   "outputs": [],
   "source": [
    "def inference_by_enumeration(\n",
    "    FJDT: np.ndarray, \n",
    "    query_variable_indices: tuple, \n",
    "    evidence_variable_indices: tuple=tuple()\n",
    ") -> np.ndarray:\n",
    "    '''\n",
    "    Computes the answer to a probabilistic query exactly from the full joint distribution table.\n",
    "    :param table: The full joint distribution table as a np.ndarray.\n",
    "    :param query_variable_indices: A tuple containing the indices of the query variables in the FJDT.\n",
    "    :param evidence_variable_indices: A tuple containing the indices of the evidence variables in the FJDT.\n",
    "    :returns: The answer to the probabilistic query; a `np.ndarray`.\n",
    "    ''' \n",
    "    assert type(FJDT) == np.ndarray, \"FJDT must be a np.ndarray\"\n",
    "    assert type(query_variable_indices) == tuple, \"query_variable_indices must be a tuple\"\n",
    "    assert type(evidence_variable_indices) == tuple, \"evidence_variable_indices must be a tuple\"\n",
    "        \n",
    "    # VL 2, slide 40:\n",
    "    \n",
    "    # 1. P(X,y)=\n",
    "    # Find out the variable indices which not belong to the query and evidence:\n",
    "    set_merged = set(query_variable_indices + evidence_variable_indices)\n",
    "    set_full = set(range(len(FJDT.shape)))\n",
    "    tuple_non_evidence = tuple(set_full-set_merged)\n",
    "    \n",
    "    PXAndy = np.sum(FJDT, axis=tuple_non_evidence, keepdims=True) # each Y dimension should be still there\n",
    "\n",
    "    # 2. Normalizaztion constant Z=P(y)=\n",
    "    Py = np.sum(PXAndy, axis=query_variable_indices, keepdims=True) # each Y dimension should be still there\n",
    "    \n",
    "    # 3. P(X|y)=\n",
    "    PXgiveny = PXAndy/Py\n",
    "\n",
    "    return PXgiveny"
   ]
  },
  {
   "cell_type": "code",
   "execution_count": 28,
   "metadata": {
    "deletable": false,
    "editable": false,
    "nbgrader": {
     "cell_type": "code",
     "checksum": "a8d6a1ca3be111f375927aa4f2f1c9ad",
     "grade": true,
     "grade_id": "cell-401afea0155cf05c",
     "locked": true,
     "points": 2,
     "schema_version": 3,
     "solution": false,
     "task": false
    }
   },
   "outputs": [],
   "source": [
    "# create a full joint distribution table for three binary variables\n",
    "ABC = np.ones((2,2,2)) / 2**2\n",
    "# name the variable indices so we can refer to them more easily\n",
    "A, B, C = 0, 1, 2\n",
    "\n",
    "# check type & shape of result\n",
    "assert type(inference_by_enumeration(ABC, (B, C), ())) == np.ndarray\n",
    "# compute P(A)\n",
    "assert inference_by_enumeration(ABC, (A,), ()).shape == (2, 1, 1)\n",
    "# compute P(BC)\n",
    "assert inference_by_enumeration(ABC, (B, C), ()).shape == (1, 2, 2)\n",
    "# compute P(BC|A)\n",
    "assert inference_by_enumeration(ABC, (B, C), (A,)).shape == (2, 2, 2)\n",
    "# compute P(B|AC)\n",
    "assert inference_by_enumeration(ABC, (B,), (C,A,)).shape == (2, 2, 2)\n"
   ]
  },
  {
   "cell_type": "markdown",
   "metadata": {
    "deletable": false,
    "editable": false,
    "nbgrader": {
     "cell_type": "markdown",
     "checksum": "ddd74cd9101c7d715cab35624ed614d5",
     "grade": false,
     "grade_id": "cell-2a50910ecab76ec5",
     "locked": true,
     "schema_version": 3,
     "solution": false,
     "task": false
    }
   },
   "source": [
    "---\n",
    "### 1.2. Example: Computing Probabilities from a Full Joint Distribution Table\n",
    "\n",
    "<br>\n",
    "<center><img src=\"https://upload.wikimedia.org/wikipedia/commons/b/b9/Atlantic_blue_marlin.jpg\" width=\"500\" height=\"600\">\n",
    "<br>\n",
    "\n",
    "Based on his experience, Santiago, an old Cuban fisherman, has learned that temperature and precipitation are the most prominent factors influencing marlin fishing. After decades of (more or less) successful years, he decides to retire and pass on his knowledge to a young apprentice. Since the apprentice received excellent grades in her probabilistic models class, he creates the following full joint distribution table $P(C, R, H)$ and hands it over to her:\n",
    "\n",
    "\n",
    "<table style=\"border-collapse:collapse;border-spacing:0;width:500px\"><tr><th style=\"font-family:Arial, sans-serif;font-size:14px;font-weight:normal;padding:10px 5px;border-style:solid;border-width:1px;overflow:hidden;word-break:normal;text-align:center\" rowspan=\"2\">$P({C}, {R}, {H})$</th><th style=\"font-family:Arial, sans-serif;font-size:14px;font-weight:normal;padding:10px 5px;border-style:solid;border-width:1px;overflow:hidden;word-break:normal;text-align:center;vertical-align:top\" colspan=\"2\">$\\neg r$<br></th><th style=\"font-family:Arial, sans-serif;font-size:14px;font-weight:normal;padding:10px 5px;border-style:solid;border-width:1px;overflow:hidden;word-break:normal;text-align:center;vertical-align:top\" colspan=\"2\">$r$</th></tr><tr><td style=\"font-family:Arial, sans-serif;font-size:14px;padding:10px 5px;border-style:solid;border-width:1px;overflow:hidden;word-break:normal;text-align:center;vertical-align:top\">$\\neg h$</td><td style=\"font-family:Arial, sans-serif;font-size:14px;padding:10px 5px;border-style:solid;border-width:1px;overflow:hidden;word-break:normal;text-align:center;vertical-align:top\">$h$</td><td style=\"font-family:Arial, sans-serif;font-size:14px;padding:10px 5px;border-style:solid;border-width:1px;overflow:hidden;word-break:normal;text-align:center;vertical-align:top\">$\\neg h$</td><td style=\"font-family:Arial, sans-serif;font-size:14px;padding:10px 5px;border-style:solid;border-width:1px;overflow:hidden;word-break:normal;text-align:center;vertical-align:top\">$h$</td></tr><tr><td style=\"font-family:Arial, sans-serif;font-size:14px;padding:10px 5px;border-style:solid;border-width:1px;overflow:hidden;word-break:normal;text-align:center\">$\\neg c$<br></td><td style=\"font-family:Arial, sans-serif;font-size:14px;padding:10px 5px;border-style:solid;border-width:1px;overflow:hidden;word-break:normal;text-align:center;vertical-align:top\">0.21</td><td style=\"font-family:Arial, sans-serif;font-size:14px;padding:10px 5px;border-style:solid;border-width:1px;overflow:hidden;word-break:normal;text-align:center;vertical-align:top\">0.31</td><td style=\"font-family:Arial, sans-serif;font-size:14px;padding:10px 5px;border-style:solid;border-width:1px;overflow:hidden;word-break:normal;text-align:center;vertical-align:top\">0.35</td><td style=\"font-family:Arial, sans-serif;font-size:14px;padding:10px 5px;border-style:solid;border-width:1px;overflow:hidden;word-break:normal;text-align:center;vertical-align:top\">0.07<br></td></tr><tr><td style=\"font-family:Arial, sans-serif;font-size:14px;padding:10px 5px;border-style:solid;border-width:1px;overflow:hidden;word-break:normal;text-align:center\">$c$</td><td style=\"font-family:Arial, sans-serif;font-size:14px;padding:10px 5px;border-style:solid;border-width:1px;overflow:hidden;word-break:normal;text-align:center;vertical-align:top\">0.04</td><td style=\"font-family:Arial, sans-serif;font-size:14px;padding:10px 5px;border-style:solid;border-width:1px;overflow:hidden;word-break:normal;text-align:center;vertical-align:top\">0.01</td><td style=\"font-family:Arial, sans-serif;font-size:14px;padding:10px 5px;border-style:solid;border-width:1px;overflow:hidden;word-break:normal;text-align:center;vertical-align:top\">0.004</td><td style=\"font-family:Arial, sans-serif;font-size:14px;padding:10px 5px;border-style:solid;border-width:1px;overflow:hidden;word-break:normal;text-align:center;vertical-align:top\">0.006</td></tr></table>\n",
    "\n",
    "In this table, $C$, $R$, and $H$ are the binary random variables encoding catch, rain, and hot, respectively. \n",
    "    \n",
    "    \n",
    "**Hint**: You can use `print_table` to print your probability distribution tables in a similar fashion."
   ]
  },
  {
   "cell_type": "code",
   "execution_count": 29,
   "metadata": {
    "deletable": false,
    "editable": false,
    "nbgrader": {
     "cell_type": "code",
     "checksum": "cf96dbb6a8fc3d340b4096ab18b9d70c",
     "grade": false,
     "grade_id": "cell-8521b465b79c30bb",
     "locked": true,
     "schema_version": 3,
     "solution": false,
     "task": false
    }
   },
   "outputs": [
    {
     "name": "stdout",
     "output_type": "stream",
     "text": [
      "Help on function print_table in module helpers:\n",
      "\n",
      "print_table(probability_table: numpy.ndarray, variable_names: str) -> None\n",
      "    Prints a probability distribution table.\n",
      "    \n",
      "    Parameters\n",
      "    ----------\n",
      "    probability_table : np.ndarray\n",
      "        The probability distribution table\n",
      "    variable_names : str\n",
      "        A string containing the variable names, e.g., 'CDE'.\n",
      "    \n",
      "    Returns\n",
      "    -------\n",
      "    None\n",
      "\n"
     ]
    }
   ],
   "source": [
    "help(print_table)"
   ]
  },
  {
   "cell_type": "markdown",
   "metadata": {
    "deletable": false,
    "editable": false,
    "nbgrader": {
     "cell_type": "markdown",
     "checksum": "943e109e119d16c75916e55e3c3e7a45",
     "grade": false,
     "grade_id": "cell-8a1c4e6e175e9891",
     "locked": true,
     "schema_version": 3,
     "solution": false,
     "task": false
    }
   },
   "source": [
    "<div class=\"alert alert-warning\">\n",
    "Create a NumPy array that contains the full joint distribution table $P(C, R, H)$ as defined above. <b>Important</b>: Encode $C$, $R$, and $H$ in the first, second, and third dimension of the NumPy array, respectively. Use index 0 for event *False* and index 1 for event *True*. (1 point)\n",
    "</div>"
   ]
  },
  {
   "cell_type": "code",
   "execution_count": 49,
   "metadata": {
    "deletable": false,
    "jupyter": {
     "outputs_hidden": true
    },
    "nbgrader": {
     "cell_type": "code",
     "checksum": "43e525fc7a6b6de69635eb33836072d1",
     "grade": false,
     "grade_id": "cell-30fabe50b83e969e",
     "locked": false,
     "schema_version": 3,
     "solution": true,
     "task": false
    }
   },
   "outputs": [
    {
     "data": {
      "text/html": [
       "<table><tr><td> </td><td>$r_0$</td><td>$r_0$</td><td>$r_1$</td><td>$r_1$</td></tr><tr><td> </td><td>$h_0$</td><td>$h_1$</td><td>$h_0$</td><td>$h_1$</td></tr><tr><td>$c_0$</td><td>0.210</td><td>0.310</td><td>0.350</td><td>0.070</td></tr><tr><td>$c_1$</td><td>0.040</td><td>0.010</td><td>0.004</td><td>0.006</td></tr></table>"
      ],
      "text/plain": [
       "<IPython.core.display.HTML object>"
      ]
     },
     "metadata": {},
     "output_type": "display_data"
    }
   ],
   "source": [
    "CRH = np.asarray([[[0.21, 0.31],[0.35, 0.07]],[[0.04, 0.01],[0.004, 0.006]]])\n",
    "# array of shape AxBxC where A gives the number of 2D arrays, B as the rows, C as the columns\n",
    "\n",
    "# Check the result with print_table(CRH, 'CRH')\n",
    "print_table(CRH, 'CRH')"
   ]
  },
  {
   "cell_type": "code",
   "execution_count": 50,
   "metadata": {
    "deletable": false,
    "editable": false,
    "nbgrader": {
     "cell_type": "code",
     "checksum": "6527084fabb1b71fd5545972b155c08b",
     "grade": true,
     "grade_id": "cell-ec062108f58d1520",
     "locked": true,
     "points": 1,
     "schema_version": 3,
     "solution": false,
     "task": false
    }
   },
   "outputs": [],
   "source": [
    "assert CRH is not None, 'Store the result into the variable \\'CRH\\'!'\n",
    "assert CRH.shape == (2,2,2), 'The full joint distribution table must have shape (2,2,2)'\n",
    "assert CRH.sum() == 1, 'The probabilities of all atomic events must sum to one.'\n"
   ]
  },
  {
   "cell_type": "markdown",
   "metadata": {
    "deletable": false,
    "editable": false,
    "nbgrader": {
     "cell_type": "markdown",
     "checksum": "aad3585cdd44afbdd50d6bc0a5ddfd0d",
     "grade": false,
     "grade_id": "cell-b64bca9a4bdc38bd",
     "locked": true,
     "schema_version": 3,
     "solution": false,
     "task": false
    }
   },
   "source": [
    "---\n",
    "### 1.3. Probabilistic Queries\n",
    "\n",
    "\n",
    "Compute the following two probabilistic queries. For each query, there are three tasks:\n",
    "1. Write down the *probabilistic query* and the *expression to compute the answer from the full joint distribution* (you do not need to do the actual computation). Keep your answer short and use $\\LaTeX$ and Markdown.\n",
    "2. Give the *shape of the result of the probabilistic query* (without singleton dimensions) and the *number of non-redundant entries* in the result, storing your answer into the provided variables. Example:\n",
    " - the full joint distirbution table of the previous example has a three dimensions with two entries each, thus it's shape is (2,2,2)\n",
    " - the full joint distribution table has $2*2*2$ entries; however one of them is redundant; thus the number of non-redundant entries is $2*2*2 - 1$.\n",
    "3. Check your answer with the `inference_by_enumeration` function and store the result into the provided variable. **If necessary, select the result for the given evidence and remove all singleton dimensions.**"
   ]
  },
  {
   "cell_type": "markdown",
   "metadata": {
    "deletable": false,
    "editable": false,
    "nbgrader": {
     "cell_type": "markdown",
     "checksum": "fa198d87db04f9be6b30d831b2974dc7",
     "grade": false,
     "grade_id": "cell-b64bca9a4bdc38db",
     "locked": true,
     "schema_version": 3,
     "solution": false,
     "task": false
    }
   },
   "source": [
    "<div class=\"alert alert-warning\">\n",
    "Compute the probability distribution over catching a marlin. (2 points)\n",
    "</div>"
   ]
  },
  {
   "cell_type": "markdown",
   "metadata": {
    "deletable": false,
    "nbgrader": {
     "cell_type": "markdown",
     "checksum": "88db38ae9157fcf1eb1be1ea55263c08",
     "grade": true,
     "grade_id": "cell-ca7d9d48de034ca9",
     "locked": false,
     "points": 1,
     "schema_version": 3,
     "solution": true,
     "task": false
    }
   },
   "source": [
    "What is the probability distribution for catching a marlin in general NOT given/known the concrete states of the the other random variables?\n",
    "\n",
    "\\begin{align*}\n",
    "P(C) = \\Sigma_{x \\in \\{r, \\neg r \\}} \\Sigma_{y \\in \\{h, \\neg h \\}} P(C, R=x, H=y)\n",
    "\\end{align*}"
   ]
  },
  {
   "cell_type": "code",
   "execution_count": 58,
   "metadata": {
    "deletable": false,
    "jupyter": {
     "outputs_hidden": true
    },
    "nbgrader": {
     "cell_type": "code",
     "checksum": "36a854857dcaa4b020f49f37eb93183f",
     "grade": false,
     "grade_id": "cell-799837f1d9e67e4d",
     "locked": false,
     "schema_version": 3,
     "solution": true,
     "task": false
    }
   },
   "outputs": [],
   "source": [
    "probability_table_shape = (2,) # Only the shape of C is remaining # e.g., (2,2,2) for the FJDT, (2,) for a vector, () for a scalar\n",
    "number_non_redundant_elements = 2 - 1 # e.g., 2*2*2 - 1 for the FJDT \n",
    "C = inference_by_enumeration(CRH, (0,), ()).squeeze()\n",
    "# Use inference_by_enumeration to compute the result. Select the result for the given evidence (if any) and discard singleton dimensions.\n"
   ]
  },
  {
   "cell_type": "code",
   "execution_count": 56,
   "metadata": {
    "deletable": false,
    "editable": false,
    "nbgrader": {
     "cell_type": "code",
     "checksum": "d87b4791441f162fa9d09dbb2e4a8b54",
     "grade": true,
     "grade_id": "cell-0b1fb5bccc5bd6aa",
     "locked": true,
     "points": 1,
     "schema_version": 3,
     "solution": false,
     "task": false
    }
   },
   "outputs": [],
   "source": [
    "assert type(probability_table_shape) is tuple, 'Shape of the result must be a tuple.'\n",
    "assert type(number_non_redundant_elements) is int, 'Number of elements must be int.'\n",
    "assert C is not None, 'Store the result into the variable \\'C\\'!'\n"
   ]
  },
  {
   "cell_type": "markdown",
   "metadata": {
    "deletable": false,
    "editable": false,
    "nbgrader": {
     "cell_type": "markdown",
     "checksum": "056360c5a3aa5e5b45a329c82cb9f406",
     "grade": false,
     "grade_id": "cell-76f2ef690962ea83",
     "locked": true,
     "schema_version": 3,
     "solution": false,
     "task": false
    }
   },
   "source": [
    "<div class=\"alert alert-warning\">\n",
    "Compute the probability distribution over catching a marlin given that the weather is <b>not</b> rainy. (2 points)\n",
    "</div>"
   ]
  },
  {
   "cell_type": "markdown",
   "metadata": {
    "deletable": false,
    "nbgrader": {
     "cell_type": "markdown",
     "checksum": "62ee3c9889feb0b3c4a1053622816215",
     "grade": true,
     "grade_id": "cell-35c1fbb0bedbd99d",
     "locked": false,
     "points": 1,
     "schema_version": 3,
     "solution": true,
     "task": false
    }
   },
   "source": [
    "What is the probability distribution for catching a marlin assuming that the the random variable R has the event NOT rainy?\n",
    "\n",
    "\\begin{align*}\n",
    "P(C, \\neg r) &= \\Sigma_{y \\in \\{h, \\neg h \\}} P(C, \\neg r, H=y)\\\\\n",
    "P(\\neg r) &= \\Sigma_{z \\in \\{c, \\neg c \\}}  \\Sigma_{y \\in \\{h, \\neg h \\}} P(\\neg r, C=z, H=y)\\\\\n",
    "P(C|\\neg r) &= \\frac{P(C,\\neg r)}{P(\\neg r)} \n",
    "\\end{align*}"
   ]
  },
  {
   "cell_type": "code",
   "execution_count": 79,
   "metadata": {
    "deletable": false,
    "nbgrader": {
     "cell_type": "code",
     "checksum": "6ad2700c112d068bfb6f7b7517c47bd3",
     "grade": false,
     "grade_id": "cell-2562d460b40a9390",
     "locked": false,
     "schema_version": 3,
     "solution": true,
     "task": false
    }
   },
   "outputs": [],
   "source": [
    "probability_table_shape = (2,) # e.g., (2,2,2) for the FJDT, (2,) for a vector, () for a scalar\n",
    "number_non_redundant_elements = 2 -1  # e.g., 2*2*2 - 1 for the FJDT\n",
    "C_not_r = inference_by_enumeration(CRH, (0,), (1,))[:,0].squeeze()\n",
    "# Use inference_by_enumeration to compute the result. Select the result for the given evidence (if any) and discard singleton dimensions.\n"
   ]
  },
  {
   "cell_type": "code",
   "execution_count": 80,
   "metadata": {
    "deletable": false,
    "editable": false,
    "nbgrader": {
     "cell_type": "code",
     "checksum": "ce7d6bab51e5e5ecbb336bfc07593b94",
     "grade": true,
     "grade_id": "cell-83e9f4c5300646fc",
     "locked": true,
     "points": 1,
     "schema_version": 3,
     "solution": false,
     "task": false
    }
   },
   "outputs": [],
   "source": [
    "assert type(probability_table_shape) is tuple, 'Shape of the result must be a tuple.'\n",
    "assert type(number_non_redundant_elements) is int, 'Number of elements must be int.'\n",
    "assert C_not_r is not None, 'Store the result into the variable \\'C_not_r\\'!'\n"
   ]
  },
  {
   "cell_type": "markdown",
   "metadata": {
    "deletable": false,
    "editable": false,
    "nbgrader": {
     "cell_type": "markdown",
     "checksum": "42857488a1cdc09494f1f9a81014da2f",
     "grade": false,
     "grade_id": "cell-b595169e7b70a756",
     "locked": true,
     "schema_version": 3,
     "solution": false,
     "task": false
    }
   },
   "source": [
    "---\n",
    "### 1.4. Independence\n",
    "\n",
    "<div class=\"alert alert-warning\">\n",
    "Prove that catching the marlin is not independent of the weather being rainy, (i.e., $C \\not \\perp R$) by showing that the joint distribution of the variables is not equal to the product of the marginals. Check your result with NumPy. (1 point)\n",
    "</div>\n",
    "\n",
    "\n",
    "\n",
    "**Hint**: It is sufficient to print the joint distribution and the product of the marginal distributions (use `print_table`.)"
   ]
  },
  {
   "cell_type": "code",
   "execution_count": 102,
   "metadata": {
    "deletable": false,
    "nbgrader": {
     "cell_type": "code",
     "checksum": "6b1fdcfbad66991e07f9dad98c2cdd0f",
     "grade": false,
     "grade_id": "cell-f2c76a832cc06c59",
     "locked": false,
     "schema_version": 3,
     "solution": true,
     "task": false
    }
   },
   "outputs": [
    {
     "name": "stdout",
     "output_type": "stream",
     "text": [
      "Joint Probability:\n"
     ]
    },
    {
     "data": {
      "text/html": [
       "<table><tr><td> </td><td>$r_0$</td><td>$r_1$</td></tr><tr><td>$c_0$</td><td>0.520</td><td>0.420</td></tr><tr><td>$c_1$</td><td>0.050</td><td>0.010</td></tr></table>"
      ],
      "text/plain": [
       "<IPython.core.display.HTML object>"
      ]
     },
     "metadata": {},
     "output_type": "display_data"
    },
    {
     "name": "stdout",
     "output_type": "stream",
     "text": [
      "Product of Marginals:\n"
     ]
    },
    {
     "data": {
      "text/html": [
       "<table><tr><td> </td><td>$r_0$</td><td>$r_1$</td></tr><tr><td>$c_0$</td><td>0.536</td><td>0.404</td></tr><tr><td>$c_1$</td><td>0.034</td><td>0.026</td></tr></table>"
      ],
      "text/plain": [
       "<IPython.core.display.HTML object>"
      ]
     },
     "metadata": {},
     "output_type": "display_data"
    }
   ],
   "source": [
    "CR = inference_by_enumeration(CRH, (0,1), ()).squeeze() # store the joint distribution into this variable\n",
    "\n",
    "# Make some kind of cartesian product:\n",
    "\n",
    "# PC gives us the rows as C is the dim 0:\n",
    "PC = inference_by_enumeration(CRH, (0,), ()).squeeze()\n",
    "PC_expanded = np.asarray([PC[0], PC[0], PC[1], PC[1]]) # [row0/negated c, row0/negated c, row1/c, row1/c]\n",
    "\n",
    "# PR gives us the columns as R is the dim 1:\n",
    "PR = inference_by_enumeration(CRH, (1,), ()).squeeze()\n",
    "PR_expanded = np.concatenate((PR,PR)) # [column0/negated r, column1/r, column0/negated r, column1/r]\n",
    "\n",
    "# Take the product and reshape it such that the above explained row-column-structure becomes true:\n",
    "C_times_R = (PC_expanded * PR_expanded).reshape(2,2) # store the product of the marginal distributions into this variable\n",
    "\n",
    "print('Joint Probability:')\n",
    "print_table(CR, 'CR')\n",
    "\n",
    "print('Product of Marginals:')\n",
    "print_table(C_times_R, 'CR')"
   ]
  },
  {
   "cell_type": "code",
   "execution_count": 103,
   "metadata": {
    "deletable": false,
    "editable": false,
    "nbgrader": {
     "cell_type": "code",
     "checksum": "f6c1822a531ebdfb796c71fab17f184e",
     "grade": true,
     "grade_id": "cell-1264ae651b7ddb7b",
     "locked": true,
     "points": 1,
     "schema_version": 3,
     "solution": false,
     "task": false
    }
   },
   "outputs": [],
   "source": [
    "assert type(CR) == np.ndarray, 'Results must be NumPy arrays.'\n",
    "assert type(C_times_R) == np.ndarray, 'Results must be NumPy arrays.'\n",
    "\n",
    "assert CR.shape == (2,2), 'Results must be 2x2 arrays.'\n",
    "assert C_times_R.shape == (2,2), 'Results must be 2x2 arrays.'"
   ]
  }
 ],
 "metadata": {
  "kernelspec": {
   "display_name": "Python 3 (ipykernel)",
   "language": "python",
   "name": "python3"
  },
  "language_info": {
   "codemirror_mode": {
    "name": "ipython",
    "version": 3
   },
   "file_extension": ".py",
   "mimetype": "text/x-python",
   "name": "python",
   "nbconvert_exporter": "python",
   "pygments_lexer": "ipython3",
   "version": "3.8.5"
  }
 },
 "nbformat": 4,
 "nbformat_minor": 4
}
