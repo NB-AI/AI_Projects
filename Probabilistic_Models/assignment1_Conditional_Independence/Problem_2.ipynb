{
 "cells": [
  {
   "cell_type": "code",
   "execution_count": 2,
   "id": "6228d539",
   "metadata": {
    "deletable": false,
    "editable": false,
    "nbgrader": {
     "cell_type": "code",
     "checksum": "bf4edfab2cd9dc5728c12e9d21f7c91e",
     "grade": false,
     "grade_id": "cell-686cb3d799ec8a43",
     "locked": true,
     "schema_version": 3,
     "solution": false,
     "task": false
    }
   },
   "outputs": [],
   "source": [
    "import numpy as np\n",
    "from helpers import print_table"
   ]
  },
  {
   "cell_type": "markdown",
   "id": "2a6db36b",
   "metadata": {
    "deletable": false,
    "editable": false,
    "nbgrader": {
     "cell_type": "markdown",
     "checksum": "e0587286227d1be31789987ef122fc1c",
     "grade": false,
     "grade_id": "cell-73f8efb96600e317",
     "locked": true,
     "schema_version": 3,
     "solution": false,
     "task": false
    }
   },
   "source": [
    "# 2. Pairwise vs. Mutual Independence (6 points)\n",
    "\n",
    "**Definition**: We say that two random variables are *pairwise independent* if $$p(X_n \\mid X_m) = p(X_n)$$ and hence $$p(X_m, X_n) =  p(X_n \\mid X_m) p(X_m) = p(X_n) p(X_m) $$\n",
    "\n",
    "**Definition**: We say that $n$ random variables are *mutually independent* if $$p(X_i \\mid X_{S}) = p(X_i)\\;\\; \\forall S \\subseteq \\{1, \\dots, n\\} \\setminus \\{ i \\}$$ and hence $$p(X_{1:n}) = \\prod_{i=1}^n p(X_i)$$\n",
    "\n",
    "\n",
    "\n",
    "\n",
    "<div class=\"alert alert-warning\">\n",
    "Show that pairwise independence between all pairs of variables does not necessarily imply mutual independence. Come up with a minimal counter example that has exactly three binary random variables.\n",
    "</div>\n",
    "\n",
    "Specify this counterexample via its full joint distribution table (FJDT). **Briefly** outline your thought process in the text field below (use $\\LaTeX$ and markdown) and store the model's full joint distribution table into the `XYZ` variable. It is sufficient to show pairwise independence and non-mutual independence by comparing products of marginals and joint distributions. \n",
    "\n",
    "**Hint**: Copy your implementation of `inference_by_enumeration` from Problem 1. You can use `print_table` to visualize your distribution tables such as the FJDT, products of marginals, and joint distributions."
   ]
  },
  {
   "cell_type": "code",
   "execution_count": 35,
   "id": "2686bd8f",
   "metadata": {
    "deletable": false,
    "editable": false,
    "nbgrader": {
     "cell_type": "code",
     "checksum": "762aadb6b57567c75e543872c27732ff",
     "grade": false,
     "grade_id": "cell-1c3382c777224895",
     "locked": true,
     "schema_version": 3,
     "solution": false,
     "task": false
    }
   },
   "outputs": [
    {
     "name": "stdout",
     "output_type": "stream",
     "text": [
      "Help on function print_table in module helpers:\n",
      "\n",
      "print_table(probability_table: numpy.ndarray, variable_names: str) -> None\n",
      "    Prints a probability distribution table.\n",
      "    \n",
      "    Parameters\n",
      "    ----------\n",
      "    probability_table : np.ndarray\n",
      "        The probability distribution table\n",
      "    variable_names : str\n",
      "        A string containing the variable names, e.g., 'CDE'.\n",
      "    \n",
      "    Returns\n",
      "    -------\n",
      "    None\n",
      "\n"
     ]
    }
   ],
   "source": [
    "help(print_table)"
   ]
  },
  {
   "cell_type": "markdown",
   "id": "0b164716",
   "metadata": {
    "deletable": false,
    "nbgrader": {
     "cell_type": "markdown",
     "checksum": "0fc1123a3a6796ef6275f1f58cb4ff0c",
     "grade": true,
     "grade_id": "cell-6ced5d0ec1cbd764",
     "locked": false,
     "points": 2,
     "schema_version": 3,
     "solution": true,
     "task": false
    }
   },
   "source": [
    "XOR function: When we have ${X_1, X_2, X_3}$, $X_1$ and $X_2$ can rely on independent events in the real world. In contrast, $X_3$ can be formulated by looking at the realized values of $X_1$ and $X_2$ and making a COMBINATION out of it. So, $X_3$ would be independent of $X_1$ and $X_2$ (pairwise independence fulfilled) but not of a combination out of $X_1$ and $X_2$ (mutual independence NOT fulfilled).\n",
    "More precisely:\n",
    "\n",
    "\\begin{align*}\n",
    "X_1 = 0, X_2 = 0 -> X_3 = 0\\\\\n",
    "X_1 = 1, X_2 = 0 -> X_3 = 1\\\\\n",
    "X_1 = 0, X_2 = 1 -> X_3 = 1\\\\\n",
    "X_1 = 1, X_2 = 1 -> X_3 = 0\\\\\n",
    "\\end{align*}"
   ]
  },
  {
   "cell_type": "code",
   "execution_count": 19,
   "id": "2532098b",
   "metadata": {
    "deletable": false,
    "nbgrader": {
     "cell_type": "code",
     "checksum": "00271c6bdb0b928a11b9ff99d368237c",
     "grade": false,
     "grade_id": "cell-7f0b4fa0aa65bb39",
     "locked": false,
     "schema_version": 3,
     "solution": true,
     "task": false
    }
   },
   "outputs": [
    {
     "data": {
      "text/html": [
       "<table><tr><td> </td><td>$y_0$</td><td>$y_0$</td><td>$y_1$</td><td>$y_1$</td></tr><tr><td> </td><td>$z_0$</td><td>$z_1$</td><td>$z_0$</td><td>$z_1$</td></tr><tr><td>$x_0$</td><td>0.250</td><td>0.000</td><td>0.000</td><td>0.250</td></tr><tr><td>$x_1$</td><td>0.000</td><td>0.250</td><td>0.250</td><td>0.000</td></tr></table>"
      ],
      "text/plain": [
       "<IPython.core.display.HTML object>"
      ]
     },
     "metadata": {},
     "output_type": "display_data"
    }
   ],
   "source": [
    "# again: array shape AxBxC: A as number of 2d arrays, B as rows, C as columns\n",
    "\n",
    "# Tossing a coin: X as coin1, Y as coin2, Z as XOR function of X and Y. Therefore, when X and Y event \n",
    "# already known Z is no surprise anymore, e.g. P(Z=0|X=0,Y=0)=1. From this it follows \n",
    "# P(Z=0,X=0,Y=0) = P(X=0,Y=0) = 1/2 * 1/2 = 1/4,\n",
    "# P(Z=1,X=0,Y=0)=0. Through this the table sums up to 1.\n",
    "\n",
    "XYZ = np.zeros((2,2,2))\n",
    "XYZ[0,0,0]=1/4\n",
    "XYZ[0,1,1]=1/4\n",
    "XYZ[1,0,1]=1/4\n",
    "XYZ[1,1,0]=1/4\n",
    "\n",
    "print_table(XYZ, 'XYZ')\n"
   ]
  },
  {
   "cell_type": "code",
   "execution_count": 69,
   "id": "3bf07ba0",
   "metadata": {
    "deletable": false,
    "nbgrader": {
     "cell_type": "code",
     "checksum": "d3a8ca023ad6c3e1a32e248e3e1db8fc",
     "grade": false,
     "grade_id": "cell-1486738b77c0d868",
     "locked": false,
     "schema_version": 3,
     "solution": true,
     "task": false
    }
   },
   "outputs": [
    {
     "name": "stdout",
     "output_type": "stream",
     "text": [
      "Table joint P(X,Y):\n"
     ]
    },
    {
     "data": {
      "text/html": [
       "<table><tr><td> </td><td>$y_0$</td><td>$y_1$</td></tr><tr><td>$x_0$</td><td>0.250</td><td>0.250</td></tr><tr><td>$x_1$</td><td>0.250</td><td>0.250</td></tr></table>"
      ],
      "text/plain": [
       "<IPython.core.display.HTML object>"
      ]
     },
     "metadata": {},
     "output_type": "display_data"
    },
    {
     "name": "stdout",
     "output_type": "stream",
     "text": [
      "Table joint P(Y,Z):\n"
     ]
    },
    {
     "data": {
      "text/html": [
       "<table><tr><td> </td><td>$z_0$</td><td>$z_1$</td></tr><tr><td>$y_0$</td><td>0.250</td><td>0.250</td></tr><tr><td>$y_1$</td><td>0.250</td><td>0.250</td></tr></table>"
      ],
      "text/plain": [
       "<IPython.core.display.HTML object>"
      ]
     },
     "metadata": {},
     "output_type": "display_data"
    },
    {
     "name": "stdout",
     "output_type": "stream",
     "text": [
      "Table joint P(X,Z):\n"
     ]
    },
    {
     "data": {
      "text/html": [
       "<table><tr><td> </td><td>$z_0$</td><td>$z_1$</td></tr><tr><td>$x_0$</td><td>0.250</td><td>0.250</td></tr><tr><td>$x_1$</td><td>0.250</td><td>0.250</td></tr></table>"
      ],
      "text/plain": [
       "<IPython.core.display.HTML object>"
      ]
     },
     "metadata": {},
     "output_type": "display_data"
    },
    {
     "name": "stdout",
     "output_type": "stream",
     "text": [
      "Product table joint P(X)*P(Y):\n"
     ]
    },
    {
     "data": {
      "text/html": [
       "<table><tr><td> </td><td>$y_0$</td><td>$y_1$</td></tr><tr><td>$x_0$</td><td>0.250</td><td>0.250</td></tr><tr><td>$x_1$</td><td>0.250</td><td>0.250</td></tr></table>"
      ],
      "text/plain": [
       "<IPython.core.display.HTML object>"
      ]
     },
     "metadata": {},
     "output_type": "display_data"
    },
    {
     "name": "stdout",
     "output_type": "stream",
     "text": [
      "Product table joint P(Y)*P(Z):\n"
     ]
    },
    {
     "data": {
      "text/html": [
       "<table><tr><td> </td><td>$z_0$</td><td>$z_1$</td></tr><tr><td>$y_0$</td><td>0.250</td><td>0.250</td></tr><tr><td>$y_1$</td><td>0.250</td><td>0.250</td></tr></table>"
      ],
      "text/plain": [
       "<IPython.core.display.HTML object>"
      ]
     },
     "metadata": {},
     "output_type": "display_data"
    },
    {
     "name": "stdout",
     "output_type": "stream",
     "text": [
      "Product table joint P(X)*P(Z):\n"
     ]
    },
    {
     "data": {
      "text/html": [
       "<table><tr><td> </td><td>$z_0$</td><td>$z_1$</td></tr><tr><td>$x_0$</td><td>0.250</td><td>0.250</td></tr><tr><td>$x_1$</td><td>0.250</td><td>0.250</td></tr></table>"
      ],
      "text/plain": [
       "<IPython.core.display.HTML object>"
      ]
     },
     "metadata": {},
     "output_type": "display_data"
    },
    {
     "name": "stdout",
     "output_type": "stream",
     "text": [
      "Product table P(X)*P(Y)*P(Z):\n"
     ]
    },
    {
     "data": {
      "text/html": [
       "<table><tr><td> </td><td>$y_0$</td><td>$y_0$</td><td>$y_1$</td><td>$y_1$</td></tr><tr><td> </td><td>$z_0$</td><td>$z_1$</td><td>$z_0$</td><td>$z_1$</td></tr><tr><td>$x_0$</td><td>0.125</td><td>0.125</td><td>0.125</td><td>0.125</td></tr><tr><td>$x_1$</td><td>0.125</td><td>0.125</td><td>0.125</td><td>0.125</td></tr></table>"
      ],
      "text/plain": [
       "<IPython.core.display.HTML object>"
      ]
     },
     "metadata": {},
     "output_type": "display_data"
    },
    {
     "name": "stdout",
     "output_type": "stream",
     "text": [
      "Table full joint distribution of X, Y, and Z:\n"
     ]
    },
    {
     "data": {
      "text/html": [
       "<table><tr><td> </td><td>$y_0$</td><td>$y_0$</td><td>$y_1$</td><td>$y_1$</td></tr><tr><td> </td><td>$z_0$</td><td>$z_1$</td><td>$z_0$</td><td>$z_1$</td></tr><tr><td>$x_0$</td><td>0.250</td><td>0.000</td><td>0.000</td><td>0.250</td></tr><tr><td>$x_1$</td><td>0.000</td><td>0.250</td><td>0.250</td><td>0.000</td></tr></table>"
      ],
      "text/plain": [
       "<IPython.core.display.HTML object>"
      ]
     },
     "metadata": {},
     "output_type": "display_data"
    },
    {
     "name": "stdout",
     "output_type": "stream",
     "text": [
      "\n",
      "We observe what is already described above. We have: P(X,Y,Z) != P(X)*P(Y)*P(Z), NO mutual independence. \n",
      "However, pairwise independence is given with, e.g. P(X,Y) = P(X)*P(Y). The regarding tables contain\n",
      "identical values. \n",
      "It follows that pairwise independence for all variables can be given but out of this DOESN'T follow\n",
      "the mutual independence.\n",
      "\n"
     ]
    }
   ],
   "source": [
    "# copy inference_by_enumeration from Problem 1 & print and compare the probability tables here!\n",
    "def inference_by_enumeration(\n",
    "    FJDT: np.ndarray, \n",
    "    query_variable_indices: tuple, \n",
    "    evidence_variable_indices: tuple=tuple()\n",
    ") -> np.ndarray:\n",
    "    '''\n",
    "    Computes the answer to a probabilistic query exactly from the full joint distribution table.\n",
    "    :param table: The full joint distribution table as a np.ndarray.\n",
    "    :param query_variable_indices: A tuple containing the indices of the query variables in the FJDT.\n",
    "    :param evidence_variable_indices: A tuple containing the indices of the evidence variables in the FJDT.\n",
    "    :returns: The answer to the probabilistic query; a `np.ndarray`.\n",
    "    ''' \n",
    "    assert type(FJDT) == np.ndarray, \"FJDT must be a np.ndarray\"\n",
    "    assert type(query_variable_indices) == tuple, \"query_variable_indices must be a tuple\"\n",
    "    assert type(evidence_variable_indices) == tuple, \"evidence_variable_indices must be a tuple\"\n",
    "        \n",
    "    # VL 2, slide 40:\n",
    "    \n",
    "    # 1. P(X,y)=\n",
    "    # Find out the variable indices which not belong to the query and evidence:\n",
    "    set_merged = set(query_variable_indices + evidence_variable_indices)\n",
    "    set_full = set(range(len(FJDT.shape)))\n",
    "    tuple_non_evidence = tuple(set_full-set_merged)\n",
    "    \n",
    "    PXAndy = np.sum(FJDT, axis=tuple_non_evidence, keepdims=True) # each Y dimension should be still there\n",
    "\n",
    "    # 2. Normalizaztion constant Z=P(y)=\n",
    "    Py = np.sum(PXAndy, axis=query_variable_indices, keepdims=True) # each Y dimension should be still there\n",
    "    \n",
    "    # 3. P(X|y)=\n",
    "    PXgiveny = PXAndy/Py\n",
    "\n",
    "    return PXgiveny\n",
    "\n",
    "\n",
    "# Joints:\n",
    "PXY = inference_by_enumeration(XYZ, (0,1), ()).squeeze()\n",
    "PYZ = inference_by_enumeration(XYZ, (1,2), ()).squeeze()\n",
    "PXZ = inference_by_enumeration(XYZ, (0,2), ()).squeeze()\n",
    "print('Table joint P(X,Y):')\n",
    "print_table(PXY, 'XY')\n",
    "print('Table joint P(Y,Z):')\n",
    "print_table(PYZ, 'YZ')\n",
    "print('Table joint P(X,Z):')\n",
    "print_table(PXZ, 'XZ')\n",
    "\n",
    "\n",
    "# Marginals:\n",
    "PX = inference_by_enumeration(XYZ, (0,), ()).squeeze()\n",
    "PY = inference_by_enumeration(XYZ, (1,), ()).squeeze()\n",
    "PZ = inference_by_enumeration(XYZ, (2,), ()).squeeze()\n",
    "\n",
    "PXPY = np.asarray([[PX[0]*PY[0],PX[0]*PY[1]],[PX[1]*PY[0],PX[1]*PY[1]]])\n",
    "print('Product table joint P(X)*P(Y):')\n",
    "print_table(PXPY, 'XY')\n",
    "\n",
    "PYPZ = np.asarray([[PY[0]*PZ[0],PY[0]*PZ[1]],[PY[1]*PZ[0],PY[1]*PZ[1]]])\n",
    "print('Product table joint P(Y)*P(Z):')\n",
    "print_table(PYPZ, 'YZ')\n",
    "\n",
    "PXPZ = np.asarray([[PX[0]*PZ[0],PX[0]*PZ[1]],[PX[1]*PZ[0],PX[1]*PZ[1]]])\n",
    "print('Product table joint P(X)*P(Z):')\n",
    "print_table(PXPZ, 'XZ')\n",
    "\n",
    "\n",
    "# Cartesian product:\n",
    "product_ar = np.asarray([[[PX[0]*PY[0]*PZ[0], PX[0]*PY[0]*PZ[1]],[PX[0]*PY[1]*PZ[0], PX[0]*PY[1]*PZ[1]]],\n",
    "                         [[PX[1]*PY[0]*PZ[0], PX[1]*PY[0]*PZ[1]],[PX[1]*PY[1]*PZ[0], PX[1]*PY[1]*PZ[1]]]])\n",
    "\n",
    "print('Product table P(X)*P(Y)*P(Z):')\n",
    "print_table(product_ar, 'XYZ')\n",
    "\n",
    "\n",
    "PXYZ = inference_by_enumeration(XYZ, (0,1,2), ()).squeeze()\n",
    "print('Table full joint distribution of X, Y, and Z:')\n",
    "print_table(PXYZ, 'XYZ')\n",
    "\n",
    "print('''\n",
    "We observe what is already described above. We have: P(X,Y,Z) != P(X)*P(Y)*P(Z), NO mutual independence. \n",
    "However, pairwise independence is given with, e.g. P(X,Y) = P(X)*P(Y). The regarding tables contain\n",
    "identical values. \n",
    "It follows that pairwise independence for all variables can be given but out of this DOESN'T follow\n",
    "the mutual independence.\n",
    "''')"
   ]
  },
  {
   "cell_type": "code",
   "execution_count": 70,
   "id": "38e79d08",
   "metadata": {
    "deletable": false,
    "editable": false,
    "nbgrader": {
     "cell_type": "code",
     "checksum": "a6171309d3dbc1b8202ad85fdddde70a",
     "grade": true,
     "grade_id": "cell-b612791dd41278bf",
     "locked": true,
     "points": 4,
     "schema_version": 3,
     "solution": false,
     "task": false
    }
   },
   "outputs": [],
   "source": [
    "assert XYZ.shape == (2, 2, 2), 'FJDT must have shape (2,2,2)'\n",
    "assert np.isclose(XYZ.sum(), 1), 'Probabilites in FJDT must sum to one'\n"
   ]
  }
 ],
 "metadata": {
  "kernelspec": {
   "display_name": "Python 3 (ipykernel)",
   "language": "python",
   "name": "python3"
  },
  "language_info": {
   "codemirror_mode": {
    "name": "ipython",
    "version": 3
   },
   "file_extension": ".py",
   "mimetype": "text/x-python",
   "name": "python",
   "nbconvert_exporter": "python",
   "pygments_lexer": "ipython3",
   "version": "3.8.5"
  }
 },
 "nbformat": 4,
 "nbformat_minor": 5
}
