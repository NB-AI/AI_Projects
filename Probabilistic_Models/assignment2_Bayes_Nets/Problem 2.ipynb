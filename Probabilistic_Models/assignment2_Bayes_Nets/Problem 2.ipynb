{
 "cells": [
  {
   "cell_type": "code",
   "execution_count": 1,
   "metadata": {
    "deletable": false,
    "editable": false,
    "nbgrader": {
     "cell_type": "code",
     "checksum": "ed3ba9a4086fd29adb494baabfa57d75",
     "grade": false,
     "grade_id": "cell-daf151e86f3cee0d",
     "locked": true,
     "schema_version": 3,
     "solution": false,
     "task": false
    }
   },
   "outputs": [],
   "source": [
    "import numpy as np\n",
    "import matplotlib.pyplot as plt\n",
    "\n",
    "from bayesian_network import BayesNet, Variable\n",
    "from utils import sample_categorical\n",
    "from typing import Iterator"
   ]
  },
  {
   "cell_type": "markdown",
   "metadata": {
    "deletable": false,
    "editable": false,
    "nbgrader": {
     "cell_type": "markdown",
     "checksum": "220f9c8d93d13e2988fadd7c9ce75692",
     "grade": false,
     "grade_id": "cell-63803d6871192d91",
     "locked": true,
     "schema_version": 3,
     "solution": false,
     "task": false
    }
   },
   "source": [
    "# Topological Sort\n",
    "\n",
    "For Likelihood Weighting, we need to implement a `sample_lw` function that requires iterating over the network's variables in a topologically sorted way. For this purpose, we can **reuse** our implementation from **Problem 1**. \n",
    "\n",
    "<div class=\"alert alert-warning\">\n",
    "Copy your implementation of topological sort from Problem 1 to the cell below.\n",
    "</div>"
   ]
  },
  {
   "cell_type": "code",
   "execution_count": 2,
   "metadata": {
    "deletable": false,
    "nbgrader": {
     "cell_type": "code",
     "checksum": "b2b15a2bbc167d6d34982caf3ba91774",
     "grade": false,
     "grade_id": "cell-4fdbfbff6857bbe0",
     "locked": false,
     "schema_version": 3,
     "solution": true,
     "task": false
    }
   },
   "outputs": [],
   "source": [
    "def __iter__(self) -> Iterator[Variable]:\n",
    "    \"\"\"\n",
    "    Iterates over all variables in the Bayesian network in topological ordering, i.e.,\n",
    "    for an edge from a variable X to a variable Y, X is returned before Y.  \n",
    "    Since a Bayesian network is a directed acyclic graph, a topological ordering can always be found. \n",
    "\n",
    "    :yields: variable after variable according to the network's topology.\n",
    "    \"\"\"\n",
    "    \n",
    "    # list of topologically sorted variables to be returned\n",
    "    sorted_variables = list()  \n",
    "    # all variables in the network encoded as a dictionary (keys: variable ids, values: Variable objects)\n",
    "    variables = self.nodes  \n",
    "    \n",
    "\n",
    "    # My plan: count for each node its deepest depth within the network paths. The deepest depth determines\n",
    "    # its position within the output list.\n",
    "    \n",
    "    # 1. find nodes without parents:\n",
    "    parent_list = []\n",
    "    for (id_,value) in self.nodes.items():\n",
    "        if len(value.parents) == 0:\n",
    "            parent_list.append(id_)\n",
    " \n",
    "    # 2. go all paths to find the deepest depths:\n",
    "    # create for each variable a dictionary entry which stores it depth:\n",
    "    depth_dict = {var:0 for var in variables.keys()}\n",
    "    \n",
    "    def inner_func(depth, current_set):\n",
    "        \n",
    "        for variable_id in current_set:\n",
    "            \n",
    "            depth_dict[variable_id] = depth\n",
    "            variable_ele = variables[variable_id]\n",
    "            \n",
    "            if len(variable_ele.children) > 0:\n",
    "                \n",
    "                set_children = variable_ele.children # gives IDs\n",
    "                \n",
    "                depth += 1 \n",
    "                inner_func(depth, set_children) # go one deeper by stepping down to the children\n",
    "            \n",
    "    inner_func(depth=0, current_set=parent_list)\n",
    "\n",
    "    # 3. reformulate the found output to a topologically correctly ordered list:\n",
    "    sorted_variables_id = dict(sorted(depth_dict.items(), key=lambda item: item[1])).keys()\n",
    "\n",
    "    sorted_variables = [variables[id_] for id_ in sorted_variables_id]\n",
    "\n",
    "    for node in sorted_variables:\n",
    "        yield node\n",
    "\n",
    "# bind the implemented iterator method to the BayesNet\n",
    "BayesNet.__iter__ = __iter__"
   ]
  },
  {
   "cell_type": "code",
   "execution_count": 3,
   "metadata": {
    "deletable": false,
    "editable": false,
    "nbgrader": {
     "cell_type": "code",
     "checksum": "802441a67d304aa095b267f9c6c56d96",
     "grade": true,
     "grade_id": "cell-230dbfcbd87cccb2",
     "locked": true,
     "points": 0,
     "schema_version": 3,
     "solution": false,
     "task": false
    }
   },
   "outputs": [],
   "source": [
    "# sanity checks\n",
    "A = np.ones((2,)) / 2\n",
    "B_AC = np.ones((2,2,2)) / 2\n",
    "C_A = np.ones((2,2)) / 2\n",
    "D_BC = np.ones((2,2,2)) / 2\n",
    "\n",
    "_A_, _B_, _C_, _D_ = 0, 1, 2, 3\n",
    "\n",
    "bayes_net = BayesNet(\n",
    "    (A, [_A_]),\n",
    "    (B_AC, [_B_, _A_, _C_]),\n",
    "    (C_A, [_C_, _A_]),\n",
    "    (D_BC, [_D_, _B_, _C_])\n",
    ")\n",
    "\n",
    "top_sorted_vars = (_A_, _C_, _B_, _D_)\n",
    "output = []\n",
    "\n",
    "for i, variable in enumerate(bayes_net):\n",
    "    assert isinstance(variable, Variable), f\"\\nWrong output type!\\nExpected: Variable\\nGiven: \\t {type(variable)}\"\n",
    "    assert variable.id == top_sorted_vars[i], f\"\\nWrong ordering!\\nExpected: \\\n",
    "        {top_sorted_vars}\\nGiven: \\t ID {variable.id} at position {i+1}\"\n",
    "    output.append(variable)\n",
    "assert len(output) == len(top_sorted_vars), f\"\\nWrong number of variables!\\nExpected: \\\n",
    "    {len(top_sorted_vars)}\\nGiven: \\t{len(output)}\"\n",
    "    "
   ]
  },
  {
   "cell_type": "markdown",
   "metadata": {
    "deletable": false,
    "editable": false,
    "nbgrader": {
     "cell_type": "markdown",
     "checksum": "c0be90be9cc2c10ceb62257789d8ef2e",
     "grade": false,
     "grade_id": "cell-9a30362ada77062c",
     "locked": true,
     "schema_version": 3,
     "solution": false,
     "task": false
    }
   },
   "source": [
    "# Likelihood Weighting\n",
    "\n",
    "This notebook will implement the likelihood weighting algorithm and use it to approximate the probabilistic query $P(A \\mid D, E)$ for the Bayesian Network given below. In likelihood weighting, we do not throw away samples. Instead, we force the samples to have the correct evidence but weight them according to the evidence's likelihood.\n",
    "\n",
    "To make your solutions testable, we ask you to implement two functions, namely:\n",
    "- `sample_lw`, and\n",
    "- `likelihood_weighting`.\n",
    "\n",
    "`sample_lw` returns a set of *samples* from the mutilated network ($\\mathcal{B}_{E=e}$, all consistent with the evidence $\\mathbf{e}$) and the corresponding weights for likelihood weighting. \n",
    "\n",
    "`likelihood_weighting` uses *sample_lw* and approximates $P(X \\mid \\mathbf{E}=e)$. Again, we will only consider probabilistic queries with one query variable $X$."
   ]
  },
  {
   "cell_type": "markdown",
   "metadata": {
    "deletable": false,
    "editable": false,
    "nbgrader": {
     "cell_type": "markdown",
     "checksum": "a76adbfaa1aebd2c87622ba28fe23b54",
     "grade": false,
     "grade_id": "cell-f6ec200b80880751",
     "locked": true,
     "schema_version": 3,
     "solution": false,
     "task": false
    }
   },
   "source": [
    "### Sampling from the Mutilated Network\n",
    "<div class=\"alert alert-warning\">\n",
    "    Implement the <i>sample_lw</i> function, which samples from the mutilated network $\\mathcal{B}_{E=e}$. (3 points)\n",
    "</div>\n",
    "\n",
    "The `sample_lw` function must return a tuple with two objects:\n",
    "- samples from $\\mathcal{B}_{\\mathbf{E}=\\mathbf{e}}$ of type `np.ndarray`, with shape `(sample_size, len(bayes_net))`, and\n",
    "- weights for each sample of type `np.ndarray` with shape `(sample_size,)`\n",
    "\n",
    "**Hints**: \n",
    "- If you have correctly implemented the topological sort, iterating over the *BayesNet* object returns the *Variable* objects in topological ordering. The 1-D probability distribution of variable $X$ given its parents $\\mathit{pa}(X)$, $P(X \\mid \\mathit{pa}(X))$, can be obtained by passing the (possibly incomplete) random event to the variable, i.e., `variable(samples[i])`.\n",
    "-  Use the `sample_categorical()` function to sample from a 1D-distribution."
   ]
  },
  {
   "cell_type": "code",
   "execution_count": 4,
   "metadata": {
    "deletable": false,
    "editable": false,
    "nbgrader": {
     "cell_type": "code",
     "checksum": "7d4c8a683910d671a9b96a7f47ae6f0e",
     "grade": false,
     "grade_id": "cell-0c7a6e853a8f99b8",
     "locked": true,
     "schema_version": 3,
     "solution": false,
     "task": false
    }
   },
   "outputs": [
    {
     "name": "stdout",
     "output_type": "stream",
     "text": [
      "Help on function sample_categorical in module utils:\n",
      "\n",
      "sample_categorical(dist: numpy.ndarray) -> numpy.int64\n",
      "    Draws a single sample from a categorical distribution.\n",
      "    :param dist: NumPy array listing the probability of each outcome.\n",
      "    :returns: Index of the sampled element.\n",
      "\n"
     ]
    }
   ],
   "source": [
    "from utils import sample_categorical\n",
    "help(sample_categorical)"
   ]
  },
  {
   "cell_type": "code",
   "execution_count": 5,
   "metadata": {
    "deletable": false,
    "nbgrader": {
     "cell_type": "code",
     "checksum": "221b3d06eb50151714a51f3e31786c2b",
     "grade": false,
     "grade_id": "cell-50560db0da6f5b01",
     "locked": false,
     "schema_version": 3,
     "solution": true,
     "task": false
    }
   },
   "outputs": [],
   "source": [
    "def sample_lw(bayes_net: BayesNet, sample_size: int, evidence: dict={}):\n",
    "    '''\n",
    "    Samples from the mutilated network.\n",
    "    :param bayes_net: A Bayesian network of type BayesNet.\n",
    "    :param sample_size: The number of samples to draw from the Bayesian network.\n",
    "    :param evidence: A dictionary of evidence variables (keys, int) and their correponding values (values, int).\n",
    "    :returns: A NumPy array of type np.int64 with shape (sample_size, len(bayes_net)),\n",
    "              and a NumPy array of shape (sample_size,) with the corresponding weight for each sample.\n",
    "    '''\n",
    "    \n",
    "    # arrays holding the samples and the weights\n",
    "    samples = np.empty((sample_size, len(bayes_net)), np.int64)\n",
    "    weights = np.ones(sample_size)\n",
    "    \n",
    "    \n",
    "    # lecture 04b, page 27 + 28\n",
    "    \n",
    "    for sample_round in range(sample_size):\n",
    "        \n",
    "        for i, variable in enumerate(bayes_net):\n",
    "            \n",
    "            # sampling gets ignored when variable has no parents:\n",
    "            distribution = variable(samples[sample_round]) # eg P(A)=[0.2,0.8]\n",
    "\n",
    "            if variable.id in evidence.keys():\n",
    "\n",
    "                weights[sample_round] *= distribution[evidence[variable.id]] # evidence value is the \n",
    "                # index which marks eg for A a_0/0.2 or a_1/0.8\n",
    "                '''\n",
    "                Higher weight for samples with high appearance rate.\n",
    "                '''\n",
    "                samples[sample_round, variable.id] = evidence[variable.id]\n",
    "\n",
    "            else: # like forward sampling\n",
    "\n",
    "                found_sample = sample_categorical(distribution) # get index of chosen sample of P(A)\n",
    "\n",
    "                samples[sample_round, variable.id] = found_sample\n",
    "\n",
    "    \n",
    "    return samples, weights"
   ]
  },
  {
   "cell_type": "code",
   "execution_count": 6,
   "metadata": {
    "deletable": false,
    "editable": false,
    "nbgrader": {
     "cell_type": "code",
     "checksum": "4c196cd97171497d8d81a88742d6632a",
     "grade": true,
     "grade_id": "cell-b0a2718ed2f35560",
     "locked": true,
     "points": 3,
     "schema_version": 3,
     "solution": false,
     "task": false
    }
   },
   "outputs": [],
   "source": [
    "# sanity checks\n",
    "bayes_net = BayesNet((np.array([0.5, 0.5]), [0]))\n",
    "\n",
    "samples, weights = sample_lw(bayes_net, 3)\n",
    "\n",
    "assert type(samples) == np.ndarray, f'\\nWrong output type!\\nExpected: np.ndarray\\nGiven:\\t  {type(samples)}'\n",
    "assert samples.shape == (3, 1), f'\\nWrong output shape!\\nExpected: (3, 1)\\nGiven:\\t  {samples.shape}'\n",
    "assert samples.dtype == np.int64, f'\\nWrong numpy array data type!\\nExpected: np.int64\\nGiven:\\t  {samples.dtype}'\n",
    "assert type(weights) == np.ndarray, f'\\nWrong output type!\\nExpected: np.ndarray\\nGiven:\\t  {type(weights)}'\n",
    "assert weights.shape == (3,), f'\\nWrong output shape!\\nExpected: (3,)\\nGiven:\\t  {weights.shape}'\n",
    "assert weights.dtype == np.float64, f'\\nWrong numpy array data type!\\nExpected: np.float64\\nGiven:\\t  {weights.dtype}'\n",
    "assert ((0 <= weights) & (weights <= 1)).all(), f'All weights must lie in range [0,1]\\n Got: {weights}'"
   ]
  },
  {
   "cell_type": "markdown",
   "metadata": {
    "deletable": false,
    "editable": false,
    "nbgrader": {
     "cell_type": "markdown",
     "checksum": "272612759953633b5a3bd627550f5b7a",
     "grade": false,
     "grade_id": "cell-1058384ad8c3a178",
     "locked": true,
     "schema_version": 3,
     "solution": false,
     "task": false
    }
   },
   "source": [
    "### Likelihood Weighting\n",
    "<div class=\"alert alert-warning\">\n",
    "Implement the <i>likelihood_weighting</i> function, which estimates the probability distribution over the query variable $X$ given the evidence $\\mathbf{E}=\\mathbf{e}$, $P(X \\mid \\mathbf{E}=\\mathbf{e})$. Use the <i>sample_lw</i> function implemented in the previous step. (3 points) \n",
    "</div>\n",
    "\n",
    "The `likelihood_weighting` function must return one object:\n",
    "-  The 1-D probability distribution over variable $X$ of type `np.ndarray` with shape `(bayes_net[query_variable].num_values,)`.\n",
    "\n",
    "**Hints**: \n",
    "- Use `np.bincount` to count the number of occurrences of each value. It even supports weights -- check its [documentation](https://numpy.org/doc/stable/reference/generated/numpy.bincount.html)!\n",
    "- For simplicity, we will only consider probabilistic queries with one query variable $X$."
   ]
  },
  {
   "cell_type": "code",
   "execution_count": 7,
   "metadata": {
    "deletable": false,
    "nbgrader": {
     "cell_type": "code",
     "checksum": "80e2db0d6c7e88707e4a79b98e3cf06c",
     "grade": false,
     "grade_id": "cell-638b18b56309b40e",
     "locked": false,
     "schema_version": 3,
     "solution": true,
     "task": false
    }
   },
   "outputs": [],
   "source": [
    "def likelihood_weighting(bayes_net: BayesNet, query_variable: int, evidence: dict={}, sample_size: int=100):\n",
    "    '''\n",
    "    Estimates the distribution of the query variable given the value of the evidence variables.\n",
    "    :param bayes_net: A Bayesian network of type BayesNet.\n",
    "    :param query_variable: The query variable (int).\n",
    "    :param evidence: A dictionary of evidence variables (keys, int) and their correponding values (values, int).\n",
    "    :param sample_size: The number of samples to use for the estimation.\n",
    "    :returns: A NumPy array of type np.float64 representing the conditional distribution of the query variable\n",
    "              given evidence.\n",
    "    '''\n",
    "    \n",
    "    # forward sample...\n",
    "    samples, weights = sample_lw(bayes_net, sample_size, evidence=evidence)\n",
    "\n",
    "    \n",
    "    found_query_values = samples[:, query_variable]\n",
    "    number_query_appearences = np.bincount(found_query_values, minlength=bayes_net[query_variable].num_values, weights=weights)\n",
    "    \n",
    "    distribution = number_query_appearences / np.sum(number_query_appearences)\n",
    "    \n",
    "    return distribution"
   ]
  },
  {
   "cell_type": "code",
   "execution_count": 8,
   "metadata": {
    "deletable": false,
    "editable": false,
    "nbgrader": {
     "cell_type": "code",
     "checksum": "1e04121632d6e58ee3d82075829ec798",
     "grade": true,
     "grade_id": "cell-01f436c9384a4c1c",
     "locked": true,
     "points": 3,
     "schema_version": 3,
     "solution": false,
     "task": false
    }
   },
   "outputs": [],
   "source": [
    "# sanity checks\n",
    "bayes_net = BayesNet((np.array([0.25, 0.25, 0.5]), [0]))\n",
    "\n",
    "np.random.seed(0)\n",
    "distribution = likelihood_weighting(bayes_net, 0, {}, 1000)\n",
    "assert type(distribution) == np.ndarray, f'\\nWrong output type!\\nExpected: np.ndarray\\nGiven:\\t  {type(distribution)}'\n",
    "assert distribution.shape == (3,), f'\\nWrong output shape!\\nExpected: (3,)\\nGiven:\\t  {distribution.shape}'\n",
    "assert distribution.dtype == np.float64, f'\\nWrong numpy array data type!\\nExpected: np.float64\\nGiven:\\t  {distribution.dtype}'\n",
    "assert np.isclose(distribution.sum(), 1.), f'\\bProbabilities must sum to 1. Got: {distribution.sum()}'"
   ]
  },
  {
   "cell_type": "markdown",
   "metadata": {
    "deletable": false,
    "editable": false,
    "nbgrader": {
     "cell_type": "markdown",
     "checksum": "705ab414e17bc8b1aa73acc771df45bc",
     "grade": false,
     "grade_id": "cell-65c43e408ce26979",
     "locked": true,
     "schema_version": 3,
     "solution": false,
     "task": false
    }
   },
   "source": [
    "## Example\n",
    "\n",
    "\n",
    "Reconsider the Bayesian Network from the previous problem:\n",
    "\n",
    "<img width='30%' src='bn.svg'>\n",
    "\n",
    "The conditional probability tables are given as:\n",
    "\n",
    "<table style=\"float: left;margin:5px;\"><tr><th>P(A)</th><th>$a_0$<br></th><th>$a_1$</th></tr><tr><td>-</td><td>0.2</td><td>0.8</td></tr></table>\n",
    "\n",
    "<table style=\"float: left;margin:5px;\"><tr><th>P(B | A)</th><th>$a_0$<br></th><th>$a_1$</th></tr><tr><td>$b_0$</td><td>0.9</td><td>0.2</td></tr><tr><td>$b_1$</td><td>0.1</td><td>0.8</td></tr></table>\n",
    "\n",
    "<table style=\"float: left;margin:5px;\"><tr><th rowspan=\"2\">P(D | A, B)</th><th colspan=\"2\">$a_0$<br></th><th colspan=\"2\">$a_1$</th></tr><tr><td>$b_0$</td><td>$b_1$</td><td>$b_0$</td><td>$b_1$</td></tr><tr><td>$d_0$<br></td><td>0.1</td><td>0.2</td><td>0.01</td><td>0.8</td></tr><tr><td>$d_1$</td><td>0.9</td><td>0.8</td><td>0.99</td><td>0.2</td></tr></table>\n",
    "\n",
    "<table style=\"float: left;margin:5px;\"><tr><th>P(C|D)</th><th>$d_0$<br></th><th>$d_1$</th></tr><tr><td>$c_0$</td><td>0.95</td><td>0.15</td></tr><tr><td>$c_1$</td><td>0.05</td><td>0.85</td></tr></table>\n",
    "\n",
    "<table style=\"float: left;margin:5px;\"><tr><th>P(E | C)</th><th>$c_0$</th><th>$c_1$</th></tr><tr><td>$e_0$</td><td>0.9</td><td>0.4</td></tr><tr><td>$e_1$</td><td>0.1</td><td>0.6</td></tr></table>"
   ]
  },
  {
   "cell_type": "code",
   "execution_count": 9,
   "metadata": {
    "deletable": false,
    "editable": false,
    "nbgrader": {
     "cell_type": "code",
     "checksum": "d9a52d132e081f267e60e0a8422feb2f",
     "grade": false,
     "grade_id": "cell-2c59afbda2804310",
     "locked": true,
     "schema_version": 3,
     "solution": false,
     "task": false
    }
   },
   "outputs": [],
   "source": [
    "_A_, _B_, _C_, _D_, _E_ = 0, 1, 2, 3, 4\n",
    "\n",
    "A = np.array([0.2, 0.8])\n",
    "B_A = np.array([[0.9, 0.2], [0.1, 0.8]])\n",
    "C_D = np.array([[0.95, 0.15], [0.05, 0.85]])\n",
    "D_AB = np.array([[[0.1, 0.2], [0.01, 0.8]], [[0.9, 0.8], [0.99, 0.2]]])\n",
    "E_C = np.array([[0.9, 0.4], [0.1, 0.6]])\n",
    "              \n",
    "bayes_net = BayesNet(\n",
    "    (A, [_A_]),\n",
    "    (B_A, [_B_, _A_]),\n",
    "    (C_D, [_C_, _D_]),\n",
    "    (D_AB, [_D_, _A_, _B_]),\n",
    "    (E_C, [_E_, _C_])\n",
    ")"
   ]
  },
  {
   "cell_type": "markdown",
   "metadata": {
    "deletable": false,
    "editable": false,
    "nbgrader": {
     "cell_type": "markdown",
     "checksum": "528495b5ab85c7d2adcd25d143adc1fe",
     "grade": false,
     "grade_id": "cell-70433cae6f94e15e",
     "locked": true,
     "schema_version": 3,
     "solution": false,
     "task": false
    }
   },
   "source": [
    "### Exact Computation\n",
    "<div class=\"alert alert-warning\">\n",
    "Compute $P(A \\mid D, E)$ exactly (up to floating point precision).  (1 point)\n",
    "</div>\n",
    "\n",
    "**Hint**: Copy the computation / the result from **Problem 1**."
   ]
  },
  {
   "cell_type": "code",
   "execution_count": 10,
   "metadata": {
    "deletable": false,
    "nbgrader": {
     "cell_type": "code",
     "checksum": "1f0f540bb37d4d643980d877e58a5045",
     "grade": false,
     "grade_id": "cell-d59fd14f2942318d",
     "locked": false,
     "schema_version": 3,
     "solution": true,
     "task": false
    }
   },
   "outputs": [],
   "source": [
    "A_DE = None\n",
    "\n",
    "# 1. compute FJDT\n",
    "fjdt = 1\n",
    "\n",
    "for variable in bayes_net:\n",
    "    fjdt = fjdt * variable.pdt\n",
    "\n",
    "# 2. get P(A, D, E) :\n",
    "id_A = {bayes_net[_A_].id}\n",
    "id_D = {bayes_net[_D_].id}\n",
    "id_E = {bayes_net[_E_].id}\n",
    "id_all = set([i for i in range(len(bayes_net))])\n",
    "set_unpart_id = id_all - id_A - id_D - id_E\n",
    "\n",
    "ADE_fjdt = np.sum(fjdt, axis=tuple(set_unpart_id), keepdims=True)\n",
    "ADE_fjdt.shape\n",
    "\n",
    "# 3. get P(D, E):\n",
    "DE_fjdt = np.sum(ADE_fjdt, axis=tuple(id_A), keepdims=True)\n",
    "\n",
    "# 4. final result:\n",
    "A_DE = ADE_fjdt/DE_fjdt\n",
    "A_DE = A_DE.squeeze() # remove unneeded dimensions"
   ]
  },
  {
   "cell_type": "code",
   "execution_count": 11,
   "metadata": {
    "deletable": false,
    "editable": false,
    "nbgrader": {
     "cell_type": "code",
     "checksum": "d8e83928b1e0c905c4fab9b9ce868b5f",
     "grade": true,
     "grade_id": "cell-59d256b239bec5cd",
     "locked": true,
     "points": 1,
     "schema_version": 3,
     "solution": false,
     "task": false
    }
   },
   "outputs": [],
   "source": [
    "# sanity checks\n",
    "assert A_DE is not None\n",
    "assert A_DE.shape == (2,2,2)\n",
    "assert np.all(np.isclose(A_DE.sum(axis=0), 1))"
   ]
  },
  {
   "cell_type": "markdown",
   "metadata": {
    "deletable": false,
    "editable": false,
    "nbgrader": {
     "cell_type": "markdown",
     "checksum": "57fd021c9a0302dfec66078185456d2e",
     "grade": false,
     "grade_id": "cell-daa8d746614a1a56",
     "locked": true,
     "schema_version": 3,
     "solution": false,
     "task": false
    }
   },
   "source": [
    "### Comparison\n",
    "\n",
    "Run the following code cell to plot the average [Kullback-Leibler divergence](https://en.wikipedia.org/wiki/Kullback%E2%80%93Leibler_divergence) between the exact distribution $P(A \\mid D, E)$ and the approximations computed with likelihood weighting. Different lines represent different value assignments to the evidence variables $D$ and $E$.\n",
    "\n",
    "**Hint**: The computation of the approximations might take a while..."
   ]
  },
  {
   "cell_type": "code",
   "execution_count": 12,
   "metadata": {
    "deletable": false,
    "editable": false,
    "nbgrader": {
     "cell_type": "code",
     "checksum": "f65e2342ef2ae2db8866fd786a95e2b8",
     "grade": false,
     "grade_id": "cell-30bd04270a52419f",
     "locked": true,
     "schema_version": 3,
     "solution": false,
     "task": false
    }
   },
   "outputs": [
    {
     "data": {
      "image/png": "[encoded data removed]",
      "text/plain": [
       "<Figure size 1000x800 with 1 Axes>"
      ]
     },
     "metadata": {},
     "output_type": "display_data"
    }
   ],
   "source": [
    "from utils import approx_error\n",
    "\n",
    "np.random.seed(0)\n",
    "errs = {}\n",
    "sample_counts = np.array([10, 20, 80, 160, 1000])\n",
    "\n",
    "# compute approximation error\n",
    "for d, e in zip([0, 0, 1, 1], [0, 1, 0, 1]):\n",
    "    errs[(d, e)] = approx_error(\n",
    "        bayes_net,\n",
    "        likelihood_weighting,  \n",
    "        A_DE[:, d, e],\n",
    "        _A_,\n",
    "        {_D_:d, _E_:e}, \n",
    "        sample_counts,\n",
    "        n_runs=100\n",
    "    )\n",
    "\n",
    "# plot\n",
    "plt.figure(figsize=(10, 8))\n",
    "plt.title('Kullback-Leibler Divergence')\n",
    "for d, e in zip([0, 0, 1, 1], [0, 1, 0, 1]):\n",
    "    plt.plot(sample_counts, errs[(d, e)], label=f'e:{e}, d:{d}', lw=2)\n",
    "    \n",
    "plt.legend()\n",
    "plt.xscale('log')\n",
    "plt.yscale('log')\n",
    "plt.xlim(sample_counts.min(), sample_counts.max())\n",
    "plt.xlabel('Number of samples')\n",
    "plt.show()"
   ]
  },
  {
   "cell_type": "markdown",
   "metadata": {
    "deletable": false,
    "editable": false,
    "nbgrader": {
     "cell_type": "markdown",
     "checksum": "9939ca0f0e01d3a7f3c08868e09930c6",
     "grade": false,
     "grade_id": "cell-8a30ce58059a3e31",
     "locked": true,
     "schema_version": 3,
     "solution": false,
     "task": false
    }
   },
   "source": [
    "### Edge Count\n",
    "\n",
    "<div class=\"alert alert-warning\">\n",
    "Implement the function <i>edge_count</i> that computes the number of edges in a mutilated Bayesian network. (1 point)\n",
    "</div>\n",
    "\n",
    "The `edge_count` function must return a single integer corresponding to the total number of edges in the mutilated network $\\mathcal{B}_{E=e}$.\n",
    "\n",
    "**Hints:**\n",
    "- parent variable IDs (set of integers) can be accessed using ```variable.parents```"
   ]
  },
  {
   "cell_type": "code",
   "execution_count": 13,
   "metadata": {
    "deletable": false,
    "nbgrader": {
     "cell_type": "code",
     "checksum": "d13deb443188ae3bd235e475486bf088",
     "grade": false,
     "grade_id": "cell-d6837857253f70bf",
     "locked": false,
     "schema_version": 3,
     "solution": true,
     "task": false
    }
   },
   "outputs": [],
   "source": [
    "def edge_count(bayes_net: BayesNet, evidence: tuple = ()):\n",
    "    '''\n",
    "    Calculate the number of edges in the mutilated network given a tuple of evidence variable ids.\n",
    "    :param bayes_net: A Bayesian network of type BayesNet.\n",
    "    :param evidence: A tuple containing the ids of evidence variables.\n",
    "    :returns: An integer indicating the number of edges in the mutilated network\n",
    "    '''\n",
    "\n",
    "    # number of edges\n",
    "    edges = 0\n",
    "    \n",
    "    # find all leaf nodes in the bayes net:\n",
    "    leaf_nodes = []\n",
    "    for i, variable in enumerate(bayes_net):\n",
    "        if len(variable.children) == 0:\n",
    "            leaf_nodes.append(variable.id)\n",
    "\n",
    "    # go from buttom to top: \n",
    "    def inner_func(current_nodes):\n",
    "        \n",
    "        for id_ in current_nodes:\n",
    "            \n",
    "            if id_ not in evidence: # evidence variables have no parents in mutilated net\n",
    "                \n",
    "                parents = bayes_net.nodes[id_].parents # gives IDs\n",
    "                \n",
    "                if len(parents)>0:\n",
    "                    \n",
    "                    nonlocal edges\n",
    "                    edges += len(parents)\n",
    "                    \n",
    "                    inner_func(parents)\n",
    "                    \n",
    "    inner_func(leaf_nodes)\n",
    "    \n",
    "    \n",
    "    return edges"
   ]
  },
  {
   "cell_type": "code",
   "execution_count": 14,
   "metadata": {
    "deletable": false,
    "editable": false,
    "nbgrader": {
     "cell_type": "code",
     "checksum": "8e7381c3271627be4db2f97ccc9889b4",
     "grade": true,
     "grade_id": "cell-6511d53bc24654c4",
     "locked": true,
     "points": 1,
     "schema_version": 3,
     "solution": false,
     "task": false
    }
   },
   "outputs": [],
   "source": [
    "# sanity checks\n",
    "_A_, _B_ = 0, 1\n",
    "A = np.array([0.2, 0.8])\n",
    "B_A = np.array([[0.9, 0.2], [0.1, 0.8]])\n",
    "\n",
    "bayes_net = BayesNet(\n",
    "    (A, [_A_]),\n",
    "    (B_A, [_B_, _A_])\n",
    ")\n",
    "\n",
    "edges = edge_count(bayes_net, ())\n",
    "assert type(edges) == int\n",
    "assert edges == 1\n",
    "\n",
    "edges = edge_count(bayes_net, (_B_,))\n",
    "assert type(edges) == int\n",
    "assert edges == 0\n"
   ]
  },
  {
   "cell_type": "markdown",
   "metadata": {
    "deletable": false,
    "editable": false,
    "nbgrader": {
     "cell_type": "markdown",
     "checksum": "07ce7fcfcaecd12011fa57b815215c16",
     "grade": false,
     "grade_id": "cell-f24291f9c248879f",
     "locked": true,
     "schema_version": 3,
     "solution": false,
     "task": false
    }
   },
   "source": [
    "<div class=\"alert alert-warning\">\n",
    "Store the answer to the following question into the provided result variables! (1 point)\n",
    "</div>\n",
    "\n",
    "Given the Bayesian network defined above, the query $P(A \\mid B=0, D=1)$ and the following samples:\n",
    "\n",
    "* (1) $a_0,b_1,c_1,d_1,e_0$\n",
    "* (2) $a_1,b_0,c_1,d_0,e_1$\n",
    "* (3) $a_1,b_0,c_1,d_1,e_1$\n",
    "\n",
    "Decide which of the samples would not be rejected by Rejection Sampling. For the sample that is not rejected, calculate the weight that likelihood weighting would attach to it. Put the index of the not rejected sample (1, 2 or 3) in the variable ```sample_index``` and the weight that likelihood weighting would assign to it in variable ```sample_weight```."
   ]
  },
  {
   "cell_type": "code",
   "execution_count": 15,
   "metadata": {
    "deletable": false,
    "nbgrader": {
     "cell_type": "code",
     "checksum": "7b47e711f81063d8c10208b3a5f9c1ff",
     "grade": false,
     "grade_id": "cell-1c20ed0f3ea167e7",
     "locked": false,
     "schema_version": 3,
     "solution": true,
     "task": false
    }
   },
   "outputs": [],
   "source": [
    "sample_index = 3 # store the index of the correct answer into this variable (integer)\n",
    "sample_weight = 0.198 # sample_lw(bayes_net, sample_size=1, evidence={1:0, 3:1})\n",
    "# store the weight of the not rejected sample into this variable (float)"
   ]
  },
  {
   "cell_type": "code",
   "execution_count": 16,
   "metadata": {
    "deletable": false,
    "editable": false,
    "nbgrader": {
     "cell_type": "code",
     "checksum": "0453f36c8c3b30992a6757535cb20183",
     "grade": true,
     "grade_id": "cell-1fc0fee6dc7134b9",
     "locked": true,
     "points": 1,
     "schema_version": 3,
     "solution": false,
     "task": false
    }
   },
   "outputs": [],
   "source": [
    "assert sample_index is not None\n",
    "assert sample_weight is not None"
   ]
  },
  {
   "cell_type": "markdown",
   "metadata": {
    "deletable": false,
    "editable": false,
    "nbgrader": {
     "cell_type": "markdown",
     "checksum": "b486a27eccb2bb2e165116ce4c00f833",
     "grade": false,
     "grade_id": "cell-b6bcadb7db238e0e",
     "locked": true,
     "schema_version": 3,
     "solution": false,
     "task": false
    }
   },
   "source": [
    "<div class=\"alert alert-warning\">\n",
    "Answer the following question in <b>one sentence</b>! (1 point)\n",
    "</div>\n",
    "\n",
    "Given the Bayesian network defined above, which type of query is better suited for likelihood weighting, $P(A|E)$ or $P(E|A)$? Explain your answer."
   ]
  },
  {
   "cell_type": "markdown",
   "metadata": {
    "deletable": false,
    "nbgrader": {
     "cell_type": "markdown",
     "checksum": "367f4a1fb687a00cf71dba4f593cd903",
     "grade": true,
     "grade_id": "cell-d3de4e64177c8048",
     "locked": false,
     "points": 1,
     "schema_version": 3,
     "solution": true,
     "task": false
    }
   },
   "source": [
    "P(E|A) because A is an ancestor of E. Add on: upstream sample"
   ]
  }
 ],
 "metadata": {
  "kernelspec": {
   "display_name": "Python 3",
   "language": "python",
   "name": "python3"
  },
  "language_info": {
   "codemirror_mode": {
    "name": "ipython",
    "version": 3
   },
   "file_extension": ".py",
   "mimetype": "text/x-python",
   "name": "python",
   "nbconvert_exporter": "python",
   "pygments_lexer": "ipython3",
   "version": "3.7.3"
  }
 },
 "nbformat": 4,
 "nbformat_minor": 4
}
