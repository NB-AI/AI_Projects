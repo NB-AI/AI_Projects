{
 "cells": [
  {
   "cell_type": "markdown",
   "metadata": {
    "deletable": false,
    "editable": false,
    "nbgrader": {
     "cell_type": "markdown",
     "checksum": "2fe2e785f8baddae5490a23ba65cd56a",
     "grade": false,
     "grade_id": "cell-11f79d0940899143",
     "locked": true,
     "schema_version": 3,
     "solution": false,
     "task": false
    }
   },
   "source": [
    "<div class=\"alert alert-danger\">\n",
    "\n",
    "**Read the `BayesNet Introduction` notebook** before you start working on this problem set! It contains a detailed description of the provided classes *BayesNet* and *Variable* that you will use to solve the following problems.\n",
    "</div>\n",
    "\n",
    "# Approximate Inference\n",
    "## Problem Set 2 \n",
    "\n",
    "## Probabilistic Models UE\n",
    "\n",
    "---\n",
    "In large Bayesian networks, exact inference is impossible. However, we can answer arbitrary queries by generating samples from the target distribution and estimating the probabilities via counting. In the second assignment, you will familiarise yourself with two approximate inference methods for Bayesian networks:\n",
    "- Rejection Sampling\n",
    "- Likelihood Weighting\n",
    "\n",
    "A third one, Gibbs Sampling, will be handled in the third assignment.\n",
    "\n",
    "## Submission\n",
    "\n",
    "<div class=\"alert alert-warning\">\n",
    "    \n",
    "**Due-Date:** see Moodle\n",
    " \n",
    "**Automatic Grading:** \n",
    "\n",
    "- Replace the placeholders `# YOUR CODE HERE` `raise NotImplementedError()` / `YOUR ANSWER HERE` with your code / answers.\n",
    "- Put results in the corresponding variable; otherwise, we will not grade your solution (i.e., we assign 0 points).\n",
    "- Do not delete or add cells.\n",
    "\n",
    "\n",
    "    \n",
    "**Submission:** As a ZIP-package via Moodle; the ZIP-package **must have the following structure**:\n",
    "    \n",
    "    <student ID, (k + 8 digits), e.g. k01234567>.zip\n",
    "    +-- Problem 1.ipynb\n",
    "    |-- Problem 2.ipynb\n",
    "    |-- Supplementary Materials (optional)\n",
    "    + \n",
    "    \n",
    "**Questions?** Post them into the Problem Set Forum!\n",
    "</div>"
   ]
  },
  {
   "cell_type": "code",
   "execution_count": 1,
   "metadata": {
    "deletable": false,
    "editable": false,
    "nbgrader": {
     "cell_type": "code",
     "checksum": "9885bdc49a41b1c1e58970b3d8015353",
     "grade": false,
     "grade_id": "cell-98c1f957645e7920",
     "locked": true,
     "schema_version": 3,
     "solution": false,
     "task": false
    }
   },
   "outputs": [],
   "source": [
    "import numpy as np\n",
    "import matplotlib.pyplot as plt\n",
    "from bayesian_network import BayesNet, Variable\n",
    "from typing import Iterator"
   ]
  },
  {
   "cell_type": "markdown",
   "metadata": {
    "deletable": false,
    "editable": false,
    "nbgrader": {
     "cell_type": "markdown",
     "checksum": "80e55b43e6a53bf9142b3456b2829457",
     "grade": false,
     "grade_id": "cell-7a5b5206839f0be2",
     "locked": true,
     "schema_version": 3,
     "solution": false,
     "task": false
    }
   },
   "source": [
    "# Topological Sort\n",
    "\n",
    "<div class=\"alert alert-warning\">\n",
    "Implement the <i>topological sort</i> method for our <i>BayesNet</i> class. (4 points)\n",
    "</div>\n",
    "\n",
    "\n",
    "Before we can start implementing the sampling functions required for Rejection Sampling and Likelihood Weighting, we need to ensure that we can iterate through the variables in our Bayesian Network in a topological order. As you may have noticed when going through the `BayesNet Introduction` notebook, this functionality is still missing in the provided `BayesNet` class.\n",
    "\n",
    "Your task is to implement the method `__iter__` for the `BayesNet` class, which yields all `Variable` objects in a topologically sorted way. This enables us to do the following in Python code:\n",
    "\n",
    "```\n",
    "for variable in bayes_net:\n",
    "    # do something that requires looping over the variables in a topological order,\n",
    "    # e.g., run forward sampling \n",
    "```\n",
    "\n",
    "You can expect that your function only operates on well-formed Bayesian Networks (=directed acyclic graphs) without handling special cases.\n",
    "\n",
    "We will simply bind your implemented `__iter__` function from this notebook to the `BayesNet` class using the following assignment in the cell below:\n",
    "\n",
    "```\n",
    "BayesNet.__iter__ = __iter__\n",
    "```\n",
    "\n",
    "**Hints**: \n",
    "\n",
    "- `self.nodes`: is a dictionary containing variable ids as keys and `Variable` objects as values\n",
    "- `variable.children`: using the `children` attribute of `Variable` objects allows you to access a set of variable ids representing a variable's child nodes\n",
    "- Remember that python allows you to define **inner** or **nested** functions. For example, if you want to solve topological sort via recursion, you can define an inner function inside the `__iter__` method."
   ]
  },
  {
   "cell_type": "code",
   "execution_count": 2,
   "metadata": {
    "deletable": false,
    "nbgrader": {
     "cell_type": "code",
     "checksum": "97cf3470a3cde1b223e45bbce603eafc",
     "grade": false,
     "grade_id": "cell-f4e2b20954378f69",
     "locked": false,
     "schema_version": 3,
     "solution": true,
     "task": false
    }
   },
   "outputs": [],
   "source": [
    "def __iter__(self) -> Iterator[Variable]:\n",
    "    \"\"\"\n",
    "    Iterates over all variables in the Bayesian network in topological ordering, i.e.,\n",
    "    for an edge from a variable X to a variable Y, X is returned before Y.  \n",
    "    Since a Bayesian network is a directed acyclic graph, a topological ordering can always be found. \n",
    "\n",
    "    :yields: variable after variable according to the network's topology.\n",
    "    \"\"\"\n",
    "    \n",
    "    # list of topologically sorted variables to be returned\n",
    "    sorted_variables = list()  \n",
    "    # all variables in the network encoded as a dictionary (keys: variable ids, values: Variable objects)\n",
    "    variables = self.nodes  \n",
    "    \n",
    "\n",
    "    # My plan: count for each node its deepest depth within the network paths. The deepest depth determines\n",
    "    # its position within the output list.\n",
    "    \n",
    "    # 1. find nodes without parents:\n",
    "    parent_list = []\n",
    "    for (id_,value) in self.nodes.items():\n",
    "        if len(value.parents) == 0:\n",
    "            parent_list.append(id_)\n",
    " \n",
    "    # 2. go all paths to find the deepest depths:\n",
    "    # create for each variable a dictionary entry which stores it depth:\n",
    "    depth_dict = {var:0 for var in variables.keys()}\n",
    "    \n",
    "    def inner_func(depth, current_set):\n",
    "        \n",
    "        for variable_id in current_set:\n",
    "            \n",
    "            depth_dict[variable_id] = depth\n",
    "            variable_ele = variables[variable_id]\n",
    "            \n",
    "            if len(variable_ele.children) > 0:\n",
    "                \n",
    "                set_children = variable_ele.children # gives IDs\n",
    "                \n",
    "                depth += 1 \n",
    "                inner_func(depth, set_children) # go one deeper by stepping down to the children\n",
    "            \n",
    "    inner_func(depth=0, current_set=parent_list)\n",
    "\n",
    "    # 3. reformulate the found output to a topologically correctly ordered list:\n",
    "    sorted_variables_id = dict(sorted(depth_dict.items(), key=lambda item: item[1])).keys()\n",
    "\n",
    "    sorted_variables = [variables[id_] for id_ in sorted_variables_id]\n",
    "\n",
    "    for node in sorted_variables:\n",
    "        yield node\n",
    "        \n",
    "    '''\n",
    "    Depth first search\n",
    "    Alternative: Kahn's algorithm: look how many parents node has. Go over list for nodes which have 0\n",
    "    parents and look at the elements' children. \n",
    "    '''\n",
    "\n",
    "# bind the implemented iterator method to the BayesNet\n",
    "BayesNet.__iter__ = __iter__"
   ]
  },
  {
   "cell_type": "code",
   "execution_count": 3,
   "metadata": {
    "deletable": false,
    "editable": false,
    "nbgrader": {
     "cell_type": "code",
     "checksum": "0a561f0990939d616182703c82c03f6a",
     "grade": true,
     "grade_id": "cell-b07fb9b0930c889d",
     "locked": true,
     "points": 4,
     "schema_version": 3,
     "solution": false,
     "task": false
    }
   },
   "outputs": [],
   "source": [
    "# sanity checks\n",
    "A = np.ones((2,)) / 2\n",
    "B_AC = np.ones((2,2,2)) / 2\n",
    "C_A = np.ones((2,2)) / 2\n",
    "D_BC = np.ones((2,2,2)) / 2\n",
    "\n",
    "_A_, _B_, _C_, _D_ = 0, 1, 2, 3\n",
    "\n",
    "bayes_net = BayesNet(\n",
    "    (A, [_A_]),\n",
    "    (B_AC, [_B_, _A_, _C_]),\n",
    "    (C_A, [_C_, _A_]),\n",
    "    (D_BC, [_D_, _B_, _C_])\n",
    ")\n",
    "\n",
    "top_sorted_vars = (_A_, _C_, _B_, _D_)\n",
    "output = []\n",
    "\n",
    "for i, variable in enumerate(bayes_net):\n",
    "    assert isinstance(variable, Variable), f\"\\nWrong output type!\\nExpected: Variable\\nGiven: \\t {type(variable)}\"\n",
    "    assert variable.id == top_sorted_vars[i], f\"\\nWrong ordering!\\nExpected: \\\n",
    "        {top_sorted_vars}\\nGiven: \\t ID {variable.id} at position {i+1}\"\n",
    "    output.append(variable)\n",
    "assert len(output) == len(top_sorted_vars), f\"\\nWrong number of variables!\\nExpected: \\\n",
    "    {len(top_sorted_vars)}\\nGiven: \\t{len(output)}\"\n",
    "    "
   ]
  },
  {
   "cell_type": "markdown",
   "metadata": {
    "deletable": false,
    "editable": false,
    "nbgrader": {
     "cell_type": "markdown",
     "checksum": "932d25daf0e42a20003d8ebff24880ca",
     "grade": false,
     "grade_id": "cell-8a9b6cf1529e8501",
     "locked": true,
     "schema_version": 3,
     "solution": false,
     "task": false
    }
   },
   "source": [
    "# Rejection Sampling\n",
    "\n",
    "\n",
    "We will implement the rejection sampling algorithm in this notebook and use it to approximate the probabilistic query $P(A \\mid D, E)$ for the Bayesian Network given below. In Rejection Sampling, samples from the full joint distribution are drawn, and all samples that do not correspond to the evidence are discarded ('rejected').\n",
    "\n",
    "To make your solutions testable, we ask you to implement two functions, namely:\n",
    "- `sample_forward`, and\n",
    "- `rejection_sampling`.\n",
    "\n",
    "`sample_forward` returns a set of samples from the full joint distribution $P(\\mathcal{X})$.\n",
    "\n",
    "`rejection_sampling` uses *sample_forward*, throws away all random events with mismatching evidence $\\mathbf{E}$, and estimates the distribution of query variable $X$. In other words, it computes an approximation of $P(X \\mid \\mathbf{E}=e)$. For simplicity, we will only consider probabilistic queries with one query variable $X$."
   ]
  },
  {
   "cell_type": "markdown",
   "metadata": {
    "deletable": false,
    "editable": false,
    "nbgrader": {
     "cell_type": "markdown",
     "checksum": "e5bada19f4dfd014e891425ecd7578d1",
     "grade": false,
     "grade_id": "cell-7cfea4f9237cc0aa",
     "locked": true,
     "schema_version": 3,
     "solution": false,
     "task": false
    }
   },
   "source": [
    "### Forward Sampling \n",
    "<div class=\"alert alert-warning\">\n",
    "Implement the <i>sample_forward</i> function, which samples from the full joint distribution of a Bayesian network $\\mathcal{B}$. (3 points)\n",
    "</div>\n",
    "\n",
    "The `sample_forward` function must return one object:\n",
    "- samples from the Bayesian network $\\mathcal{B}$ of type `np.ndarray`, with shape `(sample_size, len(bayes_net))`\n",
    "\n",
    "\n",
    "**Hints**: \n",
    "- If you have correctly implemented the topological sort, iterating over the *BayesNet* object returns the *Variable* objects in topological ordering. The 1-D probability distribution of variable $X$ given its parents $\\mathit{pa}(X)$, $P(X \\mid \\mathit{pa}(X))$, can be obtained by passing the (possibly incomplete) random event to the variable, i.e., `variable(samples[i])`.\n",
    "- We will also need a function that samples from a discrete 1-D probability distribution. For this purpose, use the `sample_categorical()` function, which takes a 1-D NumPy array representing a probability distribution and draws a sample from it:"
   ]
  },
  {
   "cell_type": "code",
   "execution_count": 4,
   "metadata": {
    "deletable": false,
    "editable": false,
    "nbgrader": {
     "cell_type": "code",
     "checksum": "0c13833192071b03e7ecba5aedd2b3d4",
     "grade": false,
     "grade_id": "cell-b118e5c1ec95408e",
     "locked": true,
     "schema_version": 3,
     "solution": false,
     "task": false
    }
   },
   "outputs": [
    {
     "name": "stdout",
     "output_type": "stream",
     "text": [
      "Help on function sample_categorical in module utils:\n",
      "\n",
      "sample_categorical(dist: numpy.ndarray) -> numpy.int64\n",
      "    Draws a single sample from a categorical distribution.\n",
      "    :param dist: NumPy array listing the probability of each outcome.\n",
      "    :returns: Index of the sampled element.\n",
      "\n"
     ]
    }
   ],
   "source": [
    "from utils import sample_categorical\n",
    "help(sample_categorical)"
   ]
  },
  {
   "cell_type": "code",
   "execution_count": 5,
   "metadata": {
    "deletable": false,
    "nbgrader": {
     "cell_type": "code",
     "checksum": "fb4334f953af92c070a080c4c925b6fb",
     "grade": false,
     "grade_id": "cell-a21d29b8eb812ba1",
     "locked": false,
     "schema_version": 3,
     "solution": true,
     "task": false
    }
   },
   "outputs": [],
   "source": [
    "def sample_forward(bayes_net: BayesNet, sample_size: int) -> np.ndarray:\n",
    "    '''\n",
    "    Samples from the full joint distribution.\n",
    "    :param bayes_net: A Bayesian network of type BayesNet.\n",
    "    :param sample_size: The number of samples to draw from the Bayesian network.\n",
    "    :returns: A NumPy array of type np.int64 with shape (sample_size, len(bayes_net))\n",
    "              containing samples from the Bayesian network\n",
    "    '''\n",
    "    \n",
    "    # array holding the samples\n",
    "    samples = np.empty((sample_size, len(bayes_net)), np.int64)\n",
    "    \n",
    "    \n",
    "    for sample_round in range(sample_size):\n",
    "        \n",
    "        for i, variable in enumerate(bayes_net):\n",
    "            \n",
    "            # sampling gets ignored when variable has no parents:\n",
    "            distribution = variable(samples[sample_round]) # eg P(A)=[0.2,0.8]\n",
    "            found_sample = sample_categorical(distribution) # get index of chosen sample of P(A)\n",
    "            \n",
    "            samples[sample_round, variable.id] = found_sample\n",
    "            '''\n",
    "            Alternative:\n",
    "            for idx, variable in enumerate(bayes_net):\n",
    "                var_id = variable.id\n",
    "                for ii in range(sample_size):\n",
    "                    pdt = bayes_net[var_id](sample=samples[ii])\n",
    "                    samples[ii, var_id] = sample_categorical(pdt)\n",
    "            '''\n",
    "    return samples"
   ]
  },
  {
   "cell_type": "code",
   "execution_count": 6,
   "metadata": {
    "deletable": false,
    "editable": false,
    "nbgrader": {
     "cell_type": "code",
     "checksum": "608eb3b11e23ac91de5a45d8957e4fa9",
     "grade": true,
     "grade_id": "cell-a9f3cf6d211b01fa",
     "locked": true,
     "points": 3,
     "schema_version": 3,
     "solution": false,
     "task": false
    }
   },
   "outputs": [],
   "source": [
    "# sanity checks\n",
    "bayes_net = BayesNet((np.array([0.5, 0.5]), [0]))\n",
    "\n",
    "samples = sample_forward(bayes_net, 3)\n",
    "\n",
    "assert type(samples) == np.ndarray, f'\\nWrong output type!\\nExpected: np.ndarray\\nGiven:\\t  {type(samples)}'\n",
    "assert samples.shape == (3, 1), f'\\nWrong output shape!\\nExpected: (3, 1)\\nGiven:\\t  {samples.shape}'\n",
    "assert samples.dtype == np.int64, f'\\nWrong numpy array data type!\\nExpected: np.int64\\nGiven:\\t  {samples.dtype}'"
   ]
  },
  {
   "cell_type": "markdown",
   "metadata": {
    "deletable": false,
    "editable": false,
    "nbgrader": {
     "cell_type": "markdown",
     "checksum": "23bbb2d9560096739fdfa5a265aef403",
     "grade": false,
     "grade_id": "cell-39ba0a156c9805da",
     "locked": true,
     "schema_version": 3,
     "solution": false,
     "task": false
    }
   },
   "source": [
    "### Rejection Sampling \n",
    "<div class=\"alert alert-warning\">\n",
    "    Implement the <i>rejection_sampling</i> function, which estimates the probability distribution over the query variable $X$ given evidence  $\\mathbf{E}=\\mathbf{e}$, i.e. $P(X \\mid \\mathbf{E}=\\mathbf{e})$. Use the <i>sample_forward</i> function implemented in the previous step to draw random events from $P(\\mathcal{X})$. (3 points)\n",
    "</div>\n",
    "\n",
    "The `rejection_sampling` function must return one object:\n",
    "-  The 1-D probability distribution over variable $X$ of type `np.ndarray` with shape `(bayes_net[query_variable].num_values,)`. If the sample from the FJD does not contain any random events with matching evidence, return a NumPy array with the same shape as $P(X \\mid \\mathbf{E}=\\mathbf{e})$ containing only values `np.nan`, i.e. `np.full(bayes_net[query_variable].num_values, np.nan)`.\n",
    "\n",
    "**Hints**: \n",
    "- Use `np.bincount` to count the number of occurrences of each value. It even supports a minimum number of bins -- check out its  ([documentation](https://numpy.org/doc/stable/reference/generated/numpy.bincount.html))!\n",
    "- For simplicity, we will only consider probabilistic queries with one query variable $X$."
   ]
  },
  {
   "cell_type": "code",
   "execution_count": 7,
   "metadata": {
    "deletable": false,
    "nbgrader": {
     "cell_type": "code",
     "checksum": "2dc9210d8775edcbc80c34c8b9573888",
     "grade": false,
     "grade_id": "cell-0f9107f6630622b7",
     "locked": false,
     "schema_version": 3,
     "solution": true,
     "task": false
    }
   },
   "outputs": [],
   "source": [
    "def rejection_sampling(bayes_net: BayesNet, query_variable: int, evidence: dict={}, sample_size: int=100) -> np.ndarray:\n",
    "    '''\n",
    "    Estimates the distribution of the query variale given the value of the evidence variables.\n",
    "    :param bayes_net: A Bayesian network of type BayesNet.\n",
    "    :param query_variable: Id of the query variable (int).\n",
    "    :param evidence: A dictionary of evidence variables (keys: int) and their correponding values (values: int).\n",
    "    :param sample_size: The number of samples to use for the estimation.\n",
    "    :returns: A NumPy array of type np.float64 representing the conditional distribution of the query variable given evidence, or a NumPy array of the same shape but with all values set to np.nan if no sample with matching evidence is found. \n",
    "    '''\n",
    "    \n",
    "    # forward sample...\n",
    "    samples = sample_forward(bayes_net, sample_size)\n",
    "    \n",
    "    \n",
    "    # 1. sampling:\n",
    "    # done above\n",
    "\n",
    "    \n",
    "    # 2. reject:\n",
    "    for (evidence_id, wanted_evidence_value) in evidence.items():\n",
    "        samples[np.where(samples[:, evidence_id] != wanted_evidence_value)[0], :] = -1\n",
    "    \n",
    "    remaining_samples = samples[np.where(samples[:, 0] != -1)] # shape [some_number_samples, 1]\n",
    "    remaining_sample_number = remaining_samples.shape[0]\n",
    "    \n",
    "    if remaining_sample_number == 0:\n",
    "        return np.full(bayes_net[query_variable].num_values, np.nan)\n",
    "\n",
    "    \n",
    "    # 3. estimate:\n",
    "    found_query_values = remaining_samples[:, query_variable]\n",
    "    number_query_appearences = np.bincount(found_query_values, minlength=bayes_net[query_variable].num_values)\n",
    "    \n",
    "    distribution = number_query_appearences / remaining_sample_number\n",
    "\n",
    "    return distribution\n"
   ]
  },
  {
   "cell_type": "code",
   "execution_count": 8,
   "metadata": {
    "deletable": false,
    "editable": false,
    "nbgrader": {
     "cell_type": "code",
     "checksum": "64696cff63340d1abfcc42cfa5c6f711",
     "grade": true,
     "grade_id": "cell-212c51d460b7c21a",
     "locked": true,
     "points": 3,
     "schema_version": 3,
     "solution": false,
     "task": false
    }
   },
   "outputs": [],
   "source": [
    "# sanity checks\n",
    "bayes_net = BayesNet((np.array([0.25, 0.25, 0.5]), [0]))\n",
    "\n",
    "np.random.seed(0)\n",
    "distribution = rejection_sampling(bayes_net, 0, {0:0}, 3)\n",
    "assert distribution.shape == (3,), f'\\nWrong output shape!\\nExpected: (3,)\\nGiven:\\t  {distribution.shape}'\n",
    "assert np.all(np.isnan(distribution)), f'Wrong distribution\\nExpected: {np.full(3,np.nan)}\\nGot: {distribution}\\n'\\\n",
    "                                        'No matching evidence drawn in 3 samples for random seed 0.'\n",
    "\n",
    "distribution = rejection_sampling(bayes_net, 0, {}, 1000)\n",
    "assert type(distribution) == np.ndarray, f'\\nWrong output type!\\nExpected: np.ndarray\\nGiven:\\t  {type(distribution)}'\n",
    "assert distribution.shape == (3,), f'\\nWrong output shape!\\nExpected: (3,)\\nGiven:\\t  {distribution.shape}'\n",
    "assert distribution.dtype == np.float64, f'\\nWrong numpy array data type!\\nExpected: np.float64\\nGiven:\\t  {distribution.dtype}'"
   ]
  },
  {
   "cell_type": "markdown",
   "metadata": {
    "deletable": false,
    "editable": false,
    "nbgrader": {
     "cell_type": "markdown",
     "checksum": "57228d367e79f8a812cce4f8e0a7803d",
     "grade": false,
     "grade_id": "cell-9548b463f05a9ca6",
     "locked": true,
     "schema_version": 3,
     "solution": false,
     "task": false
    }
   },
   "source": [
    "## Example\n",
    "\n",
    "\n",
    "Now that we can approximate arbitrary probabilistic queries let us compare an approximation's accuracy to an exact solution.\n",
    "\n",
    "Consider the following Bayesian Network (all variables are binary):\n",
    "\n",
    "<img width='30%' src='bn.svg'>\n",
    "\n",
    "The conditional probability tables are given as:\n",
    "\n",
    "<table style=\"float: left;margin:5px;\"><tr><th>P(A)</th><th>$a_0$<br></th><th>$a_1$</th></tr><tr><td>-</td><td>0.2</td><td>0.8</td></tr></table>\n",
    "\n",
    "<table style=\"float: left;margin:5px;\"><tr><th>P(B | A)</th><th>$a_0$<br></th><th>$a_1$</th></tr><tr><td>$b_0$</td><td>0.9</td><td>0.2</td></tr><tr><td>$b_1$</td><td>0.1</td><td>0.8</td></tr></table>\n",
    "\n",
    "<table style=\"float: left;margin:5px;\"><tr><th rowspan=\"2\">P(D | A, B)</th><th colspan=\"2\">$a_0$<br></th><th colspan=\"2\">$a_1$</th></tr><tr><td>$b_0$</td><td>$b_1$</td><td>$b_0$</td><td>$b_1$</td></tr><tr><td>$d_0$<br></td><td>0.1</td><td>0.2</td><td>0.01</td><td>0.8</td></tr><tr><td>$d_1$</td><td>0.9</td><td>0.8</td><td>0.99</td><td>0.2</td></tr></table>\n",
    "\n",
    "<table style=\"float: left;margin:5px;\"><tr><th>P(C|D)</th><th>$d_0$<br></th><th>$d_1$</th></tr><tr><td>$c_0$</td><td>0.95</td><td>0.15</td></tr><tr><td>$c_1$</td><td>0.05</td><td>0.85</td></tr></table>\n",
    "\n",
    "<table style=\"float: left;margin:5px;\"><tr><th>P(E | C)</th><th>$c_0$</th><th>$c_1$</th></tr><tr><td>$e_0$</td><td>0.9</td><td>0.4</td></tr><tr><td>$e_1$</td><td>0.1</td><td>0.6</td></tr></table>"
   ]
  },
  {
   "cell_type": "markdown",
   "metadata": {
    "deletable": false,
    "editable": false,
    "nbgrader": {
     "cell_type": "markdown",
     "checksum": "56c50aca9f805a32cebb6050cda362de",
     "grade": false,
     "grade_id": "cell-64db2a31f0478058",
     "locked": true,
     "schema_version": 3,
     "solution": false,
     "task": false
    }
   },
   "source": [
    "First, let us store these tables as global NumPy arrays and create the BayesNet object:"
   ]
  },
  {
   "cell_type": "code",
   "execution_count": 9,
   "metadata": {
    "deletable": false,
    "editable": false,
    "nbgrader": {
     "cell_type": "code",
     "checksum": "b6c2bc63b2dbd0b5bcf686f117706702",
     "grade": false,
     "grade_id": "cell-ea9cddd63a7d7cbe",
     "locked": true,
     "schema_version": 3,
     "solution": false,
     "task": false
    }
   },
   "outputs": [],
   "source": [
    "_A_, _B_, _C_, _D_, _E_ = 0, 1, 2, 3, 4\n",
    "\n",
    "A = np.array([0.2, 0.8])\n",
    "B_A = np.array([[0.9, 0.2], [0.1, 0.8]])\n",
    "C_D = np.array([[0.95, 0.15], [0.05, 0.85]])\n",
    "D_AB = np.array([[[0.1, 0.2], [0.01, 0.8]], [[0.9, 0.8], [0.99, 0.2]]])\n",
    "E_C = np.array([[0.9, 0.4], [0.1, 0.6]])\n",
    "              \n",
    "bayes_net = BayesNet(\n",
    "    (A, [_A_]),\n",
    "    (B_A, [_B_, _A_]),\n",
    "    (C_D, [_C_, _D_]),\n",
    "    (D_AB, [_D_, _A_, _B_]),\n",
    "    (E_C, [_E_, _C_])\n",
    ")"
   ]
  },
  {
   "cell_type": "markdown",
   "metadata": {
    "deletable": false,
    "editable": false,
    "nbgrader": {
     "cell_type": "markdown",
     "checksum": "83ff684dddfac04a128f53f9c9b74840",
     "grade": false,
     "grade_id": "cell-bafa6289ac7cb845",
     "locked": true,
     "schema_version": 3,
     "solution": false,
     "task": false
    }
   },
   "source": [
    "### Exact Computation \n",
    "<div class=\"alert alert-warning\">\n",
    "Compute $P(A \\mid D, E)$ exactly (up to floating point precision). (1 point)\n",
    "</div>\n",
    "\n",
    "Feel free to do this in a very inefficient manner, e.g., by first computing the joint probability distribution and then normalizing by the evidence.\n",
    "\n",
    "**Hint**: Have a look into the BayesNet Introduction notebook again if you are unsure how to compute the full joint distribution."
   ]
  },
  {
   "cell_type": "code",
   "execution_count": 10,
   "metadata": {
    "deletable": false,
    "nbgrader": {
     "cell_type": "code",
     "checksum": "fe14123fdae8fe56481ca73ec91be4c8",
     "grade": false,
     "grade_id": "cell-56090956bc549236",
     "locked": false,
     "schema_version": 3,
     "solution": true,
     "task": false
    }
   },
   "outputs": [],
   "source": [
    "A_DE = None\n",
    "\n",
    "# 1. compute FJDT\n",
    "fjdt = 1\n",
    "\n",
    "for variable in bayes_net:\n",
    "    fjdt = fjdt * variable.pdt\n",
    "\n",
    "# 2. get P(A, D, E) :\n",
    "id_A = {bayes_net[_A_].id}\n",
    "id_D = {bayes_net[_D_].id}\n",
    "id_E = {bayes_net[_E_].id}\n",
    "id_all = set([i for i in range(len(bayes_net))])\n",
    "set_unpart_id = id_all - id_A - id_D - id_E\n",
    "\n",
    "ADE_fjdt = np.sum(fjdt, axis=tuple(set_unpart_id), keepdims=True)\n",
    "ADE_fjdt.shape\n",
    "\n",
    "# 3. get P(D, E):\n",
    "DE_fjdt = np.sum(ADE_fjdt, axis=tuple(id_A), keepdims=True)\n",
    "\n",
    "# 4. final result:\n",
    "A_DE = ADE_fjdt/DE_fjdt\n",
    "A_DE = A_DE.squeeze() # remove unneeded dimensions"
   ]
  },
  {
   "cell_type": "code",
   "execution_count": 11,
   "metadata": {
    "deletable": false,
    "editable": false,
    "nbgrader": {
     "cell_type": "code",
     "checksum": "7d2e7bfa1cec92e2d6bd7657b87eb759",
     "grade": true,
     "grade_id": "cell-b902e5cb2058921e",
     "locked": true,
     "points": 1,
     "schema_version": 3,
     "solution": false,
     "task": false
    }
   },
   "outputs": [],
   "source": [
    "# sanity checks\n",
    "assert A_DE is not None\n",
    "assert A_DE.shape == (2, 2, 2)\n",
    "assert np.all(np.isclose(A_DE.sum(axis=0), 1)), 'Expected well formed distributions with columns summing to 1.'"
   ]
  },
  {
   "cell_type": "markdown",
   "metadata": {
    "deletable": false,
    "editable": false,
    "nbgrader": {
     "cell_type": "markdown",
     "checksum": "f373f54668415794f0f0ca8a6b4aea29",
     "grade": false,
     "grade_id": "cell-7e8e699e6fa63332",
     "locked": true,
     "schema_version": 3,
     "solution": false,
     "task": false
    }
   },
   "source": [
    "### Comparison\n",
    "\n",
    "Run the following code cell to plot the average [Kullback-Leibler divergence](https://en.wikipedia.org/wiki/Kullback%E2%80%93Leibler_divergence) between the exact distribution $P(A \\mid D, E)$ and the approximations computed with rejection sampling. Different lines represent different value assignments to the evidence variables $D$ and $E$.\n",
    "\n",
    "**Hint**: The computation of the approximations might take a while..."
   ]
  },
  {
   "cell_type": "code",
   "execution_count": 12,
   "metadata": {
    "deletable": false,
    "editable": false,
    "nbgrader": {
     "cell_type": "code",
     "checksum": "23f5a81288645b389429359e4b28971e",
     "grade": false,
     "grade_id": "cell-e52d6309ba540279",
     "locked": true,
     "schema_version": 3,
     "solution": false,
     "task": false
    }
   },
   "outputs": [
    {
     "data": {
      "image/png": "[encoded data removed]",
      "text/plain": [
       "<Figure size 1000x800 with 1 Axes>"
      ]
     },
     "metadata": {},
     "output_type": "display_data"
    }
   ],
   "source": [
    "from utils import approx_error\n",
    "\n",
    "np.random.seed(0)\n",
    "errs = {}\n",
    "sample_counts = np.array([10, 20, 80, 160, 1000])\n",
    "\n",
    "# compute approximation error\n",
    "for d, e in zip([0, 0, 1, 1], [0, 1, 0, 1]):\n",
    "    errs[(d, e)] = approx_error(\n",
    "        bayes_net,\n",
    "        rejection_sampling,  \n",
    "        A_DE[:, d, e],\n",
    "        _A_,\n",
    "        {_D_:d, _E_:e}, \n",
    "        sample_counts,\n",
    "        n_runs=100\n",
    "    )\n",
    "\n",
    "# plot\n",
    "plt.figure(figsize=(10, 8))\n",
    "plt.title('Kullback-Leibler Divergence')\n",
    "for d, e in zip([0, 0, 1, 1], [0, 1, 0, 1]):\n",
    "    plt.plot(sample_counts, errs[(d, e)], label=f'e:{e}, d:{d}', lw=2)\n",
    "    \n",
    "plt.legend()\n",
    "plt.xscale('log')\n",
    "plt.yscale('log')\n",
    "plt.xlim(sample_counts.min(), sample_counts.max())\n",
    "plt.xlabel('Number of samples')\n",
    "plt.show()"
   ]
  },
  {
   "cell_type": "markdown",
   "metadata": {
    "deletable": false,
    "editable": false,
    "nbgrader": {
     "cell_type": "markdown",
     "checksum": "bac74b10bf3f3e7dbffa1153b0673f59",
     "grade": false,
     "grade_id": "cell-02520925b5144f7a",
     "locked": true,
     "schema_version": 3,
     "solution": false,
     "task": false
    }
   },
   "source": [
    "<div class=\"alert alert-warning\">\n",
    "Answer the following question with <b>one short</b> $\\LaTeX$ statement! (1 point)\n",
    "</div>\n",
    "\n",
    "Given the previous example: What distribution is used to sample a value for variable $D$ in forward sampling? (Just name the distribution, e.g., $P(X \\mid Y)$, do not give the exact numbers.)"
   ]
  },
  {
   "cell_type": "markdown",
   "metadata": {
    "deletable": false,
    "nbgrader": {
     "cell_type": "markdown",
     "checksum": "bf6ccd8e8135e1357af2ed1cb0858b01",
     "grade": true,
     "grade_id": "cell-543a7e54967805a1",
     "locked": false,
     "points": 1,
     "schema_version": 3,
     "solution": true,
     "task": false
    }
   },
   "source": [
    "P(D|A,B)"
   ]
  },
  {
   "cell_type": "markdown",
   "metadata": {
    "deletable": false,
    "editable": false,
    "nbgrader": {
     "cell_type": "markdown",
     "checksum": "51b696d82138a6fa77c242ea0370f568",
     "grade": false,
     "grade_id": "cell-79018e749c52e130",
     "locked": true,
     "schema_version": 3,
     "solution": false,
     "task": false
    }
   },
   "source": [
    "<div class=\"alert alert-warning\">\n",
    "Answer the following question in <b>one sentence</b>! (1 point)\n",
    "</div>\n",
    "\n",
    "Have a look at the average approximation errors when sampling $10^3$ samples with forward sampling. It can be seen that the approximation error varies for different assignments to the evidence variables $D$ and $E$.\n",
    "\n",
    "The approximation error of $P(A \\mid e=1, d=1)$ is relatively close to the approximation error of $P(A \\mid e=0, d=1)$. Can you explain this?"
   ]
  },
  {
   "cell_type": "markdown",
   "metadata": {
    "deletable": false,
    "nbgrader": {
     "cell_type": "markdown",
     "checksum": "fb387c8bbdf706d723f976c28559a5ae",
     "grade": true,
     "grade_id": "cell-9eb92effb71c8f69",
     "locked": false,
     "points": 1,
     "schema_version": 3,
     "solution": true,
     "task": false
    }
   },
   "source": [
    "P(e=1,d=1) has a similar probability of happening as P(e=0,d=1) such that they have a similar acceptance rate in the rejection sampling algorithm."
   ]
  },
  {
   "cell_type": "markdown",
   "metadata": {
    "deletable": false,
    "editable": false,
    "nbgrader": {
     "cell_type": "markdown",
     "checksum": "37a3b31be7fa6559fd42690af2c1c55a",
     "grade": false,
     "grade_id": "cell-8504a946ed33dc68",
     "locked": true,
     "schema_version": 3,
     "solution": false,
     "task": false
    }
   },
   "source": [
    "<div class=\"alert alert-warning\">\n",
    "Store the answer to the following question into the provided result variable! (1 point)\n",
    "</div>\n",
    "\n",
    "Assume $d=0$ and $e=0$. On average, how many of the random events sampled from $P(\\mathcal{X})$ will be accepted by the rejection sampling algorithm (i.e., not rejected)? Give the fraction of samples accepted, e.g., 0.5, if every 2nd sample contains the correct evidence."
   ]
  },
  {
   "cell_type": "code",
   "execution_count": 13,
   "metadata": {
    "deletable": false,
    "nbgrader": {
     "cell_type": "code",
     "checksum": "a1a7f42c79fab7f01462d813b5dc690b",
     "grade": false,
     "grade_id": "cell-2d245d14311f7b64",
     "locked": false,
     "schema_version": 3,
     "solution": true,
     "task": false
    }
   },
   "outputs": [],
   "source": [
    "result = 0.46865 # DE_fjdt.squeeze()[0,0] \n",
    "# Alternative: inference_by_enumeration(fjdt,_D_,_E_)[0,0]"
   ]
  },
  {
   "cell_type": "code",
   "execution_count": 14,
   "metadata": {
    "deletable": false,
    "editable": false,
    "nbgrader": {
     "cell_type": "code",
     "checksum": "6757983e773a346b6e8962d254cfe420",
     "grade": true,
     "grade_id": "cell-a6cb6d992ca3d332",
     "locked": true,
     "points": 1,
     "schema_version": 3,
     "solution": false,
     "task": false
    }
   },
   "outputs": [],
   "source": [
    "assert result is not None"
   ]
  }
 ],
 "metadata": {
  "kernelspec": {
   "display_name": "Python 3",
   "language": "python",
   "name": "python3"
  },
  "language_info": {
   "codemirror_mode": {
    "name": "ipython",
    "version": 3
   },
   "file_extension": ".py",
   "mimetype": "text/x-python",
   "name": "python",
   "nbconvert_exporter": "python",
   "pygments_lexer": "ipython3",
   "version": "3.7.3"
  }
 },
 "nbformat": 4,
 "nbformat_minor": 2
}
