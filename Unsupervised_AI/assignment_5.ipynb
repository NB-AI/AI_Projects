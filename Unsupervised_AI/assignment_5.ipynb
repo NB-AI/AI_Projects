{
 "cells": [
  {
   "cell_type": "markdown",
   "metadata": {},
   "source": [
    "<h1 style=\"color:rgb(0,120,170)\">Assignment 5: Factor Analysis</h1>"
   ]
  },
  {
   "cell_type": "markdown",
   "metadata": {},
   "source": [
    "<h2 style=\"color:rgb(0,120,170)\">Task 1 (25 Points): Generate toy data for FA</h2>\n",
    "\n",
    "Generate an $n \\times m$ data matrix $\\mathbf{X}$, i.e. $n=100$ samples with $m=5$ features, according to the generative factor analysis model with $l=3$ factors. Further, fill $\\mathbf{U}$ with random integers from the set $\\{-3, \\dots, 3\\}$ and $\\mathbf{\\Psi}$ with random integers from the set $\\{1, \\dots, 3\\}$. To save memory, implement $\\mathbf{\\Psi}$ as a vector. "
   ]
  },
  {
   "cell_type": "code",
   "execution_count": 1,
   "metadata": {},
   "outputs": [
    {
     "name": "stderr",
     "output_type": "stream",
     "text": [
      "/home/c/anaconda3/lib/python3.7/site-packages/ipykernel_launcher.py:15: RuntimeWarning: covariance is not positive-semidefinite.\n",
      "  from ipykernel import kernelapp as app\n"
     ]
    }
   ],
   "source": [
    "%matplotlib inline\n",
    "import numpy as np\n",
    "import matplotlib.pyplot as plt\n",
    "\n",
    "########## YOUR SOLUTION HERE ##########\n",
    "n=100\n",
    "m=5\n",
    "l=3\n",
    "\n",
    "U = np.random.randint(-3,3+1,size=(m,l))\n",
    "psi_diag_vec = np.random.randint(1,3+1, size=(m))\n",
    "variance_matrix = U @ U.T\n",
    "mean = np.zeros((m,))\n",
    "\n",
    "X = np.random.multivariate_normal(mean=mean, cov=variance_matrix+psi_diag_vec,size=(n)) # + psi forgotten\n"
   ]
  },
  {
   "cell_type": "markdown",
   "metadata": {},
   "source": [
    "<h2 style=\"color:rgb(0,120,170)\">Task 2 (25 Points): Derive GD for FA</h2>\n",
    "\n",
    "Construct the negative log-likelihood $\\ell(\\mathbf{U}, \\mathbf{\\Psi}) = -\\log\\mathcal{L}(\\mathbf{X}; \\mathbf{U}, \\mathbf{\\Psi})$, according to the FA model assumptions and calculate its gradients with respect to the model parameters, i.e. $\\nabla_{\\mathbf{U}} \\ell(\\mathbf{U}, \\mathbf{\\Psi})$ and $\\nabla_{\\mathbf{\\Psi}} \\ell(\\mathbf{U}, \\mathbf{\\Psi})$. \n",
    "\n",
    "########## YOUR SOLUTION HERE ##########"
   ]
  },
  {
   "cell_type": "markdown",
   "metadata": {},
   "source": [
    "Getting started with the loglikelihood:\n",
    "\\begin{align*}\n",
    "\\sum_{n=1}^N E_q (log(p(x_n|y))\\\\\n",
    "= \\sum_{n=1}^N \\left(    - \\frac{m log(2 \\pi)}{2}  - \\frac{1}{2} log(det(\\psi)) - \\frac{1}{2} E_q \\left[ (x_n-Uy)^T \\psi^{-1} (x_n- Uy)  \\right]            \\right)\\\\\n",
    "= \\sum_{n=1}^N \\left(    - \\frac{m log(2 \\pi)}{2} \\right) - \\sum_{n=1}^N \\left(\\frac{1}{2} log(det(\\psi))\\right) - \\sum_{n=1}^N \\left(\\frac{1}{2} E_q \\left[ (x_n-Uy)^T \\psi^{-1} (x_n- Uy)  \\right]            \\right)\n",
    "\\\\\n",
    "=   - \\frac{m N log(2 \\pi)}{2} - \\frac{N}{2} log(det(\\psi)) -\\frac{1}{2}  \\sum_{n=1}^N \\left(E_q \\left[ (x_n-Uy)^T \\psi^{-1} (x_n- Uy)  \\right]            \\right)\n",
    "\\\\\n",
    "=   - \\frac{m N log(2 \\pi)}{2} - \\frac{N}{2} log(det(\\psi)) -\\frac{1}{2}  \\sum_{n=1}^N \\left(E_q \\left[ x_n^T \\psi^{-1}x_n - 2 x_n^T \\psi^{-1} U y + y^T U^T \\psi^{-1} U y \\right]            \\right)\n",
    "\\\\\n",
    "=   - \\frac{m N log(2 \\pi)}{2} - \\frac{N}{2} log(det(\\psi)) -\\frac{1}{2}  \\left(E_q \\left[ \\sum_{n=1}^N x_n^T \\psi^{-1}x_n - \\sum_{n=1}^N 2 x_n^T \\psi^{-1} U y +\\sum_{n=1}^N  y^T U^T \\psi^{-1} U y \\right]            \\right)\n",
    "\\\\\n",
    "=   - \\frac{m N log(2 \\pi)}{2} - \\frac{N}{2} log(det(\\psi)) -\\frac{1}{2}\n",
    "\\left(E_q \\left[ \\sum_{n=1}^N x_n^T \\psi^{-1}x_n\\right] -2\n",
    "E_q \\left[\\sum_{n=1}^N x_n^T \\psi^{-1} U y \\right] +\n",
    "E_q \\left[\\sum_{n=1}^N  y^T U^T \\psi^{-1} U y \\right]            \\right)\n",
    "\\\\\n",
    "\\end{align*}\n",
    "In Task 3 the modification of the formula is continued such that it is of usage for a coding implementation."
   ]
  },
  {
   "cell_type": "markdown",
   "metadata": {},
   "source": [
    "We need the negative log likelihood:\n",
    "\\begin{align*}\n",
    "-\\sum_{n=1}^N E_q (log(p(x_n|y))\n",
    "=   \\frac{m N log(2 \\pi)}{2} + \\frac{N}{2} log(det(\\psi))+ \\frac{1}{2}\n",
    "\\left(E_q \\left[ \\sum_{n=1}^N x_n^T \\psi^{-1}x_n\\right] -2\n",
    "E_q \\left[\\sum_{n=1}^N x_n^T \\psi^{-1} U y \\right] +\n",
    "E_q \\left[\\sum_{n=1}^N  y^T U^T \\psi^{-1} U y \\right]            \\right)\n",
    "\\\\\\\\\\\\\\\\\n",
    "\\end{align*}"
   ]
  },
  {
   "cell_type": "markdown",
   "metadata": {},
   "source": [
    "\n",
    "Getting the derivatives after U:\n",
    "\\begin{align*}\n",
    "\\frac{\\partial \\frac{Nm \\log(2 \\pi)}{2}}{\\partial U} = 0\n",
    "\\end{align*}"
   ]
  },
  {
   "cell_type": "markdown",
   "metadata": {},
   "source": [
    "\\begin{align*}\n",
    "\\frac{\\partial \\frac{N \\log(\\prod_i^m \\psi_{ii})}{2}}{\\partial U} = 0\n",
    "\\end{align*}"
   ]
  },
  {
   "cell_type": "markdown",
   "metadata": {},
   "source": [
    "\n",
    "\\begin{align*}\n",
    "\\nabla_{\\mathbf{U}} \\ell(\\mathbf{U}, \\mathbf{\\Psi})\n",
    "= \\frac{\\partial 0.5 \\cdot\\sum_{n=1}^N E_q\\left[  x_n^T \\psi^{-1}x_n - 2 x_n^T \\psi^{-1} U y + y^T U^T \\psi^{-1} U y  \\right]}{\\partial U}\n",
    "\\\\\n",
    "= 0.5 \\cdot \\sum_{n=1}^N E_q\\left[ \\frac{\\partial x_n^T \\psi^{-1}x_n - 2x_n^T \\psi^{-1} U y + y^T U^T \\psi^{-1} U y}{\\partial U } \\right]\n",
    "\\\\\n",
    "=0.5 \\cdot  \\sum_{n=1}^N E_q\\left[ 0 - 2\\psi^{-1} x_n y^T + 2 \\psi^{-1} U y y^T\\right]\n",
    "\\\\\n",
    "= 0.5 \\cdot \\sum_{n=1}^N \\left[ E_q\\left[-2\\psi^{-1} x_n y^T\\right] + E_q \\left[2 \\psi^{-1} U y y^T\\right] \\right]\n",
    "\\\\\n",
    "= 0.5 \\cdot \\sum_{n=1}^N \\left[-2\\psi^{-1} E_q\\left[x_n y^T\\right] + 2 \\psi^{-1} U E_q \\left[ y y^T\\right] \\right]\\\\\n",
    "= 0.5 \\cdot 2\\psi^{-1} \\sum_{n=1}^N \\left[-x_n E_q\\left[ y^T\\right] +  U E_q \\left[ y y^T\\right] \\right]\n",
    "\\\\\n",
    "= \\psi^{-1} \\sum_{n=1}^N -x_n E_q\\left[ y^T\\right] + \\psi^{-1} \\sum_{n=1}^N U E_q \\left[ y y^T\\right] \n",
    "\\\\\n",
    "\\end{align*}"
   ]
  },
  {
   "cell_type": "markdown",
   "metadata": {},
   "source": [
    "Getting the derivatives after $\\psi$:\n",
    "\\begin{align*}\n",
    "\\frac{\\partial \\frac{Nm \\log(2 \\pi)}{2}}{\\partial \\psi} = 0\n",
    "\\end{align*}"
   ]
  },
  {
   "cell_type": "markdown",
   "metadata": {},
   "source": [
    "\\begin{align*}\n",
    "\\frac{\\partial \\frac{N \\log(\\prod_i^m \\psi_{ii})}{2}}{\\partial \\psi} \\\\\n",
    "= \\frac{N}{2} \\frac{\\partial \\log(\\prod_i^m \\psi_{ii})}{\\partial \\psi} \\\\\n",
    "= \\frac{N}{2} \\frac{\\partial \\sum_i^m \\log(\\psi_{ii})}{\\partial \\psi} \\\\\n",
    "= \\frac{N}{2} \\frac{1}{\\psi^T}\\\\\n",
    "= \\frac{N}{2} (\\psi^T)^{-1}\\\\\n",
    "= \\frac{N}{2} (\\psi)^{-1}\\\\\n",
    "\\end{align*}\n",
    "because we have a diagonal matrix."
   ]
  },
  {
   "cell_type": "markdown",
   "metadata": {},
   "source": [
    "\n",
    "\\begin{align*}\n",
    "\\frac{\\partial \\sum_{n=1}^N E_q\\left[  x_n^T \\psi^{-1}x_n - 2 x_n^T \\psi^{-1} U y + y^T U^T \\psi^{-1} U y  \\right]}{\\partial \\psi}\n",
    "\\\\\n",
    "=\\sum_{n=1}^N E_q\\left[  \\frac{\\partial x_n^T \\psi^{-1}x_n - 2 x_n^T \\psi^{-1} U y + y^T U^T \\psi^{-1} U y }{\\partial \\psi} \\right]\n",
    "\\\\\n",
    "=\\sum_{n=1}^N E_q\\left[  \\frac{\\partial x_n^T \\psi^{-1}x_n}{\\partial \\psi} - \\frac{2 x_n^T \\psi^{-1} U y}{\\partial \\psi} +\\frac{ y^T U^T \\psi^{-1} U y }{\\partial \\psi} \\right]\n",
    "\\\\\n",
    "=\\sum_{n=1}^N E_q\\left[  -\\psi^{-T}x_n x_n^T \\psi^{-T}  -2 (-\\psi^{-T}x_n (Uy)^T \\psi^{-T} )+( -\\psi^{-T} (y^T U^T)^T (Uy)^T \\psi^{-T} )\\right]\n",
    "\\\\\n",
    "=\\sum_{n=1}^N E_q\\left[  -\\psi^{-T}x_n x_n^T \\psi^{-T}  +2 \\psi^{-T}x_n y^TU^T \\psi^{-T}  -\\psi^{-T} Uy y^T U^T \\psi^{-T} \\right]\n",
    "\\\\\n",
    "=\\sum_{n=1}^N \\left( E_q\\left[  -\\psi^{-T}x_n x_n^T \\psi^{-T}\\right] + E_q\\left[  2 \\psi^{-T}x_n y^TU^T \\psi^{-T}\\right]  - E_q\\left[\\psi^{-T} Uy y^T U^T \\psi^{-T} \\right]\\right)\n",
    "\\\\\n",
    "\\end{align*}\n",
    "Because $\\psi$ is diagnoal matrix we can ignore transpose:\n",
    "\\begin{align*}\n",
    "=\\sum_{n=1}^N \\left( -\\psi^{-1}x_n x_n^T \\psi^{-1}E_q\\left[ 1 \\right] +2  E_q\\left[  \\psi^{-1}x_n y^TU^T \\psi^{-1}\\right]  - E_q\\left[\\psi^{-1} Uy y^T U^T \\psi^{-1} \\right]\\right)\n",
    "\\\\\n",
    "=\\sum_{n=1}^N \\left( -\\psi^{-1}x_n x_n^T \\psi^{-1} +2  E_q\\left[  \\psi^{-1}x_n y^TU^T \\psi^{-1}\\right]  - E_q\\left[\\psi^{-1} Uy y^T U^T \\psi^{-1} \\right]\\right)\n",
    "\\\\\n",
    "\\end{align*}"
   ]
  },
  {
   "cell_type": "markdown",
   "metadata": {},
   "source": [
    "\\begin{align*}\n",
    "\\nabla_{\\mathbf{\\Psi}} \\ell(\\mathbf{U}, \\mathbf{\\Psi}) \n",
    "= \\frac{N}{2} (\\psi)^{-1} + \\frac{1}{2} \\sum_{n=1}^N \\left( -\\psi^{-1}x_n x_n^T \\psi^{-1} +2  E_q\\left[  \\psi^{-1}x_n y^TU^T \\psi^{-1}\\right]  - E_q\\left[\\psi^{-1} Uy y^T U^T \\psi^{-1} \\right]\\right)\n",
    "\\\\\n",
    "= \\frac{N}{2} (\\psi)^{-1} + \\frac{1}{2} \\sum_{n=1}^N -\\psi^{-1}x_n x_n^T \\psi^{-1} +2 \\sum_{n=1}^N  E_q\\left[  \\psi^{-1}x_n y^TU^T \\psi^{-1}\\right]  - \\sum_{n=1}^N  E_q\\left[\\psi^{-1} Uy y^T U^T \\psi^{-1} \\right]\n",
    "\\\\\n",
    " = \\frac{N}{2} (\\psi)^{-1} -\\frac{1}{2} \\sum_{n=1}^N \\psi^{-1}x_n x_n^T \\psi^{-1} +2 \\sum_{n=1}^N \\psi^{-1}x_n E_q\\left[   y^T\\right] U^T \\psi^{-1} - \\sum_{n=1}^N \\psi^{-1} U E_q\\left[y y^T  \\right]U^T \\psi^{-1}\n",
    "\\end{align*}"
   ]
  },
  {
   "cell_type": "markdown",
   "metadata": {},
   "source": [
    "<h2 style=\"color:rgb(0,120,170)\">Task 3 (25 Points): Implement GD for FA</h2>\n",
    "\n",
    "Use your results from the previous task to implement gradient descent on the negative log-likelihood for factor analysis. Initialize $\\mathbf{U}$ and $\\mathbf{\\Psi}$ randomly uniform in $[-0.1, 0.1]$. To speed up computations, use the matrix inversion lemma $(\\mathbf{UU}^\\top + \\mathbf{\\Psi})^{-1} = \\mathbf{\\Psi}^{-1} - \\mathbf{\\Psi}^{-1}\\mathbf{U}(\\mathbf{I} + \\mathbf{U^\\top \\mathbf{\\Psi}^{-1} \\mathbf{U}})^{-1}\\mathbf{U}^\\top \\mathbf{\\Psi}^{-1}$ wherever possible and adjust the learning rate properly. Since we know the true parameters $\\bar{\\mathbf{U}}$ and $\\bar{\\mathbf{\\Psi}}$ for our toy data set, we can measure the loss by $\\lVert \\bar{\\mathbf{U}}\\bar{\\mathbf{U}}^\\top + \\bar{\\mathbf{\\Psi}} - \\mathbf{U}\\mathbf{U}^\\top - \\mathbf{\\Psi} \\rVert$. Visualize the learning progress over 1000 update steps of 10 runs which differ only by initializiation in terms of this matrix (i.e. Frobenius) norm expression."
   ]
  },
  {
   "cell_type": "code",
   "execution_count": 2,
   "metadata": {},
   "outputs": [
    {
     "data": {
      "image/png": "[encoded data removed]",
      "text/plain": [
       "<Figure size 1080x720 with 1 Axes>"
      ]
     },
     "metadata": {
      "needs_background": "light"
     },
     "output_type": "display_data"
    }
   ],
   "source": [
    "########## YOUR SOLUTION HERE ##########\n",
    "import random\n",
    "\n",
    "random.seed(0)\n",
    "learningrate = 0.01\n",
    "final_list0 = []\n",
    "for run in range(10):\n",
    "    \n",
    "    U2 = np.random.uniform(-0.1,0.1,size=(m,l))\n",
    "    psi2_diag = np.random.uniform(-0.1,0.1,size=(m,))\n",
    "    psi2_inv = np.linalg.inv(np.diag(psi2_diag))\n",
    "    \n",
    "    \n",
    "    loss_list = []\n",
    "    for update in range(1000):\n",
    "        psi2_sum = np.sum(psi2_diag)\n",
    "\n",
    "        # (UU^T+ psi)^(-1)=\n",
    "        given_replacer = psi2_inv - psi2_inv @ U2 @ np.linalg.inv(np.identity(l) + U2.T @ psi2_inv @ U2) @ U2.T @ psi2_inv\n",
    "\n",
    "\n",
    "        gradientU1= 0\n",
    "        gradientl2, gradientl3, gradientl4 = 0,0,0\n",
    "        \n",
    "        for x in X: # x is already x.T!\n",
    "            x = x.reshape((1,5))\n",
    "       \n",
    "        \n",
    "            Ey = U2.T@ given_replacer@ x.T\n",
    "            EyyT = Ey @ Ey.T + (np.identity(l) - U2.T @ given_replacer @ U2)\n",
    "            \n",
    "            gradientU1 += (U @ EyyT)-( x.T @ Ey.T) \n",
    "\n",
    "            gradientl2 += psi2_inv @ x.T @ x @ psi2_inv\n",
    "            gradientl3 += psi2_inv @ x.T @ Ey.T @ U2.T @ psi2_inv\n",
    "            gradientl4 += psi2_inv @ U2 @ EyyT @ U2.T @ psi2_inv\n",
    "\n",
    "\n",
    "\n",
    "        # derivative by U:\n",
    "        gradientU =  psi2_inv @ gradientU1\n",
    "        \n",
    "        # derivative by psi:\n",
    "        gradientl1 = n * psi2_inv/2\n",
    "        gradientl = gradientl1 - 0.5 * gradientl2 + 2* gradientl3 - gradientl4\n",
    "\n",
    "       \n",
    "        # calculate the loss:\n",
    "        loss_matrix = U @ U.T + np.diag(psi_diag_vec) - U2 @ U2.T - np.diag(psi2_diag)\n",
    "        loss_value = np.linalg.norm(x=loss_matrix, ord=2)\n",
    "        \n",
    "        # append the loss list for later visualization:\n",
    "        loss_list.append(loss_value)\n",
    "        \n",
    "        # Update values:\n",
    "        U2 = U2 - learningrate * gradientU\n",
    "        psi2_diag = np.diag(np.diag(psi2_diag - learningrate * gradientl))\n",
    "        psi2_inv = np.linalg.inv(psi2_diag)\n",
    "        \n",
    "        \n",
    "        \n",
    "    final_list0.append(loss_list) \n",
    "    \n",
    "plt.figure(figsize=(15,10))\n",
    "for i in final_list0: # final list is a nested list of the 10 runs. plot loss results for the 10 runs.\n",
    "    plt.plot(i)\n",
    "plt.show()  \n"
   ]
  },
  {
   "cell_type": "markdown",
   "metadata": {},
   "source": [
    "<h2 style=\"color:rgb(0,120,170)\">Task 4 (25 Points): Implement EM for FA</h2>\n",
    "\n",
    "Implement expectation maximization for factor analysis. Use the same data and initialization scheme as in the previous task. Visualize the learning progress over 100 update steps in terms of the loss function $\\lVert \\bar{\\mathbf{U}}\\bar{\\mathbf{U}}^\\top + \\bar{\\mathbf{\\Psi}} - \\mathbf{U}\\mathbf{U}^\\top - \\mathbf{\\Psi} \\rVert$ for 10 runs which differ only by initialization. Compare your results to those in the previous exercise and interpret the ovserved differences. "
   ]
  },
  {
   "cell_type": "code",
   "execution_count": 4,
   "metadata": {},
   "outputs": [
    {
     "data": {
      "image/png": "[encoded data removed]",
      "text/plain": [
       "<Figure size 1080x720 with 1 Axes>"
      ]
     },
     "metadata": {
      "needs_background": "light"
     },
     "output_type": "display_data"
    }
   ],
   "source": [
    "########## YOUR SOLUTION HERE ##########\n",
    "random.seed(0)\n",
    "final_list = []\n",
    "for run in range(10):\n",
    "    \n",
    "    U2 = np.random.uniform(-0.1,0.1,size=(m,l))\n",
    "    psi2_diag = np.random.uniform(-0.1,0.1,size=(m,))\n",
    "    psi2_inv = np.linalg.inv(np.diag(psi2_diag))\n",
    "    \n",
    "    loss_list = []\n",
    "    for i in range(100): # 100 updates per run\n",
    "        psi2_sum = np.sum(psi2_diag)\n",
    "\n",
    "        # (UU^T+ psi)^(-1)=\n",
    "        given_replacer = psi2_inv -psi2_inv @ U2 @ np.linalg.inv(np.identity(l) + U2.T @ psi2_inv @ U2) @ U2.T @ psi2_inv\n",
    "\n",
    "\n",
    "        # U optimization task 4:\n",
    "        U21 = 0\n",
    "        U22 = 0\n",
    "        # psi optimization task 4:\n",
    "        psi21 = 0\n",
    "        psi22 = 0\n",
    "              \n",
    "        for x in X: # x is already x.T!\n",
    "            x = x.reshape((1,5))\n",
    "\n",
    "\n",
    "            Ey = U2.T @ given_replacer @ x.T\n",
    "\n",
    "            EyyT = ((U2.T @ given_replacer @ x.T)@(U2.T@given_replacer@x.T).T+(np.identity(l)-U2.T@given_replacer@U2)) \n",
    "           \n",
    "            # U optimization task 4:\n",
    "            U21 += x.T @ Ey.T\n",
    "            U22 += np.linalg.inv(EyyT)\n",
    "            \n",
    "            # psi optimization task 4:\n",
    "            psi21 += x.T @ x\n",
    "            psi22 += x.T @ Ey.T @ U.T\n",
    "            \n",
    "\n",
    "        # U optimization task 4:\n",
    "        U2 = (U21/n) @ (U22/n)\n",
    "\n",
    "        # psi optimization task 4:\n",
    "        psi2 = np.diag(np.diag(psi21 - psi22))/n\n",
    "        psi2_inv = np.linalg.inv(psi2)\n",
    "\n",
    "        # calculate the loss:\n",
    "        loss_matrix = U@U.T + np.diag(psi_diag_vec) - U2 @ U2.T - np.diag(psi2_diag)\n",
    "        loss_value = np.linalg.norm(x=loss_matrix, ord=2)\n",
    "    \n",
    "        # append the loss list for later visualization:\n",
    "        loss_list.append(loss_value)\n",
    "        \n",
    "\n",
    "     #   print('done')\n",
    "    final_list.append(loss_list)  \n",
    "    \n",
    "plt.figure(figsize=(15,10))\n",
    "for i in final_list: # final list is a nested list of the 10 runs. plot loss results for the 10 runs.\n",
    "    plt.plot(i)\n",
    "\n",
    "plt.show() \n"
   ]
  },
  {
   "cell_type": "markdown",
   "metadata": {},
   "source": [
    "For the EM for FA we can find high peaks of losses. We can also find comparatively small loss peaks. However the peaks are steep such that less iterations before/after it we have the low loss values. Furthermore, we can find with very few iterations good estimations. <br>\n",
    "Gradient Descent doesn't seem to work for Factor Analysis because the loss values doesn't change over the iterations. 1000 iterations don't seem to be enough here. "
   ]
  },
  {
   "cell_type": "code",
   "execution_count": null,
   "metadata": {},
   "outputs": [],
   "source": []
  }
 ],
 "metadata": {
  "kernelspec": {
   "display_name": "Python 3",
   "language": "python",
   "name": "python3"
  },
  "language_info": {
   "codemirror_mode": {
    "name": "ipython",
    "version": 3
   },
   "file_extension": ".py",
   "mimetype": "text/x-python",
   "name": "python",
   "nbconvert_exporter": "python",
   "pygments_lexer": "ipython3",
   "version": "3.7.3"
  }
 },
 "nbformat": 4,
 "nbformat_minor": 2
}
