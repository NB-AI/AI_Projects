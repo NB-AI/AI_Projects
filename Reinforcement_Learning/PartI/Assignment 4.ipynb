{
 "cells": [
  {
   "cell_type": "markdown",
   "metadata": {
    "tags": []
   },
   "source": [
    "# Assignment 4 - Temporal Difference Learning\n",
    "### WS 2021\n",
    "\n",
    "---\n",
    "<div class=\"alert alert-warning\">\n",
    "    <b>Due:</b> See Moodle\n",
    "</div>\n",
    "\n",
    "<div class=\"alert alert-info\">\n",
    "\n",
    "In the second assignment, you will implement algorithms that were presented in the first lecture on temporal difference methods. You can gain 17 points in total. Please make sure that you do not overlook any of the questions.\n",
    "\n",
    "<br>\n",
    "\n",
    "To complete this exercise, read the notebook carefully from beginning to end and fill out coding parts and answer questions marked with **TODO**.\n",
    "\n",
    "<br>\n",
    "\n",
    "To make sure you do not forget any **TODO**s in this rather long notebook, here is a list:\n",
    "\n",
    "- (1) Implement TD(0) (Policy Evaluation) (2 Points)\n",
    "- (2) Implement SARSA (Policy Improvement) (3 Points)\n",
    "- (3) Implement Q-Learning (Policy Improvement) (5 Points)\n",
    "- (4) Implement Expected-SARSA (Policy Improvement) (5 Points)\n",
    "- (5) Questions (2 Points)\n",
    "\n",
    "**Do not forget to run all the code cells, before saving and submitting the assignment!**"
   ]
  },
  {
   "cell_type": "markdown",
   "metadata": {},
   "source": [
    "# Temporal Difference Learning\n",
    "We will use the `Cliff` environment as featured in the book. It is designed to illustrate the differences of different temporal difference learning methods. You will need to implement evaluation and control algorithms."
   ]
  },
  {
   "cell_type": "markdown",
   "metadata": {},
   "source": [
    "## (1) TD(0) policy evaluation (2 points)"
   ]
  },
  {
   "cell_type": "markdown",
   "metadata": {},
   "source": [
    "We will use an external library here, that you got when you downloaded the assingment from MOODLE. The directory `gym_gridworlds` should be a subdirectory of the folder that you started the Jupyter notebook server in.\n",
    "\n",
    "Your first task is to implement the TD(0) policy evaluation algorithm."
   ]
  },
  {
   "cell_type": "code",
   "execution_count": 1,
   "metadata": {},
   "outputs": [],
   "source": [
    "import numpy as np\n",
    "import matplotlib.pyplot as plt\n",
    "import gym\n",
    "from collections import defaultdict\n",
    "import gym_gridworlds as gg\n",
    "np.set_printoptions(linewidth=200)"
   ]
  },
  {
   "cell_type": "code",
   "execution_count": 2,
   "metadata": {},
   "outputs": [],
   "source": [
    "def td_policy_evaluation(env, policy, num_episodes, gamma=0.999, alpha=0.1):\n",
    "    V = defaultdict(lambda: 0)\n",
    "    actions = np.arange(env.action_space.n)\n",
    "    rng = np.random.default_rng()\n",
    "    for si in range(1, num_episodes + 1):\n",
    "        s = env.reset()\n",
    "        done = False\n",
    "        \n",
    "        while not done:\n",
    "            s = int(s)\n",
    "            # choose action by a policy for given state s:\n",
    "            policy_current_state = policy[s]\n",
    "            action_array = rng.multinomial(1, policy_current_state)\n",
    "            action = np.where(action_array==1)[0][0] # action is chosen. of course we have no dynamcis knowledge,\n",
    "            # which could influence know:\n",
    "            \n",
    "            # Act chosen action to get reward and future state:          \n",
    "            happening_array = np.array(env.P[s][action])\n",
    "            happening_probabilities = happening_array[:,0]\n",
    "            happening_future_states = rng.multinomial(1, happening_probabilities)\n",
    "            happening_future_choose  = np.where(happening_future_states==1)[0][0]\n",
    "            \n",
    "            happening_future_tuple = happening_array[happening_future_choose]\n",
    "            _, future_state, reward, done = happening_future_tuple # done: does our episode reach an end\n",
    "            # or do we have to go further with the while loop\n",
    "            \n",
    "            # Compute V:\n",
    "            V[s] = V[s] + alpha * (reward + gamma*V[int(future_state)] - V[s])\n",
    "            \n",
    "            # Go to next state while episode not done:\n",
    "            s = future_state\n",
    "            \n",
    "            \n",
    "        # TODO\n",
    "    return V"
   ]
  },
  {
   "cell_type": "markdown",
   "metadata": {},
   "source": [
    "### Now let's try TD(0) to evaluate the random policy"
   ]
  },
  {
   "cell_type": "code",
   "execution_count": 3,
   "metadata": {},
   "outputs": [
    {
     "name": "stdout",
     "output_type": "stream",
     "text": [
      "\n",
      "FFFFFFFFFFFF\n",
      "FFFFFFFFFFFF\n",
      "FFFFFFFFFFFF\n",
      "\u001b[41mS\u001b[0mHHHHHHHHHHG\n"
     ]
    },
    {
     "data": {
      "image/png": "[encoded data removed]",
      "text/plain": [
       "<Figure size 432x288 with 1 Axes>"
      ]
     },
     "metadata": {
      "needs_background": "light"
     },
     "output_type": "display_data"
    },
    {
     "data": {
      "image/png": "[encoded data removed]",
      "text/plain": [
       "<Figure size 432x288 with 2 Axes>"
      ]
     },
     "metadata": {
      "needs_background": "light"
     },
     "output_type": "display_data"
    }
   ],
   "source": [
    "cliff_env = gym.make('Cliff-v0')\n",
    "cliff_env.render()\n",
    "\n",
    "num_episodes = 1000\n",
    "alpha = 0.9\n",
    "gamma = 0.999\n",
    "epsilon = 0.1\n",
    "\n",
    "policy = gg.random_policy(cliff_env)\n",
    "V = td_policy_evaluation(cliff_env, policy, num_episodes=num_episodes, gamma=gamma, alpha=alpha)\n",
    "\n",
    "gg.plot_policy(cliff_env, policy)\n",
    "gg.plot_value_function(cliff_env, V, vmax=-1)"
   ]
  },
  {
   "cell_type": "code",
   "execution_count": 4,
   "metadata": {},
   "outputs": [],
   "source": [
    "# a helper functions that define epsilon greedy policies from Q values.\n",
    "# this function breaks ties uniformly at random (if qs are all equal)\n",
    "# you should use it where appropriate!\n",
    "def eps_greedy_from_qs(rng, qs, epsilon):\n",
    "    # find all currently optimal actions\n",
    "    optimal_actions = np.argwhere(qs == np.amax(qs))\n",
    "    \n",
    "    # choose any of the optimal actions uniformly at random\n",
    "    optimal_action = rng.choice(optimal_actions)\n",
    "    \n",
    "    # build an eps-soft policy:\n",
    "    \n",
    "    # compute eps/A(s)\n",
    "    eps_p = epsilon / len(qs)\n",
    "    \n",
    "    # fill empty array of the same shape as 'qs' with eps/|A(s)|\n",
    "    ps = np.full_like(qs, eps_p)\n",
    "    \n",
    "    # assign most probability mass to optimal action\n",
    "    ps[optimal_action] += 1 - epsilon\n",
    "    return ps"
   ]
  },
  {
   "cell_type": "markdown",
   "metadata": {},
   "source": [
    "## (2) SARSA (3 Points)\n",
    "Your task is to implement SARSA, and test it on the Cliff environment."
   ]
  },
  {
   "cell_type": "code",
   "execution_count": 5,
   "metadata": {},
   "outputs": [],
   "source": [
    "def choosing_action_Q_epsilon_greedy(rng, Qs, epsilon):\n",
    "    \n",
    "    # Choose an action:\n",
    "    policy_array = eps_greedy_from_qs(rng, Qs, epsilon) # get an array in which the action with\n",
    "    # the highest value has the highest probability to be chosen\n",
    "    action_array = rng.multinomial(1, policy_array) # choose an action relying on the probabilities\n",
    "    # to be selecetd\n",
    "    action = np.where(action_array==1)[0][0] \n",
    "    \n",
    "    return action, policy_array"
   ]
  },
  {
   "cell_type": "code",
   "execution_count": 6,
   "metadata": {},
   "outputs": [],
   "source": [
    "def sarsa(env, num_episodes, gamma, alpha, epsilon):\n",
    "    # this is how we store the state-action value function\n",
    "    Q = defaultdict(lambda: np.zeros(env.action_space.n))\n",
    "    # this is simply a helper array that helps us sample from available actions, given a policy\n",
    "    actions = np.arange(env.action_space.n)\n",
    "    # we'll not externally seed anything here, but still use the new PRNG API \n",
    "    rng = np.random.default_rng()\n",
    "    for si in range(1, num_episodes + 1):\n",
    "        if si % 10000 == 0:\n",
    "            print('{}/{} Episodes'.format(si, num_episodes))\n",
    "\n",
    "        s = env.reset()\n",
    "        # TODO\n",
    "        # a = ? -> a sample from an eps-greedy policy, based on the current Q values\n",
    "        # you may want use the helper function defined above, to do this conveniently\n",
    "\n",
    "        # Choose an action:\n",
    "        \n",
    "        action,_ = choosing_action_Q_epsilon_greedy(rng, Q[s], epsilon)\n",
    "        done = False\n",
    "        while not done:\n",
    "            s = int(s) # transform to integer to use s as slicing index\n",
    "            \n",
    "            # Act chosen action to get reward and future state:          \n",
    "            happening_array = np.array(env.P[s][action])\n",
    "            happening_probabilities = happening_array[:,0]\n",
    "            happening_future_states = rng.multinomial(1, happening_probabilities)\n",
    "            happening_future_choose  = np.where(happening_future_states==1)[0][0]\n",
    "            \n",
    "            happening_future_tuple = happening_array[happening_future_choose]\n",
    "            _, future_state, reward, done = happening_future_tuple # done: does our episode reach an end\n",
    "            # or do we have to go further with the while loop\n",
    "            \n",
    "            \n",
    "            # Choose future action in future_state:\n",
    "            future_action,_ = choosing_action_Q_epsilon_greedy(rng, Q[int(future_state)], epsilon)\n",
    "            \n",
    "            # Update Q(s,a):\n",
    "            Q[s][action] = Q[s][action] + alpha * (reward + gamma * Q[future_state][future_action] - Q[s][action])\n",
    "            \n",
    "            # Update s and a\n",
    "            s, action = future_state, future_action\n",
    "            # TODO\n",
    "\n",
    "    # after all the episodes, there might be states missing from 'policy', as exploration\n",
    "    # could have missed some states. so if we have not encountered a state yet, behave randomly\n",
    "    policy = defaultdict(lambda: np.ones(env.action_space.n) / env.action_space.n)\n",
    "    \n",
    "    # make a deterministic policy, based on the Q values\n",
    "    for s, qs in Q.items():\n",
    "        policy[s] = np.eye(env.action_space.n)[np.argmax(qs)]\n",
    "    return policy, Q"
   ]
  },
  {
   "cell_type": "markdown",
   "metadata": {},
   "source": [
    "### Setup and Run"
   ]
  },
  {
   "cell_type": "code",
   "execution_count": 7,
   "metadata": {},
   "outputs": [
    {
     "name": "stdout",
     "output_type": "stream",
     "text": [
      "\n",
      "FFFFFFFFFFFF\n",
      "FFFFFFFFFFFF\n",
      "FFFFFFFFFFFF\n",
      "\u001b[41mS\u001b[0mHHHHHHHHHHG\n",
      "\n",
      "\n",
      "------------------------------\n",
      "SARSA\n",
      "num_episodes 10000\n",
      "alpha 0.1\n",
      "gamma 0.999\n",
      "10000/10000 Episodes\n"
     ]
    },
    {
     "data": {
      "image/png": "[encoded data removed]",
      "text/plain": [
       "<Figure size 432x288 with 1 Axes>"
      ]
     },
     "metadata": {
      "needs_background": "light"
     },
     "output_type": "display_data"
    },
    {
     "data": {
      "image/png": "[encoded data removed]",
      "text/plain": [
       "<Figure size 432x288 with 2 Axes>"
      ]
     },
     "metadata": {
      "needs_background": "light"
     },
     "output_type": "display_data"
    }
   ],
   "source": [
    "cliff_env = gym.make('Cliff-v0')\n",
    "cliff_env.render()\n",
    "\n",
    "num_episodes = 10000\n",
    "alpha = 0.1\n",
    "gamma = 0.999\n",
    "\n",
    "# SARSA needs to explore a lot with this small amount of episodes\n",
    "# if this is set too low, we'll end up with policies that will\n",
    "# produce infinite loops, once we try to evaluate the policy with\n",
    "# TD policy evaluation!\n",
    "# (i.e. policies that loop between two or more states)\n",
    "epsilon = 0.5\n",
    "\n",
    "print('\\n\\n' + '-' * 30)\n",
    "print('SARSA')\n",
    "print('num_episodes', num_episodes)\n",
    "print('alpha', alpha)\n",
    "print('gamma', gamma)\n",
    "policy, Q = sarsa(cliff_env, num_episodes, gamma=gamma, alpha=alpha, epsilon=epsilon)\n",
    "V = td_policy_evaluation(cliff_env, policy, num_episodes, gamma=gamma, alpha=alpha)\n",
    "\n",
    "gg.plot_policy(cliff_env, policy)\n",
    "gg.plot_value_function(cliff_env, V, vmax=-1)"
   ]
  },
  {
   "cell_type": "markdown",
   "metadata": {},
   "source": [
    "## (3) Q-Learning (5 points)\n",
    "Your task is to implement Q-Learning, and test it on the `Cliff` environment."
   ]
  },
  {
   "cell_type": "code",
   "execution_count": 8,
   "metadata": {},
   "outputs": [],
   "source": [
    "def q_learning(env, num_episodes, gamma, alpha, epsilon):\n",
    "    # TODO (look at SARSA to get started)\n",
    "    \n",
    "    # Only slight change in the \n",
    "     # this is how we store the state-action value function\n",
    "    Q = defaultdict(lambda: np.zeros(env.action_space.n))\n",
    "    # this is simply a helper array that helps us sample from available actions, given a policy\n",
    "    actions = np.arange(env.action_space.n)\n",
    "    # we'll not externally seed anything here, but still use the new PRNG API \n",
    "    rng = np.random.default_rng()\n",
    "    for si in range(1, num_episodes + 1):\n",
    "        if si % 10000 == 0:\n",
    "            print('{}/{} Episodes'.format(si, num_episodes))\n",
    "\n",
    "        s = env.reset()\n",
    "        # TODO\n",
    "        # a = ? -> a sample from an eps-greedy policy, based on the current Q values\n",
    "        # you may want use the helper function defined above, to do this conveniently\n",
    "\n",
    "        # Choose an action:\n",
    "        \n",
    "        \n",
    "        done = False\n",
    "        while not done:\n",
    "            s = int(s) # transform to integer to use s as slicing index\n",
    "            \n",
    "            # SARSA difference: action computation shifted here:\n",
    "            action,_ = choosing_action_Q_epsilon_greedy(rng, Q[s], epsilon)\n",
    "            \n",
    "            # Act chosen action to get reward and future state:          \n",
    "            happening_array = np.array(env.P[s][action])\n",
    "            happening_probabilities = happening_array[:,0]\n",
    "            happening_future_states = rng.multinomial(1, happening_probabilities)\n",
    "            happening_future_choose  = np.where(happening_future_states==1)[0][0]\n",
    "            \n",
    "            happening_future_tuple = happening_array[happening_future_choose]\n",
    "            _, future_state, reward, done = happening_future_tuple # done: does our episode reach an end\n",
    "            # or do we have to go further with the while loop\n",
    "            \n",
    "            # Here is only difference to SARSA:\n",
    "            # Take the highest action value for the future state:\n",
    "            best_Q_next_state = np.max(Q[int(future_state)])\n",
    "            \n",
    "            # Little change compared to SARSA:\n",
    "            # Update Q(s,a):\n",
    "            Q[s][action] = Q[s][action] + alpha * (reward + gamma * best_Q_next_state - Q[s][action])\n",
    "            \n",
    "            # Update s and a\n",
    "            s = future_state\n",
    "            # TODO\n",
    "\n",
    "    # after all the episodes, there might be states missing from 'policy', as exploration\n",
    "    # could have missed some states. so if we have not encountered a state yet, behave randomly\n",
    "    policy = defaultdict(lambda: np.ones(env.action_space.n) / env.action_space.n)\n",
    "    \n",
    "    # make a deterministic policy, based on the Q values\n",
    "    for s, qs in Q.items():\n",
    "        policy[s] = np.eye(env.action_space.n)[np.argmax(qs)]\n",
    "    return policy, Q\n"
   ]
  },
  {
   "cell_type": "markdown",
   "metadata": {},
   "source": [
    "### Setup and Run"
   ]
  },
  {
   "cell_type": "code",
   "execution_count": 9,
   "metadata": {},
   "outputs": [
    {
     "name": "stdout",
     "output_type": "stream",
     "text": [
      "\n",
      "FFFFFFFFFFFF\n",
      "FFFFFFFFFFFF\n",
      "FFFFFFFFFFFF\n",
      "\u001b[41mS\u001b[0mHHHHHHHHHHG\n",
      "\n",
      "\n",
      "------------------------------\n",
      "Q-Learning\n",
      "num_episodes 1000\n",
      "alpha 0.9\n",
      "gamma 0.999\n"
     ]
    },
    {
     "data": {
      "image/png": "[encoded data removed]",
      "text/plain": [
       "<Figure size 432x288 with 1 Axes>"
      ]
     },
     "metadata": {
      "needs_background": "light"
     },
     "output_type": "display_data"
    },
    {
     "data": {
      "image/png": "[encoded data removed]",
      "text/plain": [
       "<Figure size 432x288 with 2 Axes>"
      ]
     },
     "metadata": {
      "needs_background": "light"
     },
     "output_type": "display_data"
    }
   ],
   "source": [
    "cliff_env = gym.make('Cliff-v0')\n",
    "cliff_env.render()\n",
    "\n",
    "num_episodes = 1000\n",
    "alpha = 0.9\n",
    "gamma = 0.999\n",
    "epsilon = 0.1\n",
    "\n",
    "print('\\n\\n' + '-' * 30)\n",
    "print('Q-Learning')\n",
    "print('num_episodes', num_episodes)\n",
    "print('alpha', alpha)\n",
    "print('gamma', gamma)\n",
    "\n",
    "policy, Q = q_learning(cliff_env, num_episodes, gamma=gamma, alpha=alpha, epsilon=epsilon)\n",
    "V = td_policy_evaluation(cliff_env, policy, num_episodes, gamma=gamma)\n",
    "\n",
    "gg.plot_policy(cliff_env, policy)\n",
    "gg.plot_value_function(cliff_env, V, vmax=-1)"
   ]
  },
  {
   "cell_type": "markdown",
   "metadata": {},
   "source": [
    "## (4) Expected SARSA (5 points)"
   ]
  },
  {
   "cell_type": "code",
   "execution_count": 10,
   "metadata": {},
   "outputs": [],
   "source": [
    "def expected_sarsa(env, num_episodes, gamma, alpha, epsilon):\n",
    "    # TODO (look at SARSA to get started)\n",
    "    \n",
    "    # Only slight change in the \n",
    "    # this is how we store the state-action value function\n",
    "    Q = defaultdict(lambda: np.zeros(env.action_space.n))\n",
    "    # this is simply a helper array that helps us sample from available actions, given a policy\n",
    "    actions = np.arange(env.action_space.n)\n",
    "    # we'll not externally seed anything here, but still use the new PRNG API \n",
    "    rng = np.random.default_rng()\n",
    "    for si in range(1, num_episodes + 1):\n",
    "        if si % 10000 == 0:\n",
    "            print('{}/{} Episodes'.format(si, num_episodes))\n",
    "\n",
    "        s = env.reset()\n",
    "        # TODO\n",
    "        # a = ? -> a sample from an eps-greedy policy, based on the current Q values\n",
    "        # you may want use the helper function defined above, to do this conveniently\n",
    "\n",
    "        \n",
    "        done = False\n",
    "        while not done:\n",
    "            s = int(s) # transform to integer to use s as slicing index\n",
    "            \n",
    "            # SARSA difference: action computation shifted here:\n",
    "            action,_ = choosing_action_Q_epsilon_greedy(rng, Q[s], epsilon)\n",
    "            \n",
    "            # Act chosen action to get reward and future state:          \n",
    "            happening_array = np.array(env.P[s][action])\n",
    "            happening_probabilities = happening_array[:,0]\n",
    "            happening_future_states = rng.multinomial(1, happening_probabilities)\n",
    "            happening_future_choose  = np.where(happening_future_states==1)[0][0]\n",
    "            \n",
    "            happening_future_tuple = happening_array[happening_future_choose]\n",
    "            _, future_state, reward, done = happening_future_tuple # done: does our episode reach an end\n",
    "            # or do we have to go further with the while loop\n",
    "            \n",
    "            \n",
    "            # Use a second policy to when looking at the future state and its possible values:\n",
    "            # Here we use the random policy. Therefore, each action gets the same weight:\n",
    "            _, future_pol = choosing_action_Q_epsilon_greedy(rng, Q[int(future_state)], epsilon)\n",
    "\n",
    "            future_state_Q_sum = np.sum(Q[int(future_state)] * future_pol )\n",
    "            \n",
    "            # Update Q(s,a):\n",
    "            Q[s][action] = Q[s][action] + alpha * (reward + gamma * future_state_Q_sum - Q[s][action])\n",
    "            \n",
    "            # Update s and a\n",
    "            s = future_state\n",
    "            # TODO\n",
    "\n",
    "    # after all the episodes, there might be states missing from 'policy', as exploration\n",
    "    # could have missed some states. so if we have not encountered a state yet, behave randomly\n",
    "    policy = defaultdict(lambda: np.ones(env.action_space.n) / env.action_space.n)\n",
    "    \n",
    "    # make a deterministic policy, based on the Q values\n",
    "    for s, qs in Q.items():\n",
    "        policy[s] = np.eye(env.action_space.n)[np.argmax(qs)]\n",
    "    return policy, Q\n",
    "    return None"
   ]
  },
  {
   "cell_type": "markdown",
   "metadata": {},
   "source": [
    "### Setup and Run"
   ]
  },
  {
   "cell_type": "code",
   "execution_count": 11,
   "metadata": {},
   "outputs": [
    {
     "name": "stdout",
     "output_type": "stream",
     "text": [
      "\n",
      "FFFFFFFFFFFF\n",
      "FFFFFFFFFFFF\n",
      "FFFFFFFFFFFF\n",
      "\u001b[41mS\u001b[0mHHHHHHHHHHG\n",
      "\n",
      "\n",
      "------------------------------\n",
      "Expected SARSA\n",
      "num_episodes 1000\n",
      "alpha 0.9\n",
      "gamma 0.999\n"
     ]
    },
    {
     "data": {
      "image/png": "[encoded data removed]",
      "text/plain": [
       "<Figure size 432x288 with 1 Axes>"
      ]
     },
     "metadata": {
      "needs_background": "light"
     },
     "output_type": "display_data"
    },
    {
     "data": {
      "image/png": "[encoded data removed]",
      "text/plain": [
       "<Figure size 432x288 with 2 Axes>"
      ]
     },
     "metadata": {
      "needs_background": "light"
     },
     "output_type": "display_data"
    }
   ],
   "source": [
    "cliff_env = gym.make('Cliff-v0')\n",
    "cliff_env.render()\n",
    "\n",
    "# aha - this is interesting! expected SARSA needs much less episodes\n",
    "# than SARSA!\n",
    "num_episodes = 1000\n",
    "alpha = 0.9\n",
    "gamma = 0.999\n",
    "epsilon = 0.1\n",
    "\n",
    "### Run Algorithm\n",
    "\n",
    "print('\\n\\n' + '-' * 30)\n",
    "print('Expected SARSA')\n",
    "print('num_episodes', num_episodes)\n",
    "print('alpha', alpha)\n",
    "print('gamma', gamma)\n",
    "policy, Q = expected_sarsa(cliff_env, num_episodes, gamma=gamma, alpha=alpha, epsilon=epsilon)\n",
    "\n",
    "V = td_policy_evaluation(cliff_env, policy, num_episodes, gamma=gamma)\n",
    "\n",
    "gg.plot_policy(cliff_env, policy)\n",
    "gg.plot_value_function(cliff_env, V, vmax=-1)"
   ]
  },
  {
   "cell_type": "markdown",
   "metadata": {},
   "source": [
    "## (5) Questions (2 points)\n",
    "Look at the policies and associated value functions that SARSA, Q-Learning and Expected SARSA produced, and briefly describe the different policies that the respective algorithms found.\n",
    "- Why there are differences?\n",
    "- Which algorithm produced the optimal policy?\n",
    "\n",
    "(You may want to consult the book, Example 6.6 if you are stuck.)"
   ]
  },
  {
   "cell_type": "markdown",
   "metadata": {},
   "source": [
    "**Answer**: The SARSA policy prefers keeping a maximal distance to the dangerous cliff. It prefers the longest route up to the goal state. Q-learning considers the highest rewarded action next after the current action. Therefore, the risk of dying thorugh the cliff doesn't get as much weight as in the case of SARSA such that the shortest possible route (which is the most dangerous one) is prefered. The policy for Expected SARSA focuses on not being on the neighbouring path of the cliff. When accidently ending up on the path/row furthest away from cliff, the policy also accepts in going that path further instead of leaving it intentionally. <br><br>\n",
    "The differences are because:<br>\n",
    "All algorithms have a look at the Q(S', A'). So not only the current state-action-pair is considered but also the upcoming ones in the case of choosing the concrete current state-action-pair. However, the algorithms have different strategies: <br>\n",
    "In this case SARSA chooses only one action a' (here epsilon-greedy). Therefore, it can happen that the agent explores and dies in the cliff. So, it is learnt to keep maximal distance of the cliff in that small state space.<br>\n",
    "Q-Learning however then chooses always the highest scoring action. Therefore, the danger of dying in the cliff isn't considered. The shortest path to the goal state nearby the cliff is chosen. <br>\n",
    "Expected SARSA considers a weighted sum of the values for all possible a'-s. So, the algorithm can better estimate the real risk of each state in the field. That's why the path nearby the cliff is avoided.<br><br>\n",
    "Expected SARSA has produced the best policy because there is a trade-off between risk consideration and fastest way to goal state. This counts for the case when there is a risk of drifting accidently into the cliff. (When this risk wouldn't be given then Q-Learning policy would be the best.)"
   ]
  },
  {
   "cell_type": "code",
   "execution_count": null,
   "metadata": {},
   "outputs": [],
   "source": []
  }
 ],
 "metadata": {
  "kernelspec": {
   "display_name": "Python 3",
   "language": "python",
   "name": "python3"
  },
  "language_info": {
   "codemirror_mode": {
    "name": "ipython",
    "version": 3
   },
   "file_extension": ".py",
   "mimetype": "text/x-python",
   "name": "python",
   "nbconvert_exporter": "python",
   "pygments_lexer": "ipython3",
   "version": "3.9.7"
  }
 },
 "nbformat": 4,
 "nbformat_minor": 4
}
