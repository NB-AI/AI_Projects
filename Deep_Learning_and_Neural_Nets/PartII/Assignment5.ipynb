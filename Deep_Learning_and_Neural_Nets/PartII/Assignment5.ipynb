{
 "cells": [
  {
   "cell_type": "markdown",
   "metadata": {},
   "source": [
    "<!-- Assignment 5 - SS 2023 -->\n",
    "\n",
    "# Adversarial Training (13 points)"
   ]
  },
  {
   "cell_type": "markdown",
   "metadata": {},
   "source": [
    "This notebook contains one of the assignments for the exercises in Deep Learning and Neural Nets 2.\n",
    "It provides a skeleton, i.e. code with gaps, that will be filled out by you in different exercises.\n",
    "All exercise descriptions are visually annotated by a vertical bar on the left and some extra indentation,\n",
    "unless you already messed with your jupyter notebook configuration.\n",
    "Any questions that are not part of the exercise statement do not need to be answered,\n",
    "but should rather be interpreted as triggers to guide your thought process.\n",
    "\n",
    "**Note**: The cells in the introductory part (before the first subtitle)\n",
    "perform all necessary imports and provide utility functions that should work without (too much) problems.\n",
    "Please, do not alter this code or add extra import statements in your submission, unless explicitly allowed!\n",
    "\n",
    "<span style=\"color:#d95c4c\">**IMPORTANT:**</span> Please, change the name of your submission file so that it contains your student ID!"
   ]
  },
  {
   "cell_type": "markdown",
   "metadata": {},
   "source": [
    "In this assignment, we will play around with adversarial techniques in deep learning.\n",
    "The main goal is to build some understanding of *Generative Adversarial Networks* (GANs).\n",
    "However, we will also take a look at *adversarial training*,\n",
    "which is a collection of methods for fooling neural networks.\n",
    "Although both approaches are completely unrelated,\n",
    "it turns out that is possible to build GANs, starting from adversarial examples.\n"
   ]
  },
  {
   "cell_type": "code",
   "execution_count": 3,
   "metadata": {
    "execution": {
     "iopub.execute_input": "2023-05-30T18:52:36.282265Z",
     "iopub.status.busy": "2023-05-30T18:52:36.281800Z",
     "iopub.status.idle": "2023-05-30T18:52:39.184168Z",
     "shell.execute_reply": "2023-05-30T18:52:39.183169Z",
     "shell.execute_reply.started": "2023-05-30T18:52:36.282225Z"
    },
    "pycharm": {
     "name": "#%%\n"
    }
   },
   "outputs": [
    {
     "name": "stdout",
     "output_type": "stream",
     "text": [
      "cuda\n"
     ]
    }
   ],
   "source": [
    "import os\n",
    "\n",
    "import torch\n",
    "from torch import nn\n",
    "from torch import optim\n",
    "from torch.utils.data import DataLoader, Dataset\n",
    "from torchvision import transforms\n",
    "from torchvision import datasets\n",
    "from PIL import Image\n",
    "\n",
    "torch.manual_seed(1806)\n",
    "torch.cuda.manual_seed(1806)\n",
    "device = 'cuda' if torch.cuda.is_available() else 'cpu'\n",
    "print(device)"
   ]
  },
  {
   "cell_type": "code",
   "execution_count": 4,
   "metadata": {
    "execution": {
     "iopub.execute_input": "2023-05-30T18:52:39.186940Z",
     "iopub.status.busy": "2023-05-30T18:52:39.186098Z",
     "iopub.status.idle": "2023-05-30T18:52:39.194592Z",
     "shell.execute_reply": "2023-05-30T18:52:39.193512Z",
     "shell.execute_reply.started": "2023-05-30T18:52:39.186903Z"
    },
    "pycharm": {
     "name": "#%%\n"
    }
   },
   "outputs": [
    {
     "name": "stdout",
     "output_type": "stream",
     "text": [
      "~/.pytorch\n"
     ]
    }
   ],
   "source": [
    "# google colab data management\n",
    "import os.path\n",
    "\n",
    "try:\n",
    "    from google.colab import drive\n",
    "    drive.mount('/content/gdrive')\n",
    "    _home = 'gdrive/MyDrive/'\n",
    "except ImportError:\n",
    "    _home = '~'\n",
    "finally:\n",
    "    data_root = os.path.join(_home, '.pytorch')\n",
    "\n",
    "print(data_root)"
   ]
  },
  {
   "cell_type": "code",
   "execution_count": 5,
   "metadata": {
    "execution": {
     "iopub.execute_input": "2023-05-30T18:52:39.196882Z",
     "iopub.status.busy": "2023-05-30T18:52:39.196446Z",
     "iopub.status.idle": "2023-05-30T18:52:39.218198Z",
     "shell.execute_reply": "2023-05-30T18:52:39.217196Z",
     "shell.execute_reply.started": "2023-05-30T18:52:39.196849Z"
    }
   },
   "outputs": [],
   "source": [
    "class BaseTrainer:\n",
    "\n",
    "    def __init__(self,\n",
    "         model: nn.Module,\n",
    "         criterion: nn.Module,\n",
    "         optimiser: optim.Optimizer,\n",
    "    ):\n",
    "        \"\"\"\n",
    "        Parameters\n",
    "        ----------\n",
    "        model : torch.nn.Module\n",
    "            Neural Network that will be trained.\n",
    "        criterion : torch.nn.Module\n",
    "            Loss function to use for training.\n",
    "        optimiser : torch.optim.Optimizer\n",
    "            Optimisation strategy for training.\n",
    "        tracker : Tracker, optional\n",
    "            Tracker to keep track of training progress.\n",
    "        \"\"\"\n",
    "        self.model = model\n",
    "        self.criterion = criterion\n",
    "        self.optimiser = optimiser\n",
    "        \n",
    "\n",
    "    def state_dict(self):\n",
    "        \"\"\" Current state of learning. \"\"\"\n",
    "        return {\n",
    "            \"model\": self.model.state_dict(),\n",
    "            \"objective\": self.criterion.state_dict(),\n",
    "            \"optimiser\": self.optimiser.state_dict(),\n",
    "        }\n",
    "    \n",
    "    def load_state_dict(self, state_dict: dict):\n",
    "        \"\"\" Restore learning state. \"\"\"\n",
    "        self.model.load_state_dict(state_dict[\"model\"])\n",
    "        self.criterion.load_state_dict(state_dict[\"objective\"])\n",
    "        self.optimiser.load_state_dict(state_dict[\"optimiser\"])\n",
    "\n",
    "    @property\n",
    "    def device(self):\n",
    "        \"\"\" Device of the (first) model parameters. \"\"\"\n",
    "        return next(self.model.parameters()).device\n",
    "\n",
    "    def _forward(self, data: DataLoader, metric: callable):\n",
    "        device = self.device\n",
    "        for x, y in data:\n",
    "            x, y = x.to(device), y.to(device)\n",
    "            outputs = self.model(x)\n",
    "            res = metric(outputs, y)\n",
    "            yield res\n",
    "\n",
    "    @torch.no_grad()\n",
    "    def evaluate(self, data: DataLoader, metric: callable) -> list:\n",
    "        self.model.eval()\n",
    "\n",
    "        results = self._forward(data, metric)\n",
    "        return [res.item() for res in results]\n",
    "\n",
    "\n",
    "    @torch.enable_grad()\n",
    "    def update(self, data: DataLoader) -> list:\n",
    "        opt = self.optimiser\n",
    "        self.model.train()\n",
    "\n",
    "        errs = []\n",
    "        for err in self._forward(data, self.criterion):\n",
    "            errs.append(err.item())\n",
    "\n",
    "            opt.zero_grad()\n",
    "            err.backward()\n",
    "            opt.step()\n",
    "\n",
    "        return errs\n",
    "    \n",
    "    @property\n",
    "    def fake_data(self):\n",
    "        return None\n",
    "        \n",
    "    \n",
    "    def _display_results(self, count: int = 10):\n",
    "        \"\"\"\n",
    "        Display generated images.\n",
    "\n",
    "        Parameters\n",
    "        ----------\n",
    "        count : int, optional\n",
    "            Number of images to display.\n",
    "        \"\"\"\n",
    "        fake_data = self.fake_data\n",
    "        if fake_data is None:\n",
    "            return\n",
    "        \n",
    "        x = fake_data[:count].to(self.device)\n",
    "        ps = self.model.probabilities(x).view(-1).tolist()\n",
    "        print(\"D probs:\", ', '.join([f\"{p:.2f}\" for p in ps]))\n",
    "\n",
    "        im = data_to_image(*x.cpu(), means=(.1307, ), stds=(.3081, ))\n",
    "        display(im, metadata={'width': '100%'})\n",
    "\n",
    "\n",
    "    def train(self, loader: DataLoader, num_epochs: int = 10, vis_every: int = 5):\n",
    "        \"\"\"\n",
    "        Train an auto-encoder for a number of epochs.\n",
    "\n",
    "        Parameters\n",
    "        ----------\n",
    "        loader : DataLoader\n",
    "            A data loader for iterating over batches of the data.\n",
    "        num_epochs : int, optional\n",
    "            Number of times to iterate the dataset.\n",
    "        vis_every : int, optional\n",
    "            Frequency, during training, of \n",
    "            intermediate visualisation of faked samples.\n",
    "        \"\"\"\n",
    "        # evaluate random performance\n",
    "        errs = self.evaluate(loader, self.criterion)\n",
    "        print(f\"Epoch {0: 2d} - avg loss: {sum(errs) / len(errs):.6f}\")\n",
    "        self._display_results()\n",
    "\n",
    "        # train for some epochs\n",
    "        for epoch in range(1, num_epochs + 1):\n",
    "            errs = self.update(loader)\n",
    "            print(f\"Epoch {epoch: 2d} - avg loss: {sum(errs) / len(errs):.6f}\")\n",
    "\n",
    "            if epoch % vis_every == 0:\n",
    "                self._display_results()\n",
    "        \n",
    "        return errs"
   ]
  },
  {
   "cell_type": "code",
   "execution_count": 6,
   "metadata": {
    "execution": {
     "iopub.execute_input": "2023-05-30T18:52:39.424884Z",
     "iopub.status.busy": "2023-05-30T18:52:39.424543Z",
     "iopub.status.idle": "2023-05-30T18:52:39.430969Z",
     "shell.execute_reply": "2023-05-30T18:52:39.429773Z",
     "shell.execute_reply.started": "2023-05-30T18:52:39.424856Z"
    }
   },
   "outputs": [],
   "source": [
    "@torch.no_grad()\n",
    "def accuracy(logits, targets):\n",
    "    \"\"\"\n",
    "    Compute the accuracy for given logits and targets.\n",
    "    \n",
    "    Parameters\n",
    "    ----------\n",
    "    logits : (N, K) torch.Tensor\n",
    "        A mini-batch of logit vectors from the network.\n",
    "    targets : (N, ) torch.Tensor\n",
    "        A mini_batch of target scalars representing the labels.\n",
    "        \n",
    "    Returns\n",
    "    -------\n",
    "    acc : () torch.Tensor\n",
    "        The accuracy over the mini-batch of samples.\n",
    "    \"\"\"\n",
    "    correct = torch.argmax(logits, dim=-1) == targets\n",
    "    acc = torch.mean(correct.float())\n",
    "    return acc"
   ]
  },
  {
   "cell_type": "code",
   "execution_count": 7,
   "metadata": {
    "execution": {
     "iopub.execute_input": "2023-05-30T18:52:40.355439Z",
     "iopub.status.busy": "2023-05-30T18:52:40.355093Z",
     "iopub.status.idle": "2023-05-30T18:52:40.368053Z",
     "shell.execute_reply": "2023-05-30T18:52:40.366775Z",
     "shell.execute_reply.started": "2023-05-30T18:52:40.355408Z"
    }
   },
   "outputs": [],
   "source": [
    "def data_to_image(*data: torch.Tensor,\n",
    "                  means: tuple = (0, ), stds: tuple = (1., )) -> Image:\n",
    "    \"\"\"\n",
    "    Convert multiple tensors to one big image.\n",
    "\n",
    "    Parameters\n",
    "    ----------\n",
    "    data0, data1, ... dataN : torch.Tensor\n",
    "        One or more tensors to be merged into a single image.\n",
    "    means : tuple or torch.Tensor, optional\n",
    "        Original mean of the image before normalisation.\n",
    "    stds : tuple or torch.Tensor, optional\n",
    "        Original standard deviation of the image before normalisation.\n",
    "\n",
    "    Returns\n",
    "    -------\n",
    "    image : Image\n",
    "        PIL image with all of the tensors next to each other.\n",
    "    \"\"\"\n",
    "    # concatenate all data\n",
    "    big_pic = torch.cat([x for x in data], dim=-1)\n",
    "\n",
    "    means = torch.tensor(means)\n",
    "    stds = torch.tensor(stds)\n",
    "    to_image = transforms.Compose([\n",
    "        # inverts normalisation of image\n",
    "        transforms.Normalize(-means / stds, 1. / stds),\n",
    "        transforms.Lambda(lambda x: torch.clamp(x, 0, 1)),\n",
    "        transforms.ToPILImage()\n",
    "    ])\n",
    "\n",
    "    return to_image(big_pic)\n",
    "\n",
    "def display_fakes(discriminator: nn.Module, fake_data: torch.Tensor,\n",
    "                  count: int = 10):\n",
    "    \"\"\"\n",
    "    Display the images that are fed as fakes to a discriminator.\n",
    "\n",
    "    Parameters\n",
    "    ----------\n",
    "    discriminator : nn.Module\n",
    "        The discriminator that is to be fooled by the fakes.\n",
    "    fake_data : (N, C, H, W) torch.Tensor\n",
    "        The fake images to display.\n",
    "    count : int, optional\n",
    "        Number of samples to display from `fake_data`.\n",
    "    \"\"\"\n",
    "    device = next(discriminator.parameters()).device\n",
    "    x = fake_data[:count].to(device)\n",
    "    ps = discriminator.probabilities(x).view(-1).tolist()\n",
    "    print(\"D probs:\", ', '.join([f\"{p:.2f}\" for p in ps]))\n",
    "    \n",
    "    im = data_to_image(*x.cpu(), means=(.1307, ), stds=(.3081, ))\n",
    "    display(im, metadata={'width': '100%'})"
   ]
  },
  {
   "cell_type": "code",
   "execution_count": 8,
   "metadata": {
    "execution": {
     "iopub.execute_input": "2023-05-30T18:52:41.405546Z",
     "iopub.status.busy": "2023-05-30T18:52:41.405169Z",
     "iopub.status.idle": "2023-05-30T18:52:41.418838Z",
     "shell.execute_reply": "2023-05-30T18:52:41.417709Z",
     "shell.execute_reply.started": "2023-05-30T18:52:41.405516Z"
    },
    "pycharm": {
     "name": "#%%\n"
    }
   },
   "outputs": [],
   "source": [
    "def evaluate_attack(attack: callable, network: nn.Module, data: DataLoader,\n",
    "                    loss_func: nn.Module, vis_count: int = 8, **kwargs):\n",
    "    \"\"\"\n",
    "    Evaluate an adversarial attack on some data.\n",
    "\n",
    "    Parameters\n",
    "    ----------\n",
    "    attack : callable\n",
    "        Function that computes the adversarial example.\n",
    "        Will be called as `attack(x, y, network, loss_func, **kwargs).\n",
    "    network : nn.Module\n",
    "        The network to attack.\n",
    "    data : DataLoader\n",
    "        Data for the attack.\n",
    "    loss_func : nn.Module\n",
    "        Objective for the attack.\n",
    "    vis_count : int, optional\n",
    "        Number of adversarial examples to visualise.\n",
    "    kwargs\n",
    "        Keyword arguments for the attack function.\n",
    "    \"\"\"\n",
    "    dev = next(network.parameters()).device\n",
    "    network.eval()\n",
    "\n",
    "    accuracies = []\n",
    "    for x, y in data:\n",
    "        x, y = x.to(dev), y.to(dev)\n",
    "        adv_x = attack(x, y, network, loss_func, **kwargs)\n",
    "        adv_x = adv_x.clamp(x.min(), x.max())  # put in valid range\n",
    "\n",
    "        # compute accuracy on adversarial examples\n",
    "        with torch.no_grad():\n",
    "            logits = network(adv_x)\n",
    "            acc = accuracy(logits, y)\n",
    "            accuracies.append(acc.item())\n",
    "\n",
    "    print(f\"Adversarial accuracy: {100 * accuracies[0]:.2f}%\")\n",
    "\n",
    "    # collect relevant data\n",
    "    x_ref, y_ref = x[:vis_count], y[:vis_count]\n",
    "    x_adv, y_adv = adv_x[:vis_count], logits[:vis_count].argmax(-1)\n",
    "    with torch.no_grad():\n",
    "        y_pred = network(x_ref).argmax(-1)\n",
    "    \n",
    "    # visualise adversaries\n",
    "    ref_im = data_to_image(*x_ref.cpu(), means=(.1307, ), stds=(.3081, ))\n",
    "    display(ref_im, metadata={'width': '100%'})\n",
    "    print(\"ground truth: \", y_ref.tolist())\n",
    "    print(\"before attack:\", y_pred.tolist())\n",
    "    print(\"after attack: \", y_adv.tolist())\n",
    "    adv_im = data_to_image(*x_adv.cpu(), means=(.1307, ), stds=(.3081, ))\n",
    "    display(adv_im, metadata={'width': '100%'})"
   ]
  },
  {
   "cell_type": "code",
   "execution_count": 9,
   "metadata": {
    "execution": {
     "iopub.execute_input": "2023-05-30T18:52:42.431311Z",
     "iopub.status.busy": "2023-05-30T18:52:42.430498Z",
     "iopub.status.idle": "2023-05-30T18:52:42.443933Z",
     "shell.execute_reply": "2023-05-30T18:52:42.442974Z",
     "shell.execute_reply.started": "2023-05-30T18:52:42.431269Z"
    }
   },
   "outputs": [],
   "source": [
    "class DiscriminatorTrainer(BaseTrainer):\n",
    "    \n",
    "    def __init__(self, model, criterion, optimiser,\n",
    "                 dataset: \"RealOrFakeDataset\", epsilon: float = 0.1):\n",
    "        \"\"\"\n",
    "        Parameters\n",
    "        ----------\n",
    "        dataset : RealOrFakeDataset\n",
    "            The dataset that will be used to train the discriminator.\n",
    "        epsilon: float, optional\n",
    "            The maximum allowed perturbation for the adversarial attacks.\n",
    "        \"\"\"\n",
    "        super().__init__(model, criterion, optimiser)\n",
    "        self.dataset = dataset\n",
    "        self.epsilon = epsilon\n",
    "    \n",
    "    @property\n",
    "    def fake_data(self):\n",
    "        return self.dataset.fake_data\n",
    "    \n",
    "    def update(self, data: DataLoader) -> list:\n",
    "        results = super().update(data)\n",
    "        self.dataset.update_fake_examples(self.model, self.criterion, self.epsilon)\n",
    "        return results\n",
    "        \n",
    "\n",
    "def train_gan(gan: nn.Module, loader: DataLoader, objective: nn.Module, \n",
    "              optimiser: optim.Optimizer, num_epochs: int = 10, vis_every: int = 5):\n",
    "    \"\"\"\n",
    "    Train a GAN for a number of epochs.\n",
    "    \n",
    "    Parameters\n",
    "    ----------\n",
    "    gan : nn.Module\n",
    "        The GAN to train\n",
    "    loader : DataLoader\n",
    "        A data loader for iterating over batches of the data.\n",
    "        This can be a standard, \"supervised\" dataloader.\n",
    "    objective : nn.Module\n",
    "        The loss function to optimise during training.\n",
    "    optimiser : optim.Optimizer\n",
    "        The optimiser to use for training.\n",
    "    num_epochs : int, optional\n",
    "        Number of times to iterate the dataset.\n",
    "    vis_every : int, optional\n",
    "        Frequency, during training, of \n",
    "        intermediate visualisation of fake samples.\n",
    "        \n",
    "    \"\"\"\n",
    "    g_errs, d_errs = [], []\n",
    "    for x, _ in loader:\n",
    "        x = x.to(device)\n",
    "        g_errs.append(generator_error(gan, x, objective).item())\n",
    "        d_errs.append(discriminator_error(gan, x, objective).item())\n",
    "    loss_report = ', '.join([\n",
    "        f\"avg G loss: {sum(g_errs) / len(g_errs):.5f}\",\n",
    "        f\"avg D loss: {sum(d_errs) / len(d_errs):.5f}\"\n",
    "    ])\n",
    "    print(f'Epoch {0: 2d}', loss_report, sep=' - ')\n",
    "    fake_data = gan.generator.generate(batch_size=10)\n",
    "    display_fakes(gan.discriminator, fake_data)\n",
    "    \n",
    "    for epoch in range(1, num_epochs + 1):\n",
    "        g_errs, d_errs = update_gan(gan, loader, objective, optimiser)\n",
    "        loss_report = ', '.join([\n",
    "            f\"avg G loss: {sum(g_errs) / len(g_errs):.5f}\",\n",
    "            f\"avg D loss: {sum(d_errs) / len(d_errs):.5f}\"\n",
    "        ])\n",
    "        print(f'Epoch {epoch: 2d}', loss_report, sep=' - ')\n",
    "        if epoch % vis_every == 0:\n",
    "            fake_data = gan.generator.generate(batch_size=10)\n",
    "            display_fakes(gan.discriminator, fake_data)"
   ]
  },
  {
   "cell_type": "markdown",
   "metadata": {},
   "source": [
    "## Adversarial Examples"
   ]
  },
  {
   "cell_type": "code",
   "execution_count": 10,
   "metadata": {
    "execution": {
     "iopub.execute_input": "2023-05-30T18:52:44.822645Z",
     "iopub.status.busy": "2023-05-30T18:52:44.821662Z",
     "iopub.status.idle": "2023-05-30T18:52:52.478391Z",
     "shell.execute_reply": "2023-05-30T18:52:52.477432Z",
     "shell.execute_reply.started": "2023-05-30T18:52:44.822573Z"
    }
   },
   "outputs": [
    {
     "name": "stdout",
     "output_type": "stream",
     "text": [
      "Downloading http://yann.lecun.com/exdb/mnist/train-images-idx3-ubyte.gz\n",
      "Downloading http://yann.lecun.com/exdb/mnist/train-images-idx3-ubyte.gz to /root/.pytorch/MNIST/raw/train-images-idx3-ubyte.gz\n"
     ]
    },
    {
     "name": "stderr",
     "output_type": "stream",
     "text": [
      "100%|██████████| 9912422/9912422 [00:00<00:00, 392957706.32it/s]\n"
     ]
    },
    {
     "name": "stdout",
     "output_type": "stream",
     "text": [
      "Extracting /root/.pytorch/MNIST/raw/train-images-idx3-ubyte.gz to /root/.pytorch/MNIST/raw\n",
      "\n",
      "Downloading http://yann.lecun.com/exdb/mnist/train-labels-idx1-ubyte.gz\n",
      "Downloading http://yann.lecun.com/exdb/mnist/train-labels-idx1-ubyte.gz to /root/.pytorch/MNIST/raw/train-labels-idx1-ubyte.gz\n"
     ]
    },
    {
     "name": "stderr",
     "output_type": "stream",
     "text": [
      "100%|██████████| 28881/28881 [00:00<00:00, 105152512.00it/s]"
     ]
    },
    {
     "name": "stdout",
     "output_type": "stream",
     "text": [
      "Extracting /root/.pytorch/MNIST/raw/train-labels-idx1-ubyte.gz to /root/.pytorch/MNIST/raw\n",
      "\n",
      "Downloading http://yann.lecun.com/exdb/mnist/t10k-images-idx3-ubyte.gz\n"
     ]
    },
    {
     "name": "stderr",
     "output_type": "stream",
     "text": [
      "\n"
     ]
    },
    {
     "name": "stdout",
     "output_type": "stream",
     "text": [
      "Downloading http://yann.lecun.com/exdb/mnist/t10k-images-idx3-ubyte.gz to /root/.pytorch/MNIST/raw/t10k-images-idx3-ubyte.gz\n"
     ]
    },
    {
     "name": "stderr",
     "output_type": "stream",
     "text": [
      "100%|██████████| 1648877/1648877 [00:00<00:00, 129630023.74it/s]\n"
     ]
    },
    {
     "name": "stdout",
     "output_type": "stream",
     "text": [
      "Extracting /root/.pytorch/MNIST/raw/t10k-images-idx3-ubyte.gz to /root/.pytorch/MNIST/raw\n",
      "\n",
      "Downloading http://yann.lecun.com/exdb/mnist/t10k-labels-idx1-ubyte.gz\n",
      "Downloading http://yann.lecun.com/exdb/mnist/t10k-labels-idx1-ubyte.gz to /root/.pytorch/MNIST/raw/t10k-labels-idx1-ubyte.gz\n"
     ]
    },
    {
     "name": "stderr",
     "output_type": "stream",
     "text": [
      "100%|██████████| 4542/4542 [00:00<00:00, 5693523.24it/s]\n",
      "/opt/conda/lib/python3.10/site-packages/torch/utils/data/dataloader.py:561: UserWarning: This DataLoader will create 4 worker processes in total. Our suggested max number of worker in current system is 2, which is smaller than what this DataLoader is going to create. Please be aware that excessive worker creation might get DataLoader running slow or even freeze, lower the worker number to avoid potential slowness/freeze if necessary.\n",
      "  warnings.warn(_create_warning_msg(\n"
     ]
    },
    {
     "name": "stdout",
     "output_type": "stream",
     "text": [
      "Extracting /root/.pytorch/MNIST/raw/t10k-labels-idx1-ubyte.gz to /root/.pytorch/MNIST/raw\n",
      "\n"
     ]
    }
   ],
   "source": [
    "# set up training (nothing to do here)\n",
    "\n",
    "pre_processing = transforms.Compose([\n",
    "    transforms.ToTensor(),\n",
    "    transforms.Normalize((.1307, ), (.3081, ))\n",
    "])\n",
    "mnist_train = datasets.MNIST(data_root, transform=pre_processing, download=True)\n",
    "train_loader = DataLoader(mnist_train, shuffle=True, batch_size=128, num_workers=4)\n",
    "\n",
    "mnist_net = nn.Sequential(\n",
    "    nn.Conv2d(1, 8, 4, stride=2),\n",
    "    nn.ELU(),\n",
    "    nn.Conv2d(8, 32, 3, stride=2),\n",
    "    nn.ELU(),\n",
    "    nn.Conv2d(32, 64, 6),\n",
    "    nn.ELU(),\n",
    "    nn.Flatten(),\n",
    "    nn.Linear(64, 10)\n",
    ").to(device)\n",
    "\n",
    "trainer = BaseTrainer(\n",
    "    model=mnist_net,\n",
    "    criterion=nn.CrossEntropyLoss(),\n",
    "    optimiser=optim.SGD(mnist_net.parameters(), lr=1e-2, momentum=.9)\n",
    ")"
   ]
  },
  {
   "cell_type": "code",
   "execution_count": 11,
   "metadata": {
    "execution": {
     "iopub.execute_input": "2023-05-30T18:52:52.480840Z",
     "iopub.status.busy": "2023-05-30T18:52:52.480472Z",
     "iopub.status.idle": "2023-05-30T18:57:23.567242Z",
     "shell.execute_reply": "2023-05-30T18:57:23.565105Z",
     "shell.execute_reply.started": "2023-05-30T18:52:52.480796Z"
    },
    "tags": [
     "skip-execution"
    ]
   },
   "outputs": [
    {
     "name": "stdout",
     "output_type": "stream",
     "text": [
      "Epoch  0 - avg loss: 2.310794\n",
      "Epoch  1 - avg loss: 0.356059\n",
      "Epoch  2 - avg loss: 0.112316\n",
      "Epoch  3 - avg loss: 0.074124\n",
      "Epoch  4 - avg loss: 0.056325\n",
      "Epoch  5 - avg loss: 0.046636\n",
      "Epoch  6 - avg loss: 0.036963\n",
      "Epoch  7 - avg loss: 0.030945\n",
      "Epoch  8 - avg loss: 0.025034\n",
      "Epoch  9 - avg loss: 0.020623\n",
      "Epoch  10 - avg loss: 0.018712\n",
      "Epoch  11 - avg loss: 0.015201\n",
      "Epoch  12 - avg loss: 0.013424\n",
      "Epoch  13 - avg loss: 0.010467\n",
      "Epoch  14 - avg loss: 0.008822\n",
      "Epoch  15 - avg loss: 0.007537\n",
      "Epoch  16 - avg loss: 0.007254\n",
      "Epoch  17 - avg loss: 0.005839\n",
      "Epoch  18 - avg loss: 0.004752\n",
      "Epoch  19 - avg loss: 0.003479\n",
      "Epoch  20 - avg loss: 0.002577\n",
      "Train accuracy: 99.76%\n",
      "\n",
      "CPU times: user 34.3 s, sys: 8.67 s, total: 42.9 s\n",
      "Wall time: 4min 31s\n"
     ]
    }
   ],
   "source": [
    "%%time\n",
    "\n",
    "# train MNIST classifier\n",
    "errs = trainer.train(train_loader, num_epochs=20)\n",
    "errs = trainer.evaluate(train_loader, accuracy)\n",
    "print(f\"Train accuracy: {100 * sum(errs) / len(errs):.2f}%\")\n",
    "torch.save(trainer.state_dict(), \"mnist_net.pt\")  # for testing\n",
    "print()"
   ]
  },
  {
   "cell_type": "code",
   "execution_count": 12,
   "metadata": {
    "execution": {
     "iopub.execute_input": "2023-05-30T18:57:23.569598Z",
     "iopub.status.busy": "2023-05-30T18:57:23.569208Z",
     "iopub.status.idle": "2023-05-30T18:57:28.620619Z",
     "shell.execute_reply": "2023-05-30T18:57:28.619331Z",
     "shell.execute_reply.started": "2023-05-30T18:57:23.569555Z"
    }
   },
   "outputs": [
    {
     "name": "stdout",
     "output_type": "stream",
     "text": [
      "Eval loss: 0.06838\n",
      "Eval accuracy: 98.39%\n"
     ]
    }
   ],
   "source": [
    "# test MNIST classifier\n",
    "trainer.load_state_dict(torch.load(\"mnist_net.pt\"))  # for testing\n",
    "mnist_test = datasets.MNIST(data_root, train=False, transform=pre_processing)\n",
    "test_loader = DataLoader(mnist_test, batch_size=len(mnist_test), num_workers=4)\n",
    "errs = trainer.evaluate(test_loader, trainer.criterion)\n",
    "print(f\"Eval loss: {errs[0]:.5f}\")\n",
    "errs = trainer.evaluate(test_loader, accuracy)\n",
    "print(f\"Eval accuracy: {100 * errs[0]:.2f}%\")"
   ]
  },
  {
   "cell_type": "markdown",
   "metadata": {},
   "source": [
    "It has become extremely easy to get good models for plenty of tasks.\n",
    "It only takes a few lines of code and a handful of minutes\n",
    "to get a model that is able to recognise handwritten digits.\n",
    "This does not mean, however, that the network *understands* these images.\n",
    "It turns out that even the best models can easily be fooled\n",
    "by creating what is known as *adversarial examples*."
   ]
  },
  {
   "cell_type": "markdown",
   "metadata": {},
   "source": [
    "There are mainly two ways to make a strong network look stupid:\n",
    " 1. Change existing images until the network mis-classifies them,\n",
    " 2. Make predictions on random noise (out-of-distribution images).\n",
    "\n",
    "The first approach is an active topic in Machine Learning research.\n",
    "The main goal is to find the smallest possible perturbations\n",
    "that are required to make the network misclassify its inputs.\n",
    "\n",
    "The second approach can be considered silly because in most cases, \n",
    "a network is simply not able to express that it has no idea what to predict.\n",
    "Nevertheless, this can make systems that rely on neural networks vulnerable.\n",
    "E.g. face recognition software being fooled by carefully constructed noise."
   ]
  },
  {
   "cell_type": "markdown",
   "metadata": {},
   "source": [
    "### Exercise 1: Projected Gradient Ascent (4 points)\n",
    "\n",
    "One of the easiest ways to construct an adversarial example\n",
    "is to maximise the loss by using gradient ascent on the inputs.\n",
    "After all, the parameters of a neural network are also the result\n",
    "of a gradient descent that minises the loss function.\n",
    "\n",
    "In order to keep the perturbations to the original image small,\n",
    "a constraint is added to the gradient ascent for adversarial examples:\n",
    "the adversarial example must lie in an epsilon-ball around the original input.\n",
    "This procedure is also known as *projected gradient ascent*.\n",
    "\n",
    " > Implement the `adversarial_attack` function below\n",
    " > so that it implements projected gradient ascent as described above.\n",
    " > To speed up the process of finding adversarial examples,\n",
    " > you can use the sign of the gradients instead of the pure gradients.\n",
    " > Make sure not to return the computational graph!\n",
    " \n",
    "**Hint:** If you are having problems with gradient errors, your computations might involve an unwanted gradient flow."
   ]
  },
  {
   "cell_type": "code",
   "execution_count": 13,
   "metadata": {
    "deletable": false,
    "execution": {
     "iopub.execute_input": "2023-05-30T18:57:28.625239Z",
     "iopub.status.busy": "2023-05-30T18:57:28.624859Z",
     "iopub.status.idle": "2023-05-30T18:57:28.636307Z",
     "shell.execute_reply": "2023-05-30T18:57:28.635058Z",
     "shell.execute_reply.started": "2023-05-30T18:57:28.625206Z"
    },
    "nbgrader": {
     "cell_type": "code",
     "checksum": "5e4875cea3c0effa25c0e2d13879171e",
     "grade": false,
     "grade_id": "cell-965f642deb344c0e",
     "locked": false,
     "schema_version": 3,
     "solution": true,
     "task": false
    },
    "tags": []
   },
   "outputs": [],
   "source": [
    "def adversarial_attack(x: torch.Tensor, y: torch.Tensor,\n",
    "                       network: nn.Module, loss_func: nn.Module,\n",
    "                       epsilon: float = .1, eta: float = .1, steps: int = 10):\n",
    "    \"\"\"\n",
    "    Compute an adversarial example for a network from a given input.\n",
    "\n",
    "    Parameters\n",
    "    ----------\n",
    "    x : torch.Tensor\n",
    "        The reference input for the network.\n",
    "    y : torch.Tensor\n",
    "        The label for the reference input.\n",
    "    network : nn.Module\n",
    "        The network to compute the adversary for.\n",
    "    loss_func : nn.Module\n",
    "        The loss function the network was trained with.\n",
    "    epsilon : float, optional\n",
    "        The radius of the ball to keep the adversary within.\n",
    "    eta : float, optional\n",
    "        The step size to use for computing the adversary.\n",
    "    steps : int, optional\n",
    "        The number of gradient steps to take.\n",
    "\n",
    "    Returns\n",
    "    -------\n",
    "    adversary : torch.Tensor\n",
    "        The adversarial example (`x + perturbation`).\n",
    "    \"\"\"\n",
    "    # compute the (delta L/ delta x):\n",
    "    t1 = - epsilon/eta\n",
    "    t2 = epsilon/eta\n",
    "    x.requires_grad = True\n",
    "    \n",
    "    noisy_x = x.clone().detach().to(x.device)\n",
    "    noisy_x.requires_grad = True\n",
    "    \n",
    "    # Optimize:\n",
    "    for _ in range(steps):\n",
    "        _noisy_x = noisy_x.clone().detach().requires_grad_(True)\n",
    "\n",
    "        logits = network(_noisy_x)\n",
    "        logits = logits.squeeze(-1) # make logits comparable to y for the loss_func()       \n",
    "        \n",
    "        loss = -loss_func(logits, y) # loss = - loss as we have gradient ascent instead of gradient descent\n",
    "        loss.backward(retain_graph=False, create_graph=False)\n",
    "\n",
    "        with torch.no_grad():          \n",
    "            gradients = _noisy_x.grad.sign() * eta # it was mentioned that we can only use the sign of gradient\n",
    "            noisy_x -= gradients\n",
    "            \n",
    "        noisy_x = torch.max(torch.min(noisy_x, x + epsilon), x - epsilon)   \n",
    "        noisy_x = noisy_x.clamp_(t1,t2)\n",
    "\n",
    "    return noisy_x.detach()\n",
    "\n",
    "  "
   ]
  },
  {
   "cell_type": "code",
   "execution_count": 14,
   "metadata": {
    "deletable": false,
    "execution": {
     "iopub.execute_input": "2023-05-30T18:57:28.638171Z",
     "iopub.status.busy": "2023-05-30T18:57:28.637696Z",
     "iopub.status.idle": "2023-05-30T18:57:28.705552Z",
     "shell.execute_reply": "2023-05-30T18:57:28.704521Z",
     "shell.execute_reply.started": "2023-05-30T18:57:28.638137Z"
    },
    "nbgrader": {
     "cell_type": "code",
     "checksum": "441db99b2bc543eef4c7d63d7134ad28",
     "grade": true,
     "grade_id": "cell-b2294c61854a4e20",
     "locked": true,
     "points": 1,
     "schema_version": 3,
     "solution": false,
     "task": false
    },
    "tags": []
   },
   "outputs": [],
   "source": [
    "# Test Cell: do not edit or delete!\n",
    "x = torch.ones(1, 1, 28, 28).to(trainer.device)\n",
    "y = torch.zeros(1, dtype=torch.long).to(trainer.device)\n",
    "x_adv = adversarial_attack(x, y, trainer.model, trainer.criterion, epsilon=0.1)\n",
    "assert x.shape == x_adv.shape, (\n",
    "    \"ex1: adversarial_attack produces outputs with incorrect shape (-1 point)\"\n",
    ")\n",
    "assert torch.abs(x - x_adv).max() <= 0.1 + 1e-5, (\n",
    "    \"ex1: adversarial_attack produces outputs outside of epsilon ball (-1 point)\"\n",
    ")"
   ]
  },
  {
   "cell_type": "code",
   "execution_count": 15,
   "metadata": {
    "deletable": false,
    "execution": {
     "iopub.execute_input": "2023-05-30T18:57:28.707186Z",
     "iopub.status.busy": "2023-05-30T18:57:28.706867Z",
     "iopub.status.idle": "2023-05-30T18:57:28.719965Z",
     "shell.execute_reply": "2023-05-30T18:57:28.719017Z",
     "shell.execute_reply.started": "2023-05-30T18:57:28.707153Z"
    },
    "nbgrader": {
     "cell_type": "code",
     "checksum": "0165b936ec791c00db7ff044301a9140",
     "grade": true,
     "grade_id": "cell-3d16cb2776fe164b",
     "locked": true,
     "points": 0.5,
     "schema_version": 3,
     "solution": false,
     "task": false
    },
    "tags": []
   },
   "outputs": [],
   "source": [
    "# Test Cell: do not edit or delete!\n",
    "assert trainer.model(x_adv)[:, y] < trainer.model(x)[:, y], (\n",
    "    \"ex1: adversarial_attack produces outputs with better results (-0.5 points)\"\n",
    ")"
   ]
  },
  {
   "cell_type": "code",
   "execution_count": 16,
   "metadata": {
    "deletable": false,
    "execution": {
     "iopub.execute_input": "2023-05-30T18:57:28.722077Z",
     "iopub.status.busy": "2023-05-30T18:57:28.721387Z",
     "iopub.status.idle": "2023-05-30T18:57:28.730128Z",
     "shell.execute_reply": "2023-05-30T18:57:28.729119Z",
     "shell.execute_reply.started": "2023-05-30T18:57:28.722045Z"
    },
    "nbgrader": {
     "cell_type": "code",
     "checksum": "ae2aa3da1382493106531c0cf21b2e70",
     "grade": true,
     "grade_id": "cell-29b9974ce8f26df7",
     "locked": true,
     "points": 0.5,
     "schema_version": 3,
     "solution": false,
     "task": false
    },
    "tags": []
   },
   "outputs": [],
   "source": [
    "# Test Cell: do not edit or delete!\n",
    "assert len(torch.abs(x - x_adv).unique()) <= 5, (\n",
    "    \"ex1: adversarial_attack does not seem to change pixels fast enough (-0.5 points)\"\n",
    ")"
   ]
  },
  {
   "cell_type": "code",
   "execution_count": null,
   "metadata": {
    "deletable": false,
    "nbgrader": {
     "cell_type": "code",
     "checksum": "1e6cc9a4a4ed72353da8bf95bb887d55",
     "grade": true,
     "grade_id": "cell-aa15d48e912f0412",
     "locked": true,
     "points": 0.5,
     "schema_version": 3,
     "solution": false,
     "task": false
    },
    "tags": []
   },
   "outputs": [],
   "source": [
    "# Test Cell: do not edit or delete!"
   ]
  },
  {
   "cell_type": "code",
   "execution_count": null,
   "metadata": {
    "deletable": false,
    "nbgrader": {
     "cell_type": "code",
     "checksum": "be054fb04a5577496c49d9252760b061",
     "grade": true,
     "grade_id": "cell-716c91d9770e9a69",
     "locked": true,
     "points": 1,
     "schema_version": 3,
     "solution": false,
     "task": false
    },
    "tags": []
   },
   "outputs": [],
   "source": [
    "# Test Cell: do not edit or delete!"
   ]
  },
  {
   "cell_type": "code",
   "execution_count": null,
   "metadata": {
    "deletable": false,
    "nbgrader": {
     "cell_type": "code",
     "checksum": "5436cd4ec92441f3482e413c7f584253",
     "grade": true,
     "grade_id": "cell-e0c65e7521b2c796",
     "locked": true,
     "points": 0.5,
     "schema_version": 3,
     "solution": false,
     "task": false
    },
    "tags": []
   },
   "outputs": [],
   "source": [
    "# Test Cell: do not edit or delete!"
   ]
  },
  {
   "cell_type": "code",
   "execution_count": 17,
   "metadata": {
    "execution": {
     "iopub.execute_input": "2023-05-30T18:57:28.732127Z",
     "iopub.status.busy": "2023-05-30T18:57:28.731652Z",
     "iopub.status.idle": "2023-05-30T18:57:31.768252Z",
     "shell.execute_reply": "2023-05-30T18:57:31.767237Z",
     "shell.execute_reply.started": "2023-05-30T18:57:28.732063Z"
    },
    "tags": []
   },
   "outputs": [
    {
     "name": "stdout",
     "output_type": "stream",
     "text": [
      "Adversarial accuracy: 51.39%\n"
     ]
    },
    {
     "data": {
      "image/png": "[encoded data removed]",
      "text/plain": [
       "<PIL.Image.Image image mode=L size=224x28>"
      ]
     },
     "metadata": {
      "width": "100%"
     },
     "output_type": "display_data"
    },
    {
     "name": "stdout",
     "output_type": "stream",
     "text": [
      "ground truth:  [7, 2, 1, 0, 4, 1, 4, 9]\n",
      "before attack: [7, 2, 1, 0, 4, 1, 4, 9]\n",
      "after attack:  [7, 2, 7, 0, 9, 7, 8, 4]\n"
     ]
    },
    {
     "data": {
      "image/png": "[encoded data removed]",
      "text/plain": [
       "<PIL.Image.Image image mode=L size=224x28>"
      ]
     },
     "metadata": {
      "width": "100%"
     },
     "output_type": "display_data"
    }
   ],
   "source": [
    "# sanity check\n",
    "trainer.model.requires_grad_(False)  # disable parameter gradients\n",
    "evaluate_attack(adversarial_attack, trainer.model, test_loader, trainer.criterion, epsilon=.3)"
   ]
  },
  {
   "cell_type": "markdown",
   "metadata": {
    "pycharm": {
     "name": "#%% md\n"
    }
   },
   "source": [
    "## Fooling a Dummy Network\n",
    "\n",
    "Adversarial examples are considered an analysis tool\n",
    "that can help to gain insights in how neural networks behave.\n",
    "However, when pushing these methods, it turns out that\n",
    "adversarial examples can actually also be used to generate new images.\n",
    "The key point to getting useful images, is to attack the right model.\n",
    "\n",
    "Consider the task of predicting whether an input is *real* or *fake*.\n",
    "A *real* sample would be defined as an input that comes from the dataset,\n",
    "whereas a *fake* example is an input that does not appear in the dataset.\n",
    "It should be relatively easy to build a binary classification model for this task.\n",
    "Let us denote this model as a *discriminator*,\n",
    "since it discriminates between *real* and *fake* images.\n",
    "\n",
    "By using an adversarial attack on this model \n",
    "*fake* inputs can be altered to look more like *real* samples."
   ]
  },
  {
   "cell_type": "code",
   "execution_count": 18,
   "metadata": {
    "execution": {
     "iopub.execute_input": "2023-05-30T18:57:31.772925Z",
     "iopub.status.busy": "2023-05-30T18:57:31.772594Z",
     "iopub.status.idle": "2023-05-30T18:57:31.785418Z",
     "shell.execute_reply": "2023-05-30T18:57:31.784299Z",
     "shell.execute_reply.started": "2023-05-30T18:57:31.772898Z"
    }
   },
   "outputs": [],
   "source": [
    "class Discriminator(nn.Module):\n",
    "    \"\"\" Network for deciding whether a MNIST image is real or fake. \"\"\"\n",
    "    \n",
    "    def __init__(self):\n",
    "        super().__init__()\n",
    "        self.model = nn.Sequential(\n",
    "            nn.Conv2d(1, 8, 4, stride=2),\n",
    "            nn.ELU(),\n",
    "            nn.Conv2d(8, 32, 3, stride=2),\n",
    "            nn.ELU(),\n",
    "            # (old-school) global average pooling\n",
    "            nn.Conv2d(32, 64, 6),\n",
    "            nn.ELU(),\n",
    "            nn.Flatten(),\n",
    "            nn.Linear(64, 1)\n",
    "        )\n",
    "    \n",
    "    def forward(self, x):\n",
    "        return self.model(x)\n",
    "    \n",
    "    @torch.no_grad()\n",
    "    def probabilities(self, x):\n",
    "        \"\"\"\n",
    "        Compute probability of inputs being real.\n",
    "\n",
    "        Parameters\n",
    "        ----------\n",
    "        x : torch.Tensor\n",
    "            The inputs to compute the probabilities for.\n",
    "\n",
    "        Returns\n",
    "        -------\n",
    "        p : torch.Tensor\n",
    "            Values between 0 (fake) and 1 (real).\n",
    "\n",
    "        Notes\n",
    "        -----\n",
    "        Gradient computations are disabled.\n",
    "        \"\"\"\n",
    "        logits = self.model(x)\n",
    "        return torch.sigmoid(logits)\n",
    "    \n",
    "    @torch.no_grad()\n",
    "    def predict(self, x):\n",
    "        \"\"\"\n",
    "        Make a hard prediction on fake or real.\n",
    "\n",
    "        Parameters\n",
    "        ----------\n",
    "        x : torch.Tensor\n",
    "            The inputs to compute the prediction for.\n",
    "\n",
    "        Returns\n",
    "        -------\n",
    "        y : torch.Tensor\n",
    "            Either 0 (fake) or 1 (real).\n",
    "\n",
    "        Notes\n",
    "        -----\n",
    "        Gradient computations are disabled.\n",
    "        \"\"\"\n",
    "        logits = self.model(x)\n",
    "        return (logits > 0).int()"
   ]
  },
  {
   "cell_type": "markdown",
   "metadata": {
    "pycharm": {
     "name": "#%% md\n"
    }
   },
   "source": [
    "###### Paradox of the Discriminator\n",
    "\n",
    "If we compute adversarial examples for the discriminator,\n",
    "we can only get more *fake* inputs,\n",
    "since the adversaries are not part of the dataset.\n",
    "Now, a successful adversary of a *real* input,\n",
    "should be classified as a *fake*, and vice versa.\n",
    "Note that successful adversaries of *real* inputs \n",
    "will be **correctly** classified as *fake*.\n",
    "Hence, the obtained example would not really be adversarial.\n",
    "Therefore, the only truly adversarial examples for this model\n",
    "are *fake* inputs that are converted to be recongised as *real*."
   ]
  },
  {
   "cell_type": "markdown",
   "metadata": {},
   "source": [
    "### Exercise 2: Discriminator Data (3 points)\n",
    "\n",
    "Training a model that is able to discriminate between *real* and *fake*,\n",
    "is not entirely straightforward.\n",
    "The main problem is to obtain a reasonable dataset \n",
    "that represents both classes equally well.\n",
    "\n",
    "One solution is to use random noise for the *fake* inputs.\n",
    "However, this often makes things too easy\n",
    "and will not produce a particularly strong model.\n",
    "To counter this issue, we can use an adversarial attack \n",
    "to make the *fake* inputs appear more real\n",
    "after every epoch of discriminator training.\n",
    "This turns out to produce a reasonable discriminator\n",
    "as well as reasonably good *fake* inputs.\n",
    "\n",
    " > Implement the `update_fake_examples` method of the `RealOrFakeDataset`\n",
    " > to implement the approach described above.\n",
    " > Make sure to keep the adversarial examples in a valid range!\n",
    " \n",
    "**Hint:** You can use the `adversarial_attack` function from the previous exercise to compute adversarial examples."
   ]
  },
  {
   "cell_type": "code",
   "execution_count": 19,
   "metadata": {
    "deletable": false,
    "execution": {
     "iopub.execute_input": "2023-05-30T18:57:31.788464Z",
     "iopub.status.busy": "2023-05-30T18:57:31.788164Z",
     "iopub.status.idle": "2023-05-30T18:57:31.806657Z",
     "shell.execute_reply": "2023-05-30T18:57:31.805499Z",
     "shell.execute_reply.started": "2023-05-30T18:57:31.788439Z"
    },
    "nbgrader": {
     "cell_type": "code",
     "checksum": "dc04760cd8b799a28621276ee9af3b72",
     "grade": false,
     "grade_id": "cell-0dc5e70d199f26f7",
     "locked": false,
     "schema_version": 3,
     "solution": true,
     "task": false
    },
    "tags": []
   },
   "outputs": [],
   "source": [
    "class RealOrFakeDataset(Dataset):\n",
    "    \"\"\" Dataset for enhancing a (small) dataset with fake inputs. \"\"\"\n",
    "    \n",
    "    def __init__(self, real_dataset, seed: int = None):\n",
    "        super().__init__()\n",
    "        self.ref_dataset = real_dataset\n",
    "        \n",
    "        # control randomness\n",
    "        rng = torch.Generator()\n",
    "        if seed is not None:\n",
    "            rng.manual_seed(seed)\n",
    "        \n",
    "        # get real, pre-processed data\n",
    "        real_data = torch.stack([x for x, _ in real_dataset])\n",
    "        mean, std = real_data.mean(), real_data.std()\n",
    "        min_x, max_x = real_data.min(), real_data.max()\n",
    "        self.min_x, self.max_x = min_x, max_x\n",
    "        # generate fake data (with similar statistics)\n",
    "        self.fake_data = torch.empty_like(real_data)\n",
    "        self.fake_data.normal_(mean, std, generator=rng).clamp_(min_x, max_x)\n",
    "    \n",
    "    def __getitem__(self, index):\n",
    "        new_index = index - len(self.ref_dataset)\n",
    "        if new_index < 0:\n",
    "            x, _ = self.ref_dataset[index]\n",
    "            return x, torch.ones(1)\n",
    "        \n",
    "        return self.fake_data[new_index], torch.zeros(1)\n",
    "    \n",
    "    def __len__(self):\n",
    "        return len(self.ref_dataset) + len(self.fake_data)\n",
    "    \n",
    "    @property\n",
    "    def raw_folder(self):\n",
    "        return os.path.join(self.root, 'MNIST', 'raw')\n",
    "\n",
    "    @property\n",
    "    def processed_folder(self):\n",
    "        return os.path.join(self.root, 'MNIST', 'processed')\n",
    "    \n",
    "    def update_fake_examples(self, network: nn.Module, loss_func: nn.Module,\n",
    "                             epsilon: float = .1):\n",
    "        \"\"\"\n",
    "        Update the fake examples of this dataset.\n",
    "\n",
    "        The fake examples are updated by computing adversarial examples\n",
    "        for the network that is trained with the data from this dataset.\n",
    "\n",
    "        Parameters\n",
    "        ----------\n",
    "        network : nn.Module\n",
    "            Network to use for computing adversarial examples.\n",
    "        loss_func : nn.Module\n",
    "            Loss function to use for computing adversarial examples.\n",
    "        epsilon : float, optional\n",
    "            Epsilon parameter for the adversarial attack.\n",
    "\n",
    "        Notes\n",
    "        -----\n",
    "        This method overwrites the fake samples.\n",
    "        It should not be necessary to create a new dataset\n",
    "        or set up a new data loader.\n",
    "        \"\"\"\n",
    "        device = next(network.parameters()).device\n",
    "        # YOUR CODE HERE\n",
    "        \n",
    "        fake_copy = self.fake_data.clone().detach()#.requires_grad_(True).to(x.device)\n",
    "\n",
    "        batch_size = 32#64 # creating a batch to speed up the process\n",
    "        indexer = batch_size\n",
    "        round_ = 1\n",
    "        \n",
    "        while indexer == batch_size: \n",
    "            indexer = min(batch_size, fake_copy.shape[0])\n",
    "            fake_img_copy = fake_copy[:indexer]\n",
    "            fake_copy = fake_copy[indexer:]\n",
    "            \n",
    "            fake_img_copy.to(device)\n",
    "            y= torch.tensor([0]*fake_img_copy.shape[0], dtype=fake_img_copy.dtype).to(device)\n",
    "\n",
    "            new_fake_img_copy = adversarial_attack(fake_img_copy.to(device), y, network, loss_func, epsilon,steps=50)\n",
    "     \n",
    "            if indexer == batch_size:\n",
    "                self.fake_data[(round_-1)*batch_size:round_*batch_size] = new_fake_img_copy.clamp_(self.min_x.to(device), self.max_x.to(device))\n",
    "            else:\n",
    "                self.fake_data[(round_-1)*batch_size:] = new_fake_img_copy.clamp_(self.min_x.to(device), self.max_x.to(device))\n",
    "\n",
    "            round_+=1\n",
    "        return\n"
   ]
  },
  {
   "cell_type": "code",
   "execution_count": 20,
   "metadata": {
    "deletable": false,
    "execution": {
     "iopub.execute_input": "2023-05-30T18:57:31.808559Z",
     "iopub.status.busy": "2023-05-30T18:57:31.808206Z",
     "iopub.status.idle": "2023-05-30T18:57:32.440212Z",
     "shell.execute_reply": "2023-05-30T18:57:32.439231Z",
     "shell.execute_reply.started": "2023-05-30T18:57:31.808528Z"
    },
    "nbgrader": {
     "cell_type": "code",
     "checksum": "c486661bcf832548b9db50b4cc1e550f",
     "grade": true,
     "grade_id": "cell-cfcadb4f82d394fa",
     "locked": true,
     "points": 1,
     "schema_version": 3,
     "solution": false,
     "task": false
    },
    "tags": []
   },
   "outputs": [],
   "source": [
    "# Test Cell: do not edit or delete!\n",
    "discriminator = Discriminator()\n",
    "bce = nn.BCEWithLogitsLoss()\n",
    "data = RealOrFakeDataset(torch.utils.data.Subset(mnist_train, range(64)))\n",
    "\n",
    "old_samples = data.fake_data.clone()\n",
    "data.update_fake_examples(discriminator, bce)\n",
    "new_samples = data.fake_data\n",
    "assert torch.any(old_samples != new_samples), (\n",
    "    \"ex2: update_fake_examples does nothing (-1 point)\"\n",
    ")"
   ]
  },
  {
   "cell_type": "code",
   "execution_count": null,
   "metadata": {
    "deletable": false,
    "nbgrader": {
     "cell_type": "code",
     "checksum": "9e68346a1c9d72d3e56f00372591ad35",
     "grade": true,
     "grade_id": "cell-a1ce83fcff055786",
     "locked": true,
     "points": 0.5,
     "schema_version": 3,
     "solution": false,
     "task": false
    },
    "tags": []
   },
   "outputs": [],
   "source": [
    "# Test Cell: do not edit or delete!"
   ]
  },
  {
   "cell_type": "code",
   "execution_count": 21,
   "metadata": {
    "deletable": false,
    "execution": {
     "iopub.execute_input": "2023-05-30T18:57:32.441764Z",
     "iopub.status.busy": "2023-05-30T18:57:32.441405Z",
     "iopub.status.idle": "2023-05-30T18:57:32.452069Z",
     "shell.execute_reply": "2023-05-30T18:57:32.450956Z",
     "shell.execute_reply.started": "2023-05-30T18:57:32.441731Z"
    },
    "nbgrader": {
     "cell_type": "code",
     "checksum": "c5f7eedb71179170fe5487b4ddaa7620",
     "grade": true,
     "grade_id": "cell-7cc671490cc4b884",
     "locked": true,
     "points": 1,
     "schema_version": 3,
     "solution": false,
     "task": false
    },
    "tags": []
   },
   "outputs": [],
   "source": [
    "# Test Cell: do not edit or delete!\n",
    "assert torch.all(discriminator(new_samples) > discriminator(old_samples)), (\n",
    "    \"ex2: update_fake_examples does not make samples more real (-1 point)\"\n",
    ")"
   ]
  },
  {
   "cell_type": "code",
   "execution_count": null,
   "metadata": {
    "deletable": false,
    "nbgrader": {
     "cell_type": "code",
     "checksum": "869a57ec763b4e5b86748bd27eb4e35a",
     "grade": true,
     "grade_id": "cell-306bb1f47e6a79a3",
     "locked": true,
     "points": 0.5,
     "schema_version": 3,
     "solution": false,
     "task": false
    },
    "tags": []
   },
   "outputs": [],
   "source": [
    "# Test Cell: do not edit or delete!"
   ]
  },
  {
   "cell_type": "markdown",
   "metadata": {},
   "source": [
    "### Exercise 3: Training the Discriminator (1 point)\n",
    "\n",
    "Finally, we can use this dataset for training the discriminator.\n",
    "By updating the *fake* inputs after every epoch of training,\n",
    "the quality of the *fake* inputs, and therefore also the discriminator,\n",
    "should improve steadily during training.\n",
    "\n",
    "Time to test if this actually works.\n",
    "The `train_discriminator` function (in the preamble)\n",
    "implements a training loop that updates the fake examples every epoch.\n",
    "The code below is able to train the discriminator to zero loss.\n",
    "However, the *fake* images do not look very realistic.\n",
    "\n",
    " > Play around with some of the hyperparameters (lr, epsilon, ...)\n",
    " > to get more realistic *fake* images,\n",
    " > so that the task of the discriminator becomes harder."
   ]
  },
  {
   "cell_type": "code",
   "execution_count": 22,
   "metadata": {
    "deletable": false,
    "execution": {
     "iopub.execute_input": "2023-05-30T18:57:32.454751Z",
     "iopub.status.busy": "2023-05-30T18:57:32.453477Z",
     "iopub.status.idle": "2023-05-30T19:08:16.436147Z",
     "shell.execute_reply": "2023-05-30T19:08:16.432581Z",
     "shell.execute_reply.started": "2023-05-30T18:57:32.454714Z"
    },
    "nbgrader": {
     "cell_type": "code",
     "checksum": "3943f5a5fb6e8ada879135ccf5660c6b",
     "grade": true,
     "grade_id": "cell-178513103ef77cd0",
     "locked": false,
     "points": 1,
     "schema_version": 3,
     "solution": true,
     "task": false
    },
    "tags": [
     "skip-execution"
    ]
   },
   "outputs": [
    {
     "name": "stdout",
     "output_type": "stream",
     "text": [
      "Epoch  0 - avg loss: 0.686061\n",
      "D probs: 0.51, 0.49, 0.50, 0.54, 0.51, 0.53, 0.52, 0.52, 0.54, 0.52\n"
     ]
    },
    {
     "data": {
      "image/png": "[encoded data removed]",
      "text/plain": [
       "<PIL.Image.Image image mode=L size=280x28>"
      ]
     },
     "metadata": {
      "width": "100%"
     },
     "output_type": "display_data"
    },
    {
     "name": "stdout",
     "output_type": "stream",
     "text": [
      "Epoch  1 - avg loss: 0.034885\n",
      "Epoch  2 - avg loss: 0.001891\n",
      "Epoch  3 - avg loss: 0.001948\n",
      "D probs: 0.85, 0.65, 0.07, 0.43, 0.20, 0.53, 0.44, 0.12, 0.60, 0.02\n"
     ]
    },
    {
     "data": {
      "image/png": "[encoded data removed]",
      "text/plain": [
       "<PIL.Image.Image image mode=L size=280x28>"
      ]
     },
     "metadata": {
      "width": "100%"
     },
     "output_type": "display_data"
    },
    {
     "ename": "KeyboardInterrupt",
     "evalue": "",
     "output_type": "error",
     "traceback": [
      "\u001b[0;31m---------------------------------------------------------------------------\u001b[0m",
      "\u001b[0;31mKeyboardInterrupt\u001b[0m                         Traceback (most recent call last)",
      "Cell \u001b[0;32mIn[22], line 15\u001b[0m\n\u001b[1;32m      5\u001b[0m trainer \u001b[38;5;241m=\u001b[39m DiscriminatorTrainer(\n\u001b[1;32m      6\u001b[0m     model\u001b[38;5;241m=\u001b[39mdiscriminator,\n\u001b[1;32m      7\u001b[0m     criterion\u001b[38;5;241m=\u001b[39mnn\u001b[38;5;241m.\u001b[39mBCEWithLogitsLoss(),\n\u001b[0;32m   (...)\u001b[0m\n\u001b[1;32m     10\u001b[0m     epsilon\u001b[38;5;241m=\u001b[39m\u001b[38;5;241m0.3\u001b[39m\u001b[38;5;66;03m#0.1\u001b[39;00m\n\u001b[1;32m     11\u001b[0m ) \n\u001b[1;32m     13\u001b[0m \u001b[38;5;66;03m# YOUR CODE HERE\u001b[39;00m\n\u001b[1;32m     14\u001b[0m \u001b[38;5;66;03m# batch_size = 32 in class RealOrFakeDataset(Dataset) speedens up the process.\u001b[39;00m\n\u001b[0;32m---> 15\u001b[0m _ \u001b[38;5;241m=\u001b[39m \u001b[43mtrainer\u001b[49m\u001b[38;5;241;43m.\u001b[39;49m\u001b[43mtrain\u001b[49m\u001b[43m(\u001b[49m\u001b[43md_loader\u001b[49m\u001b[43m,\u001b[49m\u001b[43m \u001b[49m\u001b[43mnum_epochs\u001b[49m\u001b[38;5;241;43m=\u001b[39;49m\u001b[38;5;241;43m15\u001b[39;49m\u001b[43m,\u001b[49m\u001b[43m \u001b[49m\u001b[43mvis_every\u001b[49m\u001b[38;5;241;43m=\u001b[39;49m\u001b[38;5;241;43m3\u001b[39;49m\u001b[43m)\u001b[49m \n",
      "Cell \u001b[0;32mIn[5], line 122\u001b[0m, in \u001b[0;36mBaseTrainer.train\u001b[0;34m(self, loader, num_epochs, vis_every)\u001b[0m\n\u001b[1;32m    120\u001b[0m \u001b[38;5;66;03m# train for some epochs\u001b[39;00m\n\u001b[1;32m    121\u001b[0m \u001b[38;5;28;01mfor\u001b[39;00m epoch \u001b[38;5;129;01min\u001b[39;00m \u001b[38;5;28mrange\u001b[39m(\u001b[38;5;241m1\u001b[39m, num_epochs \u001b[38;5;241m+\u001b[39m \u001b[38;5;241m1\u001b[39m):\n\u001b[0;32m--> 122\u001b[0m     errs \u001b[38;5;241m=\u001b[39m \u001b[38;5;28;43mself\u001b[39;49m\u001b[38;5;241;43m.\u001b[39;49m\u001b[43mupdate\u001b[49m\u001b[43m(\u001b[49m\u001b[43mloader\u001b[49m\u001b[43m)\u001b[49m\n\u001b[1;32m    123\u001b[0m     \u001b[38;5;28mprint\u001b[39m(\u001b[38;5;124mf\u001b[39m\u001b[38;5;124m\"\u001b[39m\u001b[38;5;124mEpoch \u001b[39m\u001b[38;5;132;01m{\u001b[39;00mepoch\u001b[38;5;132;01m:\u001b[39;00m\u001b[38;5;124m 2d\u001b[39m\u001b[38;5;132;01m}\u001b[39;00m\u001b[38;5;124m - avg loss: \u001b[39m\u001b[38;5;132;01m{\u001b[39;00m\u001b[38;5;28msum\u001b[39m(errs)\u001b[38;5;250m \u001b[39m\u001b[38;5;241m/\u001b[39m\u001b[38;5;250m \u001b[39m\u001b[38;5;28mlen\u001b[39m(errs)\u001b[38;5;132;01m:\u001b[39;00m\u001b[38;5;124m.6f\u001b[39m\u001b[38;5;132;01m}\u001b[39;00m\u001b[38;5;124m\"\u001b[39m)\n\u001b[1;32m    125\u001b[0m     \u001b[38;5;28;01mif\u001b[39;00m epoch \u001b[38;5;241m%\u001b[39m vis_every \u001b[38;5;241m==\u001b[39m \u001b[38;5;241m0\u001b[39m:\n",
      "Cell \u001b[0;32mIn[9], line 23\u001b[0m, in \u001b[0;36mDiscriminatorTrainer.update\u001b[0;34m(self, data)\u001b[0m\n\u001b[1;32m     21\u001b[0m \u001b[38;5;28;01mdef\u001b[39;00m \u001b[38;5;21mupdate\u001b[39m(\u001b[38;5;28mself\u001b[39m, data: DataLoader) \u001b[38;5;241m-\u001b[39m\u001b[38;5;241m>\u001b[39m \u001b[38;5;28mlist\u001b[39m:\n\u001b[1;32m     22\u001b[0m     results \u001b[38;5;241m=\u001b[39m \u001b[38;5;28msuper\u001b[39m()\u001b[38;5;241m.\u001b[39mupdate(data)\n\u001b[0;32m---> 23\u001b[0m     \u001b[38;5;28;43mself\u001b[39;49m\u001b[38;5;241;43m.\u001b[39;49m\u001b[43mdataset\u001b[49m\u001b[38;5;241;43m.\u001b[39;49m\u001b[43mupdate_fake_examples\u001b[49m\u001b[43m(\u001b[49m\u001b[38;5;28;43mself\u001b[39;49m\u001b[38;5;241;43m.\u001b[39;49m\u001b[43mmodel\u001b[49m\u001b[43m,\u001b[49m\u001b[43m \u001b[49m\u001b[38;5;28;43mself\u001b[39;49m\u001b[38;5;241;43m.\u001b[39;49m\u001b[43mcriterion\u001b[49m\u001b[43m,\u001b[49m\u001b[43m \u001b[49m\u001b[38;5;28;43mself\u001b[39;49m\u001b[38;5;241;43m.\u001b[39;49m\u001b[43mepsilon\u001b[49m\u001b[43m)\u001b[49m\n\u001b[1;32m     24\u001b[0m     \u001b[38;5;28;01mreturn\u001b[39;00m results\n",
      "Cell \u001b[0;32mIn[19], line 81\u001b[0m, in \u001b[0;36mRealOrFakeDataset.update_fake_examples\u001b[0;34m(self, network, loss_func, epsilon)\u001b[0m\n\u001b[1;32m     78\u001b[0m fake_img_copy\u001b[38;5;241m.\u001b[39mto(device)\n\u001b[1;32m     79\u001b[0m y\u001b[38;5;241m=\u001b[39m torch\u001b[38;5;241m.\u001b[39mtensor([\u001b[38;5;241m0\u001b[39m]\u001b[38;5;241m*\u001b[39mfake_img_copy\u001b[38;5;241m.\u001b[39mshape[\u001b[38;5;241m0\u001b[39m], dtype\u001b[38;5;241m=\u001b[39mfake_img_copy\u001b[38;5;241m.\u001b[39mdtype)\u001b[38;5;241m.\u001b[39mto(device)\n\u001b[0;32m---> 81\u001b[0m new_fake_img_copy \u001b[38;5;241m=\u001b[39m \u001b[43madversarial_attack\u001b[49m\u001b[43m(\u001b[49m\u001b[43mfake_img_copy\u001b[49m\u001b[38;5;241;43m.\u001b[39;49m\u001b[43mto\u001b[49m\u001b[43m(\u001b[49m\u001b[43mdevice\u001b[49m\u001b[43m)\u001b[49m\u001b[43m,\u001b[49m\u001b[43m \u001b[49m\u001b[43my\u001b[49m\u001b[43m,\u001b[49m\u001b[43m \u001b[49m\u001b[43mnetwork\u001b[49m\u001b[43m,\u001b[49m\u001b[43m \u001b[49m\u001b[43mloss_func\u001b[49m\u001b[43m,\u001b[49m\u001b[43m \u001b[49m\u001b[43mepsilon\u001b[49m\u001b[43m,\u001b[49m\u001b[43msteps\u001b[49m\u001b[38;5;241;43m=\u001b[39;49m\u001b[38;5;241;43m50\u001b[39;49m\u001b[43m)\u001b[49m\n\u001b[1;32m     83\u001b[0m \u001b[38;5;28;01mif\u001b[39;00m indexer \u001b[38;5;241m==\u001b[39m batch_size:\n\u001b[1;32m     84\u001b[0m     \u001b[38;5;28mself\u001b[39m\u001b[38;5;241m.\u001b[39mfake_data[(round_\u001b[38;5;241m-\u001b[39m\u001b[38;5;241m1\u001b[39m)\u001b[38;5;241m*\u001b[39mbatch_size:round_\u001b[38;5;241m*\u001b[39mbatch_size] \u001b[38;5;241m=\u001b[39m new_fake_img_copy\u001b[38;5;241m.\u001b[39mclamp_(\u001b[38;5;28mself\u001b[39m\u001b[38;5;241m.\u001b[39mmin_x\u001b[38;5;241m.\u001b[39mto(device), \u001b[38;5;28mself\u001b[39m\u001b[38;5;241m.\u001b[39mmax_x\u001b[38;5;241m.\u001b[39mto(device))\n",
      "Cell \u001b[0;32mIn[13], line 44\u001b[0m, in \u001b[0;36madversarial_attack\u001b[0;34m(x, y, network, loss_func, epsilon, eta, steps)\u001b[0m\n\u001b[1;32m     41\u001b[0m logits \u001b[38;5;241m=\u001b[39m network(_noisy_x)\n\u001b[1;32m     42\u001b[0m logits \u001b[38;5;241m=\u001b[39m logits\u001b[38;5;241m.\u001b[39msqueeze(\u001b[38;5;241m-\u001b[39m\u001b[38;5;241m1\u001b[39m) \u001b[38;5;66;03m# make logits comparable to y for the loss_func()       \u001b[39;00m\n\u001b[0;32m---> 44\u001b[0m loss \u001b[38;5;241m=\u001b[39m \u001b[38;5;241m-\u001b[39m\u001b[43mloss_func\u001b[49m\u001b[43m(\u001b[49m\u001b[43mlogits\u001b[49m\u001b[43m,\u001b[49m\u001b[43m \u001b[49m\u001b[43my\u001b[49m\u001b[43m)\u001b[49m \u001b[38;5;66;03m# loss = - loss as we have gradient ascent instead of gradient descent\u001b[39;00m\n\u001b[1;32m     45\u001b[0m loss\u001b[38;5;241m.\u001b[39mbackward(retain_graph\u001b[38;5;241m=\u001b[39m\u001b[38;5;28;01mFalse\u001b[39;00m, create_graph\u001b[38;5;241m=\u001b[39m\u001b[38;5;28;01mFalse\u001b[39;00m)\n\u001b[1;32m     47\u001b[0m \u001b[38;5;28;01mwith\u001b[39;00m torch\u001b[38;5;241m.\u001b[39mno_grad():          \n",
      "File \u001b[0;32m/opt/conda/lib/python3.10/site-packages/torch/nn/modules/module.py:1501\u001b[0m, in \u001b[0;36mModule._call_impl\u001b[0;34m(self, *args, **kwargs)\u001b[0m\n\u001b[1;32m   1496\u001b[0m \u001b[38;5;66;03m# If we don't have any hooks, we want to skip the rest of the logic in\u001b[39;00m\n\u001b[1;32m   1497\u001b[0m \u001b[38;5;66;03m# this function, and just call forward.\u001b[39;00m\n\u001b[1;32m   1498\u001b[0m \u001b[38;5;28;01mif\u001b[39;00m \u001b[38;5;129;01mnot\u001b[39;00m (\u001b[38;5;28mself\u001b[39m\u001b[38;5;241m.\u001b[39m_backward_hooks \u001b[38;5;129;01mor\u001b[39;00m \u001b[38;5;28mself\u001b[39m\u001b[38;5;241m.\u001b[39m_backward_pre_hooks \u001b[38;5;129;01mor\u001b[39;00m \u001b[38;5;28mself\u001b[39m\u001b[38;5;241m.\u001b[39m_forward_hooks \u001b[38;5;129;01mor\u001b[39;00m \u001b[38;5;28mself\u001b[39m\u001b[38;5;241m.\u001b[39m_forward_pre_hooks\n\u001b[1;32m   1499\u001b[0m         \u001b[38;5;129;01mor\u001b[39;00m _global_backward_pre_hooks \u001b[38;5;129;01mor\u001b[39;00m _global_backward_hooks\n\u001b[1;32m   1500\u001b[0m         \u001b[38;5;129;01mor\u001b[39;00m _global_forward_hooks \u001b[38;5;129;01mor\u001b[39;00m _global_forward_pre_hooks):\n\u001b[0;32m-> 1501\u001b[0m     \u001b[38;5;28;01mreturn\u001b[39;00m \u001b[43mforward_call\u001b[49m\u001b[43m(\u001b[49m\u001b[38;5;241;43m*\u001b[39;49m\u001b[43margs\u001b[49m\u001b[43m,\u001b[49m\u001b[43m \u001b[49m\u001b[38;5;241;43m*\u001b[39;49m\u001b[38;5;241;43m*\u001b[39;49m\u001b[43mkwargs\u001b[49m\u001b[43m)\u001b[49m\n\u001b[1;32m   1502\u001b[0m \u001b[38;5;66;03m# Do not call functions when jit is used\u001b[39;00m\n\u001b[1;32m   1503\u001b[0m full_backward_hooks, non_full_backward_hooks \u001b[38;5;241m=\u001b[39m [], []\n",
      "File \u001b[0;32m/opt/conda/lib/python3.10/site-packages/torch/nn/modules/loss.py:720\u001b[0m, in \u001b[0;36mBCEWithLogitsLoss.forward\u001b[0;34m(self, input, target)\u001b[0m\n\u001b[1;32m    719\u001b[0m \u001b[38;5;28;01mdef\u001b[39;00m \u001b[38;5;21mforward\u001b[39m(\u001b[38;5;28mself\u001b[39m, \u001b[38;5;28minput\u001b[39m: Tensor, target: Tensor) \u001b[38;5;241m-\u001b[39m\u001b[38;5;241m>\u001b[39m Tensor:\n\u001b[0;32m--> 720\u001b[0m     \u001b[38;5;28;01mreturn\u001b[39;00m \u001b[43mF\u001b[49m\u001b[38;5;241;43m.\u001b[39;49m\u001b[43mbinary_cross_entropy_with_logits\u001b[49m\u001b[43m(\u001b[49m\u001b[38;5;28;43minput\u001b[39;49m\u001b[43m,\u001b[49m\u001b[43m \u001b[49m\u001b[43mtarget\u001b[49m\u001b[43m,\u001b[49m\n\u001b[1;32m    721\u001b[0m \u001b[43m                                              \u001b[49m\u001b[38;5;28;43mself\u001b[39;49m\u001b[38;5;241;43m.\u001b[39;49m\u001b[43mweight\u001b[49m\u001b[43m,\u001b[49m\n\u001b[1;32m    722\u001b[0m \u001b[43m                                              \u001b[49m\u001b[43mpos_weight\u001b[49m\u001b[38;5;241;43m=\u001b[39;49m\u001b[38;5;28;43mself\u001b[39;49m\u001b[38;5;241;43m.\u001b[39;49m\u001b[43mpos_weight\u001b[49m\u001b[43m,\u001b[49m\n\u001b[1;32m    723\u001b[0m \u001b[43m                                              \u001b[49m\u001b[43mreduction\u001b[49m\u001b[38;5;241;43m=\u001b[39;49m\u001b[38;5;28;43mself\u001b[39;49m\u001b[38;5;241;43m.\u001b[39;49m\u001b[43mreduction\u001b[49m\u001b[43m)\u001b[49m\n",
      "File \u001b[0;32m/opt/conda/lib/python3.10/site-packages/torch/nn/functional.py:3165\u001b[0m, in \u001b[0;36mbinary_cross_entropy_with_logits\u001b[0;34m(input, target, weight, size_average, reduce, reduction, pos_weight)\u001b[0m\n\u001b[1;32m   3162\u001b[0m \u001b[38;5;28;01mif\u001b[39;00m \u001b[38;5;129;01mnot\u001b[39;00m (target\u001b[38;5;241m.\u001b[39msize() \u001b[38;5;241m==\u001b[39m \u001b[38;5;28minput\u001b[39m\u001b[38;5;241m.\u001b[39msize()):\n\u001b[1;32m   3163\u001b[0m     \u001b[38;5;28;01mraise\u001b[39;00m \u001b[38;5;167;01mValueError\u001b[39;00m(\u001b[38;5;124m\"\u001b[39m\u001b[38;5;124mTarget size (\u001b[39m\u001b[38;5;132;01m{}\u001b[39;00m\u001b[38;5;124m) must be the same as input size (\u001b[39m\u001b[38;5;132;01m{}\u001b[39;00m\u001b[38;5;124m)\u001b[39m\u001b[38;5;124m\"\u001b[39m\u001b[38;5;241m.\u001b[39mformat(target\u001b[38;5;241m.\u001b[39msize(), \u001b[38;5;28minput\u001b[39m\u001b[38;5;241m.\u001b[39msize()))\n\u001b[0;32m-> 3165\u001b[0m \u001b[38;5;28;01mreturn\u001b[39;00m \u001b[43mtorch\u001b[49m\u001b[38;5;241;43m.\u001b[39;49m\u001b[43mbinary_cross_entropy_with_logits\u001b[49m\u001b[43m(\u001b[49m\u001b[38;5;28;43minput\u001b[39;49m\u001b[43m,\u001b[49m\u001b[43m \u001b[49m\u001b[43mtarget\u001b[49m\u001b[43m,\u001b[49m\u001b[43m \u001b[49m\u001b[43mweight\u001b[49m\u001b[43m,\u001b[49m\u001b[43m \u001b[49m\u001b[43mpos_weight\u001b[49m\u001b[43m,\u001b[49m\u001b[43m \u001b[49m\u001b[43mreduction_enum\u001b[49m\u001b[43m)\u001b[49m\n",
      "\u001b[0;31mKeyboardInterrupt\u001b[0m: "
     ]
    }
   ],
   "source": [
    "d_data = RealOrFakeDataset(mnist_train)\n",
    "d_loader = DataLoader(d_data, batch_size=128, shuffle=True)\n",
    "\n",
    "discriminator = Discriminator().to(device)\n",
    "trainer = DiscriminatorTrainer(\n",
    "    model=discriminator,\n",
    "    criterion=nn.BCEWithLogitsLoss(),\n",
    "    optimiser=optim.Adam(discriminator.parameters(), lr=1e-4),#1e-2),\n",
    "    dataset=d_data,\n",
    "    epsilon=0.3#0.1\n",
    ") \n",
    "\n",
    "# YOUR CODE HERE\n",
    "# batch_size = 32 in class RealOrFakeDataset(Dataset) speedens up the process.\n",
    "_ = trainer.train(d_loader, num_epochs=15, vis_every=3) "
   ]
  },
  {
   "cell_type": "markdown",
   "metadata": {},
   "source": [
    "## Generative Adversarial Modelling\n",
    "\n",
    "The previously discussed approach, using adversarial training,\n",
    "is able to create somewhat realistic inputs.\n",
    "Although it might be considered a way to generate new images,\n",
    "it is not very practical because it does not allow \n",
    "to generate samples after training.\n",
    "\n",
    "Although Generative Adversarial Nets (GANs)\n",
    "do not really have a connection with adversarial examples\n",
    "(except for the main author and the name),\n",
    "the goal is also to \"fool\" a discriminator network.\n",
    "Instead of using adversarial examples as *false* examples, however,\n",
    "GANs use a decoder-style network, referred to as *generator*\n",
    "that maps from a known distribution to the input space."
   ]
  },
  {
   "cell_type": "code",
   "execution_count": 23,
   "metadata": {
    "execution": {
     "iopub.execute_input": "2023-05-30T19:08:22.688455Z",
     "iopub.status.busy": "2023-05-30T19:08:22.688082Z",
     "iopub.status.idle": "2023-05-30T19:08:22.702512Z",
     "shell.execute_reply": "2023-05-30T19:08:22.701519Z",
     "shell.execute_reply.started": "2023-05-30T19:08:22.688425Z"
    }
   },
   "outputs": [],
   "source": [
    "class Generator(nn.Module):\n",
    "    \"\"\" Network for creating fake MNIST images. \"\"\"\n",
    "    \n",
    "    def __init__(self, latent_dim: int = 64):\n",
    "        \"\"\"\n",
    "        Parameters\n",
    "        ----------\n",
    "        latent_dim : int, optional\n",
    "            Dimensions of the latent space, from which to sample.\n",
    "        \"\"\"\n",
    "        super().__init__()\n",
    "        self.latent_dim = latent_dim\n",
    "        self.model = nn.Sequential(\n",
    "            nn.ConvTranspose2d(latent_dim, 32, 6),\n",
    "            nn.ELU(),\n",
    "            nn.ConvTranspose2d(32, 8, 3, stride=2),\n",
    "            nn.ELU(),\n",
    "            nn.ConvTranspose2d(8, 1, 4, stride=2),\n",
    "        )\n",
    "        \n",
    "    def forward(self, z):\n",
    "        x = self.model(z.view(-1, self.latent_dim, 1, 1))\n",
    "        return x\n",
    "        \n",
    "    @torch.no_grad()\n",
    "    def sample(self, batch_size: int):\n",
    "        \"\"\"\n",
    "        Sample in the latent space of the generator.\n",
    "\n",
    "        Parameters\n",
    "        ----------\n",
    "        batch_size : int\n",
    "            Number of samples to sample.\n",
    "\n",
    "        Returns\n",
    "        -------\n",
    "        z : (batch_size, latent_dim) torch.Tensor\n",
    "            A random vector in the latent space.\n",
    "\n",
    "        Notes\n",
    "        -----\n",
    "        Gradient computations are disabled.\n",
    "        \"\"\"\n",
    "        z = torch.randn(batch_size, self.latent_dim)\n",
    "        return z.to(self.model[0].weight.device)\n",
    "    \n",
    "    @torch.no_grad()\n",
    "    def generate(self, z = None, batch_size: int = 1, bounded: bool = True):\n",
    "        \"\"\"\n",
    "        Generate one or more random images.\n",
    "\n",
    "        Parameters\n",
    "        ----------\n",
    "        z : (N, latent_dim) torch.Tensor\n",
    "            Latent vector(s) to use for generation.\n",
    "        batch_size : int, optional\n",
    "            Number of images to generate.\n",
    "            This parameter is ignored if `z` is specified.\n",
    "        bounded : bool, optional\n",
    "            Flag to assure that pixel values are in a valid range.\n",
    "\n",
    "        Returns\n",
    "        -------\n",
    "        x : (batch_size, C, H, W) torch.Tensor\n",
    "            Generated image(s).\n",
    "        \"\"\"\n",
    "        if z is None:\n",
    "            z = self.sample(batch_size)\n",
    "        \n",
    "        raw = self.forward(z)\n",
    "        \n",
    "        if bounded:\n",
    "            raw.clamp_(-0.4242, 2.8215)  # MNIST range\n",
    "            \n",
    "        return raw"
   ]
  },
  {
   "cell_type": "markdown",
   "metadata": {},
   "source": [
    "### Excercise 4: Min-Max Game (5 points)\n",
    "\n",
    "\n",
    "The goal of the generator is to create images that maximise the loss\n",
    "that the discriminator attempts to minimise.\n",
    "The result is a min-max game between generator and discriminator.\n",
    "Mathematically, this leads to the following optimisation target:\n",
    "$$\\begin{aligned}\n",
    "\\max_d \\min_g \\mathbb{E}[\\log d(X)] + \\mathbb{E}[\\log(1 - d(g(Z)))].\n",
    "\\end{aligned}$$\n",
    "Note that this function is simply the negated binary cross-entropy loss.\n",
    "\n",
    " > Finish the implementation of the `update_gan` function,\n",
    " > including the `generator_error` and `discriminator_error` functions.\n",
    " > Make sure that the generator-error is used to update only the generator,\n",
    " > i.e. does not affect the discriminator, and vice versa.\n",
    " > To achieve this, you will need to control the gradients\n",
    " > with the techniques discussed in assignment 1.\n",
    " > Also, you do not want to directly maximise the error term for the generator,\n",
    " > since it suffers from vanishing gradients.\n",
    " > Think about an alternative, but equivalent optimisation problem.\n",
    " "
   ]
  },
  {
   "cell_type": "code",
   "execution_count": 24,
   "metadata": {
    "deletable": false,
    "execution": {
     "iopub.execute_input": "2023-05-30T19:08:25.108290Z",
     "iopub.status.busy": "2023-05-30T19:08:25.107495Z",
     "iopub.status.idle": "2023-05-30T19:08:25.115669Z",
     "shell.execute_reply": "2023-05-30T19:08:25.114637Z",
     "shell.execute_reply.started": "2023-05-30T19:08:25.108254Z"
    },
    "nbgrader": {
     "cell_type": "code",
     "checksum": "79b63e62435a83c1104844838c580f85",
     "grade": false,
     "grade_id": "cell-1cff57f62d3dec3b",
     "locked": false,
     "schema_version": 3,
     "solution": true,
     "task": false
    },
    "tags": []
   },
   "outputs": [],
   "source": [
    "def generator_error(gan: nn.Module, real_x: torch.Tensor, loss_func: nn.Module):\n",
    "    \"\"\"\n",
    "    Construct the gradient graph for updating the generator.\n",
    "\n",
    "    Parameters\n",
    "    ----------\n",
    "    gan : nn.Module\n",
    "        Module with `generator` and `discriminator` sub-modules.\n",
    "    real_x: torch.Tensor\n",
    "        Mini-batch from target distribution.\n",
    "    loss_func: nn.Module\n",
    "        Loss function taking logits and target values.\n",
    "\n",
    "    Returns\n",
    "    -------\n",
    "    err : torch.Tensor\n",
    "        Scalar tensor with graph for updating generator.\n",
    "    \"\"\" \n",
    "    # only d(g(z)) objective is needed:\n",
    "    \n",
    "    g = gan['generator']\n",
    "    g.requires_grad_(True)\n",
    "    \n",
    "    d = gan['discriminator']\n",
    "    d.requires_grad_(False)\n",
    "    \n",
    "    # generate z:\n",
    "    gg = gan['generator']\n",
    "    sampled_z = g.sample(batch_size=real_x.shape[0])\n",
    "   # sampled_z.requires_grad = True\n",
    "    \n",
    "    fake_img = g(sampled_z)\n",
    "    # don't use g.generate(z=sampled_z) as it breaks the gradient flow within gan!\n",
    "    fake_img.requires_grad_(True)\n",
    "\n",
    "    logit = d(fake_img)\n",
    "\n",
    "    y = torch.ones_like(logit, dtype=logit.dtype)\n",
    "\n",
    "    loss = loss_func(logit,y)\n",
    "    \n",
    "    return loss\n",
    "   "
   ]
  },
  {
   "cell_type": "code",
   "execution_count": 25,
   "metadata": {
    "deletable": false,
    "execution": {
     "iopub.execute_input": "2023-05-30T19:08:26.353796Z",
     "iopub.status.busy": "2023-05-30T19:08:26.353138Z",
     "iopub.status.idle": "2023-05-30T19:08:26.382370Z",
     "shell.execute_reply": "2023-05-30T19:08:26.381487Z",
     "shell.execute_reply.started": "2023-05-30T19:08:26.353760Z"
    },
    "nbgrader": {
     "cell_type": "code",
     "checksum": "390dc45bd690c234914ebbb2d1402507",
     "grade": true,
     "grade_id": "cell-d7f3d119c11b44db",
     "locked": true,
     "points": 1,
     "schema_version": 3,
     "solution": false,
     "task": false
    },
    "tags": []
   },
   "outputs": [],
   "source": [
    "# Test Cell: do not edit or delete!\n",
    "gan = nn.ModuleDict({\n",
    "    'generator': Generator(),\n",
    "    'discriminator': Discriminator()\n",
    "})\n",
    "bce = nn.BCEWithLogitsLoss()\n",
    "\n",
    "try:\n",
    "    err = generator_error(gan, torch.randn(5, 1, 28, 28), bce)\n",
    "    grads = torch.autograd.grad(err, gan.generator.parameters())\n",
    "except RuntimeError:\n",
    "    raise AssertionError(\n",
    "        \"ex4: generator_error does not allow to compute gradients (-1 point)\"\n",
    "    )"
   ]
  },
  {
   "cell_type": "code",
   "execution_count": 26,
   "metadata": {
    "deletable": false,
    "execution": {
     "iopub.execute_input": "2023-05-30T19:08:27.767825Z",
     "iopub.status.busy": "2023-05-30T19:08:27.766648Z",
     "iopub.status.idle": "2023-05-30T19:08:27.772737Z",
     "shell.execute_reply": "2023-05-30T19:08:27.771503Z",
     "shell.execute_reply.started": "2023-05-30T19:08:27.767774Z"
    },
    "nbgrader": {
     "cell_type": "code",
     "checksum": "48141330461ff9ad09e260ffa0fe9bbf",
     "grade": true,
     "grade_id": "cell-07d5f9f287635c6a",
     "locked": true,
     "points": 0.5,
     "schema_version": 3,
     "solution": false,
     "task": false
    },
    "tags": []
   },
   "outputs": [],
   "source": [
    "# Test Cell: do not edit or delete!"
   ]
  },
  {
   "cell_type": "code",
   "execution_count": 27,
   "metadata": {
    "deletable": false,
    "execution": {
     "iopub.execute_input": "2023-05-30T19:08:28.954328Z",
     "iopub.status.busy": "2023-05-30T19:08:28.951860Z",
     "iopub.status.idle": "2023-05-30T19:08:28.962494Z",
     "shell.execute_reply": "2023-05-30T19:08:28.961601Z",
     "shell.execute_reply.started": "2023-05-30T19:08:28.954282Z"
    },
    "nbgrader": {
     "cell_type": "code",
     "checksum": "6d7a2d82d3a7b41c0ad291d1c800394c",
     "grade": false,
     "grade_id": "cell-37342f54487640f3",
     "locked": false,
     "schema_version": 3,
     "solution": true,
     "task": false
    },
    "tags": []
   },
   "outputs": [],
   "source": [
    "def discriminator_error(gan: nn.Module, real_x: torch.Tensor, loss_func: nn.Module):\n",
    "    \"\"\"\n",
    "    Construct the gradient graph for updating the discriminator.\n",
    "\n",
    "    Parameters\n",
    "    ----------\n",
    "    gan : nn.Module\n",
    "        Module with `generator` and `discriminator` sub-modules.\n",
    "    real_x: torch.Tensor\n",
    "        Mini-batch from target distribution.\n",
    "    loss_func: nn.Module\n",
    "        Loss function taking logits and target values.\n",
    "\n",
    "    Returns\n",
    "    -------\n",
    "    err : torch.Tensor\n",
    "        Scalar tensor with graph for updating discriminator.\n",
    "    \"\"\"\n",
    "    # YOUR CODE HERE\n",
    "    \n",
    "    g = gan['generator']\n",
    "    g.requires_grad_(False) \n",
    "\n",
    "    d = gan['discriminator']\n",
    "    d.requires_grad_(True) \n",
    "\n",
    "    # d(x) objective:\n",
    "    real_x.requires_grad=True\n",
    "    logit = d(real_x)\n",
    "    y = torch.ones_like(logit, dtype=logit.dtype)\n",
    "    loss = loss_func(logit, y)\n",
    "\n",
    "    # d(g(z)) objective:\n",
    "    sampled = g.sample(batch_size=real_x.shape[0])\n",
    "    fake_img = g(sampled)\n",
    "    fake_img.requires_grad_()\n",
    "\n",
    "    logit2 = d(fake_img)\n",
    "    y2 = torch.zeros_like(logit2, dtype=logit2.dtype)\n",
    "    loss2 = loss_func(logit2, y2)\n",
    "\n",
    "    return (loss+loss2)/2"
   ]
  },
  {
   "cell_type": "code",
   "execution_count": 28,
   "metadata": {
    "deletable": false,
    "execution": {
     "iopub.execute_input": "2023-05-30T19:08:30.295458Z",
     "iopub.status.busy": "2023-05-30T19:08:30.295086Z",
     "iopub.status.idle": "2023-05-30T19:08:30.313505Z",
     "shell.execute_reply": "2023-05-30T19:08:30.312641Z",
     "shell.execute_reply.started": "2023-05-30T19:08:30.295428Z"
    },
    "nbgrader": {
     "cell_type": "code",
     "checksum": "19a50aab07131c142c6ab1635c8d71f9",
     "grade": true,
     "grade_id": "cell-7829942b0b34da1e",
     "locked": true,
     "points": 1,
     "schema_version": 3,
     "solution": false,
     "task": false
    },
    "tags": []
   },
   "outputs": [],
   "source": [
    "# Test Cell: do not edit or delete!\n",
    "gan = nn.ModuleDict({\n",
    "    'generator': Generator(),\n",
    "    'discriminator': Discriminator()\n",
    "})\n",
    "bce = nn.BCEWithLogitsLoss()\n",
    "\n",
    "try:\n",
    "    err = discriminator_error(gan, torch.randn(5, 1, 28, 28), bce)\n",
    "    grads = torch.autograd.grad(err, gan.discriminator.parameters())\n",
    "except RuntimeError:\n",
    "    raise AssertionError(\n",
    "        \"ex4: discriminator_error does not allow to compute gradients (-1 point)\"\n",
    "    )"
   ]
  },
  {
   "cell_type": "code",
   "execution_count": 147,
   "metadata": {
    "deletable": false,
    "execution": {
     "iopub.execute_input": "2023-05-30T14:21:33.410463Z",
     "iopub.status.busy": "2023-05-30T14:21:33.410046Z",
     "iopub.status.idle": "2023-05-30T14:21:33.416034Z",
     "shell.execute_reply": "2023-05-30T14:21:33.415142Z",
     "shell.execute_reply.started": "2023-05-30T14:21:33.410432Z"
    },
    "nbgrader": {
     "cell_type": "code",
     "checksum": "67508223a643a3dd171f6b93d26f2d9c",
     "grade": true,
     "grade_id": "cell-ed73a7012b9323b0",
     "locked": true,
     "points": 0.5,
     "schema_version": 3,
     "solution": false,
     "task": false
    },
    "tags": []
   },
   "outputs": [],
   "source": [
    "# Test Cell: do not edit or delete!"
   ]
  },
  {
   "cell_type": "code",
   "execution_count": 31,
   "metadata": {
    "deletable": false,
    "execution": {
     "iopub.execute_input": "2023-05-30T19:09:05.196235Z",
     "iopub.status.busy": "2023-05-30T19:09:05.195842Z",
     "iopub.status.idle": "2023-05-30T19:09:05.209582Z",
     "shell.execute_reply": "2023-05-30T19:09:05.208607Z",
     "shell.execute_reply.started": "2023-05-30T19:09:05.196202Z"
    },
    "nbgrader": {
     "cell_type": "code",
     "checksum": "95ed553d8ecb2ab39b4c7a509cc16002",
     "grade": false,
     "grade_id": "cell-d3639e99db870a93",
     "locked": false,
     "schema_version": 3,
     "solution": true,
     "task": false
    },
    "tags": []
   },
   "outputs": [],
   "source": [
    "def update_gan(gan: nn.Module, loader: DataLoader, loss_func: nn.Module,\n",
    "               opt: optim.Optimizer):\n",
    "    \"\"\"\n",
    "    Train GAN for one epoch.\n",
    "\n",
    "    Parameters\n",
    "    ----------\n",
    "    gan : nn.Module\n",
    "        Module with `generator` and `discriminator` sub-modules.\n",
    "    loader : DataLoader\n",
    "        Standard, supervised data loader with samples from target distribution.\n",
    "    loss_func : nn.Module\n",
    "        Loss function taking logits and target values.\n",
    "    opt : optim.Optimizer\n",
    "        Optimiser for updating GAN parameters.\n",
    "\n",
    "    Returns\n",
    "    -------\n",
    "    g_errs : list\n",
    "        List of computed errors for generator update in each batch.\n",
    "    d_errs : list\n",
    "        List of computed errors for discriminator update in each batch.\n",
    "    \"\"\" \n",
    "    gan.train()\n",
    "    device = next(gan.parameters()).device\n",
    "    \n",
    "    d_errs, g_errs = [], []\n",
    "    for x, _ in loader:\n",
    "        x = x.to(device)\n",
    "        \n",
    "        opt.zero_grad()\n",
    "\n",
    "        g_err = generator_error(gan, x, loss_func)\n",
    "        g_err.backward() # has to follow directly after g_err. When d_err is defined \n",
    "        # before this line then g_err.backward() doesn't work anymore. Observed was this by the fact that\n",
    "        # only the parameters of d_err.backward()/discriminator were updated\n",
    "\n",
    "        \n",
    "        d_err = discriminator_error(gan, x, loss_func)\n",
    "        d_err.backward()\n",
    "        \n",
    "        opt.step()\n",
    "\n",
    "        \n",
    "        g_errs.append(g_err)\n",
    "        d_errs.append(d_err)\n",
    "        \n",
    "\n",
    "    return g_errs, d_errs"
   ]
  },
  {
   "cell_type": "code",
   "execution_count": 32,
   "metadata": {
    "deletable": false,
    "execution": {
     "iopub.execute_input": "2023-05-30T19:09:06.412585Z",
     "iopub.status.busy": "2023-05-30T19:09:06.412208Z",
     "iopub.status.idle": "2023-05-30T19:09:06.891433Z",
     "shell.execute_reply": "2023-05-30T19:09:06.890038Z",
     "shell.execute_reply.started": "2023-05-30T19:09:06.412555Z"
    },
    "nbgrader": {
     "cell_type": "code",
     "checksum": "8c87baf883456c6c964b0d5dad00149a",
     "grade": true,
     "grade_id": "cell-99b7d4927c903c5b",
     "locked": true,
     "points": 0.5,
     "schema_version": 3,
     "solution": false,
     "task": false
    },
    "tags": []
   },
   "outputs": [],
   "source": [
    "# Test Cell: do not edit or delete!\n",
    "gan = nn.ModuleDict({\n",
    "    'generator': Generator(),\n",
    "    'discriminator': Discriminator()\n",
    "}).to(device)\n",
    "bce = nn.BCEWithLogitsLoss()\n",
    "opt = optim.Adam(gan.parameters(), lr=1e-3)\n",
    "\n",
    "old_pars = {k: v.clone() for k, v in gan.state_dict().items()}\n",
    "g_errs, d_errs = update_gan(gan, [next(iter(train_loader))], bce, opt)\n",
    "assert len(g_errs) == len(test_loader), (\n",
    "    \"ex4: wrong number of generator errors in update_gan(-0.5 points)\"\n",
    ")\n",
    "assert len(d_errs) == len(test_loader), (\n",
    "    \"ex4: wrong number of discriminator errors in update_gan (-0.5 points)\"\n",
    ")"
   ]
  },
  {
   "cell_type": "code",
   "execution_count": 33,
   "metadata": {
    "deletable": false,
    "execution": {
     "iopub.execute_input": "2023-05-30T19:09:08.155769Z",
     "iopub.status.busy": "2023-05-30T19:09:08.154672Z",
     "iopub.status.idle": "2023-05-30T19:09:08.164245Z",
     "shell.execute_reply": "2023-05-30T19:09:08.163178Z",
     "shell.execute_reply.started": "2023-05-30T19:09:08.155721Z"
    },
    "nbgrader": {
     "cell_type": "code",
     "checksum": "6e10577dbc5341dc52ffa356c93bc15c",
     "grade": true,
     "grade_id": "cell-7ed80050c64cdb4d",
     "locked": true,
     "points": 1,
     "schema_version": 3,
     "solution": false,
     "task": false
    },
    "tags": []
   },
   "outputs": [],
   "source": [
    "# Test Cell: do not edit or delete!\n",
    "assert all(\n",
    "    torch.any(old_pars[k] != par) for k, par in gan.state_dict().items()\n",
    "), \"ex4: update_gan does not update all parameters (-1 points)\""
   ]
  },
  {
   "cell_type": "code",
   "execution_count": null,
   "metadata": {
    "deletable": false,
    "nbgrader": {
     "cell_type": "code",
     "checksum": "3ccf8ae97e2981e21139370274f8ed0f",
     "grade": true,
     "grade_id": "cell-495ee05cc9204fba",
     "locked": true,
     "points": 0.5,
     "schema_version": 3,
     "solution": false,
     "task": false
    },
    "tags": []
   },
   "outputs": [],
   "source": [
    "# Test Cell: do not edit or delete!"
   ]
  },
  {
   "cell_type": "code",
   "execution_count": 34,
   "metadata": {
    "execution": {
     "iopub.execute_input": "2023-05-30T19:09:12.980174Z",
     "iopub.status.busy": "2023-05-30T19:09:12.979558Z",
     "iopub.status.idle": "2023-05-30T19:10:41.751465Z",
     "shell.execute_reply": "2023-05-30T19:10:41.749524Z",
     "shell.execute_reply.started": "2023-05-30T19:09:12.980140Z"
    },
    "pycharm": {
     "name": "#%%\n"
    },
    "tags": [
     "skip-execution"
    ]
   },
   "outputs": [
    {
     "name": "stdout",
     "output_type": "stream",
     "text": [
      "Epoch  0 - avg G loss: 0.63932, avg D loss: 0.71126\n",
      "D probs: 0.53, 0.53, 0.53, 0.53, 0.53, 0.53, 0.53, 0.53, 0.53, 0.53\n"
     ]
    },
    {
     "data": {
      "image/png": "[encoded data removed]",
      "text/plain": [
       "<PIL.Image.Image image mode=L size=280x28>"
      ]
     },
     "metadata": {
      "width": "100%"
     },
     "output_type": "display_data"
    },
    {
     "name": "stdout",
     "output_type": "stream",
     "text": [
      "Epoch  1 - avg G loss: 1.84802, avg D loss: 0.39643\n",
      "Epoch  2 - avg G loss: 1.08894, avg D loss: 0.53932\n",
      "Epoch  3 - avg G loss: 0.85911, avg D loss: 0.63885\n",
      "Epoch  4 - avg G loss: 0.76370, avg D loss: 0.68838\n",
      "Epoch  5 - avg G loss: 0.78722, avg D loss: 0.65992\n",
      "D probs: 0.55, 0.51, 0.58, 0.61, 0.55, 0.63, 0.48, 0.44, 0.56, 0.53\n"
     ]
    },
    {
     "data": {
      "image/png": "[encoded data removed]",
      "text/plain": [
       "<PIL.Image.Image image mode=L size=280x28>"
      ]
     },
     "metadata": {
      "width": "100%"
     },
     "output_type": "display_data"
    },
    {
     "ename": "KeyboardInterrupt",
     "evalue": "",
     "output_type": "error",
     "traceback": [
      "\u001b[0;31m---------------------------------------------------------------------------\u001b[0m",
      "\u001b[0;31mKeyboardInterrupt\u001b[0m                         Traceback (most recent call last)",
      "Cell \u001b[0;32mIn[34], line 11\u001b[0m\n\u001b[1;32m      6\u001b[0m bce \u001b[38;5;241m=\u001b[39m nn\u001b[38;5;241m.\u001b[39mBCEWithLogitsLoss()\n\u001b[1;32m      7\u001b[0m opt \u001b[38;5;241m=\u001b[39m optim\u001b[38;5;241m.\u001b[39mAdam([\n\u001b[1;32m      8\u001b[0m     {\u001b[38;5;124m'\u001b[39m\u001b[38;5;124mparams\u001b[39m\u001b[38;5;124m'\u001b[39m: gan\u001b[38;5;241m.\u001b[39mgenerator\u001b[38;5;241m.\u001b[39mparameters(), \u001b[38;5;124m'\u001b[39m\u001b[38;5;124mlr\u001b[39m\u001b[38;5;124m'\u001b[39m: \u001b[38;5;241m1e-3\u001b[39m},\n\u001b[1;32m      9\u001b[0m     {\u001b[38;5;124m'\u001b[39m\u001b[38;5;124mparams\u001b[39m\u001b[38;5;124m'\u001b[39m: gan\u001b[38;5;241m.\u001b[39mdiscriminator\u001b[38;5;241m.\u001b[39mparameters(), \u001b[38;5;124m'\u001b[39m\u001b[38;5;124mlr\u001b[39m\u001b[38;5;124m'\u001b[39m: \u001b[38;5;241m2e-4\u001b[39m}\n\u001b[1;32m     10\u001b[0m ])\n\u001b[0;32m---> 11\u001b[0m \u001b[43mtrain_gan\u001b[49m\u001b[43m(\u001b[49m\u001b[43mgan\u001b[49m\u001b[43m,\u001b[49m\u001b[43m \u001b[49m\u001b[43mtrain_loader\u001b[49m\u001b[43m,\u001b[49m\u001b[43m \u001b[49m\u001b[43mbce\u001b[49m\u001b[43m,\u001b[49m\u001b[43m \u001b[49m\u001b[43mopt\u001b[49m\u001b[43m,\u001b[49m\u001b[43m \u001b[49m\u001b[43mnum_epochs\u001b[49m\u001b[38;5;241;43m=\u001b[39;49m\u001b[38;5;241;43m25\u001b[39;49m\u001b[43m)\u001b[49m\n",
      "Cell \u001b[0;32mIn[9], line 64\u001b[0m, in \u001b[0;36mtrain_gan\u001b[0;34m(gan, loader, objective, optimiser, num_epochs, vis_every)\u001b[0m\n\u001b[1;32m     61\u001b[0m display_fakes(gan\u001b[38;5;241m.\u001b[39mdiscriminator, fake_data)\n\u001b[1;32m     63\u001b[0m \u001b[38;5;28;01mfor\u001b[39;00m epoch \u001b[38;5;129;01min\u001b[39;00m \u001b[38;5;28mrange\u001b[39m(\u001b[38;5;241m1\u001b[39m, num_epochs \u001b[38;5;241m+\u001b[39m \u001b[38;5;241m1\u001b[39m):\n\u001b[0;32m---> 64\u001b[0m     g_errs, d_errs \u001b[38;5;241m=\u001b[39m \u001b[43mupdate_gan\u001b[49m\u001b[43m(\u001b[49m\u001b[43mgan\u001b[49m\u001b[43m,\u001b[49m\u001b[43m \u001b[49m\u001b[43mloader\u001b[49m\u001b[43m,\u001b[49m\u001b[43m \u001b[49m\u001b[43mobjective\u001b[49m\u001b[43m,\u001b[49m\u001b[43m \u001b[49m\u001b[43moptimiser\u001b[49m\u001b[43m)\u001b[49m\n\u001b[1;32m     65\u001b[0m     loss_report \u001b[38;5;241m=\u001b[39m \u001b[38;5;124m'\u001b[39m\u001b[38;5;124m, \u001b[39m\u001b[38;5;124m'\u001b[39m\u001b[38;5;241m.\u001b[39mjoin([\n\u001b[1;32m     66\u001b[0m         \u001b[38;5;124mf\u001b[39m\u001b[38;5;124m\"\u001b[39m\u001b[38;5;124mavg G loss: \u001b[39m\u001b[38;5;132;01m{\u001b[39;00m\u001b[38;5;28msum\u001b[39m(g_errs)\u001b[38;5;250m \u001b[39m\u001b[38;5;241m/\u001b[39m\u001b[38;5;250m \u001b[39m\u001b[38;5;28mlen\u001b[39m(g_errs)\u001b[38;5;132;01m:\u001b[39;00m\u001b[38;5;124m.5f\u001b[39m\u001b[38;5;132;01m}\u001b[39;00m\u001b[38;5;124m\"\u001b[39m,\n\u001b[1;32m     67\u001b[0m         \u001b[38;5;124mf\u001b[39m\u001b[38;5;124m\"\u001b[39m\u001b[38;5;124mavg D loss: \u001b[39m\u001b[38;5;132;01m{\u001b[39;00m\u001b[38;5;28msum\u001b[39m(d_errs)\u001b[38;5;250m \u001b[39m\u001b[38;5;241m/\u001b[39m\u001b[38;5;250m \u001b[39m\u001b[38;5;28mlen\u001b[39m(d_errs)\u001b[38;5;132;01m:\u001b[39;00m\u001b[38;5;124m.5f\u001b[39m\u001b[38;5;132;01m}\u001b[39;00m\u001b[38;5;124m\"\u001b[39m\n\u001b[1;32m     68\u001b[0m     ])\n\u001b[1;32m     69\u001b[0m     \u001b[38;5;28mprint\u001b[39m(\u001b[38;5;124mf\u001b[39m\u001b[38;5;124m'\u001b[39m\u001b[38;5;124mEpoch \u001b[39m\u001b[38;5;132;01m{\u001b[39;00mepoch\u001b[38;5;132;01m:\u001b[39;00m\u001b[38;5;124m 2d\u001b[39m\u001b[38;5;132;01m}\u001b[39;00m\u001b[38;5;124m'\u001b[39m, loss_report, sep\u001b[38;5;241m=\u001b[39m\u001b[38;5;124m'\u001b[39m\u001b[38;5;124m - \u001b[39m\u001b[38;5;124m'\u001b[39m)\n",
      "Cell \u001b[0;32mIn[31], line 28\u001b[0m, in \u001b[0;36mupdate_gan\u001b[0;34m(gan, loader, loss_func, opt)\u001b[0m\n\u001b[1;32m     25\u001b[0m device \u001b[38;5;241m=\u001b[39m \u001b[38;5;28mnext\u001b[39m(gan\u001b[38;5;241m.\u001b[39mparameters())\u001b[38;5;241m.\u001b[39mdevice\n\u001b[1;32m     27\u001b[0m d_errs, g_errs \u001b[38;5;241m=\u001b[39m [], []\n\u001b[0;32m---> 28\u001b[0m \u001b[38;5;28;01mfor\u001b[39;00m x, _ \u001b[38;5;129;01min\u001b[39;00m loader:\n\u001b[1;32m     29\u001b[0m     x \u001b[38;5;241m=\u001b[39m x\u001b[38;5;241m.\u001b[39mto(device)\n\u001b[1;32m     31\u001b[0m     opt\u001b[38;5;241m.\u001b[39mzero_grad()\n",
      "File \u001b[0;32m/opt/conda/lib/python3.10/site-packages/torch/utils/data/dataloader.py:634\u001b[0m, in \u001b[0;36m_BaseDataLoaderIter.__next__\u001b[0;34m(self)\u001b[0m\n\u001b[1;32m    631\u001b[0m \u001b[38;5;28;01mif\u001b[39;00m \u001b[38;5;28mself\u001b[39m\u001b[38;5;241m.\u001b[39m_sampler_iter \u001b[38;5;129;01mis\u001b[39;00m \u001b[38;5;28;01mNone\u001b[39;00m:\n\u001b[1;32m    632\u001b[0m     \u001b[38;5;66;03m# TODO(https://github.com/pytorch/pytorch/issues/76750)\u001b[39;00m\n\u001b[1;32m    633\u001b[0m     \u001b[38;5;28mself\u001b[39m\u001b[38;5;241m.\u001b[39m_reset()  \u001b[38;5;66;03m# type: ignore[call-arg]\u001b[39;00m\n\u001b[0;32m--> 634\u001b[0m data \u001b[38;5;241m=\u001b[39m \u001b[38;5;28;43mself\u001b[39;49m\u001b[38;5;241;43m.\u001b[39;49m\u001b[43m_next_data\u001b[49m\u001b[43m(\u001b[49m\u001b[43m)\u001b[49m\n\u001b[1;32m    635\u001b[0m \u001b[38;5;28mself\u001b[39m\u001b[38;5;241m.\u001b[39m_num_yielded \u001b[38;5;241m+\u001b[39m\u001b[38;5;241m=\u001b[39m \u001b[38;5;241m1\u001b[39m\n\u001b[1;32m    636\u001b[0m \u001b[38;5;28;01mif\u001b[39;00m \u001b[38;5;28mself\u001b[39m\u001b[38;5;241m.\u001b[39m_dataset_kind \u001b[38;5;241m==\u001b[39m _DatasetKind\u001b[38;5;241m.\u001b[39mIterable \u001b[38;5;129;01mand\u001b[39;00m \\\n\u001b[1;32m    637\u001b[0m         \u001b[38;5;28mself\u001b[39m\u001b[38;5;241m.\u001b[39m_IterableDataset_len_called \u001b[38;5;129;01mis\u001b[39;00m \u001b[38;5;129;01mnot\u001b[39;00m \u001b[38;5;28;01mNone\u001b[39;00m \u001b[38;5;129;01mand\u001b[39;00m \\\n\u001b[1;32m    638\u001b[0m         \u001b[38;5;28mself\u001b[39m\u001b[38;5;241m.\u001b[39m_num_yielded \u001b[38;5;241m>\u001b[39m \u001b[38;5;28mself\u001b[39m\u001b[38;5;241m.\u001b[39m_IterableDataset_len_called:\n",
      "File \u001b[0;32m/opt/conda/lib/python3.10/site-packages/torch/utils/data/dataloader.py:1329\u001b[0m, in \u001b[0;36m_MultiProcessingDataLoaderIter._next_data\u001b[0;34m(self)\u001b[0m\n\u001b[1;32m   1326\u001b[0m     \u001b[38;5;28;01mreturn\u001b[39;00m \u001b[38;5;28mself\u001b[39m\u001b[38;5;241m.\u001b[39m_process_data(data)\n\u001b[1;32m   1328\u001b[0m \u001b[38;5;28;01massert\u001b[39;00m \u001b[38;5;129;01mnot\u001b[39;00m \u001b[38;5;28mself\u001b[39m\u001b[38;5;241m.\u001b[39m_shutdown \u001b[38;5;129;01mand\u001b[39;00m \u001b[38;5;28mself\u001b[39m\u001b[38;5;241m.\u001b[39m_tasks_outstanding \u001b[38;5;241m>\u001b[39m \u001b[38;5;241m0\u001b[39m\n\u001b[0;32m-> 1329\u001b[0m idx, data \u001b[38;5;241m=\u001b[39m \u001b[38;5;28;43mself\u001b[39;49m\u001b[38;5;241;43m.\u001b[39;49m\u001b[43m_get_data\u001b[49m\u001b[43m(\u001b[49m\u001b[43m)\u001b[49m\n\u001b[1;32m   1330\u001b[0m \u001b[38;5;28mself\u001b[39m\u001b[38;5;241m.\u001b[39m_tasks_outstanding \u001b[38;5;241m-\u001b[39m\u001b[38;5;241m=\u001b[39m \u001b[38;5;241m1\u001b[39m\n\u001b[1;32m   1331\u001b[0m \u001b[38;5;28;01mif\u001b[39;00m \u001b[38;5;28mself\u001b[39m\u001b[38;5;241m.\u001b[39m_dataset_kind \u001b[38;5;241m==\u001b[39m _DatasetKind\u001b[38;5;241m.\u001b[39mIterable:\n\u001b[1;32m   1332\u001b[0m     \u001b[38;5;66;03m# Check for _IterableDatasetStopIteration\u001b[39;00m\n",
      "File \u001b[0;32m/opt/conda/lib/python3.10/site-packages/torch/utils/data/dataloader.py:1295\u001b[0m, in \u001b[0;36m_MultiProcessingDataLoaderIter._get_data\u001b[0;34m(self)\u001b[0m\n\u001b[1;32m   1291\u001b[0m     \u001b[38;5;66;03m# In this case, `self._data_queue` is a `queue.Queue`,. But we don't\u001b[39;00m\n\u001b[1;32m   1292\u001b[0m     \u001b[38;5;66;03m# need to call `.task_done()` because we don't use `.join()`.\u001b[39;00m\n\u001b[1;32m   1293\u001b[0m \u001b[38;5;28;01melse\u001b[39;00m:\n\u001b[1;32m   1294\u001b[0m     \u001b[38;5;28;01mwhile\u001b[39;00m \u001b[38;5;28;01mTrue\u001b[39;00m:\n\u001b[0;32m-> 1295\u001b[0m         success, data \u001b[38;5;241m=\u001b[39m \u001b[38;5;28;43mself\u001b[39;49m\u001b[38;5;241;43m.\u001b[39;49m\u001b[43m_try_get_data\u001b[49m\u001b[43m(\u001b[49m\u001b[43m)\u001b[49m\n\u001b[1;32m   1296\u001b[0m         \u001b[38;5;28;01mif\u001b[39;00m success:\n\u001b[1;32m   1297\u001b[0m             \u001b[38;5;28;01mreturn\u001b[39;00m data\n",
      "File \u001b[0;32m/opt/conda/lib/python3.10/site-packages/torch/utils/data/dataloader.py:1133\u001b[0m, in \u001b[0;36m_MultiProcessingDataLoaderIter._try_get_data\u001b[0;34m(self, timeout)\u001b[0m\n\u001b[1;32m   1120\u001b[0m \u001b[38;5;28;01mdef\u001b[39;00m \u001b[38;5;21m_try_get_data\u001b[39m(\u001b[38;5;28mself\u001b[39m, timeout\u001b[38;5;241m=\u001b[39m_utils\u001b[38;5;241m.\u001b[39mMP_STATUS_CHECK_INTERVAL):\n\u001b[1;32m   1121\u001b[0m     \u001b[38;5;66;03m# Tries to fetch data from `self._data_queue` once for a given timeout.\u001b[39;00m\n\u001b[1;32m   1122\u001b[0m     \u001b[38;5;66;03m# This can also be used as inner loop of fetching without timeout, with\u001b[39;00m\n\u001b[0;32m   (...)\u001b[0m\n\u001b[1;32m   1130\u001b[0m     \u001b[38;5;66;03m# Returns a 2-tuple:\u001b[39;00m\n\u001b[1;32m   1131\u001b[0m     \u001b[38;5;66;03m#   (bool: whether successfully get data, any: data if successful else None)\u001b[39;00m\n\u001b[1;32m   1132\u001b[0m     \u001b[38;5;28;01mtry\u001b[39;00m:\n\u001b[0;32m-> 1133\u001b[0m         data \u001b[38;5;241m=\u001b[39m \u001b[38;5;28;43mself\u001b[39;49m\u001b[38;5;241;43m.\u001b[39;49m\u001b[43m_data_queue\u001b[49m\u001b[38;5;241;43m.\u001b[39;49m\u001b[43mget\u001b[49m\u001b[43m(\u001b[49m\u001b[43mtimeout\u001b[49m\u001b[38;5;241;43m=\u001b[39;49m\u001b[43mtimeout\u001b[49m\u001b[43m)\u001b[49m\n\u001b[1;32m   1134\u001b[0m         \u001b[38;5;28;01mreturn\u001b[39;00m (\u001b[38;5;28;01mTrue\u001b[39;00m, data)\n\u001b[1;32m   1135\u001b[0m     \u001b[38;5;28;01mexcept\u001b[39;00m \u001b[38;5;167;01mException\u001b[39;00m \u001b[38;5;28;01mas\u001b[39;00m e:\n\u001b[1;32m   1136\u001b[0m         \u001b[38;5;66;03m# At timeout and error, we manually check whether any worker has\u001b[39;00m\n\u001b[1;32m   1137\u001b[0m         \u001b[38;5;66;03m# failed. Note that this is the only mechanism for Windows to detect\u001b[39;00m\n\u001b[1;32m   1138\u001b[0m         \u001b[38;5;66;03m# worker failures.\u001b[39;00m\n",
      "File \u001b[0;32m/opt/conda/lib/python3.10/multiprocessing/queues.py:113\u001b[0m, in \u001b[0;36mQueue.get\u001b[0;34m(self, block, timeout)\u001b[0m\n\u001b[1;32m    111\u001b[0m \u001b[38;5;28;01mif\u001b[39;00m block:\n\u001b[1;32m    112\u001b[0m     timeout \u001b[38;5;241m=\u001b[39m deadline \u001b[38;5;241m-\u001b[39m time\u001b[38;5;241m.\u001b[39mmonotonic()\n\u001b[0;32m--> 113\u001b[0m     \u001b[38;5;28;01mif\u001b[39;00m \u001b[38;5;129;01mnot\u001b[39;00m \u001b[38;5;28;43mself\u001b[39;49m\u001b[38;5;241;43m.\u001b[39;49m\u001b[43m_poll\u001b[49m\u001b[43m(\u001b[49m\u001b[43mtimeout\u001b[49m\u001b[43m)\u001b[49m:\n\u001b[1;32m    114\u001b[0m         \u001b[38;5;28;01mraise\u001b[39;00m Empty\n\u001b[1;32m    115\u001b[0m \u001b[38;5;28;01melif\u001b[39;00m \u001b[38;5;129;01mnot\u001b[39;00m \u001b[38;5;28mself\u001b[39m\u001b[38;5;241m.\u001b[39m_poll():\n",
      "File \u001b[0;32m/opt/conda/lib/python3.10/multiprocessing/connection.py:257\u001b[0m, in \u001b[0;36m_ConnectionBase.poll\u001b[0;34m(self, timeout)\u001b[0m\n\u001b[1;32m    255\u001b[0m \u001b[38;5;28mself\u001b[39m\u001b[38;5;241m.\u001b[39m_check_closed()\n\u001b[1;32m    256\u001b[0m \u001b[38;5;28mself\u001b[39m\u001b[38;5;241m.\u001b[39m_check_readable()\n\u001b[0;32m--> 257\u001b[0m \u001b[38;5;28;01mreturn\u001b[39;00m \u001b[38;5;28;43mself\u001b[39;49m\u001b[38;5;241;43m.\u001b[39;49m\u001b[43m_poll\u001b[49m\u001b[43m(\u001b[49m\u001b[43mtimeout\u001b[49m\u001b[43m)\u001b[49m\n",
      "File \u001b[0;32m/opt/conda/lib/python3.10/multiprocessing/connection.py:424\u001b[0m, in \u001b[0;36mConnection._poll\u001b[0;34m(self, timeout)\u001b[0m\n\u001b[1;32m    423\u001b[0m \u001b[38;5;28;01mdef\u001b[39;00m \u001b[38;5;21m_poll\u001b[39m(\u001b[38;5;28mself\u001b[39m, timeout):\n\u001b[0;32m--> 424\u001b[0m     r \u001b[38;5;241m=\u001b[39m \u001b[43mwait\u001b[49m\u001b[43m(\u001b[49m\u001b[43m[\u001b[49m\u001b[38;5;28;43mself\u001b[39;49m\u001b[43m]\u001b[49m\u001b[43m,\u001b[49m\u001b[43m \u001b[49m\u001b[43mtimeout\u001b[49m\u001b[43m)\u001b[49m\n\u001b[1;32m    425\u001b[0m     \u001b[38;5;28;01mreturn\u001b[39;00m \u001b[38;5;28mbool\u001b[39m(r)\n",
      "File \u001b[0;32m/opt/conda/lib/python3.10/multiprocessing/connection.py:931\u001b[0m, in \u001b[0;36mwait\u001b[0;34m(object_list, timeout)\u001b[0m\n\u001b[1;32m    928\u001b[0m     deadline \u001b[38;5;241m=\u001b[39m time\u001b[38;5;241m.\u001b[39mmonotonic() \u001b[38;5;241m+\u001b[39m timeout\n\u001b[1;32m    930\u001b[0m \u001b[38;5;28;01mwhile\u001b[39;00m \u001b[38;5;28;01mTrue\u001b[39;00m:\n\u001b[0;32m--> 931\u001b[0m     ready \u001b[38;5;241m=\u001b[39m \u001b[43mselector\u001b[49m\u001b[38;5;241;43m.\u001b[39;49m\u001b[43mselect\u001b[49m\u001b[43m(\u001b[49m\u001b[43mtimeout\u001b[49m\u001b[43m)\u001b[49m\n\u001b[1;32m    932\u001b[0m     \u001b[38;5;28;01mif\u001b[39;00m ready:\n\u001b[1;32m    933\u001b[0m         \u001b[38;5;28;01mreturn\u001b[39;00m [key\u001b[38;5;241m.\u001b[39mfileobj \u001b[38;5;28;01mfor\u001b[39;00m (key, events) \u001b[38;5;129;01min\u001b[39;00m ready]\n",
      "File \u001b[0;32m/opt/conda/lib/python3.10/selectors.py:416\u001b[0m, in \u001b[0;36m_PollLikeSelector.select\u001b[0;34m(self, timeout)\u001b[0m\n\u001b[1;32m    414\u001b[0m ready \u001b[38;5;241m=\u001b[39m []\n\u001b[1;32m    415\u001b[0m \u001b[38;5;28;01mtry\u001b[39;00m:\n\u001b[0;32m--> 416\u001b[0m     fd_event_list \u001b[38;5;241m=\u001b[39m \u001b[38;5;28;43mself\u001b[39;49m\u001b[38;5;241;43m.\u001b[39;49m\u001b[43m_selector\u001b[49m\u001b[38;5;241;43m.\u001b[39;49m\u001b[43mpoll\u001b[49m\u001b[43m(\u001b[49m\u001b[43mtimeout\u001b[49m\u001b[43m)\u001b[49m\n\u001b[1;32m    417\u001b[0m \u001b[38;5;28;01mexcept\u001b[39;00m \u001b[38;5;167;01mInterruptedError\u001b[39;00m:\n\u001b[1;32m    418\u001b[0m     \u001b[38;5;28;01mreturn\u001b[39;00m ready\n",
      "\u001b[0;31mKeyboardInterrupt\u001b[0m: "
     ]
    }
   ],
   "source": [
    "# sanity check\n",
    "gan = nn.ModuleDict({\n",
    "    'generator': Generator(),\n",
    "    'discriminator': Discriminator()\n",
    "}).to(device)\n",
    "bce = nn.BCEWithLogitsLoss()\n",
    "opt = optim.Adam([\n",
    "    {'params': gan.generator.parameters(), 'lr': 1e-3},\n",
    "    {'params': gan.discriminator.parameters(), 'lr': 2e-4}\n",
    "])\n",
    "train_gan(gan, train_loader, bce, opt, num_epochs=25)"
   ]
  }
 ],
 "metadata": {
  "kernelspec": {
   "display_name": "Python 3",
   "language": "python",
   "name": "python3"
  },
  "language_info": {
   "codemirror_mode": {
    "name": "ipython",
    "version": 3
   },
   "file_extension": ".py",
   "mimetype": "text/x-python",
   "name": "python",
   "nbconvert_exporter": "python",
   "pygments_lexer": "ipython3",
   "version": "3.7.3"
  }
 },
 "nbformat": 4,
 "nbformat_minor": 4
}
