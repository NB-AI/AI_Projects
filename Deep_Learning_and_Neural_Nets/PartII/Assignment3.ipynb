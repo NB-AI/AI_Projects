{
 "cells": [
  {
   "cell_type": "markdown",
   "metadata": {
    "id": "DY77HktCh7PX"
   },
   "source": [
    "<!-- Assignment 3 - SS 2023 -->\n",
    "\n",
    "# From Reversing Convolutions to VAEs (14 points)"
   ]
  },
  {
   "cell_type": "markdown",
   "metadata": {
    "id": "k_OC6d7Rh7PZ"
   },
   "source": [
    "This notebook contains one of the assignments for the exercises in Deep Learning and Neural Nets 2.\n",
    "It provides a skeleton, i.e. code with gaps, that will be filled out by you in different exercises.\n",
    "All exercise descriptions are visually annotated by a vertical bar on the left and some extra indentation,\n",
    "unless you already messed with your jupyter notebook configuration.\n",
    "Any questions that are not part of the exercise statement do not need to be answered,\n",
    "but should rather be interpreted as triggers to guide your thought process.\n",
    "\n",
    "**Note**: The cells in the introductory part (before the first subtitle)\n",
    "perform all necessary imports and provide utility functions that should work without (too much) problems.\n",
    "Please, do not alter this code or add extra import statements in your submission, unless explicitly allowed!\n",
    "\n",
    "<span style=\"color:#d95c4c\">**IMPORTANT:**</span> Please, change the name of your submission file so that it contains your student ID!"
   ]
  },
  {
   "cell_type": "markdown",
   "metadata": {
    "id": "aFJJjcXHh7Pa"
   },
   "source": [
    "In this assignment, we will tackle the topic of auto-encoders,\n",
    "a simple trick to use neural networks for unsupervised learning.\n",
    "Whereas auto-encoders with fully connected layers are pretty simple,\n",
    "new types of layers are necessary to build convolutional auto-encoders.\n",
    "The most important of these new layers is the transposed convolution,\n",
    "which is often confusingly referred to as a deconvolution.\n",
    "Finally, we turn auto-encoders into generative models with some clever tricks."
   ]
  },
  {
   "cell_type": "code",
   "execution_count": 1,
   "metadata": {
    "colab": {
     "base_uri": "https://localhost:8080/"
    },
    "execution": {
     "iopub.execute_input": "2023-05-04T16:46:26.469852Z",
     "iopub.status.busy": "2023-05-04T16:46:26.469495Z",
     "iopub.status.idle": "2023-05-04T16:46:28.085625Z",
     "shell.execute_reply": "2023-05-04T16:46:28.084644Z",
     "shell.execute_reply.started": "2023-05-04T16:46:26.469824Z"
    },
    "id": "SqAL3KpFh7Pa",
    "outputId": "0b727233-31f4-4823-93b6-c6c9cd1eb45e"
   },
   "outputs": [
    {
     "name": "stdout",
     "output_type": "stream",
     "text": [
      "cuda\n"
     ]
    }
   ],
   "source": [
    "import os.path\n",
    "import inspect\n",
    "import torch\n",
    "from torch import nn\n",
    "from torch import optim\n",
    "from torch.utils.data import DataLoader\n",
    "from torchvision import transforms\n",
    "from torchvision import datasets\n",
    "from torchvision import models\n",
    "\n",
    "from PIL import Image\n",
    "from IPython.display import display\n",
    "from torchvision.transforms.functional import to_pil_image\n",
    "\n",
    "torch.manual_seed(1806)\n",
    "torch.cuda.manual_seed(1806)\n",
    "device = 'cuda' if torch.cuda.is_available() else 'cpu'\n",
    "print(device)"
   ]
  },
  {
   "cell_type": "code",
   "execution_count": 2,
   "metadata": {
    "colab": {
     "base_uri": "https://localhost:8080/"
    },
    "execution": {
     "iopub.execute_input": "2023-05-04T16:46:28.092460Z",
     "iopub.status.busy": "2023-05-04T16:46:28.091620Z",
     "iopub.status.idle": "2023-05-04T16:46:28.099312Z",
     "shell.execute_reply": "2023-05-04T16:46:28.098262Z",
     "shell.execute_reply.started": "2023-05-04T16:46:28.092426Z"
    },
    "id": "LKHBimMQh7Pb",
    "outputId": "4d0ab511-e75c-4298-c1e8-3cbc2e1aeaa0"
   },
   "outputs": [
    {
     "name": "stdout",
     "output_type": "stream",
     "text": [
      "~/.pytorch\n"
     ]
    }
   ],
   "source": [
    "# google colab data management\n",
    "import os.path\n",
    "\n",
    "try:\n",
    "    from google.colab import drive\n",
    "    drive.mount('/content/gdrive')\n",
    "    _home = 'gdrive/MyDrive/'\n",
    "except ImportError:\n",
    "    _home = '~'\n",
    "finally:\n",
    "    data_root = os.path.join(_home, '.pytorch')\n",
    "\n",
    "print(data_root)"
   ]
  },
  {
   "cell_type": "code",
   "execution_count": 3,
   "metadata": {
    "execution": {
     "iopub.execute_input": "2023-05-04T16:46:28.101135Z",
     "iopub.status.busy": "2023-05-04T16:46:28.100802Z",
     "iopub.status.idle": "2023-05-04T16:46:28.111839Z",
     "shell.execute_reply": "2023-05-04T16:46:28.111211Z",
     "shell.execute_reply.started": "2023-05-04T16:46:28.101105Z"
    },
    "id": "kyEzderSh7Pc"
   },
   "outputs": [],
   "source": [
    "class AutoMNIST(datasets.MNIST):\n",
    "    \"\"\" Wrapper around MNIST for training auto-encoders. \"\"\"\n",
    "    \n",
    "    def __getitem__(self, index):\n",
    "        x = self.data[index].numpy()\n",
    "        img = Image.fromarray(x, mode='L')\n",
    "        target = Image.fromarray(x, mode='L')\n",
    "\n",
    "        if self.transform is not None:\n",
    "            img = self.transform(img)\n",
    "\n",
    "        if self.target_transform is not None:\n",
    "            target = self.target_transform(target)\n",
    "\n",
    "        return img, target\n",
    "\n",
    "    @property\n",
    "    def raw_folder(self):\n",
    "        return os.path.join(self.root, 'MNIST', 'raw')\n",
    "\n",
    "    @property\n",
    "    def processed_folder(self):\n",
    "        return os.path.join(self.root, 'MNIST', 'processed')"
   ]
  },
  {
   "cell_type": "code",
   "execution_count": 4,
   "metadata": {
    "execution": {
     "iopub.execute_input": "2023-05-04T16:46:28.115707Z",
     "iopub.status.busy": "2023-05-04T16:46:28.114715Z",
     "iopub.status.idle": "2023-05-04T16:46:28.122289Z",
     "shell.execute_reply": "2023-05-04T16:46:28.121595Z",
     "shell.execute_reply.started": "2023-05-04T16:46:28.115670Z"
    },
    "id": "e7xiVixAh7Pd"
   },
   "outputs": [],
   "source": [
    "def download_image_data(url: str, md5: str = None, size: int = 224):\n",
    "    \"\"\"\n",
    "    Download and pre-process some image for AlexNet.\n",
    "    \n",
    "    Parameters\n",
    "    ----------\n",
    "    url : str\n",
    "        URL to the image.\n",
    "    md5 : str, optional\n",
    "        MD5 checksum of the image.\n",
    "    size : int, optional\n",
    "        Expected size for the image after cropping.\n",
    "\n",
    "    Returns\n",
    "    -------\n",
    "    x : (1, 3, size, size) torch.Tensor\n",
    "        Ready-to-predict image.\n",
    "    \"\"\"\n",
    "    from torchvision.datasets.utils import download_url\n",
    "    path = os.path.expanduser(data_root)\n",
    "    download_url(url, path, md5=md5)\n",
    "    file_name = url.rsplit('/', maxsplit=1)[-1]\n",
    "    im = Image.open(os.path.join(path, file_name))\n",
    "    # constants taken from torchvision.models docs\n",
    "    normalise = transforms.Compose([\n",
    "        transforms.RandomCrop(size=size),\n",
    "        transforms.ToTensor(),\n",
    "        transforms.Normalize((.485, .456, .406), (.229, .224, .225))\n",
    "    ])\n",
    "    return normalise(im).unsqueeze(0)"
   ]
  },
  {
   "cell_type": "code",
   "execution_count": 5,
   "metadata": {
    "execution": {
     "iopub.execute_input": "2023-05-04T16:46:28.124253Z",
     "iopub.status.busy": "2023-05-04T16:46:28.123296Z",
     "iopub.status.idle": "2023-05-04T16:46:28.132676Z",
     "shell.execute_reply": "2023-05-04T16:46:28.132004Z",
     "shell.execute_reply.started": "2023-05-04T16:46:28.124223Z"
    },
    "id": "u5QtGCc3h7Pe"
   },
   "outputs": [],
   "source": [
    "def data_to_image(*data: torch.Tensor, \n",
    "                  means: tuple = (0, ), stds: tuple = (1., )) -> Image:\n",
    "    \"\"\"\n",
    "    Convert multiple tensors to one big image.\n",
    "    \n",
    "    Parameters\n",
    "    ----------\n",
    "    data0, data1, ... dataN : torch.Tensor\n",
    "        One or more tensors to be merged into a single image.\n",
    "    means : tuple or torch.Tensor, optional\n",
    "        Original mean of the image before normalisation.\n",
    "    stds : tuple or torch.Tensor, optional\n",
    "        Original standard deviation of the image before normalisation.\n",
    "\n",
    "    Returns\n",
    "    -------\n",
    "    image : Image\n",
    "        PIL image with all of the tensors next to each other.\n",
    "    \"\"\"\n",
    "    # concatenate all data\n",
    "    big_pic = torch.cat([x for x in data], dim=-1)\n",
    "    \n",
    "    means = torch.tensor(means)\n",
    "    stds = torch.tensor(stds)\n",
    "    to_image = transforms.Compose([\n",
    "        # inverts normalisation of image\n",
    "        transforms.Normalize(-means / stds, 1. / stds),\n",
    "        transforms.Lambda(lambda x: torch.clamp(x, 0, 1)),\n",
    "        transforms.ToPILImage()\n",
    "    ])\n",
    "    \n",
    "    return to_image(big_pic)"
   ]
  },
  {
   "cell_type": "code",
   "execution_count": 6,
   "metadata": {
    "execution": {
     "iopub.execute_input": "2023-05-04T16:46:28.134615Z",
     "iopub.status.busy": "2023-05-04T16:46:28.134016Z",
     "iopub.status.idle": "2023-05-04T16:46:28.146724Z",
     "shell.execute_reply": "2023-05-04T16:46:28.145806Z",
     "shell.execute_reply.started": "2023-05-04T16:46:28.134584Z"
    },
    "id": "szGDCF7Hh7Pf"
   },
   "outputs": [],
   "source": [
    "class RegularisedLoss(nn.Module):\n",
    "    \"\"\"\n",
    "    Loss function for networks that expose state for regularisation.\n",
    "\n",
    "    Examples\n",
    "    --------\n",
    "    To train an auto-encoder with some norm-regularisation (untested):\n",
    "    >>> ae = AutoEncoder(784)\n",
    "    >>> mse = RegularisedLoss(nn.MSELoss(), torch.norm)\n",
    "    >>> x = torch.randn(1, 784)\n",
    "    >>> logits, code = ae.forward(x)\n",
    "    >>> mse((logits, code), x)\n",
    "    \"\"\"\n",
    "    \n",
    "    def __init__(self, loss_func: nn.Module = None, reg_func: nn.Module = None,\n",
    "                 weight: float = 1.):\n",
    "        \"\"\"\n",
    "        Parameters\n",
    "        ----------\n",
    "        loss_func : nn.Module\n",
    "            Standard loss function computed from logits and targets.\n",
    "        reg_func : nn.Module, optional\n",
    "            Regularisation function computed from exposed network state.\n",
    "        weight : float, optional\n",
    "            Weighting factor for the regularisation.\n",
    "        \"\"\"\n",
    "        super().__init__()\n",
    "        self.loss_func = loss_func\n",
    "        self.regulariser = reg_func\n",
    "        self.weight = weight\n",
    "        self._regularisation_cache = []\n",
    "        \n",
    "    def split_loss(self, total_loss):\n",
    "        \"\"\"\n",
    "        Split total loss values in original loss and regularisation part.\n",
    "\n",
    "        Parameters\n",
    "        ----------\n",
    "        total_loss : list or float\n",
    "            One or more loss values computed with this function.\n",
    "\n",
    "        Returns\n",
    "        -------\n",
    "        orig_loss : Tensor\n",
    "            One ore more loss values from the original part of the loss.\n",
    "        reg_loss : Tensor\n",
    "            One or more loss values from the regularsiation part of the loss.\n",
    "        \"\"\"\n",
    "        if len(self._regularisation_cache) == 0:\n",
    "            raise ValueError(\"no regularisation loss yet, make sure to call forward first\")\n",
    "            \n",
    "        _totals = torch.tensor(total_loss)\n",
    "        reg_loss = torch.tensor(self._regularisation_cache[-_totals.numel():])\n",
    "        orig_loss = _totals - self.weight * reg_loss\n",
    "        return orig_loss, reg_loss\n",
    "        \n",
    "    def forward(self, outputs, y):\n",
    "        \"\"\"\n",
    "        Parameters\n",
    "        ----------\n",
    "        outputs : (Tensor, Tensor)\n",
    "            Tuple consisting of logits and exposed state.\n",
    "        y : Tensor\n",
    "            Targets for the original loss part.\n",
    "        \"\"\"\n",
    "        logits, state = outputs\n",
    "        loss = self.loss_func(logits, y)\n",
    "        \n",
    "        if self.regulariser is not None:\n",
    "            reg_loss = self.regulariser(state)\n",
    "            self._regularisation_cache.append(reg_loss.item())\n",
    "            loss = loss + self.weight * reg_loss\n",
    "        \n",
    "        return loss"
   ]
  },
  {
   "cell_type": "code",
   "execution_count": 7,
   "metadata": {
    "execution": {
     "iopub.execute_input": "2023-05-04T16:46:28.149793Z",
     "iopub.status.busy": "2023-05-04T16:46:28.149498Z",
     "iopub.status.idle": "2023-05-04T16:46:28.166796Z",
     "shell.execute_reply": "2023-05-04T16:46:28.165927Z",
     "shell.execute_reply.started": "2023-05-04T16:46:28.149771Z"
    },
    "id": "zPXvZA0Uh7Pg"
   },
   "outputs": [],
   "source": [
    "class AutoEncoderTrainer:\n",
    "\n",
    "    def __init__(self,\n",
    "         model: nn.Module,\n",
    "         criterion: nn.Module,\n",
    "         optimiser: optim.Optimizer,\n",
    "    ):\n",
    "        \"\"\"\n",
    "        Parameters\n",
    "        ----------\n",
    "        model : torch.nn.Module\n",
    "            Neural Network that will be trained.\n",
    "        criterion : torch.nn.Module\n",
    "            Loss function to use for training.\n",
    "        optimiser : torch.optim.Optimizer\n",
    "            Optimisation strategy for training.\n",
    "        tracker : Tracker, optional\n",
    "            Tracker to keep track of training progress.\n",
    "        \"\"\"\n",
    "        self.model = model\n",
    "        self.criterion = criterion\n",
    "        self.optimiser = optimiser\n",
    "        \n",
    "\n",
    "    def state_dict(self):\n",
    "        \"\"\" Current state of learning. \"\"\"\n",
    "        return {\n",
    "            \"model\": self.model.state_dict(),\n",
    "            \"objective\": self.criterion.state_dict(),\n",
    "            \"optimiser\": self.optimiser.state_dict(),\n",
    "        }\n",
    "\n",
    "    @property\n",
    "    def device(self):\n",
    "        \"\"\" Device of the (first) model parameters. \"\"\"\n",
    "        return next(self.model.parameters()).device\n",
    "\n",
    "   # @torch.enable_grad() # mine \n",
    "    def _forward(self, data: DataLoader, metric: callable):\n",
    "        device = self.device\n",
    "\n",
    "        for x, y in data:\n",
    "            x, y = x.to(device), y.to(device)\n",
    "            logits = self.model(x)\n",
    "\n",
    "            res = metric(logits, y)\n",
    "            yield res\n",
    "\n",
    "\n",
    "    @torch.no_grad()\n",
    "    def evaluate(self, data: DataLoader, metric: callable) -> list:\n",
    "        self.model.eval()\n",
    "        losses = [res.item() for res in self._forward(data, metric)]\n",
    "        return losses\n",
    "\n",
    "\n",
    "    @torch.enable_grad()\n",
    "    def update(self, data: DataLoader) -> list:\n",
    "        opt = self.optimiser\n",
    "        self.model.train()\n",
    "\n",
    "        errs = []\n",
    "        for err in self._forward(data, self.criterion):\n",
    "            errs.append(err.item())\n",
    "\n",
    "            opt.zero_grad()\n",
    "            err.backward()\n",
    "            opt.step()\n",
    "\n",
    "        return errs\n",
    "    \n",
    "    def _print_errs(self, epoch: int, errs : list):\n",
    "        \"\"\"\n",
    "        Print error summary for current epoch.\n",
    "\n",
    "        If possible, the loss is additionally decomposed in\n",
    "        reconstruction and regularisation loss.\n",
    "\n",
    "        Parameters\n",
    "        ----------\n",
    "        epoch : int\n",
    "            Rank of the current epoch.\n",
    "        errs : list\n",
    "            The errors to summarise.\n",
    "        \"\"\"\n",
    "        print(f\"Epoch {epoch: 2d} - avg loss: {sum(errs) / len(errs):.6f}\", end=' ')\n",
    "        try:\n",
    "            rec_errs, reg_errs = self.criterion.split_loss(errs)\n",
    "            print(f\"(rec: {sum(rec_errs) / len(errs):.4f}, reg: {sum(reg_errs) / len(errs):.4f})\")\n",
    "        except (AttributeError, ValueError):\n",
    "            print()\n",
    "\n",
    "\n",
    "    def _display_result(self, xs: torch.Tensor, count: int = 10):\n",
    "        \"\"\"\n",
    "        Visualise a number of reconstructions from an auto-encoder.\n",
    "\n",
    "        Parameters\n",
    "        ----------\n",
    "        xs : torch.Tensor\n",
    "            Batch of images to be reconstructed.\n",
    "            The batch is assumed to have the correct shape\n",
    "            for feeding it to the network.\n",
    "        count : int, optional\n",
    "            Number of samples in the batch to visualise.\n",
    "\n",
    "        \"\"\"\n",
    "        xs = xs[:count]\n",
    "        # get reconstructions\n",
    "        preds = self.model.reconstruct(xs.to(self.device)).cpu()\n",
    "\n",
    "        # convert to images\n",
    "        xs = xs.view(-1, 1, 28, 28)  # unflatten\n",
    "        x_im = data_to_image(*xs, means=(.1307, ), stds=(.3081, ))\n",
    "        preds = preds.view(-1, 1, 28, 28)\n",
    "        res_im = data_to_image(*preds)\n",
    "\n",
    "        # paste together\n",
    "        im = Image.new('L', (len(xs) * 28, 56))\n",
    "        im.paste(x_im, (0, 0))\n",
    "        im.paste(res_im, (0, 28))\n",
    "        display(im, metadata={'width': '100%'})\n",
    "\n",
    "\n",
    "    def train(self, loader: DataLoader, num_epochs: int = 10, vis_every: int = 5):\n",
    "        \"\"\"\n",
    "        Train an auto-encoder for a number of epochs.\n",
    "\n",
    "        Parameters\n",
    "        ----------\n",
    "        loader : DataLoader\n",
    "            A data loader for iterating over batches of the data.\n",
    "        num_epochs : int, optional\n",
    "            Number of times to iterate the dataset.\n",
    "        vis_every : int, optional\n",
    "            Frequency, during training, of \n",
    "            intermediate visualisation of reconstructions.\n",
    "        \"\"\"\n",
    "        # take random batch for visualising reconstructions\n",
    "        ref_inputs, _ = next(iter(loader))\n",
    "\n",
    "        # evaluate random performance\n",
    "        errs = self.evaluate(loader, self.criterion)\n",
    "        self._print_errs(0, errs)\n",
    "        self._display_result(ref_inputs)\n",
    "\n",
    "        # train for some epochs\n",
    "        for epoch in range(1, num_epochs + 1):\n",
    "            errs = self.update(loader)\n",
    "            self._print_errs(0, errs)\n",
    "\n",
    "            if epoch % vis_every == 0:\n",
    "                self._display_result(ref_inputs)"
   ]
  },
  {
   "cell_type": "markdown",
   "metadata": {
    "id": "x8f1WLSsh7Ph"
   },
   "source": [
    "## Auto-Encoders\n",
    "\n",
    "An easy way to use supervised models in an unsupervised setting \n",
    "is to invent a prediction task that only requires the inputs.\n",
    "The most straightforward approach to this paradigm is to learn the identity function.\n",
    "It is trivial to find a network that solves this task perfectly (linear regression).\n",
    "In order to get more interesting models,\n",
    "it is therefore important to make it slightly harder for the network to learn the identity.\n",
    "\n",
    "The auto-encoder is a neural network architecture for learning these identity functions.\n",
    "In general, auto-encoders consist of two parts:\n",
    "the first part is the **encoder**, which maps the inputs to some *code*\n",
    "and the second part is the **decoder**, which maps this code back to the inputs.\n",
    "This setup is especially interesting when the code is much smaller than the input.\n",
    "In this case, the code forms a bottleneck for the information flow,\n",
    "and the network must learn to compress the information in the inputs to get good reconstructions.\n",
    "This effectively allows to learn a lossy compression scheme where\n",
    "the encoder can be used to compress the inputs and the decoder is used for decompression.\n",
    "\n",
    "Typically, encoder and decoder will have some sort of symmetry in their architecture.\n",
    "In fully-connected models, this symmetry can be obtained by transposing the weight matrices.\n",
    "Convolutional layers can be transposed as well, although that might not be as obvious.\n",
    "Note that we are only talking about the architecture, i.e. the shape of the weight matrices,\n",
    "and not about the weights, which are typically **not shared** between encoder and decoder. "
   ]
  },
  {
   "cell_type": "markdown",
   "metadata": {
    "id": "v_aTevulh7Ph"
   },
   "source": [
    "<div style=\"text-align: center\">\n",
    "  <figure style=\"display: inline-block; width: 49%; margin: 0\">\n",
    "    <img src=\"https://raw.githubusercontent.com/vdumoulin/conv_arithmetic/master/gif/no_padding_no_strides.gif\" />\n",
    "    <figcaption style=\"width: 100%;\"> Normal convolution </figcaption>\n",
    "  </figure>\n",
    "  <figure style=\"display: inline-block; width: 49%; margin: 0\">\n",
    "    <img src=\"https://raw.githubusercontent.com/vdumoulin/conv_arithmetic/master/gif/no_padding_no_strides_transposed.gif\" />\n",
    "    <figcaption style=\"width: 100%; text-align: center;\"> Transposed convolution </figcaption>\n",
    "  </figure>\n",
    "</div>\n",
    "\n",
    "*visualisations taken from the [github](https://github.com/vdumoulin/conv_arithmetic) that comes with [this guide](https://arxiv.org/abs/1603.07285)*"
   ]
  },
  {
   "cell_type": "markdown",
   "metadata": {
    "id": "swaiT5Kth7Pi"
   },
   "source": [
    "### Exercise 1: Transposed Convolutions (3 points)\n",
    "\n",
    "Although the transpose of a matrix is typically not its inverse,\n",
    "it can be interpreted as a way to *undo* a matrix multiplication.\n",
    "This is especially true for fully connected layers,\n",
    "where we find the tranpose of the weight matrix in the backward pass.\n",
    "Using this analogy, we can find a transposed convolution\n",
    "by taking the operation we find in the backward pass of a conv layer.\n",
    "\n",
    "To get a feeling for how transposed convolutions can *undo* convolutions,\n",
    "we are going to be implementing a method from Zeiler and Fergus (from ZF net).\n",
    "They used transposed convolutions to visualise activations in the input space.\n",
    "However, we will also need to undo max-pooling layers and ReLU non-linearities.\n",
    "Therefore, we first focus on how to undo different kinds of layers.\n",
    "An example of how to undo a ReLU non-linearity is provided in `UndoableReLU`.\n",
    "\n",
    " > Implement the `undo` methods of the `UndoableMaxPool2d` and `UndoableConv2d` classes below.\n",
    " > As the title suggests, convolutions can be undone by transposed convolutions.\n",
    " > Pooling operations can generally be undone by upsampling operations.\n",
    " > However, for max-pooling, we can get better results\n",
    " > if we keep track of the indices in the original inputs.\n",
    " > Do not forget about the different parameters!"
   ]
  },
  {
   "cell_type": "code",
   "execution_count": 8,
   "metadata": {
    "execution": {
     "iopub.execute_input": "2023-05-04T16:46:28.168822Z",
     "iopub.status.busy": "2023-05-04T16:46:28.168218Z",
     "iopub.status.idle": "2023-05-04T16:46:28.179767Z",
     "shell.execute_reply": "2023-05-04T16:46:28.179207Z",
     "shell.execute_reply.started": "2023-05-04T16:46:28.168791Z"
    },
    "id": "wSw6q8soh7Pi"
   },
   "outputs": [],
   "source": [
    "class UndoableReLU(nn.Module):\n",
    "    \"\"\"\n",
    "    Wrapper around a relu layer that adds 'undo' functionality.\n",
    "    \"\"\"\n",
    "    \n",
    "    def __init__(self, module: nn.ReLU):\n",
    "        super().__init__()\n",
    "        self.original = module\n",
    "        \n",
    "    def forward(self, s: torch.Tensor):\n",
    "        return torch.relu(s), None\n",
    "    \n",
    "    @torch.no_grad()\n",
    "    def undo(self, a: torch.Tensor, context):\n",
    "        return torch.relu(a)\n",
    "    "
   ]
  },
  {
   "cell_type": "code",
   "execution_count": 9,
   "metadata": {
    "execution": {
     "iopub.execute_input": "2023-05-04T16:46:28.181801Z",
     "iopub.status.busy": "2023-05-04T16:46:28.181075Z",
     "iopub.status.idle": "2023-05-04T16:46:28.192947Z",
     "shell.execute_reply": "2023-05-04T16:46:28.191948Z",
     "shell.execute_reply.started": "2023-05-04T16:46:28.181769Z"
    },
    "id": "iJ-Do2tyh7Pj"
   },
   "outputs": [],
   "source": [
    "class UndoableMaxPool2d(nn.Module):\n",
    "    \"\"\"\n",
    "    Wrapper around a max-pooling layer that adds 'undo' functionality.\n",
    "    \"\"\"\n",
    "    \n",
    "    def __init__(self, module: nn.MaxPool2d):\n",
    "        super().__init__()\n",
    "        self.original = module\n",
    "        \n",
    "    @property\n",
    "    def kwargs(self):\n",
    "        return {\n",
    "            k: getattr(self.original, k) \n",
    "            for k in (\"kernel_size\", \"stride\", \"padding\")\n",
    "        }\n",
    "        \n",
    "    def forward(self, x: torch.Tensor):\n",
    "        # NOTE: the code below is equivalent to\n",
    "        # out, indices = nn.functional.max_pool2d(\n",
    "        #     x, return_indices=True,\n",
    "        #     kernel_size=self.original.kernel_size,\n",
    "        #     stride=self.original.stride,\n",
    "        #     padding=self.original.padding,\n",
    "        # )\n",
    "        out, indices = nn.functional.max_pool2d(\n",
    "            x, return_indices=True, **self.kwargs\n",
    "        )\n",
    "        return out, (indices, x.shape[-2:])\n",
    "    \n",
    "    @torch.no_grad()\n",
    "    def undo(self, y: torch.Tensor, context):\n",
    "        \"\"\"\n",
    "        Undo the operation from the forward pass.\n",
    "        \n",
    "        Parameters\n",
    "        ----------\n",
    "        y : torch.Tensor\n",
    "            Data with same shape as the output of the original module.\n",
    "        context\n",
    "            Additional information to correctly undo the forward operation.\n",
    "            This is typically the second term in the output of `forward`.\n",
    "        \"\"\"\n",
    "\n",
    "        indices, shape_ = context\n",
    "\n",
    "        unpool = nn.MaxUnpool2d(kernel_size=self.original.kernel_size,stride=self.original.stride,padding=self.original.padding)\n",
    "        unpool = unpool.to(device)\n",
    "        searched_tensor = unpool(y.to(device), indices.to(device), output_size=shape_)        \n",
    "        return searched_tensor\n",
    "    \n",
    "        ''' Alternative approach:\n",
    "        searched_tensor_flattened = torch.empty((y.shape[0],y.shape[1],shape_[0]*shape_[1]), dtype=torch.float)#.reshape((-1,-1,1))\n",
    "        \n",
    "        mask_indices = indices.reshape(indices.shape[0],indices.shape[1],-1)\n",
    "        y_flattened = y.reshape(indices.shape[0],indices.shape[1],-1)\n",
    "\n",
    "        for i1, d1 in enumerate(mask_indices):\n",
    "          for ichannel, channel in enumerate(d1):\n",
    "            for iele, ele in enumerate(channel): # iele are the indices within output y; ele are the indices of the input x\n",
    "              searched_tensor_flattened[i1,ichannel,ele] = y_flattened[i1,ichannel,iele]\n",
    "\n",
    "        searched_tensor = searched_tensor_flattened.reshape(searched_tensor_flattened.shape[0],searched_tensor_flattened.shape[1], shape_[0],shape_[1])\n",
    "       \n",
    "        return searched_tensor\n",
    "        '''\n",
    "    "
   ]
  },
  {
   "cell_type": "code",
   "execution_count": 10,
   "metadata": {
    "execution": {
     "iopub.execute_input": "2023-05-04T16:46:28.194995Z",
     "iopub.status.busy": "2023-05-04T16:46:28.194374Z",
     "iopub.status.idle": "2023-05-04T16:46:29.803219Z",
     "shell.execute_reply": "2023-05-04T16:46:29.802249Z",
     "shell.execute_reply.started": "2023-05-04T16:46:28.194951Z"
    },
    "id": "xOFQzPbfh7Pj"
   },
   "outputs": [],
   "source": [
    "# Test Cell: do not edit or delete!\n",
    "x = torch.ones(1, 3, 32, 32)\n",
    "pool = nn.MaxPool2d(kernel_size=2)\n",
    "wrapped = UndoableMaxPool2d(pool)\n",
    "out, context = wrapped(x)\n",
    "assert torch.allclose(out, pool(x))\n",
    "assert wrapped.undo(out, context).shape == x.shape, (\n",
    "    \"ex1: MaxPool2d.undo produces incorrect shape (-0.5 points)\"\n",
    ")"
   ]
  },
  {
   "cell_type": "code",
   "execution_count": 11,
   "metadata": {
    "execution": {
     "iopub.execute_input": "2023-05-04T16:46:29.805582Z",
     "iopub.status.busy": "2023-05-04T16:46:29.804871Z",
     "iopub.status.idle": "2023-05-04T16:46:29.812247Z",
     "shell.execute_reply": "2023-05-04T16:46:29.811382Z",
     "shell.execute_reply.started": "2023-05-04T16:46:29.805547Z"
    },
    "id": "pmh4eqxMh7Pk"
   },
   "outputs": [],
   "source": [
    "# Test Cell: do not edit or delete!\n",
    "x = torch.ones(1, 3, 32, 32)\n",
    "pool = nn.MaxPool2d(kernel_size=3)\n",
    "wrapped = UndoableMaxPool2d(pool)\n",
    "out, context = wrapped(x)\n",
    "assert torch.allclose(out, pool(x))\n",
    "assert wrapped.undo(out, context).shape == x.shape, (\n",
    "    \"ex1: MaxPool2d.undo does not (correctly) pad outputs (-0.5 points)\"\n",
    ")"
   ]
  },
  {
   "cell_type": "code",
   "execution_count": 12,
   "metadata": {
    "execution": {
     "iopub.execute_input": "2023-05-04T16:46:29.814074Z",
     "iopub.status.busy": "2023-05-04T16:46:29.813708Z",
     "iopub.status.idle": "2023-05-04T16:46:29.827796Z",
     "shell.execute_reply": "2023-05-04T16:46:29.826895Z",
     "shell.execute_reply.started": "2023-05-04T16:46:29.814043Z"
    },
    "id": "beQIEWhFh7Pk"
   },
   "outputs": [],
   "source": [
    "class UndoableConv2d(nn.Module):\n",
    "    \"\"\"\n",
    "    Wrapper around a convolutional layer that adds 'undo' functionality.\n",
    "    \"\"\"\n",
    "    \n",
    "    def __init__(self, module: nn.Conv2d):\n",
    "        super().__init__()\n",
    "        self.original = module\n",
    "        \n",
    "    @property\n",
    "    def kwargs(self):\n",
    "        return {\n",
    "            k: getattr(self.original, k) \n",
    "            for k in (\"padding\", \"stride\", \"dilation\", \"groups\")\n",
    "        }\n",
    "        \n",
    "    def forward(self, x: torch.Tensor):\n",
    "        return nn.functional.conv2d(\n",
    "            x, self.original.weight, self.original.bias, **self.kwargs\n",
    "        ), x.shape[-2:]\n",
    "    \n",
    "    @torch.no_grad()\n",
    "    def undo(self, s: torch.Tensor, context):\n",
    "        \"\"\"\n",
    "        Undo the operation from the forward pass.\n",
    "        \n",
    "        Parameters\n",
    "        ----------\n",
    "        s : torch.Tensor\n",
    "            Data with same shape as the output of the original module.\n",
    "        context\n",
    "            Additional information to correctly undo the forward operation.\n",
    "            This is typically the second term in the output of `forward`.\n",
    "        \"\"\"\n",
    "\n",
    "        s_width = s.shape[2]\n",
    "        s_height = s.shape[3]\n",
    "\n",
    "        weight_arr = self.original.weight\n",
    "        w_width = weight_arr.shape[2]\n",
    "        w_height = weight_arr.shape[3]\n",
    "\n",
    "        if self.original.stride[0]>1:\n",
    "            padder_width = int(((s_width-1)*self.original.stride[0] -  (context[0]+2*self.original.padding[0])+self.original.kernel_size[0])/2) + 1\n",
    "            padder_height = int(((s_height-1)*self.original.stride[1] - (context[1]+2*self.original.padding[1])+self.original.kernel_size[1])/2) + 1\n",
    "\n",
    "        else:\n",
    "            padder_width = int(((s_width-1)*self.original.stride[0] -  (context[0]+2*self.original.padding[0])+self.original.kernel_size[0])/2) \n",
    "            padder_height =  int(((s_width-1)*self.original.stride[0] -  (context[1]+2*self.original.padding[1])+self.original.kernel_size[0])/2) \n",
    "\n",
    "        if s.get_device() == -1:\n",
    "            device_s = 'cpu'\n",
    "        else:\n",
    "            device_s = 'cuda'\n",
    "        \n",
    "            \n",
    "        deconvt = nn.ConvTranspose2d(device=device_s,in_channels=s.shape[1],out_channels=self.original.weight.shape[1],kernel_size=self.original.kernel_size,stride=self.original.stride,padding=self.original.padding,output_padding=(padder_width,padder_height),bias=False,dilation=self.original.dilation,groups=self.original.groups)\n",
    " \n",
    "        out = deconvt(s)\n",
    "        return out\n",
    "\n"
   ]
  },
  {
   "cell_type": "code",
   "execution_count": 13,
   "metadata": {
    "colab": {
     "base_uri": "https://localhost:8080/"
    },
    "execution": {
     "iopub.execute_input": "2023-05-04T16:46:29.834424Z",
     "iopub.status.busy": "2023-05-04T16:46:29.834098Z",
     "iopub.status.idle": "2023-05-04T16:46:29.846999Z",
     "shell.execute_reply": "2023-05-04T16:46:29.846010Z",
     "shell.execute_reply.started": "2023-05-04T16:46:29.834401Z"
    },
    "id": "KhRYbgFhh7Pl",
    "outputId": "d2245d61-0e3e-4fb3-a7cf-fd915c6648ef"
   },
   "outputs": [],
   "source": [
    "# Test Cell: do not edit or delete!\n",
    "x = torch.ones(1, 3, 32, 32)\n",
    "conv = nn.Conv2d(3, 16, 7)\n",
    "wrapped = UndoableConv2d(conv)\n",
    "out, context = wrapped(x)\n",
    "assert torch.allclose(out, conv(x)) and context == (32, 32)\n",
    "assert wrapped.undo(out, context).shape == x.shape, (\n",
    "    \"ex1: Conv2d.undo produces incorrect shape (-0.5 points)\"\n",
    ")"
   ]
  },
  {
   "cell_type": "code",
   "execution_count": 14,
   "metadata": {
    "colab": {
     "base_uri": "https://localhost:8080/"
    },
    "execution": {
     "iopub.execute_input": "2023-05-04T16:46:29.849604Z",
     "iopub.status.busy": "2023-05-04T16:46:29.848279Z",
     "iopub.status.idle": "2023-05-04T16:46:29.856783Z",
     "shell.execute_reply": "2023-05-04T16:46:29.855941Z",
     "shell.execute_reply.started": "2023-05-04T16:46:29.849573Z"
    },
    "id": "Qa5k2AYVh7Pl",
    "outputId": "adaec2d1-bc72-4931-e234-8f85f4e850d1"
   },
   "outputs": [],
   "source": [
    "# Test Cell: do not edit or delete!\n",
    "x = torch.ones(1, 3, 32, 32)\n",
    "conv = nn.Conv2d(3, 16, 7, stride=2)\n",
    "wrapped = UndoableConv2d(conv)\n",
    "assert wrapped.undo(*wrapped(x)).shape == x.shape, (\n",
    "    \"ex1: Conv2d.undo does not (correctly) pad outputs (-0.5 points)\"\n",
    ")"
   ]
  },
  {
   "cell_type": "code",
   "execution_count": 15,
   "metadata": {
    "execution": {
     "iopub.execute_input": "2023-05-04T16:46:29.858489Z",
     "iopub.status.busy": "2023-05-04T16:46:29.858097Z",
     "iopub.status.idle": "2023-05-04T16:46:29.865861Z",
     "shell.execute_reply": "2023-05-04T16:46:29.864950Z",
     "shell.execute_reply.started": "2023-05-04T16:46:29.858458Z"
    },
    "id": "-zObSadMh7Pl"
   },
   "outputs": [],
   "source": [
    "# Test Cell: do not edit or delete!"
   ]
  },
  {
   "cell_type": "code",
   "execution_count": 16,
   "metadata": {
    "execution": {
     "iopub.execute_input": "2023-05-04T16:46:29.869105Z",
     "iopub.status.busy": "2023-05-04T16:46:29.868844Z",
     "iopub.status.idle": "2023-05-04T16:46:29.875259Z",
     "shell.execute_reply": "2023-05-04T16:46:29.874292Z",
     "shell.execute_reply.started": "2023-05-04T16:46:29.869083Z"
    },
    "id": "E8WIAPRMh7Pl"
   },
   "outputs": [],
   "source": [
    "# Test Cell: do not edit or delete!"
   ]
  },
  {
   "cell_type": "markdown",
   "metadata": {
    "id": "5E56w4_Oh7Pm"
   },
   "source": [
    "### Exercise 2: Visualising Features (1 point)\n",
    "\n",
    "In the previous exercise I mentioned Zeiler and Fergus.\n",
    "They used this kind of undoable modules to visualise features.\n",
    "I think it is worth trying this out for yourself.\n",
    "Is there anything we can learn from these visualisations?\n",
    "\n",
    " > Implement the `visualise_activations` method of `UndoableSequential`.\n",
    " > The `wrapped` attribute gives you the undoable versions of each layer.\n",
    " > This way, you should be able to compute activations with context.\n",
    " > These activations with context can eventually be *undone* to obtain visualisations.\n",
    " > Rather than visualising all activations at once, however,\n",
    " > the goal should be to keep the `k` highest values and set other values to zero.\n",
    " > You can use the `keep_top_k` function to do this."
   ]
  },
  {
   "cell_type": "code",
   "execution_count": 17,
   "metadata": {
    "execution": {
     "iopub.execute_input": "2023-05-04T16:46:29.877089Z",
     "iopub.status.busy": "2023-05-04T16:46:29.876735Z",
     "iopub.status.idle": "2023-05-04T16:46:29.885133Z",
     "shell.execute_reply": "2023-05-04T16:46:29.884260Z",
     "shell.execute_reply.started": "2023-05-04T16:46:29.877057Z"
    },
    "id": "whOzi7nmh7Pm"
   },
   "outputs": [],
   "source": [
    "def keep_top_k(tensor: torch.Tensor, k: int = 9) -> torch.Tensor:\n",
    "    \"\"\"\n",
    "    Drop all but the K highest entries in a tensor.\n",
    "    \n",
    "    Parameters\n",
    "    ----------\n",
    "    tensor : torch.Tensor\n",
    "        The tensor to start from.\n",
    "    k : int\n",
    "        The number of entries to keep.\n",
    "\n",
    "    Returns\n",
    "    -------\n",
    "    result : torch.Tensor\n",
    "        A tensor with only the K highest entries of `tensor`\n",
    "        in the corresponding positions.\n",
    "        All other entries are zero.\n",
    "    \"\"\"\n",
    "    result = torch.zeros_like(tensor)\n",
    "    vals, indices = torch.flatten(tensor, start_dim=1).topk(k, dim=-1)\n",
    "    torch.flatten(result, start_dim=1).scatter_(-1, indices, vals)\n",
    "    return result"
   ]
  },
  {
   "cell_type": "code",
   "execution_count": 18,
   "metadata": {
    "execution": {
     "iopub.execute_input": "2023-05-04T16:46:29.887401Z",
     "iopub.status.busy": "2023-05-04T16:46:29.886728Z",
     "iopub.status.idle": "2023-05-04T16:46:29.896978Z",
     "shell.execute_reply": "2023-05-04T16:46:29.896320Z",
     "shell.execute_reply.started": "2023-05-04T16:46:29.887371Z"
    },
    "id": "bUAUyoaEh7Pn"
   },
   "outputs": [],
   "source": [
    "class UndoableSequential(nn.Module):\n",
    "    \"\"\"\n",
    "    Wrapper around a sequential layer that adds 'undo' functionality.\n",
    "    \"\"\"\n",
    "    \n",
    "    UNDOABLE_MODULES = {\n",
    "        nn.Conv2d: UndoableConv2d,\n",
    "        nn.MaxPool2d: UndoableMaxPool2d,\n",
    "        nn.ReLU: UndoableReLU,\n",
    "        nn.ELU: UndoableReLU # CAN BE IGNORED FOR FIRST???!!!\n",
    "    }\n",
    "    \n",
    "    def __init__(self, module: nn.Sequential):\n",
    "        super().__init__()\n",
    "        self.original = module\n",
    "        self.wrapped = nn.ModuleList([\n",
    "            self.UNDOABLE_MODULES[type(m)](m) for m in module\n",
    "        ])\n",
    "        \n",
    "    def forward(self, x: torch.Tensor, until: int = None):\n",
    "        context = []\n",
    "        for module in self.wrapped[:until]:\n",
    "            x, ctx = module(x)\n",
    "            context.append(ctx)\n",
    "        return x, context\n",
    "    \n",
    "    def visualise_activations(self, x: torch.Tensor, layer: int = None, k: int = 9):\n",
    "        \"\"\"\n",
    "        Visualise activations in input space.\n",
    "\n",
    "        Parameters\n",
    "        ---------\n",
    "        x : torch.Tensor\n",
    "            The data for which the activations should be visualised.\n",
    "        layer : int, optional\n",
    "            The layer to visualise the activations for.\n",
    "            By default, activations in the last layer are visualised.\n",
    "        k : int, optional\n",
    "            The number of activations to visualise.\n",
    "\n",
    "        Returns\n",
    "        -------\n",
    "        visualisation : torch.Tensor\n",
    "            The visualisations with the same shape as `x`.\n",
    "        \"\"\"\n",
    "        if layer == None:\n",
    "            layer = len(self.original) # here 13 which means 12 modules in total for 4 block layers\n",
    "\n",
    "        elif layer <= 0:\n",
    "            return x\n",
    "        elif layer > len(self.original):\n",
    "            raise ValueError(f\"no layer '{layer}' in a {len(self.original)}-layer network\")\n",
    "      \n",
    "        result, context = self.forward(x, until = layer+1)\n",
    "        result_top = keep_top_k(result, k)\n",
    "        \n",
    "\n",
    "        for back_mod, back_context in zip(reversed(self.wrapped[:layer+1]),reversed(context)):\n",
    "\n",
    "            result_top = back_mod.undo(result_top, back_context)\n",
    "\n",
    "        return result_top.cpu() \n",
    "\n"
   ]
  },
  {
   "cell_type": "code",
   "execution_count": 19,
   "metadata": {
    "colab": {
     "base_uri": "https://localhost:8080/"
    },
    "execution": {
     "iopub.execute_input": "2023-05-04T16:46:29.899063Z",
     "iopub.status.busy": "2023-05-04T16:46:29.898103Z",
     "iopub.status.idle": "2023-05-04T16:46:30.681375Z",
     "shell.execute_reply": "2023-05-04T16:46:30.680396Z",
     "shell.execute_reply.started": "2023-05-04T16:46:29.899033Z"
    },
    "id": "RgFfGHRDh7Pn",
    "outputId": "cfe8fad2-f35c-42ee-9859-8bad50a305ca"
   },
   "outputs": [
    {
     "name": "stdout",
     "output_type": "stream",
     "text": [
      "Using downloaded and verified file: /root/.pytorch/cat.jpg\n"
     ]
    }
   ],
   "source": [
    "# download some random 256x256 kitten image\n",
    "kitten_url = 'https://homes.cs.washington.edu/~moreau/media/vta/cat.jpg'\n",
    "kitten_md5 = 'b852db33459ff958c9bba4e015cb37eb'\n",
    "x_im = download_image_data(kitten_url, kitten_md5)\n",
    "\n",
    "# download trained network\n",
    "net = models.alexnet(weights=models.AlexNet_Weights.DEFAULT)"
   ]
  },
  {
   "cell_type": "code",
   "execution_count": 20,
   "metadata": {
    "colab": {
     "base_uri": "https://localhost:8080/"
    },
    "execution": {
     "iopub.execute_input": "2023-05-04T16:46:30.683344Z",
     "iopub.status.busy": "2023-05-04T16:46:30.682877Z",
     "iopub.status.idle": "2023-05-04T16:46:30.703333Z",
     "shell.execute_reply": "2023-05-04T16:46:30.702468Z",
     "shell.execute_reply.started": "2023-05-04T16:46:30.683310Z"
    },
    "id": "qgcsBlFFh7Pn",
    "outputId": "f8c677c7-7c68-4b37-9d17-f2de822c82d2"
   },
   "outputs": [],
   "source": [
    "# Test Cell: do not edit or delete!\n",
    "seq = UndoableSequential(net.features)\n",
    "vis_layer1 = seq.visualise_activations(x_im, layer=1)\n",
    "\n",
    "assert vis_layer1.shape == x_im.shape, (\n",
    "    \"ex2: first layer vis does not have correct shape (-0.5 points)\"\n",
    ")\n",
    "assert torch.count_nonzero(vis_layer1.sum(1)) <= 1089, (\n",
    "    \"ex2: too many non-zero values in first layer vis for k=9 (-0.5 points)\"\n",
    ")\n"
   ]
  },
  {
   "cell_type": "code",
   "execution_count": 21,
   "metadata": {
    "colab": {
     "base_uri": "https://localhost:8080/"
    },
    "execution": {
     "iopub.execute_input": "2023-05-04T16:46:30.705068Z",
     "iopub.status.busy": "2023-05-04T16:46:30.704615Z",
     "iopub.status.idle": "2023-05-04T16:46:31.325136Z",
     "shell.execute_reply": "2023-05-04T16:46:31.324170Z",
     "shell.execute_reply.started": "2023-05-04T16:46:30.705036Z"
    },
    "id": "4PD2TJNVh7Po",
    "outputId": "53a21b35-b433-4a0d-eb82-44f711da788d"
   },
   "outputs": [],
   "source": [
    "# Test Cell: do not edit or delete!\n",
    "vis_layer2 = seq.visualise_activations(x_im, layer=4)\n",
    "\n",
    "assert vis_layer2.shape == x_im.shape, (\n",
    "    \"ex2: fourth layer vis does not have correct shape (-0.5 points)\"\n",
    ")\n",
    "assert torch.count_nonzero(vis_layer2.sum(1)) <= 24336, (\n",
    "    \"ex2: too many non-zero values in fourth layer vis for k=9 (-0.5 points)\"\n",
    ")\n"
   ]
  },
  {
   "cell_type": "code",
   "execution_count": 22,
   "metadata": {
    "colab": {
     "base_uri": "https://localhost:8080/",
     "height": 241
    },
    "execution": {
     "iopub.execute_input": "2023-05-04T16:46:31.327213Z",
     "iopub.status.busy": "2023-05-04T16:46:31.326396Z",
     "iopub.status.idle": "2023-05-04T16:46:31.363714Z",
     "shell.execute_reply": "2023-05-04T16:46:31.362881Z",
     "shell.execute_reply.started": "2023-05-04T16:46:31.327180Z"
    },
    "id": "u79a2m9ch7Po",
    "outputId": "94150c10-080d-4681-fe7f-46a8ab02b718"
   },
   "outputs": [
    {
     "data": {
      "image/png": "[encoded data removed]",
      "text/plain": [
       "<PIL.Image.Image image mode=RGB size=672x224>"
      ]
     },
     "metadata": {
      "width": "100%"
     },
     "output_type": "display_data"
    }
   ],
   "source": [
    "# sanity check\n",
    "out = data_to_image(vis_layer1[0], x_im[0], vis_layer2[0],\n",
    "                    means=(.485, .456, .406), stds=(.229, .224, .225))\n",
    "display(out, metadata={'width': '100%'})"
   ]
  },
  {
   "cell_type": "markdown",
   "metadata": {
    "id": "qu9BIykkh7Po"
   },
   "source": [
    "### Exercise 3: Convolutional Auto-Encoders (3 points)\n",
    "\n",
    "Architecturally an auto-encoder is not much more than a model \n",
    "where inputs and outputs have the same dimensions.\n",
    "For fully-connected networks this is relatively straightforward.\n",
    "However, with our newly acquired knowledge on transposed convolutions,\n",
    "also convolutional and pooling layers should not pose too much problems.\n",
    "One key difference is that the transposed convolutions n an auto-encoder\n",
    "will have their own learnable parameters.\n",
    "\n",
    "The architecture is typically symmetrical and consists of two parts:\n",
    "\n",
    " 1. an **encoder** that transforms the image to some latent space and\n",
    " 2. a **decoder** that produces an image from vectors in the latent space.\n",
    " \n",
    "Since both components can operate independently from each other,\n",
    "auto-encoders can be used to e.g. learn compression algorithms.\n",
    "Because the output of both networks can be useful, \n",
    "it is typically a good idea to have them predict logits,\n",
    "i.e. not to use activation functions at the end.\n",
    "This way, both the output of the encoder\n",
    "and the output of the decoder can be used in loss functions.\n",
    "\n",
    " > Implement the `AutoEncoder` class with an `encoder` and a `decoder` network.\n",
    " > The `encoder` network should have at least \n",
    " > one average-pooling and two convolutional layers.\n",
    " > The `decoder` architecture should be symmetric to that of the `encoder`,\n",
    " > except for the exact placement of activation functions.\n",
    " > The `forward` method should aim to reconstruct the inputs\n",
    " > using the `encoder` and `decoder` networks.\n",
    " > You can ignore the `to_intensities` and `reconstruct` methods (for now).\n",
    " \n",
    "**Hint:** Average pooling can be *undone* by upsampling the image."
   ]
  },
  {
   "cell_type": "code",
   "execution_count": 23,
   "metadata": {
    "execution": {
     "iopub.execute_input": "2023-05-04T16:46:31.365114Z",
     "iopub.status.busy": "2023-05-04T16:46:31.364812Z",
     "iopub.status.idle": "2023-05-04T16:46:31.380042Z",
     "shell.execute_reply": "2023-05-04T16:46:31.379008Z",
     "shell.execute_reply.started": "2023-05-04T16:46:31.365088Z"
    },
    "id": "a25W0s3uh7Pp"
   },
   "outputs": [],
   "source": [
    "class AutoEncoder(nn.Module):\n",
    "    \"\"\" Convolutional auto-encoder. \"\"\"\n",
    "    \n",
    "    def __init__(self, in_channels: int, hid_channels: int, code_channels: int, \n",
    "                 kernel_size: int, stride: int = 1, pooling: int = 2, \n",
    "                 activation: nn.Module = nn.ReLU(), assumption: str = None):\n",
    "        \"\"\"\n",
    "        Parameters\n",
    "        ----------\n",
    "        in_channels : int\n",
    "            Number of channels in the inputs.\n",
    "        hid_channels : int\n",
    "            Number of channels in the hidden layer(s).\n",
    "        code_channels : int\n",
    "            Number of channels in the latent space.\n",
    "        kernel_size : int or tuple\n",
    "            Window size for convolutional layers\n",
    "        stride : int or tuple, optional\n",
    "            Window strides for convolutional layers.\n",
    "        pooling : int or tuple, optional\n",
    "            Window size for the average pooling.\n",
    "        activation : nn.Module, optional\n",
    "            Activation function for the auto-encoder.\n",
    "        assumption : str, optional\n",
    "            The assumption used for reconstruction, available options are:\n",
    "            \n",
    "            - gauss: assume targets to be standard normally distributed\n",
    "            - truncated: assume targets to be Gaussian truncated to [0, 1] --> can be clipping or ignoring; gauss: at 0 highest value\n",
    "            - binomial: assume targets to be probabilities for binomial\n",
    "            - binary: assume targets to be binomially distributed\n",
    "        \"\"\"\n",
    "        super().__init__()\n",
    "        self.assumption = assumption\n",
    "\n",
    "        self.encoder = nn.Sequential(\n",
    "            (nn.Conv2d(in_channels=in_channels,out_channels=hid_channels,kernel_size=kernel_size,stride=stride)),            \n",
    "            activation,\n",
    "            (nn.Conv2d(in_channels=hid_channels,out_channels=code_channels,kernel_size=kernel_size,stride=stride)),\n",
    "            activation\n",
    "        )\n",
    "\n",
    "        self.pooler = nn.AvgPool2d(pooling)\n",
    "\n",
    "        self.decoder = nn.ModuleList([\n",
    "\n",
    "            UndoableConv2d(nn.Conv2d(in_channels=hid_channels,out_channels=code_channels,kernel_size=kernel_size,stride=stride)),\n",
    "            UndoableReLU(activation),\n",
    "            UndoableConv2d(nn.Conv2d(in_channels=in_channels,out_channels=hid_channels,kernel_size=kernel_size,stride=stride)),\n",
    "            UndoableReLU(activation) \n",
    "        ])\n",
    "\n",
    "\n",
    "\n",
    "    @torch.enable_grad()\n",
    "    def forward(self, x):\n",
    "      \n",
    "        x.requires_grad=True\n",
    "\n",
    "\n",
    "        enc = UndoableSequential(self.encoder) \n",
    "        h_before,context_list = enc.forward(x, until = len(enc.original))\n",
    "\n",
    "        h = self.pooler(h_before)\n",
    "\n",
    "        after_h = nn.Upsample(size=(h_before.shape[-2],h_before.shape[-1]))\n",
    "        result = after_h(h)\n",
    "\n",
    "        context_list = [None] + context_list[:-1]\n",
    "\n",
    "        context_list.reverse()\n",
    "\n",
    "        for module, context_ in zip(self.decoder,context_list):\n",
    "            with torch.enable_grad():\n",
    "                result = module.undo(result,context_)\n",
    "\n",
    "                result.requires_grad=True\n",
    "\n",
    "        return result\n",
    "        \n",
    "            \n",
    "    @torch.no_grad()\n",
    "    def to_intensities(self, logits: torch.Tensor, x_range: tuple[float, float] = None) -> torch.Tensor:\n",
    "        \"\"\"\n",
    "        Decode logits to proper pixel intensities according to assumptions.\n",
    "        \n",
    "        Parameters\n",
    "        ----------\n",
    "        logits : torch.Tensor\n",
    "            Logits to be decoded by this auto-encoder.\n",
    "\n",
    "        Returns\n",
    "        -------\n",
    "        image : torch.Tensor\n",
    "            Decoded image with pixel intensities in [0, 1].\n",
    "        \"\"\"\n",
    "        if self.assumption is None:\n",
    "            return logits\n",
    "        elif self.assumption == \"gauss\":\n",
    "            if x_range is not None:\n",
    "                logits.clamp_(*x_range)\n",
    "            return (logits - logits.min()) / (logits.max() - logits.min()) # normalization\n",
    "        elif self.assumption == \"truncated\":\n",
    "            return logits.clamp_(0, 1) # like clipping\n",
    "        elif self.assumption == \"binomial\":\n",
    "            return torch.sigmoid(logits)\n",
    "        elif self.assumption == \"binary\":\n",
    "            return (logits > 0).float()\n",
    "        else:\n",
    "            raise NotImplementedError(\n",
    "                f\"no implementation for assumption '{self.assumption}', feel free to add your own!\"\n",
    "            )\n",
    "\n",
    "    \n",
    "    @torch.no_grad()\n",
    "    def reconstruct(self, x: torch.Tensor) -> torch.Tensor:\n",
    "        \"\"\" Reconstruct inputs to proper images. \"\"\"\n",
    "        logits = self.forward(x)\n",
    "\n",
    "        return self.to_intensities(logits, (x.min(), x.max()))"
   ]
  },
  {
   "cell_type": "code",
   "execution_count": 24,
   "metadata": {
    "colab": {
     "base_uri": "https://localhost:8080/"
    },
    "execution": {
     "iopub.execute_input": "2023-05-04T16:46:31.381843Z",
     "iopub.status.busy": "2023-05-04T16:46:31.381242Z",
     "iopub.status.idle": "2023-05-04T16:46:31.392801Z",
     "shell.execute_reply": "2023-05-04T16:46:31.392167Z",
     "shell.execute_reply.started": "2023-05-04T16:46:31.381812Z"
    },
    "id": "yrVJu07hh7Pq",
    "outputId": "31092f84-8cb2-4f81-87e3-f71fe4684978"
   },
   "outputs": [],
   "source": [
    "# Test Cell: do not edit or delete!\n",
    "ae = AutoEncoder(1, 1, 1, 3)\n",
    "assert len(ae.encoder) > 3, (\n",
    "    \"ex3: encoder has too little modules (-1 point)\"\n",
    ")"
   ]
  },
  {
   "cell_type": "code",
   "execution_count": 25,
   "metadata": {
    "colab": {
     "base_uri": "https://localhost:8080/"
    },
    "execution": {
     "iopub.execute_input": "2023-05-04T16:46:31.394572Z",
     "iopub.status.busy": "2023-05-04T16:46:31.393864Z",
     "iopub.status.idle": "2023-05-04T16:46:31.402489Z",
     "shell.execute_reply": "2023-05-04T16:46:31.401690Z",
     "shell.execute_reply.started": "2023-05-04T16:46:31.394538Z"
    },
    "id": "nqegwijah7Pq",
    "outputId": "a4efb2f9-7509-4954-c5c0-92c7b0ee31ae"
   },
   "outputs": [],
   "source": [
    "# Test Cell: do not edit or delete!\n",
    "ae = AutoEncoder(1, 1, 1, 3)\n",
    "assert len(ae.decoder) > 3, (\n",
    "    \"ex3: decoder has too little modules (-1 point)\"\n",
    ")"
   ]
  },
  {
   "cell_type": "code",
   "execution_count": 26,
   "metadata": {
    "colab": {
     "base_uri": "https://localhost:8080/"
    },
    "execution": {
     "iopub.execute_input": "2023-05-04T16:46:31.405542Z",
     "iopub.status.busy": "2023-05-04T16:46:31.404622Z",
     "iopub.status.idle": "2023-05-04T16:46:31.420129Z",
     "shell.execute_reply": "2023-05-04T16:46:31.419418Z",
     "shell.execute_reply.started": "2023-05-04T16:46:31.405512Z"
    },
    "id": "P5BLqhoph7Pq",
    "outputId": "a48266f8-929f-48c9-c6f7-08bd78ce0676"
   },
   "outputs": [],
   "source": [
    "# Test Cell: do not edit or delete!\n",
    "ae = AutoEncoder(1, 16, 8, 5)\n",
    "x = torch.randn(1, 1, 28, 28)\n",
    "y = ae(x)\n",
    "assert x.shape == y.shape, (\n",
    "    f\"ex3: reconstructed input has different shape: {tuple(y.shape)} (-0.5 points)\"\n",
    ")"
   ]
  },
  {
   "cell_type": "code",
   "execution_count": 27,
   "metadata": {
    "execution": {
     "iopub.execute_input": "2023-05-04T16:46:31.422212Z",
     "iopub.status.busy": "2023-05-04T16:46:31.421166Z",
     "iopub.status.idle": "2023-05-04T16:46:31.425856Z",
     "shell.execute_reply": "2023-05-04T16:46:31.424931Z",
     "shell.execute_reply.started": "2023-05-04T16:46:31.422183Z"
    },
    "id": "xhIvx4tah7Pr"
   },
   "outputs": [],
   "source": [
    "# Test Cell: do not edit or delete!"
   ]
  },
  {
   "cell_type": "markdown",
   "metadata": {
    "id": "yFNdmdxXh7Pr"
   },
   "source": [
    "### Exercise 4: Auto-Encoding (2 points)\n",
    "\n",
    "Of course, training an auto-encoder takes more than just a nice architecture.\n",
    "The loss function as well as the pre-processing of data will also affect the results.\n",
    "There is no right or wrong as long as you get the desired result.\n",
    "However, we can make certain assumptions to guide the search for a good combination.\n",
    "After all, all components have to work together to get nice reconstructions.\n",
    "Can you spot/explain the difference in results for different assumptions?\n",
    "\n",
    " > Train the simple auto-encoder from exercise 3 on the AutoMNIST dataset.\n",
    " > Fill out the template code below using the `AutoEncoderTrainer` class,\n",
    " > which has been defined in the \"preamble\" of this assignment.\n",
    " > Your main task will be to choose a loss function and set up pre-processing of the targets.\n",
    " > Use the `assumption` kwarg of the `AutoEncoder` class to indicate your assumptions.\n",
    " > This should also guarantee correct visualisations of the reconstructions.\n",
    " > Make sure that the assumption matches the chosen loss function and pre-processing.\n",
    " > Feel free to add assumptions in the `reconstruct` method if you feel something is missing.\n",
    "\n",
    "**Hint:** A few `assumption` options are provided in the documentation of `AutoEncoder.__init__`"
   ]
  },
  {
   "cell_type": "code",
   "execution_count": 42,
   "metadata": {
    "colab": {
     "base_uri": "https://localhost:8080/"
    },
    "execution": {
     "iopub.execute_input": "2023-05-04T16:58:04.663033Z",
     "iopub.status.busy": "2023-05-04T16:58:04.662254Z",
     "iopub.status.idle": "2023-05-04T16:58:04.742557Z",
     "shell.execute_reply": "2023-05-04T16:58:04.741588Z",
     "shell.execute_reply.started": "2023-05-04T16:58:04.662994Z"
    },
    "id": "Q7FOAZEqh7Pr",
    "outputId": "c234511d-7793-42d1-c452-01cf5cba327d"
   },
   "outputs": [],
   "source": [
    "data = AutoMNIST(\n",
    "    data_root,\n",
    "    transform=transforms.Compose([\n",
    "        transforms.ToTensor(),\n",
    "        transforms.Normalize((.1307, ), (.3081, )),\n",
    "    ]),\n",
    "    target_transform= transforms.ToTensor()  # ToTensor() scales to [0,1] value range\n",
    "    # (https://pytorch.org/vision/master/generated/torchvision.transforms.ToTensor.html)\n",
    ",download=True)\n",
    "\n",
    "auto_encoder = AutoEncoder(\n",
    "    1, 64, 16, 5, activation=nn.ELU(), \n",
    "    assumption='binomial'  # TODO: assumption\n",
    ").to(device)\n",
    "trainer = AutoEncoderTrainer(\n",
    "    model=auto_encoder,\n",
    "    criterion= nn.BCEWithLogitsLoss(reduction='mean'),  # binomial as assumption means sigmoid(logits) as outputs. Therefore, a fitting loss function of \n",
    "    # sigmoid outputs is the binary cross entropy loss function. However, we have also y values here which are not binary at all. Therefore, use also MSE as there are many\n",
    "    # pixel values that could be treated like continuous data. of the loss in this setting the output range will be [0,1]. Therefore, also bring y-values/targets into that range.\n",
    "    optimiser=optim.Adamax(auto_encoder.parameters()),\n",
    ")\n",
    "\n",
    "# training is already done below, therefore, it doesn't make sense to repeat it here"
   ]
  },
  {
   "cell_type": "code",
   "execution_count": 43,
   "metadata": {
    "execution": {
     "iopub.execute_input": "2023-05-04T16:58:20.601779Z",
     "iopub.status.busy": "2023-05-04T16:58:20.601420Z",
     "iopub.status.idle": "2023-05-04T16:58:20.609938Z",
     "shell.execute_reply": "2023-05-04T16:58:20.608972Z",
     "shell.execute_reply.started": "2023-05-04T16:58:20.601749Z"
    },
    "id": "W8zh525dh7Ps"
   },
   "outputs": [],
   "source": [
    "# Test Cell: do not edit or delete!\n",
    "assert len(data.transform.transforms) == 2, (\n",
    "    \"ex4: input transform should not be altered! (-1 point)\"\n",
    ")\n",
    "\n",
    "try:\n",
    "    x_in, x_out = data[0]\n",
    "    assert torch.is_tensor(x_in) and torch.is_tensor(x_out), (\n",
    "        \"ex4: pre-processing does not produce tensors (-1 point)\"\n",
    "    )\n",
    "except (TypeError, RuntimeError):\n",
    "    raise AssertionError(\n",
    "        \"ex4: pre-processing is broken (-1 point)\"\n",
    "    ) from None\n"
   ]
  },
  {
   "cell_type": "code",
   "execution_count": 44,
   "metadata": {
    "colab": {
     "base_uri": "https://localhost:8080/"
    },
    "execution": {
     "iopub.execute_input": "2023-05-04T16:58:22.929721Z",
     "iopub.status.busy": "2023-05-04T16:58:22.929369Z",
     "iopub.status.idle": "2023-05-04T16:58:22.940623Z",
     "shell.execute_reply": "2023-05-04T16:58:22.939570Z",
     "shell.execute_reply.started": "2023-05-04T16:58:22.929693Z"
    },
    "id": "yKsAfVYah7Ps",
    "outputId": "1f9628f7-071e-4d76-f0bd-7586d6938fa7"
   },
   "outputs": [],
   "source": [
    "# Test Cell: do not edit or delete!\n",
    "x_rec = auto_encoder.reconstruct(torch.randn(16, 1, 28, 28).to(device))\n",
    "assert x_rec.min() >= 0 and x_rec.max() <= 1, (\n",
    "    \"ex4: invalid range for reconstructed values: \"\n",
    "    f\"[{x_rec.min().item(), x_rec.max().item()}] (-1 point)\"\n",
    ")"
   ]
  },
  {
   "cell_type": "code",
   "execution_count": 31,
   "metadata": {
    "colab": {
     "base_uri": "https://localhost:8080/",
     "height": 1000
    },
    "execution": {
     "iopub.execute_input": "2023-05-04T16:46:31.567946Z",
     "iopub.status.busy": "2023-05-04T16:46:31.567173Z",
     "iopub.status.idle": "2023-05-04T16:49:04.154333Z",
     "shell.execute_reply": "2023-05-04T16:49:04.153283Z",
     "shell.execute_reply.started": "2023-05-04T16:46:31.567914Z"
    },
    "id": "_CsI3pgah7Ps",
    "outputId": "50e1237d-d5fa-4cde-95dc-797a8950e6c1"
   },
   "outputs": [
    {
     "name": "stderr",
     "output_type": "stream",
     "text": [
      "/opt/conda/lib/python3.10/site-packages/torch/utils/data/dataloader.py:561: UserWarning: This DataLoader will create 4 worker processes in total. Our suggested max number of worker in current system is 2, which is smaller than what this DataLoader is going to create. Please be aware that excessive worker creation might get DataLoader running slow or even freeze, lower the worker number to avoid potential slowness/freeze if necessary.\n",
      "  warnings.warn(_create_warning_msg(\n"
     ]
    },
    {
     "name": "stdout",
     "output_type": "stream",
     "text": [
      "Epoch  0 - avg loss: 0.700233 \n"
     ]
    },
    {
     "data": {
      "image/png": "[encoded data removed]",
      "text/plain": [
       "<PIL.Image.Image image mode=L size=280x56>"
      ]
     },
     "metadata": {
      "width": "100%"
     },
     "output_type": "display_data"
    },
    {
     "name": "stdout",
     "output_type": "stream",
     "text": [
      "Epoch  0 - avg loss: 0.700508 \n",
      "Epoch  0 - avg loss: 0.700423 \n",
      "Epoch  0 - avg loss: 0.700145 \n",
      "Epoch  0 - avg loss: 0.700506 \n",
      "Epoch  0 - avg loss: 0.700091 \n"
     ]
    },
    {
     "data": {
      "image/png": "[encoded data removed]",
      "text/plain": [
       "<PIL.Image.Image image mode=L size=280x56>"
      ]
     },
     "metadata": {
      "width": "100%"
     },
     "output_type": "display_data"
    },
    {
     "name": "stdout",
     "output_type": "stream",
     "text": [
      "Epoch  0 - avg loss: 0.701129 \n",
      "Epoch  0 - avg loss: 0.700353 \n",
      "Epoch  0 - avg loss: 0.699879 \n",
      "Epoch  0 - avg loss: 0.700427 \n",
      "Epoch  0 - avg loss: 0.701165 \n"
     ]
    },
    {
     "data": {
      "image/png": "[encoded data removed]",
      "text/plain": [
       "<PIL.Image.Image image mode=L size=280x56>"
      ]
     },
     "metadata": {
      "width": "100%"
     },
     "output_type": "display_data"
    }
   ],
   "source": [
    "# sanity check\n",
    "loader = DataLoader(data, batch_size=256, shuffle=True, num_workers=4)\n",
    "trainer.train(loader, num_epochs=10)"
   ]
  },
  {
   "cell_type": "markdown",
   "metadata": {
    "id": "eDW25Xw1h7Ps"
   },
   "source": [
    "## Variational Auto-Encoders\n",
    "\n",
    "Variational auto-encoders (VAEs) extend auto-encoders in a probabilistic way.\n",
    "Although this might sound complicated, it only requires a few modifications to make an auto-encoder variational.\n",
    "First of all, the latent space is regularised to stay close to a (standard normal) distribution.\n",
    "Secondly, VAEs do not produce specific codes, but rather a distribution of codes.\n",
    "In practice this is done by directly mapping inputs to the parameters of a distribution.\n",
    "\n",
    "The main advantage of this approach, is that the the distribution of the latent codes remains well under control.\n",
    "As a result, we can sample from this latent distribution and decode these sampled codes to generate new data."
   ]
  },
  {
   "cell_type": "markdown",
   "metadata": {
    "id": "m1yPdy9eh7Pt"
   },
   "source": [
    "### Exercise 5: Variational Auto-Encoder (4 points)\n",
    "\n",
    "VAEs predict the distribution parameters of the latent space,\n",
    "rather than a specific code in the latent space.\n",
    "In the case of a Gaussian latent distribution, \n",
    "this means that the encoder produces a mean and log-variance for every input sample.\n",
    "By predicting the log-variance, the variance is guaranteed to be positive.\n",
    "\n",
    "Because the codes of a VAE are distributions, it is not possible to directly decode them back to images.\n",
    "Instead, specific codes have to be sampled from the latent distribution before decoding.\n",
    "This is the main difference, architecturally, between AEs and VAEs.\n",
    "The main difference during training is the regularisation.\n",
    "This is what makes VAEs especially interesting for generating new images.\n",
    "\n",
    " > Implement the `VariationalAutoEncoder` class.\n",
    " > The `sample` method should sample a latent vector from a Gaussian with given mean and log-variance. \n",
    " > Note that the `sample` method for a VAE must be differentiable!\n",
    " > In addition to the regular output, \n",
    " > the `forward` method should also return the distribution parameters.\n",
    " > These can then be used to compute the regularisation loss,\n",
    " > which should be implemented in the `regularisation` method."
   ]
  },
  {
   "cell_type": "code",
   "execution_count": 32,
   "metadata": {
    "execution": {
     "iopub.execute_input": "2023-05-04T16:49:04.156763Z",
     "iopub.status.busy": "2023-05-04T16:49:04.156108Z",
     "iopub.status.idle": "2023-05-04T16:49:04.171488Z",
     "shell.execute_reply": "2023-05-04T16:49:04.170523Z",
     "shell.execute_reply.started": "2023-05-04T16:49:04.156711Z"
    },
    "id": "h1K-wMbGh7Pt"
   },
   "outputs": [],
   "source": [
    "class VariationalAutoEncoder(nn.Module):\n",
    "    \"\"\" Variational auto-encoder with standard normal prior. \"\"\"\n",
    "\n",
    "    @staticmethod\n",
    "    def sample(mean: torch.Tensor, log_var: torch.Tensor):\n",
    "\n",
    "        \"\"\"\n",
    "        Sample randomly from the latent space in a differentiable manner.\n",
    "\n",
    "        Parameters\n",
    "        ----------\n",
    "        mean : (N, code_featuers) Tensor\n",
    "            Mean(s) for sampling new images.\n",
    "        log_var : (N, code_features) Tensor\n",
    "            Logarithm of variance(s) for sampling new images.\n",
    "\n",
    "        Returns\n",
    "        -------\n",
    "        sample : (N, code_features) Tensor\n",
    "            The randomly generated sample in latent space.\n",
    "        \"\"\"\n",
    "\n",
    "        std = torch.sqrt(torch.exp(log_var))\n",
    "        if mean.get_device()==-1:\n",
    "            m_device = 'cpu'\n",
    "        else:\n",
    "            m_device='cuda'\n",
    "\n",
    "        sample = torch.randn(mean.shape[0],mean.shape[1], device=m_device) * std + mean\n",
    "\n",
    "        return sample # z\n",
    "    \n",
    "    @staticmethod\n",
    "    def regularisation(parameters: tuple[torch.Tensor, torch.Tensor]):\n",
    "        \"\"\"\n",
    "        Compute regularisation loss.\n",
    "        \n",
    "\n",
    "        Parameters\n",
    "        ----------\n",
    "        parameters : (Tensor, Tensor)\n",
    "            Mean and log_var predictions from forward pass.\n",
    "\n",
    "        Returns\n",
    "        -------\n",
    "        kl_div : Tensor\n",
    "            The Kullback-Leibler divergence between a standard normal\n",
    "            and the Gaussian distribution specified by `parameters`.\n",
    "        \"\"\"\n",
    "        mean, log_var = parameters\n",
    "        \n",
    "        return (abs(0.5 * torch.sum(1 + log_var - (mean).pow(2) - log_var.exp())))#.to(device)\n",
    "       \n",
    "        \n",
    "    def __init__(self, encoder: nn.Module, decoder: nn.Module, \n",
    "                 assumption: str = None):\n",
    "        super().__init__()\n",
    "        self.assumption = assumption\n",
    "        self.encoder = encoder\n",
    "        self.decoder = decoder\n",
    "        self.layer_mean = nn.Linear(encoder[-1].out_features, decoder[1].in_features)#.to(device)\n",
    "        self.layer_log_var = nn.Linear(encoder[-1].out_features, decoder[1].in_features )#.to(device)\n",
    "\n",
    "\n",
    "    def forward(self, x: torch.Tensor):\n",
    "        \"\"\"\n",
    "        Parameters\n",
    "        ----------\n",
    "        x : torch.Tensor\n",
    "            The inputs to the forward pass.\n",
    "        \n",
    "        Returns\n",
    "        -------\n",
    "        y : torch.Tensor\n",
    "            The logits computed from `x`\n",
    "        parameters : tuple of torch.Tensor\n",
    "            The parameters for the latent distribution.\n",
    "            This is used to compute the regularisation.\n",
    "        \"\"\"\n",
    "        x.requires_grad = True \n",
    "\n",
    "        latent_before = self.encoder(x)\n",
    "      \n",
    "        # according to some webpages we have extra layers for each of the aimed parameters:\n",
    "        dim_enc = latent_before.shape[1]\n",
    "\n",
    "        mean = self.layer_mean(latent_before)\n",
    "        log_var = self.layer_log_var(latent_before)\n",
    "        parameters = (mean, log_var)\n",
    "\n",
    "        latent_sampled = self.sample(mean, log_var)\n",
    "\n",
    "        y = self.decoder(latent_sampled)\n",
    "\n",
    "        return y, parameters\n",
    "       \n",
    "    \n",
    "    @torch.no_grad()\n",
    "    def generate(self, mean: torch.Tensor, log_var: torch.Tensor = 0.,\n",
    "                 y_range: tuple[float, float] = None) -> torch.Tensor:\n",
    "        \"\"\"\n",
    "        Generate one or more new images.\n",
    "\n",
    "        Parameters\n",
    "        ----------\n",
    "        mean : (N, code_features) Tensor\n",
    "            Mean in latent space for generating images.\n",
    "        log_var : (N, code_features) Tensor, optional\n",
    "            Logarithm of variance(s) in latent space for generating images.\n",
    "            \n",
    "        Returns\n",
    "        -------\n",
    "        img : (N, in_features) Tensor\n",
    "            Image with the same dimensions as the inputs\n",
    "            and pixel intensities in [0, 1].\n",
    "\n",
    "        See Also\n",
    "        --------\n",
    "        `sample(mean, log_var)` : sample randomly in latent space.\n",
    "        \"\"\"\n",
    "        device = next(self.encoder.parameters()).device\n",
    "        mean = torch.as_tensor(mean).to(device)\n",
    "        log_var = torch.as_tensor(log_var).to(device)\n",
    "        z = self.sample(mean, log_var)\n",
    "        logits = self.decoder(z)\n",
    "        AutoEncoder.assumption = self.assumption\n",
    "        return AutoEncoder.to_intensities(self, logits, y_range) # assumption new\n",
    "\n",
    "    @torch.no_grad()\n",
    "    def reconstruct(self, x: torch.Tensor) -> torch.Tensor:\n",
    "        \"\"\" Reconstruct inputs to proper images. \"\"\"\n",
    "        logits, _ = self.forward(x)\n",
    "        AutoEncoder.assumption = self.assumption\n",
    "        return AutoEncoder.to_intensities(self, logits, (x.min(), x.max())) # assumption new"
   ]
  },
  {
   "cell_type": "code",
   "execution_count": 33,
   "metadata": {
    "colab": {
     "base_uri": "https://localhost:8080/"
    },
    "execution": {
     "iopub.execute_input": "2023-05-04T16:49:04.173285Z",
     "iopub.status.busy": "2023-05-04T16:49:04.172766Z",
     "iopub.status.idle": "2023-05-04T16:49:04.188880Z",
     "shell.execute_reply": "2023-05-04T16:49:04.188127Z",
     "shell.execute_reply.started": "2023-05-04T16:49:04.173244Z"
    },
    "id": "-HxeNf-wh7Pu",
    "outputId": "315f7e80-e461-4ec1-d25d-371ccc5c1f3a"
   },
   "outputs": [],
   "source": [
    "# Test Cell: do not edit or delete!\n",
    "mean, log_var = torch.ones(1024, 10), torch.zeros(1024, 10)\n",
    "z = VariationalAutoEncoder.sample(mean, log_var)\n",
    "assert z.shape == mean.shape, (\n",
    "    \"ex5: incorrect shape for sampled VAE latents (-1 point)\"\n",
    ")\n",
    "assert torch.allclose(z.mean(0), torch.ones(1), atol=1e-1), (\n",
    "    \"ex5: incorrect mean for sampled VAE latents: \"\n",
    "    f\"'{z.mean(0).abs().max().item():.3f}' (-1 point)\"\n",
    ")"
   ]
  },
  {
   "cell_type": "code",
   "execution_count": 34,
   "metadata": {
    "colab": {
     "base_uri": "https://localhost:8080/"
    },
    "execution": {
     "iopub.execute_input": "2023-05-04T16:49:04.191067Z",
     "iopub.status.busy": "2023-05-04T16:49:04.190663Z",
     "iopub.status.idle": "2023-05-04T16:49:04.198081Z",
     "shell.execute_reply": "2023-05-04T16:49:04.197216Z",
     "shell.execute_reply.started": "2023-05-04T16:49:04.191036Z"
    },
    "id": "khK4XvMLh7Pu",
    "outputId": "a095cf8a-a131-4570-d691-4306351ea8ad"
   },
   "outputs": [],
   "source": [
    "# Test Cell: do not edit or delete!\n",
    "mean = torch.zeros(1024, 10).requires_grad_(True)\n",
    "log_var = torch.zeros(1024, 10).requires_grad_(True)\n",
    "z = VariationalAutoEncoder.sample(mean, log_var)\n",
    "assert z.requires_grad, (\n",
    "    \"ex5: reparameterisation trick not (correctly) implemented (-1 point)\"\n",
    ")"
   ]
  },
  {
   "cell_type": "code",
   "execution_count": 35,
   "metadata": {
    "execution": {
     "iopub.execute_input": "2023-05-04T16:49:04.200000Z",
     "iopub.status.busy": "2023-05-04T16:49:04.199426Z",
     "iopub.status.idle": "2023-05-04T16:49:04.207739Z",
     "shell.execute_reply": "2023-05-04T16:49:04.206902Z",
     "shell.execute_reply.started": "2023-05-04T16:49:04.199949Z"
    },
    "id": "WHTgt0-qh7Pu"
   },
   "outputs": [],
   "source": [
    "# Test Cell: do not edit or delete!\n",
    "mean, log_var = torch.zeros(1, 10), torch.zeros(1, 10)\n",
    "reg = VariationalAutoEncoder.regularisation((mean, log_var))\n",
    "assert torch.allclose(reg, torch.zeros(1)), (\n",
    "    \"ex5: VAE regulariser for perfect parameters is not zero (-1 point)\"\n",
    ")\n",
    "\n",
    "reg = VariationalAutoEncoder.regularisation((mean + 1, log_var))\n",
    "assert torch.allclose(reg, 5 * torch.ones(1)), (\n",
    "    \"ex5: VAE regulariser for parameters with shifted mean is wrong: \"\n",
    "    f\"'{reg.item():.3f}' != 5.0 (-1 point)\"\n",
    ")"
   ]
  },
  {
   "cell_type": "code",
   "execution_count": 36,
   "metadata": {
    "colab": {
     "base_uri": "https://localhost:8080/"
    },
    "execution": {
     "iopub.execute_input": "2023-05-04T16:49:04.209731Z",
     "iopub.status.busy": "2023-05-04T16:49:04.209228Z",
     "iopub.status.idle": "2023-05-04T16:49:04.228336Z",
     "shell.execute_reply": "2023-05-04T16:49:04.227264Z",
     "shell.execute_reply.started": "2023-05-04T16:49:04.209698Z"
    },
    "id": "Y_NvqhwHh7Pv",
    "outputId": "a851579a-f96d-483d-eed2-f47500c26d09"
   },
   "outputs": [],
   "source": [
    "# Test Cell: do not edit or delete!\n",
    "vae = VariationalAutoEncoder(\n",
    "    encoder=nn.Sequential(\n",
    "        nn.Linear(784, 400), nn.ELU(), nn.Linear(400, 20)\n",
    "    ), decoder=nn.Sequential(\n",
    "        nn.ELU(), nn.Linear(10, 400), nn.ELU(), nn.Linear(400, 784)\n",
    "    )\n",
    ")\n",
    "\n",
    "x = torch.ones(1, 784)\n",
    "y, pars = vae(x)\n",
    "assert y.shape == x.shape, (\n",
    "    f\"ex5: reconstructed input has different shape: {tuple(y.shape)} (-0.5 points)\"\n",
    ")\n",
    "assert pars[0].shape == pars[1].shape, (\n",
    "    f\"ex5: latent distribution parameters have different shapes (-0.5 points)\"\n",
    ")"
   ]
  },
  {
   "cell_type": "code",
   "execution_count": 37,
   "metadata": {
    "colab": {
     "base_uri": "https://localhost:8080/"
    },
    "execution": {
     "iopub.execute_input": "2023-05-04T16:49:04.231205Z",
     "iopub.status.busy": "2023-05-04T16:49:04.230940Z",
     "iopub.status.idle": "2023-05-04T16:49:04.238377Z",
     "shell.execute_reply": "2023-05-04T16:49:04.237519Z",
     "shell.execute_reply.started": "2023-05-04T16:49:04.231183Z"
    },
    "id": "vKRTPCAph7Pv",
    "outputId": "42d6403d-d8da-439f-a9ec-132f1c6e7cd8"
   },
   "outputs": [],
   "source": [
    "# Test Cell: do not edit or delete!\n",
    "x = torch.ones(1, 784)\n",
    "y1, _ = vae(x)\n",
    "y2, _ = vae(x)\n",
    "assert not torch.allclose(y1, y2), (\n",
    "    f\"ex5: forward pass seems to be deterministic (-0.5 points)\"\n",
    ")"
   ]
  },
  {
   "cell_type": "markdown",
   "metadata": {
    "id": "E7fEj2Zsh7Pv"
   },
   "source": [
    "### Exercise 6: Balance (1 point)\n",
    "\n",
    "In order to incorporate the regularisation loss in our trainer,\n",
    "I provided a (hacky) loss function wrapper: `RegularisedLoss`.\n",
    "This wrapper makes it possible to observe the original loss\n",
    "together with the regularisation loss.\n",
    "This will be useful because regularisation is always a balancing act.\n",
    "Therefore, the goal of this final exercise is to train the VAE\n",
    "in such a way that reconstruction and regularisation losses are balanced.\n",
    "\n",
    " > Train the variational auto-encoder with the regularised loss.\n",
    " > You can copy your reconstruction assumptions and loss function\n",
    " > from the auto-encoder exercise (they are not graded twice).\n",
    " > The key will be to find a reasonable value for the weight!"
   ]
  },
  {
   "cell_type": "code",
   "execution_count": 38,
   "metadata": {
    "execution": {
     "iopub.execute_input": "2023-05-04T16:49:04.240935Z",
     "iopub.status.busy": "2023-05-04T16:49:04.240563Z",
     "iopub.status.idle": "2023-05-04T16:51:39.057415Z",
     "shell.execute_reply": "2023-05-04T16:51:39.056215Z",
     "shell.execute_reply.started": "2023-05-04T16:49:04.240902Z"
    },
    "id": "acYJLKpIh7Pw"
   },
   "outputs": [
    {
     "name": "stdout",
     "output_type": "stream",
     "text": [
      "Epoch  0 - avg loss: 0.704965 (rec: 0.7049, reg: 106.8175)\n"
     ]
    },
    {
     "data": {
      "image/png": "[encoded data removed]",
      "text/plain": [
       "<PIL.Image.Image image mode=L size=280x56>"
      ]
     },
     "metadata": {
      "width": "100%"
     },
     "output_type": "display_data"
    },
    {
     "name": "stdout",
     "output_type": "stream",
     "text": [
      "Epoch  0 - avg loss: 0.205950 (rec: 0.1930, reg: 12996.9004)\n",
      "Epoch  0 - avg loss: 0.145610 (rec: 0.1324, reg: 13230.5732)\n",
      "Epoch  0 - avg loss: 0.132576 (rec: 0.1195, reg: 13048.6543)\n",
      "Epoch  0 - avg loss: 0.126515 (rec: 0.1136, reg: 12921.6191)\n",
      "Epoch  0 - avg loss: 0.122574 (rec: 0.1097, reg: 12890.0811)\n"
     ]
    },
    {
     "data": {
      "image/png": "[encoded data removed]",
      "text/plain": [
       "<PIL.Image.Image image mode=L size=280x56>"
      ]
     },
     "metadata": {
      "width": "100%"
     },
     "output_type": "display_data"
    },
    {
     "name": "stdout",
     "output_type": "stream",
     "text": [
      "Epoch  0 - avg loss: 0.119737 (rec: 0.1069, reg: 12875.2500)\n",
      "Epoch  0 - avg loss: 0.117424 (rec: 0.1046, reg: 12864.0547)\n",
      "Epoch  0 - avg loss: 0.115542 (rec: 0.1027, reg: 12830.4209)\n",
      "Epoch  0 - avg loss: 0.113925 (rec: 0.1011, reg: 12780.8887)\n",
      "Epoch  0 - avg loss: 0.112476 (rec: 0.0997, reg: 12735.3174)\n"
     ]
    },
    {
     "data": {
      "image/png": "[encoded data removed]",
      "text/plain": [
       "<PIL.Image.Image image mode=L size=280x56>"
      ]
     },
     "metadata": {
      "width": "100%"
     },
     "output_type": "display_data"
    },
    {
     "name": "stdout",
     "output_type": "stream",
     "text": [
      "############## training for weight  1e-06 done #############################\n",
      "\n",
      "RESULTS:\n",
      "weight = 0       -> loss = 0.095570 -> AE training, visual results come close to the original input\n",
      "weight = 0.000001-> loss = 0.112511 -> visual results come close to the original input\n",
      "weight = 0.00001 -> loss = 0.173456 -> visual results come close to the original input\n",
      "weight = 0.0001  -> loss = 0.261557\n",
      "weight = 0.001   -> loss = 0.263442\n",
      "weight = 0.1     -> loss = 0.288410 \n",
      "weight = 0.3     -> loss = 0.329620 \n",
      "weight = 0.5     -> loss = 0.367412\n",
      "observation: the closer the weight comes to 0 the better the results\n",
      "\n"
     ]
    }
   ],
   "source": [
    "for weight_range_ele in [0.000001]:#[0 ,0.000001,0.00001,0.0001, 0.001, 0.1, 0.3, 0.5]:\n",
    "    \n",
    "    vae = VariationalAutoEncoder(\n",
    "        encoder=nn.Sequential(\n",
    "            nn.Flatten(), nn.Linear(784, 400),\n",
    "            nn.ELU(), nn.Linear(400, 40),\n",
    "        ),\n",
    "        decoder=nn.Sequential(\n",
    "            nn.ELU(), nn.Linear(20, 400),\n",
    "            nn.ELU(), nn.Linear(400, 784),\n",
    "            nn.Unflatten(1, (1, 28, 28)),\n",
    "        ),\n",
    "        assumption='binomial'\n",
    "    ).to(device)\n",
    "\n",
    "    regularised_loss = RegularisedLoss(nn.BCEWithLogitsLoss(reduction='mean'), vae.regularisation, weight=weight_range_ele)\n",
    "    trainer = AutoEncoderTrainer(\n",
    "      model=vae,\n",
    "      criterion=regularised_loss,  \n",
    "      optimiser=optim.Adamax(vae.parameters()),\n",
    "    )\n",
    "\n",
    "    # YOUR CODE HERE\n",
    "    loader = DataLoader(data, batch_size=256, shuffle=True, num_workers=4) # targets already transformed toTensor() as needed for our assumption\n",
    "    trainer.train(loader, num_epochs=10)\n",
    "    print('############## training for weight ', weight_range_ele, 'done #############################')\n",
    "    \n",
    "print('''\n",
    "RESULTS:\n",
    "weight = 0       -> loss = 0.095570 -> AE training, visual results come close to the original input\n",
    "weight = 0.000001-> loss = 0.112511 -> visual results come close to the original input\n",
    "weight = 0.00001 -> loss = 0.173456 -> visual results come close to the original input\n",
    "weight = 0.0001  -> loss = 0.261557\n",
    "weight = 0.001   -> loss = 0.263442\n",
    "weight = 0.1     -> loss = 0.288410 \n",
    "weight = 0.3     -> loss = 0.329620 \n",
    "weight = 0.5     -> loss = 0.367412\n",
    "observation: the closer the weight comes to 0 the better the results\n",
    "''')"
   ]
  },
  {
   "cell_type": "code",
   "execution_count": 39,
   "metadata": {
    "execution": {
     "iopub.execute_input": "2023-05-04T16:51:39.059870Z",
     "iopub.status.busy": "2023-05-04T16:51:39.059172Z",
     "iopub.status.idle": "2023-05-04T16:51:39.064903Z",
     "shell.execute_reply": "2023-05-04T16:51:39.063815Z",
     "shell.execute_reply.started": "2023-05-04T16:51:39.059833Z"
    },
    "id": "9ohctKVzh7Px"
   },
   "outputs": [],
   "source": [
    "# Test Cell: do not edit or delete!\n",
    "assert regularised_loss.weight > 0, (\n",
    "    \"ex6: zero weight corresponds to AE training (-1 point)\"\n",
    ")"
   ]
  },
  {
   "cell_type": "code",
   "execution_count": 40,
   "metadata": {
    "execution": {
     "iopub.execute_input": "2023-05-04T16:51:39.072177Z",
     "iopub.status.busy": "2023-05-04T16:51:39.071315Z",
     "iopub.status.idle": "2023-05-04T16:54:14.671707Z",
     "shell.execute_reply": "2023-05-04T16:54:14.670675Z",
     "shell.execute_reply.started": "2023-05-04T16:51:39.072143Z"
    },
    "id": "GgWNhwg5h7Px"
   },
   "outputs": [
    {
     "name": "stdout",
     "output_type": "stream",
     "text": [
      "Epoch  0 - avg loss: 0.111778 (rec: 0.0990, reg: 12809.3994)\n"
     ]
    },
    {
     "data": {
      "image/png": "[encoded data removed]",
      "text/plain": [
       "<PIL.Image.Image image mode=L size=280x56>"
      ]
     },
     "metadata": {
      "width": "100%"
     },
     "output_type": "display_data"
    },
    {
     "name": "stdout",
     "output_type": "stream",
     "text": [
      "Epoch  0 - avg loss: 0.111283 (rec: 0.0986, reg: 12691.7939)\n",
      "Epoch  0 - avg loss: 0.110195 (rec: 0.0976, reg: 12633.5107)\n",
      "Epoch  0 - avg loss: 0.109249 (rec: 0.0967, reg: 12577.0127)\n",
      "Epoch  0 - avg loss: 0.108409 (rec: 0.0959, reg: 12526.6221)\n",
      "Epoch  0 - avg loss: 0.107602 (rec: 0.0951, reg: 12470.7764)\n"
     ]
    },
    {
     "data": {
      "image/png": "[encoded data removed]",
      "text/plain": [
       "<PIL.Image.Image image mode=L size=280x56>"
      ]
     },
     "metadata": {
      "width": "100%"
     },
     "output_type": "display_data"
    },
    {
     "name": "stdout",
     "output_type": "stream",
     "text": [
      "Epoch  0 - avg loss: 0.106968 (rec: 0.0945, reg: 12427.3164)\n",
      "Epoch  0 - avg loss: 0.106345 (rec: 0.0940, reg: 12379.3936)\n",
      "Epoch  0 - avg loss: 0.105815 (rec: 0.0935, reg: 12329.7930)\n",
      "Epoch  0 - avg loss: 0.105289 (rec: 0.0930, reg: 12294.3652)\n",
      "Epoch  0 - avg loss: 0.104817 (rec: 0.0926, reg: 12254.0811)\n"
     ]
    },
    {
     "data": {
      "image/png": "[encoded data removed]",
      "text/plain": [
       "<PIL.Image.Image image mode=L size=280x56>"
      ]
     },
     "metadata": {
      "width": "100%"
     },
     "output_type": "display_data"
    }
   ],
   "source": [
    "# sanity check\n",
    "loader = DataLoader(data, batch_size=256, shuffle=True, num_workers=4) # targets already transformed toTensor() as needed for our assumption\n",
    "trainer.train(loader, num_epochs=10)"
   ]
  },
  {
   "cell_type": "code",
   "execution_count": 41,
   "metadata": {
    "execution": {
     "iopub.execute_input": "2023-05-04T16:54:14.674057Z",
     "iopub.status.busy": "2023-05-04T16:54:14.673658Z",
     "iopub.status.idle": "2023-05-04T16:54:14.693416Z",
     "shell.execute_reply": "2023-05-04T16:54:14.692149Z",
     "shell.execute_reply.started": "2023-05-04T16:54:14.674012Z"
    },
    "id": "lrH2kscVh7Px"
   },
   "outputs": [
    {
     "data": {
      "image/png": "[encoded data removed]",
      "text/plain": [
       "<PIL.Image.Image image mode=L size=280x28>"
      ]
     },
     "metadata": {
      "width": "100%"
     },
     "output_type": "display_data"
    },
    {
     "data": {
      "image/png": "[encoded data removed]",
      "text/plain": [
       "<PIL.Image.Image image mode=L size=280x28>"
      ]
     },
     "metadata": {
      "width": "100%"
     },
     "output_type": "display_data"
    },
    {
     "data": {
      "image/png": "[encoded data removed]",
      "text/plain": [
       "<PIL.Image.Image image mode=L size=280x28>"
      ]
     },
     "metadata": {
      "width": "100%"
     },
     "output_type": "display_data"
    }
   ],
   "source": [
    "# sanity check (image generation)\n",
    "out1 = data_to_image(*vae.generate(torch.zeros(10, 20)))\n",
    "out2 = data_to_image(*vae.generate(torch.ones(10, 20)))\n",
    "out3 = data_to_image(*vae.generate(torch.randn(10, 20)))\n",
    "display(out1, out2, out3, metadata={'width': '100%'})"
   ]
  }
 ],
 "metadata": {
  "accelerator": "GPU",
  "colab": {
   "provenance": []
  },
  "gpuClass": "standard",
  "kernelspec": {
   "display_name": "Python 3",
   "language": "python",
   "name": "python3"
  },
  "language_info": {
   "codemirror_mode": {
    "name": "ipython",
    "version": 3
   },
   "file_extension": ".py",
   "mimetype": "text/x-python",
   "name": "python",
   "nbconvert_exporter": "python",
   "pygments_lexer": "ipython3",
   "version": "3.7.3"
  }
 },
 "nbformat": 4,
 "nbformat_minor": 4
}
